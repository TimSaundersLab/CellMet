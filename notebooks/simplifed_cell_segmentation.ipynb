{
 "cells": [
  {
   "cell_type": "code",
   "execution_count": 138,
   "id": "40377641",
   "metadata": {},
   "outputs": [
    {
     "name": "stdout",
     "output_type": "stream",
     "text": [
      "The snakeviz extension is already loaded. To reload it, use:\n",
      "  %reload_ext snakeviz\n"
     ]
    }
   ],
   "source": [
    "import os\n",
    "import time\n",
    "import numpy as np\n",
    "import pandas as pd\n",
    "\n",
    "from skimage import io\n",
    "\n",
    "import matplotlib.pyplot as plt\n",
    "\n",
    "from CellSeg.segmentation import Segmentation\n",
    "from CellSeg.analysis import cell_analysis, edge_analysis, face_analysis\n",
    "%load_ext snakeviz"
   ]
  },
  {
   "cell_type": "code",
   "execution_count": 160,
   "id": "19d07f1d",
   "metadata": {},
   "outputs": [],
   "source": [
    "path = \"/mnt/sda1/For Sophie/Skinner_Jorn_colab/48 hpf 2/\"\n",
    "seg_filename = \"ResliceofC1-Process_230713-MMS-Lyn-GFP_H2A-BFP-wt_03_denoised_cp_masks-sizeFilt.tif_myotome_2.tif-1-edited.tif\"\n",
    "pixel_size = dict(x_size = 0.1071804,\n",
    "                  y_size = 0.1071804,\n",
    "                  z_size = 0.5,)\n",
    "\n",
    "# pixel_size = dict(x_size = 0.183,\n",
    "#                   y_size = 0.183,\n",
    "#                   z_size = 0.5,)"
   ]
  },
  {
   "cell_type": "code",
   "execution_count": 161,
   "id": "00c0854a",
   "metadata": {},
   "outputs": [],
   "source": [
    "\n",
    "image = io.imread(os.path.join(path, seg_filename))\n",
    "seg = Segmentation(image, pixel_size, path)"
   ]
  },
  {
   "cell_type": "code",
   "execution_count": 162,
   "id": "ac4236b2",
   "metadata": {},
   "outputs": [
    {
     "name": "stdout",
     "output_type": "stream",
     "text": [
      " \n",
      "*** Profile stats marshalled to file '/tmp/tmpp_9ge170'.\n",
      "Embedding SnakeViz in this document...\n",
      "<function display at 0x7f93015e82c0>\n"
     ]
    },
    {
     "data": {
      "text/html": [
       "\n",
       "<iframe id='snakeviz-a818c4ca-9b42-11ee-8b62-7486e223398f' frameborder=0 seamless width='100%' height='1000'></iframe>\n",
       "<script>document.getElementById(\"snakeviz-a818c4ca-9b42-11ee-8b62-7486e223398f\").setAttribute(\"src\", \"http://\" + document.location.hostname + \":8080/snakeviz/%2Ftmp%2Ftmpp_9ge170\")</script>\n"
      ],
      "text/plain": [
       "<IPython.core.display.HTML object>"
      ]
     },
     "metadata": {},
     "output_type": "display_data"
    }
   ],
   "source": [
    "%%snakeviz\n",
    "start_time = time.time()\n",
    "seg.perform_prerequisite()"
   ]
  },
  {
   "cell_type": "code",
   "execution_count": 163,
   "id": "0895cd23",
   "metadata": {},
   "outputs": [
    {
     "name": "stdout",
     "output_type": "stream",
     "text": [
      " \n",
      "*** Profile stats marshalled to file '/tmp/tmp2oqk7c6q'.\n",
      "Embedding SnakeViz in this document...\n",
      "<function display at 0x7f93015e82c0>\n"
     ]
    },
    {
     "data": {
      "text/html": [
       "\n",
       "<iframe id='snakeviz-5ba105ca-9b43-11ee-8b62-7486e223398f' frameborder=0 seamless width='100%' height='1000'></iframe>\n",
       "<script>document.getElementById(\"snakeviz-5ba105ca-9b43-11ee-8b62-7486e223398f\").setAttribute(\"src\", \"http://\" + document.location.hostname + \":8080/snakeviz/%2Ftmp%2Ftmp2oqk7c6q\")</script>\n"
      ],
      "text/plain": [
       "<IPython.core.display.HTML object>"
      ]
     },
     "metadata": {},
     "output_type": "display_data"
    }
   ],
   "source": [
    "%%snakeviz\n",
    "start_time = time.time()\n",
    "seg.cell_segmentation_simplified()\n",
    "# print(\"--- %s seconds ---\" % (time.time() - start_time))"
   ]
  },
  {
   "cell_type": "code",
   "execution_count": 164,
   "id": "63a16e25",
   "metadata": {},
   "outputs": [],
   "source": [
    "cell_simple_df = pd.read_csv(os.path.join(path,\"cell_simple_df.csv\"), index_col=\"Unnamed: 0\")\n"
   ]
  },
  {
   "cell_type": "code",
   "execution_count": 165,
   "id": "17fb6332",
   "metadata": {},
   "outputs": [
    {
     "data": {
      "image/png": "[encoded data removed]",
      "text/plain": [
       "<Figure size 640x480 with 1 Axes>"
      ]
     },
     "metadata": {},
     "output_type": "display_data"
    }
   ],
   "source": [
    "_=plt.hist(cell_simple_df[\"nb_neighbor\"])"
   ]
  },
  {
   "cell_type": "code",
   "execution_count": null,
   "id": "1df24d82",
   "metadata": {},
   "outputs": [],
   "source": []
  },
  {
   "cell_type": "code",
   "execution_count": null,
   "id": "c7c63318",
   "metadata": {},
   "outputs": [],
   "source": []
  },
  {
   "cell_type": "code",
   "execution_count": 167,
   "id": "615ab897",
   "metadata": {},
   "outputs": [],
   "source": [
    "cell_simple_df = pd.read_csv(\"/mnt/sda1/For Sophie/Skinner_Jorn_colab/48 hpf 2/cell_simple_df.csv\", index_col=\"Unnamed: 0\")\n",
    "id_cells = pd.read_csv(\"/mnt/sda1/For Sophie/Skinner_Jorn_colab/48 hpf 2/nuclei_position_sorted.csv\", )\n",
    "# id_cells = pd.read_csv(\"/mnt/sda1/For Sophie/Skinner_Jorn_colab/48 hpf 2/id_cells.csv\", )"
   ]
  },
  {
   "cell_type": "code",
   "execution_count": 50,
   "id": "298e8efd",
   "metadata": {},
   "outputs": [],
   "source": [
    "# remove line with 0 value in id_cell and corresponding nuclei in id_nuclei.csv\n",
    "id_nuclei_to_remove = id_cells[id_cells[\"id_cell\"]==0][\" \"].to_numpy()\n",
    "id_cells.drop(index=id_cells[id_cells[\"id_cell\"]==0].index, inplace=True)\n",
    "id_cells.sort_values(\"id_cell\", inplace=True)\n",
    "id_nuclei.drop(index=id_nuclei[id_nuclei[\"id_nuclei\"].isin(id_nuclei_to_remove)].index, inplace=True)\n",
    "id_nuclei.sort_values(\"id_nuclei\", inplace=True)"
   ]
  },
  {
   "cell_type": "code",
   "execution_count": 51,
   "id": "c190944e",
   "metadata": {},
   "outputs": [],
   "source": [
    "# Keep only segmented cells in one myotome\n",
    "id_cells = id_cells[id_cells[\"id_cell\"].isin(cell_simple_df['id_im'].to_numpy())]\n",
    "id_nuclei = id_nuclei[id_nuclei[\"id_nuclei\"].isin(id_cells[\" \"])]"
   ]
  },
  {
   "cell_type": "code",
   "execution_count": 174,
   "id": "5defa1f4",
   "metadata": {
    "scrolled": true
   },
   "outputs": [
    {
     "name": "stdout",
     "output_type": "stream",
     "text": [
      "69\t0\n",
      "122\t1\n",
      "2\t3\n",
      "207\t4\n",
      "5\t5\n",
      "69\t5\n",
      "41\t5\n",
      "173\t5\n",
      "93\t5\n",
      "58\t9\n",
      "29\t9\n",
      "77\t10\n",
      "58\t10\n",
      "29\t10\n",
      "2\t11\n",
      "5\t14\n",
      "199\t14\n",
      "41\t14\n",
      "173\t14\n",
      "207\t14\n",
      "69\t15\n",
      "58\t16\n",
      "29\t16\n",
      "241\t17\n",
      "93\t17\n",
      "41\t18\n",
      "93\t18\n",
      "85\t18\n",
      "77\t19\n",
      "29\t19\n",
      "203\t21\n",
      "2\t23\n",
      "5\t25\n",
      "41\t25\n",
      "203\t26\n",
      "29\t27\n",
      "199\t29\n",
      "41\t29\n",
      "173\t29\n",
      "207\t29\n",
      "93\t29\n",
      "41\t30\n",
      "201\t30\n",
      "173\t30\n",
      "93\t30\n",
      "203\t31\n",
      "241\t32\n",
      "203\t34\n",
      "77\t34\n",
      "141\t34\n",
      "122\t37\n",
      "201\t37\n",
      "77\t37\n",
      "205\t37\n",
      "201\t38\n",
      "77\t38\n",
      "205\t38\n",
      "201\t39\n",
      "77\t42\n",
      "205\t42\n",
      "58\t42\n",
      "203\t44\n",
      "207\t50\n",
      "69\t53\n",
      "2\t58\n",
      "2\t59\n",
      "207\t59\n",
      "122\t60\n"
     ]
    }
   ],
   "source": [
    "# remove cells if they don't have nuclei\n",
    "cells_without_nuclei = list(set(np.unique(cell_simple_df['id_im']))-set(np.unique(id_cells[\"id_im\"])))\n",
    "cell_simple_df.drop(index=cell_simple_df[cell_simple_df['id_im'].isin(cells_without_nuclei)].index, inplace=True)\n",
    "for i in range(len(cell_simple_df)):\n",
    "    for c in cells_without_nuclei:\n",
    "        if str(c) in cell_simple_df['ids_neighbor'].iloc[i].split(\";\"):\n",
    "            print(str(c) + '\\t'+ str(i))\n",
    "            cell_simple_df.iloc[i,-1] = cell_simple_df.iloc[i]['ids_neighbor'].replace(str(c)+';','')\n",
    "            cell_simple_df.iloc[i,-2] = cell_simple_df.iloc[i][\"nb_neighbor\"]-1"
   ]
  },
  {
   "cell_type": "code",
   "execution_count": 176,
   "id": "f4fe3f8e",
   "metadata": {},
   "outputs": [],
   "source": [
    "# id_cells.to_csv(\"/mnt/sda1/For Shopie/id_cells_correct.csv\")\n",
    "# id_nuclei.to_csv(\"/mnt/sda1/For Shopie/id_nuclei_correct.csv\")\n",
    "cell_simple_df.to_csv(\"/mnt/sda1/For Sophie/Skinner_Jorn_colab/48 hpf 2/cell_simple_df_sorted.csv\")"
   ]
  },
  {
   "cell_type": "code",
   "execution_count": null,
   "id": "d7855b6f",
   "metadata": {},
   "outputs": [],
   "source": []
  },
  {
   "cell_type": "code",
   "execution_count": 169,
   "id": "7571f9e8",
   "metadata": {},
   "outputs": [
    {
     "data": {
      "text/html": [
       "<div>\n",
       "<style scoped>\n",
       "    .dataframe tbody tr th:only-of-type {\n",
       "        vertical-align: middle;\n",
       "    }\n",
       "\n",
       "    .dataframe tbody tr th {\n",
       "        vertical-align: top;\n",
       "    }\n",
       "\n",
       "    .dataframe thead th {\n",
       "        text-align: right;\n",
       "    }\n",
       "</style>\n",
       "<table border=\"1\" class=\"dataframe\">\n",
       "  <thead>\n",
       "    <tr style=\"text-align: right;\">\n",
       "      <th></th>\n",
       "      <th>id_im</th>\n",
       "      <th>nb_neighbor</th>\n",
       "      <th>ids_neighbor</th>\n",
       "    </tr>\n",
       "  </thead>\n",
       "  <tbody>\n",
       "    <tr>\n",
       "      <th>0</th>\n",
       "      <td>2</td>\n",
       "      <td>5</td>\n",
       "      <td>239;23;50;102;240;</td>\n",
       "    </tr>\n",
       "    <tr>\n",
       "      <th>1</th>\n",
       "      <td>5</td>\n",
       "      <td>5</td>\n",
       "      <td>241;107;62;41;32;</td>\n",
       "    </tr>\n",
       "    <tr>\n",
       "      <th>2</th>\n",
       "      <td>8</td>\n",
       "      <td>7</td>\n",
       "      <td>214;210;52;63;69;32;132;</td>\n",
       "    </tr>\n",
       "    <tr>\n",
       "      <th>3</th>\n",
       "      <td>10</td>\n",
       "      <td>4</td>\n",
       "      <td>63;50;122;149;</td>\n",
       "    </tr>\n",
       "    <tr>\n",
       "      <th>4</th>\n",
       "      <td>21</td>\n",
       "      <td>4</td>\n",
       "      <td>50;208;110;63;</td>\n",
       "    </tr>\n",
       "    <tr>\n",
       "      <th>...</th>\n",
       "      <td>...</td>\n",
       "      <td>...</td>\n",
       "      <td>...</td>\n",
       "    </tr>\n",
       "    <tr>\n",
       "      <th>74</th>\n",
       "      <td>238</td>\n",
       "      <td>1</td>\n",
       "      <td>149;</td>\n",
       "    </tr>\n",
       "    <tr>\n",
       "      <th>75</th>\n",
       "      <td>239</td>\n",
       "      <td>6</td>\n",
       "      <td>208;2;240;24;50;102;</td>\n",
       "    </tr>\n",
       "    <tr>\n",
       "      <th>76</th>\n",
       "      <td>240</td>\n",
       "      <td>13</td>\n",
       "      <td>208;107;207;62;239;24;110;2;253;91;102;50;122;</td>\n",
       "    </tr>\n",
       "    <tr>\n",
       "      <th>77</th>\n",
       "      <td>241</td>\n",
       "      <td>7</td>\n",
       "      <td>72;93;32;107;5;124;41;</td>\n",
       "    </tr>\n",
       "    <tr>\n",
       "      <th>78</th>\n",
       "      <td>253</td>\n",
       "      <td>7</td>\n",
       "      <td>234;91;212;240;122;102;50;</td>\n",
       "    </tr>\n",
       "  </tbody>\n",
       "</table>\n",
       "<p>79 rows × 3 columns</p>\n",
       "</div>"
      ],
      "text/plain": [
       "    id_im  nb_neighbor                                    ids_neighbor\n",
       "0       2            5                              239;23;50;102;240;\n",
       "1       5            5                               241;107;62;41;32;\n",
       "2       8            7                        214;210;52;63;69;32;132;\n",
       "3      10            4                                  63;50;122;149;\n",
       "4      21            4                                  50;208;110;63;\n",
       "..    ...          ...                                             ...\n",
       "74    238            1                                            149;\n",
       "75    239            6                            208;2;240;24;50;102;\n",
       "76    240           13  208;107;207;62;239;24;110;2;253;91;102;50;122;\n",
       "77    241            7                          72;93;32;107;5;124;41;\n",
       "78    253            7                      234;91;212;240;122;102;50;\n",
       "\n",
       "[79 rows x 3 columns]"
      ]
     },
     "execution_count": 169,
     "metadata": {},
     "output_type": "execute_result"
    }
   ],
   "source": [
    "cell_simple_df"
   ]
  },
  {
   "cell_type": "code",
   "execution_count": 173,
   "id": "d6b5e4d8",
   "metadata": {},
   "outputs": [
    {
     "data": {
      "text/plain": [
       "(array([  8,  10,  21,  23,  24,  32,  36,  39,  43,  45,  49,  50,  52,\n",
       "         54,  62,  63,  65,  72,  84,  89,  91,  95,  96, 102, 106, 107,\n",
       "        108, 110, 115, 117, 120, 121, 124, 132, 142, 144, 146, 149, 151,\n",
       "        152, 156, 157, 164, 166, 167, 171, 179, 182, 183, 195, 208, 210,\n",
       "        212, 214, 229, 232, 234, 238, 239, 240, 253]),\n",
       " array([2, 1, 1, 2, 1, 2, 1, 2, 1, 2, 1, 2, 3, 2, 2, 2, 3, 1, 1, 2, 1, 1,\n",
       "        2, 1, 1, 2, 1, 1, 2, 1, 1, 1, 3, 1, 1, 2, 1, 2, 1, 1, 1, 2, 1, 1,\n",
       "        4, 1, 2, 2, 1, 1, 1, 3, 1, 1, 2, 1, 1, 1, 1, 2, 1]))"
      ]
     },
     "execution_count": 173,
     "metadata": {},
     "output_type": "execute_result"
    }
   ],
   "source": [
    "np.unique(id_cells[\"id_im\"], return_counts=True)"
   ]
  },
  {
   "cell_type": "code",
   "execution_count": null,
   "id": "4ce6c4ae",
   "metadata": {},
   "outputs": [],
   "source": []
  },
  {
   "cell_type": "code",
   "execution_count": null,
   "id": "c24816be",
   "metadata": {},
   "outputs": [],
   "source": []
  }
 ],
 "metadata": {
  "kernelspec": {
   "display_name": "Python 3 (ipykernel)",
   "language": "python",
   "name": "python3"
  },
  "language_info": {
   "codemirror_mode": {
    "name": "ipython",
    "version": 3
   },
   "file_extension": ".py",
   "mimetype": "text/x-python",
   "name": "python",
   "nbconvert_exporter": "python",
   "pygments_lexer": "ipython3",
   "version": "3.11.5"
  }
 },
 "nbformat": 4,
 "nbformat_minor": 5
}
