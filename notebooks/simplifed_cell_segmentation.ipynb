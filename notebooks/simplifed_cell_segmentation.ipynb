{
 "cells": [
  {
   "cell_type": "code",
   "execution_count": 1,
   "id": "40377641",
   "metadata": {},
   "outputs": [],
   "source": [
    "import os\n",
    "import time\n",
    "import numpy as np\n",
    "import pandas as pd\n",
    "\n",
    "from skimage import io\n",
    "\n",
    "import matplotlib.pyplot as plt\n",
    "\n",
    "from CellSeg.segmentation import Segmentation\n",
    "from CellSeg.analysis import cell_analysis, edge_analysis, face_analysis\n",
    "%load_ext snakeviz"
   ]
  },
  {
   "cell_type": "code",
   "execution_count": 2,
   "id": "19d07f1d",
   "metadata": {},
   "outputs": [],
   "source": [
    "path = \"/mnt/sda1/For Shopie/\"\n",
    "seg_filename = \"id_cells_image_stack.tif\"\n",
    "pixel_size = dict(x_size = 1.,\n",
    "                  y_size = 1.,\n",
    "                  z_size = 1.,)\n",
    "\n",
    "# pixel_size = dict(x_size = 0.183,\n",
    "#                   y_size = 0.183,\n",
    "#                   z_size = 0.5,)"
   ]
  },
  {
   "cell_type": "code",
   "execution_count": 3,
   "id": "00c0854a",
   "metadata": {},
   "outputs": [],
   "source": [
    "\n",
    "image = io.imread(os.path.join(path, seg_filename))\n",
    "seg = Segmentation(image, pixel_size, path)"
   ]
  },
  {
   "cell_type": "code",
   "execution_count": 4,
   "id": "ac4236b2",
   "metadata": {},
   "outputs": [],
   "source": [
    "%%snakeviz\n",
    "start_time = time.time()\n",
    "seg.perform_prerequisite()"
   ]
  },
  {
   "cell_type": "code",
   "execution_count": 5,
   "id": "0895cd23",
   "metadata": {},
   "outputs": [
    {
     "name": "stdout",
     "output_type": "stream",
     "text": [
      " \n",
      "*** Profile stats marshalled to file '/tmp/tmpdphsngjd'.\n",
      "Embedding SnakeViz in this document...\n",
      "<function display at 0x7f461bfb02c0>\n"
     ]
    },
    {
     "data": {
      "text/html": [
       "\n",
       "<iframe id='snakeviz-2ed1b24a-950f-11ee-8f87-7486e223398f' frameborder=0 seamless width='100%' height='1000'></iframe>\n",
       "<script>document.getElementById(\"snakeviz-2ed1b24a-950f-11ee-8f87-7486e223398f\").setAttribute(\"src\", \"http://\" + document.location.hostname + \":8080/snakeviz/%2Ftmp%2Ftmpdphsngjd\")</script>\n"
      ],
      "text/plain": [
       "<IPython.core.display.HTML object>"
      ]
     },
     "metadata": {},
     "output_type": "display_data"
    }
   ],
   "source": [
    "%%snakeviz\n",
    "start_time = time.time()\n",
    "seg.cell_segmentation_simplified()\n",
    "# print(\"--- %s seconds ---\" % (time.time() - start_time))\n",
    "# 168 sec"
   ]
  },
  {
   "cell_type": "code",
   "execution_count": 6,
   "id": "615ab897",
   "metadata": {},
   "outputs": [],
   "source": [
    "cell_simple_df = pd.read_csv(\"/mnt/sda1/For Shopie/cell_simple_df.csv\", index_col=\"Unnamed: 0\")"
   ]
  },
  {
   "cell_type": "code",
   "execution_count": null,
   "id": "298e8efd",
   "metadata": {},
   "outputs": [],
   "source": []
  },
  {
   "cell_type": "code",
   "execution_count": null,
   "id": "c190944e",
   "metadata": {},
   "outputs": [],
   "source": []
  }
 ],
 "metadata": {
  "kernelspec": {
   "display_name": "Python 3 (ipykernel)",
   "language": "python",
   "name": "python3"
  },
  "language_info": {
   "codemirror_mode": {
    "name": "ipython",
    "version": 3
   },
   "file_extension": ".py",
   "mimetype": "text/x-python",
   "name": "python",
   "nbconvert_exporter": "python",
   "pygments_lexer": "ipython3",
   "version": "3.11.5"
  }
 },
 "nbformat": 4,
 "nbformat_minor": 5
}
