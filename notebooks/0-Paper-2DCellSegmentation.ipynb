{
 "cells": [
  {
   "cell_type": "code",
   "execution_count": 10,
   "id": "e1d9bbca",
   "metadata": {},
   "outputs": [],
   "source": [
    "import os\n",
    "import time\n",
    "import numpy as np\n",
    "import pandas as pd\n",
    "\n",
    "from skimage import io\n",
    "\n",
    "import matplotlib.pyplot as plt\n",
    "\n",
    "from CellSeg.segmentation import Segmentation\n",
    "from CellSeg.analysis import cell_analysis, edge_analysis, face_analysis\n",
    "\n",
    "from CellSeg.segmentation2D import Segmentation2D, cell_analysis_2d"
   ]
  },
  {
   "cell_type": "code",
   "execution_count": null,
   "id": "d4c708a8",
   "metadata": {},
   "outputs": [],
   "source": []
  },
  {
   "cell_type": "code",
   "execution_count": null,
   "id": "1a5b581a",
   "metadata": {},
   "outputs": [],
   "source": []
  },
  {
   "cell_type": "code",
   "execution_count": 2,
   "id": "2b706ec8",
   "metadata": {},
   "outputs": [],
   "source": [
    "path = \"/mnt/sda1/docker/Lydvina/\"\n",
    "seg_filename = \"C1_16d_segmentation.tif\"\n",
    "pixel_size = dict(x_size = 0.207,\n",
    "                  y_size = 0.207,)\n",
    "\n",
    "# pixel_size = dict(x_size = 0.183,\n",
    "#                   y_size = 0.183,\n",
    "#                   z_size = 0.5,)"
   ]
  },
  {
   "cell_type": "code",
   "execution_count": 3,
   "id": "ec1fd4f2",
   "metadata": {},
   "outputs": [],
   "source": [
    "image = io.imread(os.path.join(path, seg_filename))\n"
   ]
  },
  {
   "cell_type": "code",
   "execution_count": null,
   "id": "3f2db45b",
   "metadata": {},
   "outputs": [],
   "source": []
  },
  {
   "cell_type": "code",
   "execution_count": 4,
   "id": "5408cd03",
   "metadata": {},
   "outputs": [],
   "source": [
    "seg = Segmentation2D(image, pixel_size, path)"
   ]
  },
  {
   "cell_type": "code",
   "execution_count": 5,
   "id": "177c4f1b",
   "metadata": {
    "scrolled": true
   },
   "outputs": [
    {
     "data": {
      "application/vnd.jupyter.widget-view+json": {
       "model_id": "ede70065e6d64b6aa6d9afb6e3411fc5",
       "version_major": 2,
       "version_minor": 0
      },
      "text/plain": [
       "Save NPZ:   0%|          | 0/141 [00:00<?, ?it/s]"
      ]
     },
     "metadata": {},
     "output_type": "display_data"
    }
   ],
   "source": [
    "start_time = time.time()\n",
    "seg.perform_prerequisite(save_mesh=False, overwrite=True)\n",
    "# print(\"--- %s seconds ---\" % (time.time() - start_time))"
   ]
  },
  {
   "cell_type": "code",
   "execution_count": null,
   "id": "b75df506",
   "metadata": {},
   "outputs": [],
   "source": []
  },
  {
   "cell_type": "code",
   "execution_count": 6,
   "id": "e6c9569e",
   "metadata": {
    "scrolled": true
   },
   "outputs": [
    {
     "data": {
      "application/vnd.jupyter.widget-view+json": {
       "model_id": "3a163c61c5204f73aad31e6658463347",
       "version_major": 2,
       "version_minor": 0
      },
      "text/plain": [
       "Cell:   0%|          | 0/141 [00:00<?, ?it/s]"
      ]
     },
     "metadata": {},
     "output_type": "display_data"
    }
   ],
   "source": [
    "start_time = time.time()\n",
    "seg.cell_segmentation()\n",
    "# print(\"--- %s seconds ---\" % (time.time() - start_time))\n",
    "# 168 sec"
   ]
  },
  {
   "cell_type": "code",
   "execution_count": 7,
   "id": "9f3b1292",
   "metadata": {
    "scrolled": true
   },
   "outputs": [
    {
     "data": {
      "application/vnd.jupyter.widget-view+json": {
       "model_id": "5bca1e7a20ba4be7a7e2d192f7034507",
       "version_major": 2,
       "version_minor": 0
      },
      "text/plain": [
       "Cell:   0%|          | 0/141 [00:00<?, ?it/s]"
      ]
     },
     "metadata": {},
     "output_type": "display_data"
    },
    {
     "data": {
      "application/vnd.jupyter.widget-view+json": {
       "model_id": "70f7d12afdb54c34943294d3e6eb66ae",
       "version_major": 2,
       "version_minor": 0
      },
      "text/plain": [
       "Vert segmentation:   0%|          | 0/1 [00:00<?, ?it/s]"
      ]
     },
     "metadata": {},
     "output_type": "display_data"
    },
    {
     "data": {
      "application/vnd.jupyter.widget-view+json": {
       "model_id": "16d0d27da1b94647923f40be657ffe54",
       "version_major": 2,
       "version_minor": 0
      },
      "text/plain": [
       "Vert segmentation:   0%|          | 0/1 [00:00<?, ?it/s]"
      ]
     },
     "metadata": {},
     "output_type": "display_data"
    },
    {
     "data": {
      "application/vnd.jupyter.widget-view+json": {
       "model_id": "48e0d7a405ab4cdd86bb030bf3300ccd",
       "version_major": 2,
       "version_minor": 0
      },
      "text/plain": [
       "Vert segmentation:   0%|          | 0/10 [00:00<?, ?it/s]"
      ]
     },
     "metadata": {},
     "output_type": "display_data"
    },
    {
     "name": "stderr",
     "output_type": "stream",
     "text": [
      "/home/u2175049/anaconda3/lib/python3.11/site-packages/CellSeg/segmentation2D.py:133: FutureWarning: The behavior of DataFrame concatenation with empty or all-NA entries is deprecated. In a future version, this will no longer exclude empty or all-NA columns when determining the result dtypes. To retain the old behavior, exclude the relevant entries before the concat operation.\n",
      "  vert_df.loc[len(vert_df)] = e_dict\n",
      "/home/u2175049/anaconda3/lib/python3.11/site-packages/CellSeg/segmentation2D.py:133: FutureWarning: The behavior of DataFrame concatenation with empty or all-NA entries is deprecated. In a future version, this will no longer exclude empty or all-NA columns when determining the result dtypes. To retain the old behavior, exclude the relevant entries before the concat operation.\n",
      "  vert_df.loc[len(vert_df)] = e_dict\n",
      "/home/u2175049/anaconda3/lib/python3.11/site-packages/CellSeg/segmentation2D.py:133: FutureWarning: The behavior of DataFrame concatenation with empty or all-NA entries is deprecated. In a future version, this will no longer exclude empty or all-NA columns when determining the result dtypes. To retain the old behavior, exclude the relevant entries before the concat operation.\n",
      "  vert_df.loc[len(vert_df)] = e_dict\n",
      "/home/u2175049/anaconda3/lib/python3.11/site-packages/CellSeg/segmentation2D.py:133: FutureWarning: The behavior of DataFrame concatenation with empty or all-NA entries is deprecated. In a future version, this will no longer exclude empty or all-NA columns when determining the result dtypes. To retain the old behavior, exclude the relevant entries before the concat operation.\n",
      "  vert_df.loc[len(vert_df)] = e_dict\n",
      "/home/u2175049/anaconda3/lib/python3.11/site-packages/CellSeg/segmentation2D.py:133: FutureWarning: The behavior of DataFrame concatenation with empty or all-NA entries is deprecated. In a future version, this will no longer exclude empty or all-NA columns when determining the result dtypes. To retain the old behavior, exclude the relevant entries before the concat operation.\n",
      "  vert_df.loc[len(vert_df)] = e_dict\n",
      "/home/u2175049/anaconda3/lib/python3.11/site-packages/CellSeg/segmentation2D.py:133: FutureWarning: The behavior of DataFrame concatenation with empty or all-NA entries is deprecated. In a future version, this will no longer exclude empty or all-NA columns when determining the result dtypes. To retain the old behavior, exclude the relevant entries before the concat operation.\n",
      "  vert_df.loc[len(vert_df)] = e_dict\n"
     ]
    },
    {
     "data": {
      "application/vnd.jupyter.widget-view+json": {
       "model_id": "3b3353989afc42d08178135bbeac4247",
       "version_major": 2,
       "version_minor": 0
      },
      "text/plain": [
       "Vert segmentation:   0%|          | 0/3 [00:00<?, ?it/s]"
      ]
     },
     "metadata": {},
     "output_type": "display_data"
    },
    {
     "name": "stderr",
     "output_type": "stream",
     "text": [
      "/home/u2175049/anaconda3/lib/python3.11/site-packages/CellSeg/segmentation2D.py:133: FutureWarning: The behavior of DataFrame concatenation with empty or all-NA entries is deprecated. In a future version, this will no longer exclude empty or all-NA columns when determining the result dtypes. To retain the old behavior, exclude the relevant entries before the concat operation.\n",
      "  vert_df.loc[len(vert_df)] = e_dict\n"
     ]
    },
    {
     "data": {
      "application/vnd.jupyter.widget-view+json": {
       "model_id": "6cc44c13af9d47989462ac50fb49bc4d",
       "version_major": 2,
       "version_minor": 0
      },
      "text/plain": [
       "Vert segmentation:   0%|          | 0/6 [00:00<?, ?it/s]"
      ]
     },
     "metadata": {},
     "output_type": "display_data"
    },
    {
     "name": "stderr",
     "output_type": "stream",
     "text": [
      "/home/u2175049/anaconda3/lib/python3.11/site-packages/CellSeg/segmentation2D.py:133: FutureWarning: The behavior of DataFrame concatenation with empty or all-NA entries is deprecated. In a future version, this will no longer exclude empty or all-NA columns when determining the result dtypes. To retain the old behavior, exclude the relevant entries before the concat operation.\n",
      "  vert_df.loc[len(vert_df)] = e_dict\n",
      "/home/u2175049/anaconda3/lib/python3.11/site-packages/CellSeg/segmentation2D.py:133: FutureWarning: The behavior of DataFrame concatenation with empty or all-NA entries is deprecated. In a future version, this will no longer exclude empty or all-NA columns when determining the result dtypes. To retain the old behavior, exclude the relevant entries before the concat operation.\n",
      "  vert_df.loc[len(vert_df)] = e_dict\n",
      "/home/u2175049/anaconda3/lib/python3.11/site-packages/CellSeg/segmentation2D.py:133: FutureWarning: The behavior of DataFrame concatenation with empty or all-NA entries is deprecated. In a future version, this will no longer exclude empty or all-NA columns when determining the result dtypes. To retain the old behavior, exclude the relevant entries before the concat operation.\n",
      "  vert_df.loc[len(vert_df)] = e_dict\n"
     ]
    },
    {
     "data": {
      "application/vnd.jupyter.widget-view+json": {
       "model_id": "73afcc421e1b4dbe8ddd2f046dd98cc4",
       "version_major": 2,
       "version_minor": 0
      },
      "text/plain": [
       "Vert segmentation:   0%|          | 0/3 [00:00<?, ?it/s]"
      ]
     },
     "metadata": {},
     "output_type": "display_data"
    },
    {
     "name": "stderr",
     "output_type": "stream",
     "text": [
      "/home/u2175049/anaconda3/lib/python3.11/site-packages/CellSeg/segmentation2D.py:133: FutureWarning: The behavior of DataFrame concatenation with empty or all-NA entries is deprecated. In a future version, this will no longer exclude empty or all-NA columns when determining the result dtypes. To retain the old behavior, exclude the relevant entries before the concat operation.\n",
      "  vert_df.loc[len(vert_df)] = e_dict\n"
     ]
    },
    {
     "data": {
      "application/vnd.jupyter.widget-view+json": {
       "model_id": "629362d3e61942299cb6472197db2fd6",
       "version_major": 2,
       "version_minor": 0
      },
      "text/plain": [
       "Vert segmentation:   0%|          | 0/3 [00:00<?, ?it/s]"
      ]
     },
     "metadata": {},
     "output_type": "display_data"
    },
    {
     "name": "stderr",
     "output_type": "stream",
     "text": [
      "/home/u2175049/anaconda3/lib/python3.11/site-packages/CellSeg/segmentation2D.py:133: FutureWarning: The behavior of DataFrame concatenation with empty or all-NA entries is deprecated. In a future version, this will no longer exclude empty or all-NA columns when determining the result dtypes. To retain the old behavior, exclude the relevant entries before the concat operation.\n",
      "  vert_df.loc[len(vert_df)] = e_dict\n"
     ]
    },
    {
     "data": {
      "application/vnd.jupyter.widget-view+json": {
       "model_id": "b7ed3d76562b4dbeb5655d18a2dba1e3",
       "version_major": 2,
       "version_minor": 0
      },
      "text/plain": [
       "Vert segmentation:   0%|          | 0/21 [00:00<?, ?it/s]"
      ]
     },
     "metadata": {},
     "output_type": "display_data"
    },
    {
     "name": "stderr",
     "output_type": "stream",
     "text": [
      "/home/u2175049/anaconda3/lib/python3.11/site-packages/CellSeg/segmentation2D.py:133: FutureWarning: The behavior of DataFrame concatenation with empty or all-NA entries is deprecated. In a future version, this will no longer exclude empty or all-NA columns when determining the result dtypes. To retain the old behavior, exclude the relevant entries before the concat operation.\n",
      "  vert_df.loc[len(vert_df)] = e_dict\n",
      "/home/u2175049/anaconda3/lib/python3.11/site-packages/CellSeg/segmentation2D.py:133: FutureWarning: The behavior of DataFrame concatenation with empty or all-NA entries is deprecated. In a future version, this will no longer exclude empty or all-NA columns when determining the result dtypes. To retain the old behavior, exclude the relevant entries before the concat operation.\n",
      "  vert_df.loc[len(vert_df)] = e_dict\n",
      "/home/u2175049/anaconda3/lib/python3.11/site-packages/CellSeg/segmentation2D.py:133: FutureWarning: The behavior of DataFrame concatenation with empty or all-NA entries is deprecated. In a future version, this will no longer exclude empty or all-NA columns when determining the result dtypes. To retain the old behavior, exclude the relevant entries before the concat operation.\n",
      "  vert_df.loc[len(vert_df)] = e_dict\n",
      "/home/u2175049/anaconda3/lib/python3.11/site-packages/CellSeg/segmentation2D.py:133: FutureWarning: The behavior of DataFrame concatenation with empty or all-NA entries is deprecated. In a future version, this will no longer exclude empty or all-NA columns when determining the result dtypes. To retain the old behavior, exclude the relevant entries before the concat operation.\n",
      "  vert_df.loc[len(vert_df)] = e_dict\n",
      "/home/u2175049/anaconda3/lib/python3.11/site-packages/CellSeg/segmentation2D.py:133: FutureWarning: The behavior of DataFrame concatenation with empty or all-NA entries is deprecated. In a future version, this will no longer exclude empty or all-NA columns when determining the result dtypes. To retain the old behavior, exclude the relevant entries before the concat operation.\n",
      "  vert_df.loc[len(vert_df)] = e_dict\n",
      "/home/u2175049/anaconda3/lib/python3.11/site-packages/CellSeg/segmentation2D.py:133: FutureWarning: The behavior of DataFrame concatenation with empty or all-NA entries is deprecated. In a future version, this will no longer exclude empty or all-NA columns when determining the result dtypes. To retain the old behavior, exclude the relevant entries before the concat operation.\n",
      "  vert_df.loc[len(vert_df)] = e_dict\n",
      "/home/u2175049/anaconda3/lib/python3.11/site-packages/CellSeg/segmentation2D.py:133: FutureWarning: The behavior of DataFrame concatenation with empty or all-NA entries is deprecated. In a future version, this will no longer exclude empty or all-NA columns when determining the result dtypes. To retain the old behavior, exclude the relevant entries before the concat operation.\n",
      "  vert_df.loc[len(vert_df)] = e_dict\n",
      "/home/u2175049/anaconda3/lib/python3.11/site-packages/CellSeg/segmentation2D.py:133: FutureWarning: The behavior of DataFrame concatenation with empty or all-NA entries is deprecated. In a future version, this will no longer exclude empty or all-NA columns when determining the result dtypes. To retain the old behavior, exclude the relevant entries before the concat operation.\n",
      "  vert_df.loc[len(vert_df)] = e_dict\n",
      "/home/u2175049/anaconda3/lib/python3.11/site-packages/CellSeg/segmentation2D.py:133: FutureWarning: The behavior of DataFrame concatenation with empty or all-NA entries is deprecated. In a future version, this will no longer exclude empty or all-NA columns when determining the result dtypes. To retain the old behavior, exclude the relevant entries before the concat operation.\n",
      "  vert_df.loc[len(vert_df)] = e_dict\n",
      "/home/u2175049/anaconda3/lib/python3.11/site-packages/CellSeg/segmentation2D.py:133: FutureWarning: The behavior of DataFrame concatenation with empty or all-NA entries is deprecated. In a future version, this will no longer exclude empty or all-NA columns when determining the result dtypes. To retain the old behavior, exclude the relevant entries before the concat operation.\n",
      "  vert_df.loc[len(vert_df)] = e_dict\n",
      "/home/u2175049/anaconda3/lib/python3.11/site-packages/CellSeg/segmentation2D.py:133: FutureWarning: The behavior of DataFrame concatenation with empty or all-NA entries is deprecated. In a future version, this will no longer exclude empty or all-NA columns when determining the result dtypes. To retain the old behavior, exclude the relevant entries before the concat operation.\n",
      "  vert_df.loc[len(vert_df)] = e_dict\n",
      "/home/u2175049/anaconda3/lib/python3.11/site-packages/CellSeg/segmentation2D.py:133: FutureWarning: The behavior of DataFrame concatenation with empty or all-NA entries is deprecated. In a future version, this will no longer exclude empty or all-NA columns when determining the result dtypes. To retain the old behavior, exclude the relevant entries before the concat operation.\n",
      "  vert_df.loc[len(vert_df)] = e_dict\n",
      "/home/u2175049/anaconda3/lib/python3.11/site-packages/CellSeg/segmentation2D.py:133: FutureWarning: The behavior of DataFrame concatenation with empty or all-NA entries is deprecated. In a future version, this will no longer exclude empty or all-NA columns when determining the result dtypes. To retain the old behavior, exclude the relevant entries before the concat operation.\n",
      "  vert_df.loc[len(vert_df)] = e_dict\n"
     ]
    },
    {
     "data": {
      "application/vnd.jupyter.widget-view+json": {
       "model_id": "d8601e93f8ed49b296a4b2203c9b6fc5",
       "version_major": 2,
       "version_minor": 0
      },
      "text/plain": [
       "Vert segmentation:   0%|          | 0/6 [00:00<?, ?it/s]"
      ]
     },
     "metadata": {},
     "output_type": "display_data"
    },
    {
     "name": "stderr",
     "output_type": "stream",
     "text": [
      "/home/u2175049/anaconda3/lib/python3.11/site-packages/CellSeg/segmentation2D.py:133: FutureWarning: The behavior of DataFrame concatenation with empty or all-NA entries is deprecated. In a future version, this will no longer exclude empty or all-NA columns when determining the result dtypes. To retain the old behavior, exclude the relevant entries before the concat operation.\n",
      "  vert_df.loc[len(vert_df)] = e_dict\n",
      "/home/u2175049/anaconda3/lib/python3.11/site-packages/CellSeg/segmentation2D.py:133: FutureWarning: The behavior of DataFrame concatenation with empty or all-NA entries is deprecated. In a future version, this will no longer exclude empty or all-NA columns when determining the result dtypes. To retain the old behavior, exclude the relevant entries before the concat operation.\n",
      "  vert_df.loc[len(vert_df)] = e_dict\n",
      "/home/u2175049/anaconda3/lib/python3.11/site-packages/CellSeg/segmentation2D.py:133: FutureWarning: The behavior of DataFrame concatenation with empty or all-NA entries is deprecated. In a future version, this will no longer exclude empty or all-NA columns when determining the result dtypes. To retain the old behavior, exclude the relevant entries before the concat operation.\n",
      "  vert_df.loc[len(vert_df)] = e_dict\n"
     ]
    },
    {
     "data": {
      "application/vnd.jupyter.widget-view+json": {
       "model_id": "1555ed07ef9b46c5b8e29f73e98ca269",
       "version_major": 2,
       "version_minor": 0
      },
      "text/plain": [
       "Vert segmentation:   0%|          | 0/3 [00:00<?, ?it/s]"
      ]
     },
     "metadata": {},
     "output_type": "display_data"
    },
    {
     "name": "stderr",
     "output_type": "stream",
     "text": [
      "/home/u2175049/anaconda3/lib/python3.11/site-packages/CellSeg/segmentation2D.py:133: FutureWarning: The behavior of DataFrame concatenation with empty or all-NA entries is deprecated. In a future version, this will no longer exclude empty or all-NA columns when determining the result dtypes. To retain the old behavior, exclude the relevant entries before the concat operation.\n",
      "  vert_df.loc[len(vert_df)] = e_dict\n"
     ]
    },
    {
     "data": {
      "application/vnd.jupyter.widget-view+json": {
       "model_id": "fc5f03ad0d2c45a3a0992449ddf6de11",
       "version_major": 2,
       "version_minor": 0
      },
      "text/plain": [
       "Vert segmentation:   0%|          | 0/15 [00:00<?, ?it/s]"
      ]
     },
     "metadata": {},
     "output_type": "display_data"
    },
    {
     "name": "stderr",
     "output_type": "stream",
     "text": [
      "/home/u2175049/anaconda3/lib/python3.11/site-packages/CellSeg/segmentation2D.py:133: FutureWarning: The behavior of DataFrame concatenation with empty or all-NA entries is deprecated. In a future version, this will no longer exclude empty or all-NA columns when determining the result dtypes. To retain the old behavior, exclude the relevant entries before the concat operation.\n",
      "  vert_df.loc[len(vert_df)] = e_dict\n",
      "/home/u2175049/anaconda3/lib/python3.11/site-packages/CellSeg/segmentation2D.py:133: FutureWarning: The behavior of DataFrame concatenation with empty or all-NA entries is deprecated. In a future version, this will no longer exclude empty or all-NA columns when determining the result dtypes. To retain the old behavior, exclude the relevant entries before the concat operation.\n",
      "  vert_df.loc[len(vert_df)] = e_dict\n",
      "/home/u2175049/anaconda3/lib/python3.11/site-packages/CellSeg/segmentation2D.py:133: FutureWarning: The behavior of DataFrame concatenation with empty or all-NA entries is deprecated. In a future version, this will no longer exclude empty or all-NA columns when determining the result dtypes. To retain the old behavior, exclude the relevant entries before the concat operation.\n",
      "  vert_df.loc[len(vert_df)] = e_dict\n",
      "/home/u2175049/anaconda3/lib/python3.11/site-packages/CellSeg/segmentation2D.py:133: FutureWarning: The behavior of DataFrame concatenation with empty or all-NA entries is deprecated. In a future version, this will no longer exclude empty or all-NA columns when determining the result dtypes. To retain the old behavior, exclude the relevant entries before the concat operation.\n",
      "  vert_df.loc[len(vert_df)] = e_dict\n",
      "/home/u2175049/anaconda3/lib/python3.11/site-packages/CellSeg/segmentation2D.py:133: FutureWarning: The behavior of DataFrame concatenation with empty or all-NA entries is deprecated. In a future version, this will no longer exclude empty or all-NA columns when determining the result dtypes. To retain the old behavior, exclude the relevant entries before the concat operation.\n",
      "  vert_df.loc[len(vert_df)] = e_dict\n",
      "/home/u2175049/anaconda3/lib/python3.11/site-packages/CellSeg/segmentation2D.py:133: FutureWarning: The behavior of DataFrame concatenation with empty or all-NA entries is deprecated. In a future version, this will no longer exclude empty or all-NA columns when determining the result dtypes. To retain the old behavior, exclude the relevant entries before the concat operation.\n",
      "  vert_df.loc[len(vert_df)] = e_dict\n",
      "/home/u2175049/anaconda3/lib/python3.11/site-packages/CellSeg/segmentation2D.py:133: FutureWarning: The behavior of DataFrame concatenation with empty or all-NA entries is deprecated. In a future version, this will no longer exclude empty or all-NA columns when determining the result dtypes. To retain the old behavior, exclude the relevant entries before the concat operation.\n",
      "  vert_df.loc[len(vert_df)] = e_dict\n",
      "/home/u2175049/anaconda3/lib/python3.11/site-packages/CellSeg/segmentation2D.py:133: FutureWarning: The behavior of DataFrame concatenation with empty or all-NA entries is deprecated. In a future version, this will no longer exclude empty or all-NA columns when determining the result dtypes. To retain the old behavior, exclude the relevant entries before the concat operation.\n",
      "  vert_df.loc[len(vert_df)] = e_dict\n",
      "/home/u2175049/anaconda3/lib/python3.11/site-packages/CellSeg/segmentation2D.py:133: FutureWarning: The behavior of DataFrame concatenation with empty or all-NA entries is deprecated. In a future version, this will no longer exclude empty or all-NA columns when determining the result dtypes. To retain the old behavior, exclude the relevant entries before the concat operation.\n",
      "  vert_df.loc[len(vert_df)] = e_dict\n",
      "/home/u2175049/anaconda3/lib/python3.11/site-packages/CellSeg/segmentation2D.py:133: FutureWarning: The behavior of DataFrame concatenation with empty or all-NA entries is deprecated. In a future version, this will no longer exclude empty or all-NA columns when determining the result dtypes. To retain the old behavior, exclude the relevant entries before the concat operation.\n",
      "  vert_df.loc[len(vert_df)] = e_dict\n"
     ]
    },
    {
     "data": {
      "application/vnd.jupyter.widget-view+json": {
       "model_id": "4d70ed0a20c14a8ebef5f7ac1aaf547a",
       "version_major": 2,
       "version_minor": 0
      },
      "text/plain": [
       "Vert segmentation:   0%|          | 0/6 [00:00<?, ?it/s]"
      ]
     },
     "metadata": {},
     "output_type": "display_data"
    },
    {
     "name": "stderr",
     "output_type": "stream",
     "text": [
      "/home/u2175049/anaconda3/lib/python3.11/site-packages/CellSeg/segmentation2D.py:133: FutureWarning: The behavior of DataFrame concatenation with empty or all-NA entries is deprecated. In a future version, this will no longer exclude empty or all-NA columns when determining the result dtypes. To retain the old behavior, exclude the relevant entries before the concat operation.\n",
      "  vert_df.loc[len(vert_df)] = e_dict\n",
      "/home/u2175049/anaconda3/lib/python3.11/site-packages/CellSeg/segmentation2D.py:133: FutureWarning: The behavior of DataFrame concatenation with empty or all-NA entries is deprecated. In a future version, this will no longer exclude empty or all-NA columns when determining the result dtypes. To retain the old behavior, exclude the relevant entries before the concat operation.\n",
      "  vert_df.loc[len(vert_df)] = e_dict\n",
      "/home/u2175049/anaconda3/lib/python3.11/site-packages/CellSeg/segmentation2D.py:133: FutureWarning: The behavior of DataFrame concatenation with empty or all-NA entries is deprecated. In a future version, this will no longer exclude empty or all-NA columns when determining the result dtypes. To retain the old behavior, exclude the relevant entries before the concat operation.\n",
      "  vert_df.loc[len(vert_df)] = e_dict\n"
     ]
    },
    {
     "data": {
      "application/vnd.jupyter.widget-view+json": {
       "model_id": "31eb4dda7ccc4b46af876245e49db0f9",
       "version_major": 2,
       "version_minor": 0
      },
      "text/plain": [
       "Vert segmentation:   0%|          | 0/10 [00:00<?, ?it/s]"
      ]
     },
     "metadata": {},
     "output_type": "display_data"
    },
    {
     "name": "stderr",
     "output_type": "stream",
     "text": [
      "/home/u2175049/anaconda3/lib/python3.11/site-packages/CellSeg/segmentation2D.py:133: FutureWarning: The behavior of DataFrame concatenation with empty or all-NA entries is deprecated. In a future version, this will no longer exclude empty or all-NA columns when determining the result dtypes. To retain the old behavior, exclude the relevant entries before the concat operation.\n",
      "  vert_df.loc[len(vert_df)] = e_dict\n",
      "/home/u2175049/anaconda3/lib/python3.11/site-packages/CellSeg/segmentation2D.py:133: FutureWarning: The behavior of DataFrame concatenation with empty or all-NA entries is deprecated. In a future version, this will no longer exclude empty or all-NA columns when determining the result dtypes. To retain the old behavior, exclude the relevant entries before the concat operation.\n",
      "  vert_df.loc[len(vert_df)] = e_dict\n",
      "/home/u2175049/anaconda3/lib/python3.11/site-packages/CellSeg/segmentation2D.py:133: FutureWarning: The behavior of DataFrame concatenation with empty or all-NA entries is deprecated. In a future version, this will no longer exclude empty or all-NA columns when determining the result dtypes. To retain the old behavior, exclude the relevant entries before the concat operation.\n",
      "  vert_df.loc[len(vert_df)] = e_dict\n",
      "/home/u2175049/anaconda3/lib/python3.11/site-packages/CellSeg/segmentation2D.py:133: FutureWarning: The behavior of DataFrame concatenation with empty or all-NA entries is deprecated. In a future version, this will no longer exclude empty or all-NA columns when determining the result dtypes. To retain the old behavior, exclude the relevant entries before the concat operation.\n",
      "  vert_df.loc[len(vert_df)] = e_dict\n",
      "/home/u2175049/anaconda3/lib/python3.11/site-packages/CellSeg/segmentation2D.py:133: FutureWarning: The behavior of DataFrame concatenation with empty or all-NA entries is deprecated. In a future version, this will no longer exclude empty or all-NA columns when determining the result dtypes. To retain the old behavior, exclude the relevant entries before the concat operation.\n",
      "  vert_df.loc[len(vert_df)] = e_dict\n",
      "/home/u2175049/anaconda3/lib/python3.11/site-packages/CellSeg/segmentation2D.py:133: FutureWarning: The behavior of DataFrame concatenation with empty or all-NA entries is deprecated. In a future version, this will no longer exclude empty or all-NA columns when determining the result dtypes. To retain the old behavior, exclude the relevant entries before the concat operation.\n",
      "  vert_df.loc[len(vert_df)] = e_dict\n"
     ]
    },
    {
     "data": {
      "application/vnd.jupyter.widget-view+json": {
       "model_id": "23d262ea049c4fbaa844d87028fa398c",
       "version_major": 2,
       "version_minor": 0
      },
      "text/plain": [
       "Vert segmentation:   0%|          | 0/15 [00:00<?, ?it/s]"
      ]
     },
     "metadata": {},
     "output_type": "display_data"
    },
    {
     "name": "stderr",
     "output_type": "stream",
     "text": [
      "/home/u2175049/anaconda3/lib/python3.11/site-packages/CellSeg/segmentation2D.py:133: FutureWarning: The behavior of DataFrame concatenation with empty or all-NA entries is deprecated. In a future version, this will no longer exclude empty or all-NA columns when determining the result dtypes. To retain the old behavior, exclude the relevant entries before the concat operation.\n",
      "  vert_df.loc[len(vert_df)] = e_dict\n",
      "/home/u2175049/anaconda3/lib/python3.11/site-packages/CellSeg/segmentation2D.py:133: FutureWarning: The behavior of DataFrame concatenation with empty or all-NA entries is deprecated. In a future version, this will no longer exclude empty or all-NA columns when determining the result dtypes. To retain the old behavior, exclude the relevant entries before the concat operation.\n",
      "  vert_df.loc[len(vert_df)] = e_dict\n",
      "/home/u2175049/anaconda3/lib/python3.11/site-packages/CellSeg/segmentation2D.py:133: FutureWarning: The behavior of DataFrame concatenation with empty or all-NA entries is deprecated. In a future version, this will no longer exclude empty or all-NA columns when determining the result dtypes. To retain the old behavior, exclude the relevant entries before the concat operation.\n",
      "  vert_df.loc[len(vert_df)] = e_dict\n",
      "/home/u2175049/anaconda3/lib/python3.11/site-packages/CellSeg/segmentation2D.py:133: FutureWarning: The behavior of DataFrame concatenation with empty or all-NA entries is deprecated. In a future version, this will no longer exclude empty or all-NA columns when determining the result dtypes. To retain the old behavior, exclude the relevant entries before the concat operation.\n",
      "  vert_df.loc[len(vert_df)] = e_dict\n",
      "/home/u2175049/anaconda3/lib/python3.11/site-packages/CellSeg/segmentation2D.py:133: FutureWarning: The behavior of DataFrame concatenation with empty or all-NA entries is deprecated. In a future version, this will no longer exclude empty or all-NA columns when determining the result dtypes. To retain the old behavior, exclude the relevant entries before the concat operation.\n",
      "  vert_df.loc[len(vert_df)] = e_dict\n",
      "/home/u2175049/anaconda3/lib/python3.11/site-packages/CellSeg/segmentation2D.py:133: FutureWarning: The behavior of DataFrame concatenation with empty or all-NA entries is deprecated. In a future version, this will no longer exclude empty or all-NA columns when determining the result dtypes. To retain the old behavior, exclude the relevant entries before the concat operation.\n",
      "  vert_df.loc[len(vert_df)] = e_dict\n",
      "/home/u2175049/anaconda3/lib/python3.11/site-packages/CellSeg/segmentation2D.py:133: FutureWarning: The behavior of DataFrame concatenation with empty or all-NA entries is deprecated. In a future version, this will no longer exclude empty or all-NA columns when determining the result dtypes. To retain the old behavior, exclude the relevant entries before the concat operation.\n",
      "  vert_df.loc[len(vert_df)] = e_dict\n",
      "/home/u2175049/anaconda3/lib/python3.11/site-packages/CellSeg/segmentation2D.py:133: FutureWarning: The behavior of DataFrame concatenation with empty or all-NA entries is deprecated. In a future version, this will no longer exclude empty or all-NA columns when determining the result dtypes. To retain the old behavior, exclude the relevant entries before the concat operation.\n",
      "  vert_df.loc[len(vert_df)] = e_dict\n",
      "/home/u2175049/anaconda3/lib/python3.11/site-packages/CellSeg/segmentation2D.py:133: FutureWarning: The behavior of DataFrame concatenation with empty or all-NA entries is deprecated. In a future version, this will no longer exclude empty or all-NA columns when determining the result dtypes. To retain the old behavior, exclude the relevant entries before the concat operation.\n",
      "  vert_df.loc[len(vert_df)] = e_dict\n",
      "/home/u2175049/anaconda3/lib/python3.11/site-packages/CellSeg/segmentation2D.py:133: FutureWarning: The behavior of DataFrame concatenation with empty or all-NA entries is deprecated. In a future version, this will no longer exclude empty or all-NA columns when determining the result dtypes. To retain the old behavior, exclude the relevant entries before the concat operation.\n",
      "  vert_df.loc[len(vert_df)] = e_dict\n"
     ]
    },
    {
     "data": {
      "application/vnd.jupyter.widget-view+json": {
       "model_id": "ded6e5f639ed4476be5c8cac31f04df0",
       "version_major": 2,
       "version_minor": 0
      },
      "text/plain": [
       "Vert segmentation:   0%|          | 0/10 [00:00<?, ?it/s]"
      ]
     },
     "metadata": {},
     "output_type": "display_data"
    },
    {
     "name": "stderr",
     "output_type": "stream",
     "text": [
      "/home/u2175049/anaconda3/lib/python3.11/site-packages/CellSeg/segmentation2D.py:133: FutureWarning: The behavior of DataFrame concatenation with empty or all-NA entries is deprecated. In a future version, this will no longer exclude empty or all-NA columns when determining the result dtypes. To retain the old behavior, exclude the relevant entries before the concat operation.\n",
      "  vert_df.loc[len(vert_df)] = e_dict\n",
      "/home/u2175049/anaconda3/lib/python3.11/site-packages/CellSeg/segmentation2D.py:133: FutureWarning: The behavior of DataFrame concatenation with empty or all-NA entries is deprecated. In a future version, this will no longer exclude empty or all-NA columns when determining the result dtypes. To retain the old behavior, exclude the relevant entries before the concat operation.\n",
      "  vert_df.loc[len(vert_df)] = e_dict\n",
      "/home/u2175049/anaconda3/lib/python3.11/site-packages/CellSeg/segmentation2D.py:133: FutureWarning: The behavior of DataFrame concatenation with empty or all-NA entries is deprecated. In a future version, this will no longer exclude empty or all-NA columns when determining the result dtypes. To retain the old behavior, exclude the relevant entries before the concat operation.\n",
      "  vert_df.loc[len(vert_df)] = e_dict\n",
      "/home/u2175049/anaconda3/lib/python3.11/site-packages/CellSeg/segmentation2D.py:133: FutureWarning: The behavior of DataFrame concatenation with empty or all-NA entries is deprecated. In a future version, this will no longer exclude empty or all-NA columns when determining the result dtypes. To retain the old behavior, exclude the relevant entries before the concat operation.\n",
      "  vert_df.loc[len(vert_df)] = e_dict\n",
      "/home/u2175049/anaconda3/lib/python3.11/site-packages/CellSeg/segmentation2D.py:133: FutureWarning: The behavior of DataFrame concatenation with empty or all-NA entries is deprecated. In a future version, this will no longer exclude empty or all-NA columns when determining the result dtypes. To retain the old behavior, exclude the relevant entries before the concat operation.\n",
      "  vert_df.loc[len(vert_df)] = e_dict\n",
      "/home/u2175049/anaconda3/lib/python3.11/site-packages/CellSeg/segmentation2D.py:133: FutureWarning: The behavior of DataFrame concatenation with empty or all-NA entries is deprecated. In a future version, this will no longer exclude empty or all-NA columns when determining the result dtypes. To retain the old behavior, exclude the relevant entries before the concat operation.\n",
      "  vert_df.loc[len(vert_df)] = e_dict\n"
     ]
    },
    {
     "data": {
      "application/vnd.jupyter.widget-view+json": {
       "model_id": "67f0cb78e02446ca845032b41d900bf6",
       "version_major": 2,
       "version_minor": 0
      },
      "text/plain": [
       "Vert segmentation:   0%|          | 0/21 [00:00<?, ?it/s]"
      ]
     },
     "metadata": {},
     "output_type": "display_data"
    },
    {
     "name": "stderr",
     "output_type": "stream",
     "text": [
      "/home/u2175049/anaconda3/lib/python3.11/site-packages/CellSeg/segmentation2D.py:133: FutureWarning: The behavior of DataFrame concatenation with empty or all-NA entries is deprecated. In a future version, this will no longer exclude empty or all-NA columns when determining the result dtypes. To retain the old behavior, exclude the relevant entries before the concat operation.\n",
      "  vert_df.loc[len(vert_df)] = e_dict\n",
      "/home/u2175049/anaconda3/lib/python3.11/site-packages/CellSeg/segmentation2D.py:133: FutureWarning: The behavior of DataFrame concatenation with empty or all-NA entries is deprecated. In a future version, this will no longer exclude empty or all-NA columns when determining the result dtypes. To retain the old behavior, exclude the relevant entries before the concat operation.\n",
      "  vert_df.loc[len(vert_df)] = e_dict\n",
      "/home/u2175049/anaconda3/lib/python3.11/site-packages/CellSeg/segmentation2D.py:133: FutureWarning: The behavior of DataFrame concatenation with empty or all-NA entries is deprecated. In a future version, this will no longer exclude empty or all-NA columns when determining the result dtypes. To retain the old behavior, exclude the relevant entries before the concat operation.\n",
      "  vert_df.loc[len(vert_df)] = e_dict\n",
      "/home/u2175049/anaconda3/lib/python3.11/site-packages/CellSeg/segmentation2D.py:133: FutureWarning: The behavior of DataFrame concatenation with empty or all-NA entries is deprecated. In a future version, this will no longer exclude empty or all-NA columns when determining the result dtypes. To retain the old behavior, exclude the relevant entries before the concat operation.\n",
      "  vert_df.loc[len(vert_df)] = e_dict\n",
      "/home/u2175049/anaconda3/lib/python3.11/site-packages/CellSeg/segmentation2D.py:133: FutureWarning: The behavior of DataFrame concatenation with empty or all-NA entries is deprecated. In a future version, this will no longer exclude empty or all-NA columns when determining the result dtypes. To retain the old behavior, exclude the relevant entries before the concat operation.\n",
      "  vert_df.loc[len(vert_df)] = e_dict\n",
      "/home/u2175049/anaconda3/lib/python3.11/site-packages/CellSeg/segmentation2D.py:133: FutureWarning: The behavior of DataFrame concatenation with empty or all-NA entries is deprecated. In a future version, this will no longer exclude empty or all-NA columns when determining the result dtypes. To retain the old behavior, exclude the relevant entries before the concat operation.\n",
      "  vert_df.loc[len(vert_df)] = e_dict\n",
      "/home/u2175049/anaconda3/lib/python3.11/site-packages/CellSeg/segmentation2D.py:133: FutureWarning: The behavior of DataFrame concatenation with empty or all-NA entries is deprecated. In a future version, this will no longer exclude empty or all-NA columns when determining the result dtypes. To retain the old behavior, exclude the relevant entries before the concat operation.\n",
      "  vert_df.loc[len(vert_df)] = e_dict\n",
      "/home/u2175049/anaconda3/lib/python3.11/site-packages/CellSeg/segmentation2D.py:133: FutureWarning: The behavior of DataFrame concatenation with empty or all-NA entries is deprecated. In a future version, this will no longer exclude empty or all-NA columns when determining the result dtypes. To retain the old behavior, exclude the relevant entries before the concat operation.\n",
      "  vert_df.loc[len(vert_df)] = e_dict\n",
      "/home/u2175049/anaconda3/lib/python3.11/site-packages/CellSeg/segmentation2D.py:133: FutureWarning: The behavior of DataFrame concatenation with empty or all-NA entries is deprecated. In a future version, this will no longer exclude empty or all-NA columns when determining the result dtypes. To retain the old behavior, exclude the relevant entries before the concat operation.\n",
      "  vert_df.loc[len(vert_df)] = e_dict\n",
      "/home/u2175049/anaconda3/lib/python3.11/site-packages/CellSeg/segmentation2D.py:133: FutureWarning: The behavior of DataFrame concatenation with empty or all-NA entries is deprecated. In a future version, this will no longer exclude empty or all-NA columns when determining the result dtypes. To retain the old behavior, exclude the relevant entries before the concat operation.\n",
      "  vert_df.loc[len(vert_df)] = e_dict\n",
      "/home/u2175049/anaconda3/lib/python3.11/site-packages/CellSeg/segmentation2D.py:133: FutureWarning: The behavior of DataFrame concatenation with empty or all-NA entries is deprecated. In a future version, this will no longer exclude empty or all-NA columns when determining the result dtypes. To retain the old behavior, exclude the relevant entries before the concat operation.\n",
      "  vert_df.loc[len(vert_df)] = e_dict\n",
      "/home/u2175049/anaconda3/lib/python3.11/site-packages/CellSeg/segmentation2D.py:133: FutureWarning: The behavior of DataFrame concatenation with empty or all-NA entries is deprecated. In a future version, this will no longer exclude empty or all-NA columns when determining the result dtypes. To retain the old behavior, exclude the relevant entries before the concat operation.\n",
      "  vert_df.loc[len(vert_df)] = e_dict\n",
      "/home/u2175049/anaconda3/lib/python3.11/site-packages/CellSeg/segmentation2D.py:133: FutureWarning: The behavior of DataFrame concatenation with empty or all-NA entries is deprecated. In a future version, this will no longer exclude empty or all-NA columns when determining the result dtypes. To retain the old behavior, exclude the relevant entries before the concat operation.\n",
      "  vert_df.loc[len(vert_df)] = e_dict\n",
      "/home/u2175049/anaconda3/lib/python3.11/site-packages/CellSeg/segmentation2D.py:133: FutureWarning: The behavior of DataFrame concatenation with empty or all-NA entries is deprecated. In a future version, this will no longer exclude empty or all-NA columns when determining the result dtypes. To retain the old behavior, exclude the relevant entries before the concat operation.\n",
      "  vert_df.loc[len(vert_df)] = e_dict\n"
     ]
    },
    {
     "data": {
      "application/vnd.jupyter.widget-view+json": {
       "model_id": "9b82d1e0ed844e73a2dcac631d9dbb06",
       "version_major": 2,
       "version_minor": 0
      },
      "text/plain": [
       "Vert segmentation:   0%|          | 0/28 [00:00<?, ?it/s]"
      ]
     },
     "metadata": {},
     "output_type": "display_data"
    },
    {
     "name": "stderr",
     "output_type": "stream",
     "text": [
      "/home/u2175049/anaconda3/lib/python3.11/site-packages/CellSeg/segmentation2D.py:133: FutureWarning: The behavior of DataFrame concatenation with empty or all-NA entries is deprecated. In a future version, this will no longer exclude empty or all-NA columns when determining the result dtypes. To retain the old behavior, exclude the relevant entries before the concat operation.\n",
      "  vert_df.loc[len(vert_df)] = e_dict\n",
      "/home/u2175049/anaconda3/lib/python3.11/site-packages/CellSeg/segmentation2D.py:133: FutureWarning: The behavior of DataFrame concatenation with empty or all-NA entries is deprecated. In a future version, this will no longer exclude empty or all-NA columns when determining the result dtypes. To retain the old behavior, exclude the relevant entries before the concat operation.\n",
      "  vert_df.loc[len(vert_df)] = e_dict\n",
      "/home/u2175049/anaconda3/lib/python3.11/site-packages/CellSeg/segmentation2D.py:133: FutureWarning: The behavior of DataFrame concatenation with empty or all-NA entries is deprecated. In a future version, this will no longer exclude empty or all-NA columns when determining the result dtypes. To retain the old behavior, exclude the relevant entries before the concat operation.\n",
      "  vert_df.loc[len(vert_df)] = e_dict\n",
      "/home/u2175049/anaconda3/lib/python3.11/site-packages/CellSeg/segmentation2D.py:133: FutureWarning: The behavior of DataFrame concatenation with empty or all-NA entries is deprecated. In a future version, this will no longer exclude empty or all-NA columns when determining the result dtypes. To retain the old behavior, exclude the relevant entries before the concat operation.\n",
      "  vert_df.loc[len(vert_df)] = e_dict\n",
      "/home/u2175049/anaconda3/lib/python3.11/site-packages/CellSeg/segmentation2D.py:133: FutureWarning: The behavior of DataFrame concatenation with empty or all-NA entries is deprecated. In a future version, this will no longer exclude empty or all-NA columns when determining the result dtypes. To retain the old behavior, exclude the relevant entries before the concat operation.\n",
      "  vert_df.loc[len(vert_df)] = e_dict\n",
      "/home/u2175049/anaconda3/lib/python3.11/site-packages/CellSeg/segmentation2D.py:133: FutureWarning: The behavior of DataFrame concatenation with empty or all-NA entries is deprecated. In a future version, this will no longer exclude empty or all-NA columns when determining the result dtypes. To retain the old behavior, exclude the relevant entries before the concat operation.\n",
      "  vert_df.loc[len(vert_df)] = e_dict\n",
      "/home/u2175049/anaconda3/lib/python3.11/site-packages/CellSeg/segmentation2D.py:133: FutureWarning: The behavior of DataFrame concatenation with empty or all-NA entries is deprecated. In a future version, this will no longer exclude empty or all-NA columns when determining the result dtypes. To retain the old behavior, exclude the relevant entries before the concat operation.\n",
      "  vert_df.loc[len(vert_df)] = e_dict\n",
      "/home/u2175049/anaconda3/lib/python3.11/site-packages/CellSeg/segmentation2D.py:133: FutureWarning: The behavior of DataFrame concatenation with empty or all-NA entries is deprecated. In a future version, this will no longer exclude empty or all-NA columns when determining the result dtypes. To retain the old behavior, exclude the relevant entries before the concat operation.\n",
      "  vert_df.loc[len(vert_df)] = e_dict\n",
      "/home/u2175049/anaconda3/lib/python3.11/site-packages/CellSeg/segmentation2D.py:133: FutureWarning: The behavior of DataFrame concatenation with empty or all-NA entries is deprecated. In a future version, this will no longer exclude empty or all-NA columns when determining the result dtypes. To retain the old behavior, exclude the relevant entries before the concat operation.\n",
      "  vert_df.loc[len(vert_df)] = e_dict\n",
      "/home/u2175049/anaconda3/lib/python3.11/site-packages/CellSeg/segmentation2D.py:133: FutureWarning: The behavior of DataFrame concatenation with empty or all-NA entries is deprecated. In a future version, this will no longer exclude empty or all-NA columns when determining the result dtypes. To retain the old behavior, exclude the relevant entries before the concat operation.\n",
      "  vert_df.loc[len(vert_df)] = e_dict\n",
      "/home/u2175049/anaconda3/lib/python3.11/site-packages/CellSeg/segmentation2D.py:133: FutureWarning: The behavior of DataFrame concatenation with empty or all-NA entries is deprecated. In a future version, this will no longer exclude empty or all-NA columns when determining the result dtypes. To retain the old behavior, exclude the relevant entries before the concat operation.\n",
      "  vert_df.loc[len(vert_df)] = e_dict\n",
      "/home/u2175049/anaconda3/lib/python3.11/site-packages/CellSeg/segmentation2D.py:133: FutureWarning: The behavior of DataFrame concatenation with empty or all-NA entries is deprecated. In a future version, this will no longer exclude empty or all-NA columns when determining the result dtypes. To retain the old behavior, exclude the relevant entries before the concat operation.\n",
      "  vert_df.loc[len(vert_df)] = e_dict\n",
      "/home/u2175049/anaconda3/lib/python3.11/site-packages/CellSeg/segmentation2D.py:133: FutureWarning: The behavior of DataFrame concatenation with empty or all-NA entries is deprecated. In a future version, this will no longer exclude empty or all-NA columns when determining the result dtypes. To retain the old behavior, exclude the relevant entries before the concat operation.\n",
      "  vert_df.loc[len(vert_df)] = e_dict\n",
      "/home/u2175049/anaconda3/lib/python3.11/site-packages/CellSeg/segmentation2D.py:133: FutureWarning: The behavior of DataFrame concatenation with empty or all-NA entries is deprecated. In a future version, this will no longer exclude empty or all-NA columns when determining the result dtypes. To retain the old behavior, exclude the relevant entries before the concat operation.\n",
      "  vert_df.loc[len(vert_df)] = e_dict\n",
      "/home/u2175049/anaconda3/lib/python3.11/site-packages/CellSeg/segmentation2D.py:133: FutureWarning: The behavior of DataFrame concatenation with empty or all-NA entries is deprecated. In a future version, this will no longer exclude empty or all-NA columns when determining the result dtypes. To retain the old behavior, exclude the relevant entries before the concat operation.\n",
      "  vert_df.loc[len(vert_df)] = e_dict\n",
      "/home/u2175049/anaconda3/lib/python3.11/site-packages/CellSeg/segmentation2D.py:133: FutureWarning: The behavior of DataFrame concatenation with empty or all-NA entries is deprecated. In a future version, this will no longer exclude empty or all-NA columns when determining the result dtypes. To retain the old behavior, exclude the relevant entries before the concat operation.\n",
      "  vert_df.loc[len(vert_df)] = e_dict\n",
      "/home/u2175049/anaconda3/lib/python3.11/site-packages/CellSeg/segmentation2D.py:133: FutureWarning: The behavior of DataFrame concatenation with empty or all-NA entries is deprecated. In a future version, this will no longer exclude empty or all-NA columns when determining the result dtypes. To retain the old behavior, exclude the relevant entries before the concat operation.\n",
      "  vert_df.loc[len(vert_df)] = e_dict\n",
      "/home/u2175049/anaconda3/lib/python3.11/site-packages/CellSeg/segmentation2D.py:133: FutureWarning: The behavior of DataFrame concatenation with empty or all-NA entries is deprecated. In a future version, this will no longer exclude empty or all-NA columns when determining the result dtypes. To retain the old behavior, exclude the relevant entries before the concat operation.\n",
      "  vert_df.loc[len(vert_df)] = e_dict\n",
      "/home/u2175049/anaconda3/lib/python3.11/site-packages/CellSeg/segmentation2D.py:133: FutureWarning: The behavior of DataFrame concatenation with empty or all-NA entries is deprecated. In a future version, this will no longer exclude empty or all-NA columns when determining the result dtypes. To retain the old behavior, exclude the relevant entries before the concat operation.\n",
      "  vert_df.loc[len(vert_df)] = e_dict\n",
      "/home/u2175049/anaconda3/lib/python3.11/site-packages/CellSeg/segmentation2D.py:133: FutureWarning: The behavior of DataFrame concatenation with empty or all-NA entries is deprecated. In a future version, this will no longer exclude empty or all-NA columns when determining the result dtypes. To retain the old behavior, exclude the relevant entries before the concat operation.\n",
      "  vert_df.loc[len(vert_df)] = e_dict\n"
     ]
    },
    {
     "data": {
      "application/vnd.jupyter.widget-view+json": {
       "model_id": "bd4932ef691041c69573398f92f8517f",
       "version_major": 2,
       "version_minor": 0
      },
      "text/plain": [
       "Vert segmentation:   0%|          | 0/3 [00:00<?, ?it/s]"
      ]
     },
     "metadata": {},
     "output_type": "display_data"
    },
    {
     "name": "stderr",
     "output_type": "stream",
     "text": [
      "/home/u2175049/anaconda3/lib/python3.11/site-packages/CellSeg/segmentation2D.py:133: FutureWarning: The behavior of DataFrame concatenation with empty or all-NA entries is deprecated. In a future version, this will no longer exclude empty or all-NA columns when determining the result dtypes. To retain the old behavior, exclude the relevant entries before the concat operation.\n",
      "  vert_df.loc[len(vert_df)] = e_dict\n"
     ]
    },
    {
     "data": {
      "application/vnd.jupyter.widget-view+json": {
       "model_id": "b5fe3f8c7af64330b8e0d6f701c0e889",
       "version_major": 2,
       "version_minor": 0
      },
      "text/plain": [
       "Vert segmentation:   0%|          | 0/15 [00:00<?, ?it/s]"
      ]
     },
     "metadata": {},
     "output_type": "display_data"
    },
    {
     "name": "stderr",
     "output_type": "stream",
     "text": [
      "/home/u2175049/anaconda3/lib/python3.11/site-packages/CellSeg/segmentation2D.py:133: FutureWarning: The behavior of DataFrame concatenation with empty or all-NA entries is deprecated. In a future version, this will no longer exclude empty or all-NA columns when determining the result dtypes. To retain the old behavior, exclude the relevant entries before the concat operation.\n",
      "  vert_df.loc[len(vert_df)] = e_dict\n",
      "/home/u2175049/anaconda3/lib/python3.11/site-packages/CellSeg/segmentation2D.py:133: FutureWarning: The behavior of DataFrame concatenation with empty or all-NA entries is deprecated. In a future version, this will no longer exclude empty or all-NA columns when determining the result dtypes. To retain the old behavior, exclude the relevant entries before the concat operation.\n",
      "  vert_df.loc[len(vert_df)] = e_dict\n",
      "/home/u2175049/anaconda3/lib/python3.11/site-packages/CellSeg/segmentation2D.py:133: FutureWarning: The behavior of DataFrame concatenation with empty or all-NA entries is deprecated. In a future version, this will no longer exclude empty or all-NA columns when determining the result dtypes. To retain the old behavior, exclude the relevant entries before the concat operation.\n",
      "  vert_df.loc[len(vert_df)] = e_dict\n",
      "/home/u2175049/anaconda3/lib/python3.11/site-packages/CellSeg/segmentation2D.py:133: FutureWarning: The behavior of DataFrame concatenation with empty or all-NA entries is deprecated. In a future version, this will no longer exclude empty or all-NA columns when determining the result dtypes. To retain the old behavior, exclude the relevant entries before the concat operation.\n",
      "  vert_df.loc[len(vert_df)] = e_dict\n",
      "/home/u2175049/anaconda3/lib/python3.11/site-packages/CellSeg/segmentation2D.py:133: FutureWarning: The behavior of DataFrame concatenation with empty or all-NA entries is deprecated. In a future version, this will no longer exclude empty or all-NA columns when determining the result dtypes. To retain the old behavior, exclude the relevant entries before the concat operation.\n",
      "  vert_df.loc[len(vert_df)] = e_dict\n",
      "/home/u2175049/anaconda3/lib/python3.11/site-packages/CellSeg/segmentation2D.py:133: FutureWarning: The behavior of DataFrame concatenation with empty or all-NA entries is deprecated. In a future version, this will no longer exclude empty or all-NA columns when determining the result dtypes. To retain the old behavior, exclude the relevant entries before the concat operation.\n",
      "  vert_df.loc[len(vert_df)] = e_dict\n",
      "/home/u2175049/anaconda3/lib/python3.11/site-packages/CellSeg/segmentation2D.py:133: FutureWarning: The behavior of DataFrame concatenation with empty or all-NA entries is deprecated. In a future version, this will no longer exclude empty or all-NA columns when determining the result dtypes. To retain the old behavior, exclude the relevant entries before the concat operation.\n",
      "  vert_df.loc[len(vert_df)] = e_dict\n",
      "/home/u2175049/anaconda3/lib/python3.11/site-packages/CellSeg/segmentation2D.py:133: FutureWarning: The behavior of DataFrame concatenation with empty or all-NA entries is deprecated. In a future version, this will no longer exclude empty or all-NA columns when determining the result dtypes. To retain the old behavior, exclude the relevant entries before the concat operation.\n",
      "  vert_df.loc[len(vert_df)] = e_dict\n"
     ]
    },
    {
     "data": {
      "application/vnd.jupyter.widget-view+json": {
       "model_id": "17a9c1a63cc84ee2b85d5086a619ea8b",
       "version_major": 2,
       "version_minor": 0
      },
      "text/plain": [
       "Vert segmentation:   0%|          | 0/6 [00:00<?, ?it/s]"
      ]
     },
     "metadata": {},
     "output_type": "display_data"
    },
    {
     "name": "stderr",
     "output_type": "stream",
     "text": [
      "/home/u2175049/anaconda3/lib/python3.11/site-packages/CellSeg/segmentation2D.py:133: FutureWarning: The behavior of DataFrame concatenation with empty or all-NA entries is deprecated. In a future version, this will no longer exclude empty or all-NA columns when determining the result dtypes. To retain the old behavior, exclude the relevant entries before the concat operation.\n",
      "  vert_df.loc[len(vert_df)] = e_dict\n",
      "/home/u2175049/anaconda3/lib/python3.11/site-packages/CellSeg/segmentation2D.py:133: FutureWarning: The behavior of DataFrame concatenation with empty or all-NA entries is deprecated. In a future version, this will no longer exclude empty or all-NA columns when determining the result dtypes. To retain the old behavior, exclude the relevant entries before the concat operation.\n",
      "  vert_df.loc[len(vert_df)] = e_dict\n"
     ]
    },
    {
     "data": {
      "application/vnd.jupyter.widget-view+json": {
       "model_id": "2d9ec512e1fe41a9a5a6fcc2a099a19d",
       "version_major": 2,
       "version_minor": 0
      },
      "text/plain": [
       "Vert segmentation:   0%|          | 0/28 [00:00<?, ?it/s]"
      ]
     },
     "metadata": {},
     "output_type": "display_data"
    },
    {
     "name": "stderr",
     "output_type": "stream",
     "text": [
      "/home/u2175049/anaconda3/lib/python3.11/site-packages/CellSeg/segmentation2D.py:133: FutureWarning: The behavior of DataFrame concatenation with empty or all-NA entries is deprecated. In a future version, this will no longer exclude empty or all-NA columns when determining the result dtypes. To retain the old behavior, exclude the relevant entries before the concat operation.\n",
      "  vert_df.loc[len(vert_df)] = e_dict\n",
      "/home/u2175049/anaconda3/lib/python3.11/site-packages/CellSeg/segmentation2D.py:133: FutureWarning: The behavior of DataFrame concatenation with empty or all-NA entries is deprecated. In a future version, this will no longer exclude empty or all-NA columns when determining the result dtypes. To retain the old behavior, exclude the relevant entries before the concat operation.\n",
      "  vert_df.loc[len(vert_df)] = e_dict\n",
      "/home/u2175049/anaconda3/lib/python3.11/site-packages/CellSeg/segmentation2D.py:133: FutureWarning: The behavior of DataFrame concatenation with empty or all-NA entries is deprecated. In a future version, this will no longer exclude empty or all-NA columns when determining the result dtypes. To retain the old behavior, exclude the relevant entries before the concat operation.\n",
      "  vert_df.loc[len(vert_df)] = e_dict\n",
      "/home/u2175049/anaconda3/lib/python3.11/site-packages/CellSeg/segmentation2D.py:133: FutureWarning: The behavior of DataFrame concatenation with empty or all-NA entries is deprecated. In a future version, this will no longer exclude empty or all-NA columns when determining the result dtypes. To retain the old behavior, exclude the relevant entries before the concat operation.\n",
      "  vert_df.loc[len(vert_df)] = e_dict\n",
      "/home/u2175049/anaconda3/lib/python3.11/site-packages/CellSeg/segmentation2D.py:133: FutureWarning: The behavior of DataFrame concatenation with empty or all-NA entries is deprecated. In a future version, this will no longer exclude empty or all-NA columns when determining the result dtypes. To retain the old behavior, exclude the relevant entries before the concat operation.\n",
      "  vert_df.loc[len(vert_df)] = e_dict\n",
      "/home/u2175049/anaconda3/lib/python3.11/site-packages/CellSeg/segmentation2D.py:133: FutureWarning: The behavior of DataFrame concatenation with empty or all-NA entries is deprecated. In a future version, this will no longer exclude empty or all-NA columns when determining the result dtypes. To retain the old behavior, exclude the relevant entries before the concat operation.\n",
      "  vert_df.loc[len(vert_df)] = e_dict\n",
      "/home/u2175049/anaconda3/lib/python3.11/site-packages/CellSeg/segmentation2D.py:133: FutureWarning: The behavior of DataFrame concatenation with empty or all-NA entries is deprecated. In a future version, this will no longer exclude empty or all-NA columns when determining the result dtypes. To retain the old behavior, exclude the relevant entries before the concat operation.\n",
      "  vert_df.loc[len(vert_df)] = e_dict\n",
      "/home/u2175049/anaconda3/lib/python3.11/site-packages/CellSeg/segmentation2D.py:133: FutureWarning: The behavior of DataFrame concatenation with empty or all-NA entries is deprecated. In a future version, this will no longer exclude empty or all-NA columns when determining the result dtypes. To retain the old behavior, exclude the relevant entries before the concat operation.\n",
      "  vert_df.loc[len(vert_df)] = e_dict\n",
      "/home/u2175049/anaconda3/lib/python3.11/site-packages/CellSeg/segmentation2D.py:133: FutureWarning: The behavior of DataFrame concatenation with empty or all-NA entries is deprecated. In a future version, this will no longer exclude empty or all-NA columns when determining the result dtypes. To retain the old behavior, exclude the relevant entries before the concat operation.\n",
      "  vert_df.loc[len(vert_df)] = e_dict\n",
      "/home/u2175049/anaconda3/lib/python3.11/site-packages/CellSeg/segmentation2D.py:133: FutureWarning: The behavior of DataFrame concatenation with empty or all-NA entries is deprecated. In a future version, this will no longer exclude empty or all-NA columns when determining the result dtypes. To retain the old behavior, exclude the relevant entries before the concat operation.\n",
      "  vert_df.loc[len(vert_df)] = e_dict\n",
      "/home/u2175049/anaconda3/lib/python3.11/site-packages/CellSeg/segmentation2D.py:133: FutureWarning: The behavior of DataFrame concatenation with empty or all-NA entries is deprecated. In a future version, this will no longer exclude empty or all-NA columns when determining the result dtypes. To retain the old behavior, exclude the relevant entries before the concat operation.\n",
      "  vert_df.loc[len(vert_df)] = e_dict\n",
      "/home/u2175049/anaconda3/lib/python3.11/site-packages/CellSeg/segmentation2D.py:133: FutureWarning: The behavior of DataFrame concatenation with empty or all-NA entries is deprecated. In a future version, this will no longer exclude empty or all-NA columns when determining the result dtypes. To retain the old behavior, exclude the relevant entries before the concat operation.\n",
      "  vert_df.loc[len(vert_df)] = e_dict\n",
      "/home/u2175049/anaconda3/lib/python3.11/site-packages/CellSeg/segmentation2D.py:133: FutureWarning: The behavior of DataFrame concatenation with empty or all-NA entries is deprecated. In a future version, this will no longer exclude empty or all-NA columns when determining the result dtypes. To retain the old behavior, exclude the relevant entries before the concat operation.\n",
      "  vert_df.loc[len(vert_df)] = e_dict\n",
      "/home/u2175049/anaconda3/lib/python3.11/site-packages/CellSeg/segmentation2D.py:133: FutureWarning: The behavior of DataFrame concatenation with empty or all-NA entries is deprecated. In a future version, this will no longer exclude empty or all-NA columns when determining the result dtypes. To retain the old behavior, exclude the relevant entries before the concat operation.\n",
      "  vert_df.loc[len(vert_df)] = e_dict\n",
      "/home/u2175049/anaconda3/lib/python3.11/site-packages/CellSeg/segmentation2D.py:133: FutureWarning: The behavior of DataFrame concatenation with empty or all-NA entries is deprecated. In a future version, this will no longer exclude empty or all-NA columns when determining the result dtypes. To retain the old behavior, exclude the relevant entries before the concat operation.\n",
      "  vert_df.loc[len(vert_df)] = e_dict\n",
      "/home/u2175049/anaconda3/lib/python3.11/site-packages/CellSeg/segmentation2D.py:133: FutureWarning: The behavior of DataFrame concatenation with empty or all-NA entries is deprecated. In a future version, this will no longer exclude empty or all-NA columns when determining the result dtypes. To retain the old behavior, exclude the relevant entries before the concat operation.\n",
      "  vert_df.loc[len(vert_df)] = e_dict\n",
      "/home/u2175049/anaconda3/lib/python3.11/site-packages/CellSeg/segmentation2D.py:133: FutureWarning: The behavior of DataFrame concatenation with empty or all-NA entries is deprecated. In a future version, this will no longer exclude empty or all-NA columns when determining the result dtypes. To retain the old behavior, exclude the relevant entries before the concat operation.\n",
      "  vert_df.loc[len(vert_df)] = e_dict\n",
      "/home/u2175049/anaconda3/lib/python3.11/site-packages/CellSeg/segmentation2D.py:133: FutureWarning: The behavior of DataFrame concatenation with empty or all-NA entries is deprecated. In a future version, this will no longer exclude empty or all-NA columns when determining the result dtypes. To retain the old behavior, exclude the relevant entries before the concat operation.\n",
      "  vert_df.loc[len(vert_df)] = e_dict\n",
      "/home/u2175049/anaconda3/lib/python3.11/site-packages/CellSeg/segmentation2D.py:133: FutureWarning: The behavior of DataFrame concatenation with empty or all-NA entries is deprecated. In a future version, this will no longer exclude empty or all-NA columns when determining the result dtypes. To retain the old behavior, exclude the relevant entries before the concat operation.\n",
      "  vert_df.loc[len(vert_df)] = e_dict\n"
     ]
    },
    {
     "data": {
      "application/vnd.jupyter.widget-view+json": {
       "model_id": "5ed4babe817d4605895e6d40f8d02f68",
       "version_major": 2,
       "version_minor": 0
      },
      "text/plain": [
       "Vert segmentation:   0%|          | 0/10 [00:00<?, ?it/s]"
      ]
     },
     "metadata": {},
     "output_type": "display_data"
    },
    {
     "name": "stderr",
     "output_type": "stream",
     "text": [
      "/home/u2175049/anaconda3/lib/python3.11/site-packages/CellSeg/segmentation2D.py:133: FutureWarning: The behavior of DataFrame concatenation with empty or all-NA entries is deprecated. In a future version, this will no longer exclude empty or all-NA columns when determining the result dtypes. To retain the old behavior, exclude the relevant entries before the concat operation.\n",
      "  vert_df.loc[len(vert_df)] = e_dict\n",
      "/home/u2175049/anaconda3/lib/python3.11/site-packages/CellSeg/segmentation2D.py:133: FutureWarning: The behavior of DataFrame concatenation with empty or all-NA entries is deprecated. In a future version, this will no longer exclude empty or all-NA columns when determining the result dtypes. To retain the old behavior, exclude the relevant entries before the concat operation.\n",
      "  vert_df.loc[len(vert_df)] = e_dict\n",
      "/home/u2175049/anaconda3/lib/python3.11/site-packages/CellSeg/segmentation2D.py:133: FutureWarning: The behavior of DataFrame concatenation with empty or all-NA entries is deprecated. In a future version, this will no longer exclude empty or all-NA columns when determining the result dtypes. To retain the old behavior, exclude the relevant entries before the concat operation.\n",
      "  vert_df.loc[len(vert_df)] = e_dict\n",
      "/home/u2175049/anaconda3/lib/python3.11/site-packages/CellSeg/segmentation2D.py:133: FutureWarning: The behavior of DataFrame concatenation with empty or all-NA entries is deprecated. In a future version, this will no longer exclude empty or all-NA columns when determining the result dtypes. To retain the old behavior, exclude the relevant entries before the concat operation.\n",
      "  vert_df.loc[len(vert_df)] = e_dict\n",
      "/home/u2175049/anaconda3/lib/python3.11/site-packages/CellSeg/segmentation2D.py:133: FutureWarning: The behavior of DataFrame concatenation with empty or all-NA entries is deprecated. In a future version, this will no longer exclude empty or all-NA columns when determining the result dtypes. To retain the old behavior, exclude the relevant entries before the concat operation.\n",
      "  vert_df.loc[len(vert_df)] = e_dict\n"
     ]
    },
    {
     "data": {
      "application/vnd.jupyter.widget-view+json": {
       "model_id": "bf5d76b5f3f949eb80ef8f5538289191",
       "version_major": 2,
       "version_minor": 0
      },
      "text/plain": [
       "Vert segmentation:   0%|          | 0/6 [00:00<?, ?it/s]"
      ]
     },
     "metadata": {},
     "output_type": "display_data"
    },
    {
     "name": "stderr",
     "output_type": "stream",
     "text": [
      "/home/u2175049/anaconda3/lib/python3.11/site-packages/CellSeg/segmentation2D.py:133: FutureWarning: The behavior of DataFrame concatenation with empty or all-NA entries is deprecated. In a future version, this will no longer exclude empty or all-NA columns when determining the result dtypes. To retain the old behavior, exclude the relevant entries before the concat operation.\n",
      "  vert_df.loc[len(vert_df)] = e_dict\n",
      "/home/u2175049/anaconda3/lib/python3.11/site-packages/CellSeg/segmentation2D.py:133: FutureWarning: The behavior of DataFrame concatenation with empty or all-NA entries is deprecated. In a future version, this will no longer exclude empty or all-NA columns when determining the result dtypes. To retain the old behavior, exclude the relevant entries before the concat operation.\n",
      "  vert_df.loc[len(vert_df)] = e_dict\n",
      "/home/u2175049/anaconda3/lib/python3.11/site-packages/CellSeg/segmentation2D.py:133: FutureWarning: The behavior of DataFrame concatenation with empty or all-NA entries is deprecated. In a future version, this will no longer exclude empty or all-NA columns when determining the result dtypes. To retain the old behavior, exclude the relevant entries before the concat operation.\n",
      "  vert_df.loc[len(vert_df)] = e_dict\n"
     ]
    },
    {
     "data": {
      "application/vnd.jupyter.widget-view+json": {
       "model_id": "6847b6705b0d434a9ae0713053cdfeeb",
       "version_major": 2,
       "version_minor": 0
      },
      "text/plain": [
       "Vert segmentation:   0%|          | 0/15 [00:00<?, ?it/s]"
      ]
     },
     "metadata": {},
     "output_type": "display_data"
    },
    {
     "name": "stderr",
     "output_type": "stream",
     "text": [
      "/home/u2175049/anaconda3/lib/python3.11/site-packages/CellSeg/segmentation2D.py:133: FutureWarning: The behavior of DataFrame concatenation with empty or all-NA entries is deprecated. In a future version, this will no longer exclude empty or all-NA columns when determining the result dtypes. To retain the old behavior, exclude the relevant entries before the concat operation.\n",
      "  vert_df.loc[len(vert_df)] = e_dict\n",
      "/home/u2175049/anaconda3/lib/python3.11/site-packages/CellSeg/segmentation2D.py:133: FutureWarning: The behavior of DataFrame concatenation with empty or all-NA entries is deprecated. In a future version, this will no longer exclude empty or all-NA columns when determining the result dtypes. To retain the old behavior, exclude the relevant entries before the concat operation.\n",
      "  vert_df.loc[len(vert_df)] = e_dict\n",
      "/home/u2175049/anaconda3/lib/python3.11/site-packages/CellSeg/segmentation2D.py:133: FutureWarning: The behavior of DataFrame concatenation with empty or all-NA entries is deprecated. In a future version, this will no longer exclude empty or all-NA columns when determining the result dtypes. To retain the old behavior, exclude the relevant entries before the concat operation.\n",
      "  vert_df.loc[len(vert_df)] = e_dict\n",
      "/home/u2175049/anaconda3/lib/python3.11/site-packages/CellSeg/segmentation2D.py:133: FutureWarning: The behavior of DataFrame concatenation with empty or all-NA entries is deprecated. In a future version, this will no longer exclude empty or all-NA columns when determining the result dtypes. To retain the old behavior, exclude the relevant entries before the concat operation.\n",
      "  vert_df.loc[len(vert_df)] = e_dict\n",
      "/home/u2175049/anaconda3/lib/python3.11/site-packages/CellSeg/segmentation2D.py:133: FutureWarning: The behavior of DataFrame concatenation with empty or all-NA entries is deprecated. In a future version, this will no longer exclude empty or all-NA columns when determining the result dtypes. To retain the old behavior, exclude the relevant entries before the concat operation.\n",
      "  vert_df.loc[len(vert_df)] = e_dict\n",
      "/home/u2175049/anaconda3/lib/python3.11/site-packages/CellSeg/segmentation2D.py:133: FutureWarning: The behavior of DataFrame concatenation with empty or all-NA entries is deprecated. In a future version, this will no longer exclude empty or all-NA columns when determining the result dtypes. To retain the old behavior, exclude the relevant entries before the concat operation.\n",
      "  vert_df.loc[len(vert_df)] = e_dict\n",
      "/home/u2175049/anaconda3/lib/python3.11/site-packages/CellSeg/segmentation2D.py:133: FutureWarning: The behavior of DataFrame concatenation with empty or all-NA entries is deprecated. In a future version, this will no longer exclude empty or all-NA columns when determining the result dtypes. To retain the old behavior, exclude the relevant entries before the concat operation.\n",
      "  vert_df.loc[len(vert_df)] = e_dict\n",
      "/home/u2175049/anaconda3/lib/python3.11/site-packages/CellSeg/segmentation2D.py:133: FutureWarning: The behavior of DataFrame concatenation with empty or all-NA entries is deprecated. In a future version, this will no longer exclude empty or all-NA columns when determining the result dtypes. To retain the old behavior, exclude the relevant entries before the concat operation.\n",
      "  vert_df.loc[len(vert_df)] = e_dict\n",
      "/home/u2175049/anaconda3/lib/python3.11/site-packages/CellSeg/segmentation2D.py:133: FutureWarning: The behavior of DataFrame concatenation with empty or all-NA entries is deprecated. In a future version, this will no longer exclude empty or all-NA columns when determining the result dtypes. To retain the old behavior, exclude the relevant entries before the concat operation.\n",
      "  vert_df.loc[len(vert_df)] = e_dict\n"
     ]
    },
    {
     "data": {
      "application/vnd.jupyter.widget-view+json": {
       "model_id": "db83f59496c9456fb030e642733cc5f6",
       "version_major": 2,
       "version_minor": 0
      },
      "text/plain": [
       "Vert segmentation:   0%|          | 0/21 [00:00<?, ?it/s]"
      ]
     },
     "metadata": {},
     "output_type": "display_data"
    },
    {
     "name": "stderr",
     "output_type": "stream",
     "text": [
      "/home/u2175049/anaconda3/lib/python3.11/site-packages/CellSeg/segmentation2D.py:133: FutureWarning: The behavior of DataFrame concatenation with empty or all-NA entries is deprecated. In a future version, this will no longer exclude empty or all-NA columns when determining the result dtypes. To retain the old behavior, exclude the relevant entries before the concat operation.\n",
      "  vert_df.loc[len(vert_df)] = e_dict\n",
      "/home/u2175049/anaconda3/lib/python3.11/site-packages/CellSeg/segmentation2D.py:133: FutureWarning: The behavior of DataFrame concatenation with empty or all-NA entries is deprecated. In a future version, this will no longer exclude empty or all-NA columns when determining the result dtypes. To retain the old behavior, exclude the relevant entries before the concat operation.\n",
      "  vert_df.loc[len(vert_df)] = e_dict\n",
      "/home/u2175049/anaconda3/lib/python3.11/site-packages/CellSeg/segmentation2D.py:133: FutureWarning: The behavior of DataFrame concatenation with empty or all-NA entries is deprecated. In a future version, this will no longer exclude empty or all-NA columns when determining the result dtypes. To retain the old behavior, exclude the relevant entries before the concat operation.\n",
      "  vert_df.loc[len(vert_df)] = e_dict\n",
      "/home/u2175049/anaconda3/lib/python3.11/site-packages/CellSeg/segmentation2D.py:133: FutureWarning: The behavior of DataFrame concatenation with empty or all-NA entries is deprecated. In a future version, this will no longer exclude empty or all-NA columns when determining the result dtypes. To retain the old behavior, exclude the relevant entries before the concat operation.\n",
      "  vert_df.loc[len(vert_df)] = e_dict\n",
      "/home/u2175049/anaconda3/lib/python3.11/site-packages/CellSeg/segmentation2D.py:133: FutureWarning: The behavior of DataFrame concatenation with empty or all-NA entries is deprecated. In a future version, this will no longer exclude empty or all-NA columns when determining the result dtypes. To retain the old behavior, exclude the relevant entries before the concat operation.\n",
      "  vert_df.loc[len(vert_df)] = e_dict\n",
      "/home/u2175049/anaconda3/lib/python3.11/site-packages/CellSeg/segmentation2D.py:133: FutureWarning: The behavior of DataFrame concatenation with empty or all-NA entries is deprecated. In a future version, this will no longer exclude empty or all-NA columns when determining the result dtypes. To retain the old behavior, exclude the relevant entries before the concat operation.\n",
      "  vert_df.loc[len(vert_df)] = e_dict\n",
      "/home/u2175049/anaconda3/lib/python3.11/site-packages/CellSeg/segmentation2D.py:133: FutureWarning: The behavior of DataFrame concatenation with empty or all-NA entries is deprecated. In a future version, this will no longer exclude empty or all-NA columns when determining the result dtypes. To retain the old behavior, exclude the relevant entries before the concat operation.\n",
      "  vert_df.loc[len(vert_df)] = e_dict\n",
      "/home/u2175049/anaconda3/lib/python3.11/site-packages/CellSeg/segmentation2D.py:133: FutureWarning: The behavior of DataFrame concatenation with empty or all-NA entries is deprecated. In a future version, this will no longer exclude empty or all-NA columns when determining the result dtypes. To retain the old behavior, exclude the relevant entries before the concat operation.\n",
      "  vert_df.loc[len(vert_df)] = e_dict\n",
      "/home/u2175049/anaconda3/lib/python3.11/site-packages/CellSeg/segmentation2D.py:133: FutureWarning: The behavior of DataFrame concatenation with empty or all-NA entries is deprecated. In a future version, this will no longer exclude empty or all-NA columns when determining the result dtypes. To retain the old behavior, exclude the relevant entries before the concat operation.\n",
      "  vert_df.loc[len(vert_df)] = e_dict\n",
      "/home/u2175049/anaconda3/lib/python3.11/site-packages/CellSeg/segmentation2D.py:133: FutureWarning: The behavior of DataFrame concatenation with empty or all-NA entries is deprecated. In a future version, this will no longer exclude empty or all-NA columns when determining the result dtypes. To retain the old behavior, exclude the relevant entries before the concat operation.\n",
      "  vert_df.loc[len(vert_df)] = e_dict\n",
      "/home/u2175049/anaconda3/lib/python3.11/site-packages/CellSeg/segmentation2D.py:133: FutureWarning: The behavior of DataFrame concatenation with empty or all-NA entries is deprecated. In a future version, this will no longer exclude empty or all-NA columns when determining the result dtypes. To retain the old behavior, exclude the relevant entries before the concat operation.\n",
      "  vert_df.loc[len(vert_df)] = e_dict\n",
      "/home/u2175049/anaconda3/lib/python3.11/site-packages/CellSeg/segmentation2D.py:133: FutureWarning: The behavior of DataFrame concatenation with empty or all-NA entries is deprecated. In a future version, this will no longer exclude empty or all-NA columns when determining the result dtypes. To retain the old behavior, exclude the relevant entries before the concat operation.\n",
      "  vert_df.loc[len(vert_df)] = e_dict\n",
      "/home/u2175049/anaconda3/lib/python3.11/site-packages/CellSeg/segmentation2D.py:133: FutureWarning: The behavior of DataFrame concatenation with empty or all-NA entries is deprecated. In a future version, this will no longer exclude empty or all-NA columns when determining the result dtypes. To retain the old behavior, exclude the relevant entries before the concat operation.\n",
      "  vert_df.loc[len(vert_df)] = e_dict\n",
      "/home/u2175049/anaconda3/lib/python3.11/site-packages/CellSeg/segmentation2D.py:133: FutureWarning: The behavior of DataFrame concatenation with empty or all-NA entries is deprecated. In a future version, this will no longer exclude empty or all-NA columns when determining the result dtypes. To retain the old behavior, exclude the relevant entries before the concat operation.\n",
      "  vert_df.loc[len(vert_df)] = e_dict\n"
     ]
    },
    {
     "data": {
      "application/vnd.jupyter.widget-view+json": {
       "model_id": "6c7ab3807d8840a29001631ca9842dac",
       "version_major": 2,
       "version_minor": 0
      },
      "text/plain": [
       "Vert segmentation:   0%|          | 0/15 [00:00<?, ?it/s]"
      ]
     },
     "metadata": {},
     "output_type": "display_data"
    },
    {
     "name": "stderr",
     "output_type": "stream",
     "text": [
      "/home/u2175049/anaconda3/lib/python3.11/site-packages/CellSeg/segmentation2D.py:133: FutureWarning: The behavior of DataFrame concatenation with empty or all-NA entries is deprecated. In a future version, this will no longer exclude empty or all-NA columns when determining the result dtypes. To retain the old behavior, exclude the relevant entries before the concat operation.\n",
      "  vert_df.loc[len(vert_df)] = e_dict\n",
      "/home/u2175049/anaconda3/lib/python3.11/site-packages/CellSeg/segmentation2D.py:133: FutureWarning: The behavior of DataFrame concatenation with empty or all-NA entries is deprecated. In a future version, this will no longer exclude empty or all-NA columns when determining the result dtypes. To retain the old behavior, exclude the relevant entries before the concat operation.\n",
      "  vert_df.loc[len(vert_df)] = e_dict\n",
      "/home/u2175049/anaconda3/lib/python3.11/site-packages/CellSeg/segmentation2D.py:133: FutureWarning: The behavior of DataFrame concatenation with empty or all-NA entries is deprecated. In a future version, this will no longer exclude empty or all-NA columns when determining the result dtypes. To retain the old behavior, exclude the relevant entries before the concat operation.\n",
      "  vert_df.loc[len(vert_df)] = e_dict\n",
      "/home/u2175049/anaconda3/lib/python3.11/site-packages/CellSeg/segmentation2D.py:133: FutureWarning: The behavior of DataFrame concatenation with empty or all-NA entries is deprecated. In a future version, this will no longer exclude empty or all-NA columns when determining the result dtypes. To retain the old behavior, exclude the relevant entries before the concat operation.\n",
      "  vert_df.loc[len(vert_df)] = e_dict\n",
      "/home/u2175049/anaconda3/lib/python3.11/site-packages/CellSeg/segmentation2D.py:133: FutureWarning: The behavior of DataFrame concatenation with empty or all-NA entries is deprecated. In a future version, this will no longer exclude empty or all-NA columns when determining the result dtypes. To retain the old behavior, exclude the relevant entries before the concat operation.\n",
      "  vert_df.loc[len(vert_df)] = e_dict\n",
      "/home/u2175049/anaconda3/lib/python3.11/site-packages/CellSeg/segmentation2D.py:133: FutureWarning: The behavior of DataFrame concatenation with empty or all-NA entries is deprecated. In a future version, this will no longer exclude empty or all-NA columns when determining the result dtypes. To retain the old behavior, exclude the relevant entries before the concat operation.\n",
      "  vert_df.loc[len(vert_df)] = e_dict\n",
      "/home/u2175049/anaconda3/lib/python3.11/site-packages/CellSeg/segmentation2D.py:133: FutureWarning: The behavior of DataFrame concatenation with empty or all-NA entries is deprecated. In a future version, this will no longer exclude empty or all-NA columns when determining the result dtypes. To retain the old behavior, exclude the relevant entries before the concat operation.\n",
      "  vert_df.loc[len(vert_df)] = e_dict\n",
      "/home/u2175049/anaconda3/lib/python3.11/site-packages/CellSeg/segmentation2D.py:133: FutureWarning: The behavior of DataFrame concatenation with empty or all-NA entries is deprecated. In a future version, this will no longer exclude empty or all-NA columns when determining the result dtypes. To retain the old behavior, exclude the relevant entries before the concat operation.\n",
      "  vert_df.loc[len(vert_df)] = e_dict\n",
      "/home/u2175049/anaconda3/lib/python3.11/site-packages/CellSeg/segmentation2D.py:133: FutureWarning: The behavior of DataFrame concatenation with empty or all-NA entries is deprecated. In a future version, this will no longer exclude empty or all-NA columns when determining the result dtypes. To retain the old behavior, exclude the relevant entries before the concat operation.\n",
      "  vert_df.loc[len(vert_df)] = e_dict\n"
     ]
    },
    {
     "data": {
      "application/vnd.jupyter.widget-view+json": {
       "model_id": "62a97484dd44420e9c96fdd398bf70e3",
       "version_major": 2,
       "version_minor": 0
      },
      "text/plain": [
       "Vert segmentation:   0%|          | 0/10 [00:00<?, ?it/s]"
      ]
     },
     "metadata": {},
     "output_type": "display_data"
    },
    {
     "name": "stderr",
     "output_type": "stream",
     "text": [
      "/home/u2175049/anaconda3/lib/python3.11/site-packages/CellSeg/segmentation2D.py:133: FutureWarning: The behavior of DataFrame concatenation with empty or all-NA entries is deprecated. In a future version, this will no longer exclude empty or all-NA columns when determining the result dtypes. To retain the old behavior, exclude the relevant entries before the concat operation.\n",
      "  vert_df.loc[len(vert_df)] = e_dict\n",
      "/home/u2175049/anaconda3/lib/python3.11/site-packages/CellSeg/segmentation2D.py:133: FutureWarning: The behavior of DataFrame concatenation with empty or all-NA entries is deprecated. In a future version, this will no longer exclude empty or all-NA columns when determining the result dtypes. To retain the old behavior, exclude the relevant entries before the concat operation.\n",
      "  vert_df.loc[len(vert_df)] = e_dict\n",
      "/home/u2175049/anaconda3/lib/python3.11/site-packages/CellSeg/segmentation2D.py:133: FutureWarning: The behavior of DataFrame concatenation with empty or all-NA entries is deprecated. In a future version, this will no longer exclude empty or all-NA columns when determining the result dtypes. To retain the old behavior, exclude the relevant entries before the concat operation.\n",
      "  vert_df.loc[len(vert_df)] = e_dict\n",
      "/home/u2175049/anaconda3/lib/python3.11/site-packages/CellSeg/segmentation2D.py:133: FutureWarning: The behavior of DataFrame concatenation with empty or all-NA entries is deprecated. In a future version, this will no longer exclude empty or all-NA columns when determining the result dtypes. To retain the old behavior, exclude the relevant entries before the concat operation.\n",
      "  vert_df.loc[len(vert_df)] = e_dict\n",
      "/home/u2175049/anaconda3/lib/python3.11/site-packages/CellSeg/segmentation2D.py:133: FutureWarning: The behavior of DataFrame concatenation with empty or all-NA entries is deprecated. In a future version, this will no longer exclude empty or all-NA columns when determining the result dtypes. To retain the old behavior, exclude the relevant entries before the concat operation.\n",
      "  vert_df.loc[len(vert_df)] = e_dict\n"
     ]
    },
    {
     "data": {
      "application/vnd.jupyter.widget-view+json": {
       "model_id": "4bd834cccebe40ecb871d40662c16a08",
       "version_major": 2,
       "version_minor": 0
      },
      "text/plain": [
       "Vert segmentation:   0%|          | 0/21 [00:00<?, ?it/s]"
      ]
     },
     "metadata": {},
     "output_type": "display_data"
    },
    {
     "name": "stderr",
     "output_type": "stream",
     "text": [
      "/home/u2175049/anaconda3/lib/python3.11/site-packages/CellSeg/segmentation2D.py:133: FutureWarning: The behavior of DataFrame concatenation with empty or all-NA entries is deprecated. In a future version, this will no longer exclude empty or all-NA columns when determining the result dtypes. To retain the old behavior, exclude the relevant entries before the concat operation.\n",
      "  vert_df.loc[len(vert_df)] = e_dict\n",
      "/home/u2175049/anaconda3/lib/python3.11/site-packages/CellSeg/segmentation2D.py:133: FutureWarning: The behavior of DataFrame concatenation with empty or all-NA entries is deprecated. In a future version, this will no longer exclude empty or all-NA columns when determining the result dtypes. To retain the old behavior, exclude the relevant entries before the concat operation.\n",
      "  vert_df.loc[len(vert_df)] = e_dict\n",
      "/home/u2175049/anaconda3/lib/python3.11/site-packages/CellSeg/segmentation2D.py:133: FutureWarning: The behavior of DataFrame concatenation with empty or all-NA entries is deprecated. In a future version, this will no longer exclude empty or all-NA columns when determining the result dtypes. To retain the old behavior, exclude the relevant entries before the concat operation.\n",
      "  vert_df.loc[len(vert_df)] = e_dict\n",
      "/home/u2175049/anaconda3/lib/python3.11/site-packages/CellSeg/segmentation2D.py:133: FutureWarning: The behavior of DataFrame concatenation with empty or all-NA entries is deprecated. In a future version, this will no longer exclude empty or all-NA columns when determining the result dtypes. To retain the old behavior, exclude the relevant entries before the concat operation.\n",
      "  vert_df.loc[len(vert_df)] = e_dict\n",
      "/home/u2175049/anaconda3/lib/python3.11/site-packages/CellSeg/segmentation2D.py:133: FutureWarning: The behavior of DataFrame concatenation with empty or all-NA entries is deprecated. In a future version, this will no longer exclude empty or all-NA columns when determining the result dtypes. To retain the old behavior, exclude the relevant entries before the concat operation.\n",
      "  vert_df.loc[len(vert_df)] = e_dict\n",
      "/home/u2175049/anaconda3/lib/python3.11/site-packages/CellSeg/segmentation2D.py:133: FutureWarning: The behavior of DataFrame concatenation with empty or all-NA entries is deprecated. In a future version, this will no longer exclude empty or all-NA columns when determining the result dtypes. To retain the old behavior, exclude the relevant entries before the concat operation.\n",
      "  vert_df.loc[len(vert_df)] = e_dict\n",
      "/home/u2175049/anaconda3/lib/python3.11/site-packages/CellSeg/segmentation2D.py:133: FutureWarning: The behavior of DataFrame concatenation with empty or all-NA entries is deprecated. In a future version, this will no longer exclude empty or all-NA columns when determining the result dtypes. To retain the old behavior, exclude the relevant entries before the concat operation.\n",
      "  vert_df.loc[len(vert_df)] = e_dict\n",
      "/home/u2175049/anaconda3/lib/python3.11/site-packages/CellSeg/segmentation2D.py:133: FutureWarning: The behavior of DataFrame concatenation with empty or all-NA entries is deprecated. In a future version, this will no longer exclude empty or all-NA columns when determining the result dtypes. To retain the old behavior, exclude the relevant entries before the concat operation.\n",
      "  vert_df.loc[len(vert_df)] = e_dict\n",
      "/home/u2175049/anaconda3/lib/python3.11/site-packages/CellSeg/segmentation2D.py:133: FutureWarning: The behavior of DataFrame concatenation with empty or all-NA entries is deprecated. In a future version, this will no longer exclude empty or all-NA columns when determining the result dtypes. To retain the old behavior, exclude the relevant entries before the concat operation.\n",
      "  vert_df.loc[len(vert_df)] = e_dict\n",
      "/home/u2175049/anaconda3/lib/python3.11/site-packages/CellSeg/segmentation2D.py:133: FutureWarning: The behavior of DataFrame concatenation with empty or all-NA entries is deprecated. In a future version, this will no longer exclude empty or all-NA columns when determining the result dtypes. To retain the old behavior, exclude the relevant entries before the concat operation.\n",
      "  vert_df.loc[len(vert_df)] = e_dict\n",
      "/home/u2175049/anaconda3/lib/python3.11/site-packages/CellSeg/segmentation2D.py:133: FutureWarning: The behavior of DataFrame concatenation with empty or all-NA entries is deprecated. In a future version, this will no longer exclude empty or all-NA columns when determining the result dtypes. To retain the old behavior, exclude the relevant entries before the concat operation.\n",
      "  vert_df.loc[len(vert_df)] = e_dict\n",
      "/home/u2175049/anaconda3/lib/python3.11/site-packages/CellSeg/segmentation2D.py:133: FutureWarning: The behavior of DataFrame concatenation with empty or all-NA entries is deprecated. In a future version, this will no longer exclude empty or all-NA columns when determining the result dtypes. To retain the old behavior, exclude the relevant entries before the concat operation.\n",
      "  vert_df.loc[len(vert_df)] = e_dict\n",
      "/home/u2175049/anaconda3/lib/python3.11/site-packages/CellSeg/segmentation2D.py:133: FutureWarning: The behavior of DataFrame concatenation with empty or all-NA entries is deprecated. In a future version, this will no longer exclude empty or all-NA columns when determining the result dtypes. To retain the old behavior, exclude the relevant entries before the concat operation.\n",
      "  vert_df.loc[len(vert_df)] = e_dict\n",
      "/home/u2175049/anaconda3/lib/python3.11/site-packages/CellSeg/segmentation2D.py:133: FutureWarning: The behavior of DataFrame concatenation with empty or all-NA entries is deprecated. In a future version, this will no longer exclude empty or all-NA columns when determining the result dtypes. To retain the old behavior, exclude the relevant entries before the concat operation.\n",
      "  vert_df.loc[len(vert_df)] = e_dict\n"
     ]
    },
    {
     "data": {
      "application/vnd.jupyter.widget-view+json": {
       "model_id": "10d3fe17874240d89f083c0611b485dc",
       "version_major": 2,
       "version_minor": 0
      },
      "text/plain": [
       "Vert segmentation:   0%|          | 0/10 [00:00<?, ?it/s]"
      ]
     },
     "metadata": {},
     "output_type": "display_data"
    },
    {
     "name": "stderr",
     "output_type": "stream",
     "text": [
      "/home/u2175049/anaconda3/lib/python3.11/site-packages/CellSeg/segmentation2D.py:133: FutureWarning: The behavior of DataFrame concatenation with empty or all-NA entries is deprecated. In a future version, this will no longer exclude empty or all-NA columns when determining the result dtypes. To retain the old behavior, exclude the relevant entries before the concat operation.\n",
      "  vert_df.loc[len(vert_df)] = e_dict\n",
      "/home/u2175049/anaconda3/lib/python3.11/site-packages/CellSeg/segmentation2D.py:133: FutureWarning: The behavior of DataFrame concatenation with empty or all-NA entries is deprecated. In a future version, this will no longer exclude empty or all-NA columns when determining the result dtypes. To retain the old behavior, exclude the relevant entries before the concat operation.\n",
      "  vert_df.loc[len(vert_df)] = e_dict\n",
      "/home/u2175049/anaconda3/lib/python3.11/site-packages/CellSeg/segmentation2D.py:133: FutureWarning: The behavior of DataFrame concatenation with empty or all-NA entries is deprecated. In a future version, this will no longer exclude empty or all-NA columns when determining the result dtypes. To retain the old behavior, exclude the relevant entries before the concat operation.\n",
      "  vert_df.loc[len(vert_df)] = e_dict\n",
      "/home/u2175049/anaconda3/lib/python3.11/site-packages/CellSeg/segmentation2D.py:133: FutureWarning: The behavior of DataFrame concatenation with empty or all-NA entries is deprecated. In a future version, this will no longer exclude empty or all-NA columns when determining the result dtypes. To retain the old behavior, exclude the relevant entries before the concat operation.\n",
      "  vert_df.loc[len(vert_df)] = e_dict\n",
      "/home/u2175049/anaconda3/lib/python3.11/site-packages/CellSeg/segmentation2D.py:133: FutureWarning: The behavior of DataFrame concatenation with empty or all-NA entries is deprecated. In a future version, this will no longer exclude empty or all-NA columns when determining the result dtypes. To retain the old behavior, exclude the relevant entries before the concat operation.\n",
      "  vert_df.loc[len(vert_df)] = e_dict\n"
     ]
    },
    {
     "data": {
      "application/vnd.jupyter.widget-view+json": {
       "model_id": "91ad2ddf8b134341a3c16342cc959e57",
       "version_major": 2,
       "version_minor": 0
      },
      "text/plain": [
       "Vert segmentation:   0%|          | 0/10 [00:00<?, ?it/s]"
      ]
     },
     "metadata": {},
     "output_type": "display_data"
    },
    {
     "name": "stderr",
     "output_type": "stream",
     "text": [
      "/home/u2175049/anaconda3/lib/python3.11/site-packages/CellSeg/segmentation2D.py:133: FutureWarning: The behavior of DataFrame concatenation with empty or all-NA entries is deprecated. In a future version, this will no longer exclude empty or all-NA columns when determining the result dtypes. To retain the old behavior, exclude the relevant entries before the concat operation.\n",
      "  vert_df.loc[len(vert_df)] = e_dict\n",
      "/home/u2175049/anaconda3/lib/python3.11/site-packages/CellSeg/segmentation2D.py:133: FutureWarning: The behavior of DataFrame concatenation with empty or all-NA entries is deprecated. In a future version, this will no longer exclude empty or all-NA columns when determining the result dtypes. To retain the old behavior, exclude the relevant entries before the concat operation.\n",
      "  vert_df.loc[len(vert_df)] = e_dict\n",
      "/home/u2175049/anaconda3/lib/python3.11/site-packages/CellSeg/segmentation2D.py:133: FutureWarning: The behavior of DataFrame concatenation with empty or all-NA entries is deprecated. In a future version, this will no longer exclude empty or all-NA columns when determining the result dtypes. To retain the old behavior, exclude the relevant entries before the concat operation.\n",
      "  vert_df.loc[len(vert_df)] = e_dict\n",
      "/home/u2175049/anaconda3/lib/python3.11/site-packages/CellSeg/segmentation2D.py:133: FutureWarning: The behavior of DataFrame concatenation with empty or all-NA entries is deprecated. In a future version, this will no longer exclude empty or all-NA columns when determining the result dtypes. To retain the old behavior, exclude the relevant entries before the concat operation.\n",
      "  vert_df.loc[len(vert_df)] = e_dict\n",
      "/home/u2175049/anaconda3/lib/python3.11/site-packages/CellSeg/segmentation2D.py:133: FutureWarning: The behavior of DataFrame concatenation with empty or all-NA entries is deprecated. In a future version, this will no longer exclude empty or all-NA columns when determining the result dtypes. To retain the old behavior, exclude the relevant entries before the concat operation.\n",
      "  vert_df.loc[len(vert_df)] = e_dict\n"
     ]
    },
    {
     "data": {
      "application/vnd.jupyter.widget-view+json": {
       "model_id": "63be4fad3749451384735ba9ee79aaea",
       "version_major": 2,
       "version_minor": 0
      },
      "text/plain": [
       "Vert segmentation:   0%|          | 0/6 [00:00<?, ?it/s]"
      ]
     },
     "metadata": {},
     "output_type": "display_data"
    },
    {
     "name": "stderr",
     "output_type": "stream",
     "text": [
      "/home/u2175049/anaconda3/lib/python3.11/site-packages/CellSeg/segmentation2D.py:133: FutureWarning: The behavior of DataFrame concatenation with empty or all-NA entries is deprecated. In a future version, this will no longer exclude empty or all-NA columns when determining the result dtypes. To retain the old behavior, exclude the relevant entries before the concat operation.\n",
      "  vert_df.loc[len(vert_df)] = e_dict\n",
      "/home/u2175049/anaconda3/lib/python3.11/site-packages/CellSeg/segmentation2D.py:133: FutureWarning: The behavior of DataFrame concatenation with empty or all-NA entries is deprecated. In a future version, this will no longer exclude empty or all-NA columns when determining the result dtypes. To retain the old behavior, exclude the relevant entries before the concat operation.\n",
      "  vert_df.loc[len(vert_df)] = e_dict\n"
     ]
    },
    {
     "data": {
      "application/vnd.jupyter.widget-view+json": {
       "model_id": "98d5e80b1f074aeebd36232eec580a6a",
       "version_major": 2,
       "version_minor": 0
      },
      "text/plain": [
       "Vert segmentation:   0%|          | 0/10 [00:00<?, ?it/s]"
      ]
     },
     "metadata": {},
     "output_type": "display_data"
    },
    {
     "name": "stderr",
     "output_type": "stream",
     "text": [
      "/home/u2175049/anaconda3/lib/python3.11/site-packages/CellSeg/segmentation2D.py:133: FutureWarning: The behavior of DataFrame concatenation with empty or all-NA entries is deprecated. In a future version, this will no longer exclude empty or all-NA columns when determining the result dtypes. To retain the old behavior, exclude the relevant entries before the concat operation.\n",
      "  vert_df.loc[len(vert_df)] = e_dict\n",
      "/home/u2175049/anaconda3/lib/python3.11/site-packages/CellSeg/segmentation2D.py:133: FutureWarning: The behavior of DataFrame concatenation with empty or all-NA entries is deprecated. In a future version, this will no longer exclude empty or all-NA columns when determining the result dtypes. To retain the old behavior, exclude the relevant entries before the concat operation.\n",
      "  vert_df.loc[len(vert_df)] = e_dict\n",
      "/home/u2175049/anaconda3/lib/python3.11/site-packages/CellSeg/segmentation2D.py:133: FutureWarning: The behavior of DataFrame concatenation with empty or all-NA entries is deprecated. In a future version, this will no longer exclude empty or all-NA columns when determining the result dtypes. To retain the old behavior, exclude the relevant entries before the concat operation.\n",
      "  vert_df.loc[len(vert_df)] = e_dict\n",
      "/home/u2175049/anaconda3/lib/python3.11/site-packages/CellSeg/segmentation2D.py:133: FutureWarning: The behavior of DataFrame concatenation with empty or all-NA entries is deprecated. In a future version, this will no longer exclude empty or all-NA columns when determining the result dtypes. To retain the old behavior, exclude the relevant entries before the concat operation.\n",
      "  vert_df.loc[len(vert_df)] = e_dict\n",
      "/home/u2175049/anaconda3/lib/python3.11/site-packages/CellSeg/segmentation2D.py:133: FutureWarning: The behavior of DataFrame concatenation with empty or all-NA entries is deprecated. In a future version, this will no longer exclude empty or all-NA columns when determining the result dtypes. To retain the old behavior, exclude the relevant entries before the concat operation.\n",
      "  vert_df.loc[len(vert_df)] = e_dict\n"
     ]
    },
    {
     "data": {
      "application/vnd.jupyter.widget-view+json": {
       "model_id": "849b40b055404cf3aaffaaf04553ac19",
       "version_major": 2,
       "version_minor": 0
      },
      "text/plain": [
       "Vert segmentation:   0%|          | 0/6 [00:00<?, ?it/s]"
      ]
     },
     "metadata": {},
     "output_type": "display_data"
    },
    {
     "name": "stderr",
     "output_type": "stream",
     "text": [
      "/home/u2175049/anaconda3/lib/python3.11/site-packages/CellSeg/segmentation2D.py:133: FutureWarning: The behavior of DataFrame concatenation with empty or all-NA entries is deprecated. In a future version, this will no longer exclude empty or all-NA columns when determining the result dtypes. To retain the old behavior, exclude the relevant entries before the concat operation.\n",
      "  vert_df.loc[len(vert_df)] = e_dict\n",
      "/home/u2175049/anaconda3/lib/python3.11/site-packages/CellSeg/segmentation2D.py:133: FutureWarning: The behavior of DataFrame concatenation with empty or all-NA entries is deprecated. In a future version, this will no longer exclude empty or all-NA columns when determining the result dtypes. To retain the old behavior, exclude the relevant entries before the concat operation.\n",
      "  vert_df.loc[len(vert_df)] = e_dict\n"
     ]
    },
    {
     "data": {
      "application/vnd.jupyter.widget-view+json": {
       "model_id": "b3fdd7e993264daf9896375d92b5c59e",
       "version_major": 2,
       "version_minor": 0
      },
      "text/plain": [
       "Vert segmentation:   0%|          | 0/15 [00:00<?, ?it/s]"
      ]
     },
     "metadata": {},
     "output_type": "display_data"
    },
    {
     "name": "stderr",
     "output_type": "stream",
     "text": [
      "/home/u2175049/anaconda3/lib/python3.11/site-packages/CellSeg/segmentation2D.py:133: FutureWarning: The behavior of DataFrame concatenation with empty or all-NA entries is deprecated. In a future version, this will no longer exclude empty or all-NA columns when determining the result dtypes. To retain the old behavior, exclude the relevant entries before the concat operation.\n",
      "  vert_df.loc[len(vert_df)] = e_dict\n",
      "/home/u2175049/anaconda3/lib/python3.11/site-packages/CellSeg/segmentation2D.py:133: FutureWarning: The behavior of DataFrame concatenation with empty or all-NA entries is deprecated. In a future version, this will no longer exclude empty or all-NA columns when determining the result dtypes. To retain the old behavior, exclude the relevant entries before the concat operation.\n",
      "  vert_df.loc[len(vert_df)] = e_dict\n",
      "/home/u2175049/anaconda3/lib/python3.11/site-packages/CellSeg/segmentation2D.py:133: FutureWarning: The behavior of DataFrame concatenation with empty or all-NA entries is deprecated. In a future version, this will no longer exclude empty or all-NA columns when determining the result dtypes. To retain the old behavior, exclude the relevant entries before the concat operation.\n",
      "  vert_df.loc[len(vert_df)] = e_dict\n",
      "/home/u2175049/anaconda3/lib/python3.11/site-packages/CellSeg/segmentation2D.py:133: FutureWarning: The behavior of DataFrame concatenation with empty or all-NA entries is deprecated. In a future version, this will no longer exclude empty or all-NA columns when determining the result dtypes. To retain the old behavior, exclude the relevant entries before the concat operation.\n",
      "  vert_df.loc[len(vert_df)] = e_dict\n",
      "/home/u2175049/anaconda3/lib/python3.11/site-packages/CellSeg/segmentation2D.py:133: FutureWarning: The behavior of DataFrame concatenation with empty or all-NA entries is deprecated. In a future version, this will no longer exclude empty or all-NA columns when determining the result dtypes. To retain the old behavior, exclude the relevant entries before the concat operation.\n",
      "  vert_df.loc[len(vert_df)] = e_dict\n",
      "/home/u2175049/anaconda3/lib/python3.11/site-packages/CellSeg/segmentation2D.py:133: FutureWarning: The behavior of DataFrame concatenation with empty or all-NA entries is deprecated. In a future version, this will no longer exclude empty or all-NA columns when determining the result dtypes. To retain the old behavior, exclude the relevant entries before the concat operation.\n",
      "  vert_df.loc[len(vert_df)] = e_dict\n",
      "/home/u2175049/anaconda3/lib/python3.11/site-packages/CellSeg/segmentation2D.py:133: FutureWarning: The behavior of DataFrame concatenation with empty or all-NA entries is deprecated. In a future version, this will no longer exclude empty or all-NA columns when determining the result dtypes. To retain the old behavior, exclude the relevant entries before the concat operation.\n",
      "  vert_df.loc[len(vert_df)] = e_dict\n",
      "/home/u2175049/anaconda3/lib/python3.11/site-packages/CellSeg/segmentation2D.py:133: FutureWarning: The behavior of DataFrame concatenation with empty or all-NA entries is deprecated. In a future version, this will no longer exclude empty or all-NA columns when determining the result dtypes. To retain the old behavior, exclude the relevant entries before the concat operation.\n",
      "  vert_df.loc[len(vert_df)] = e_dict\n",
      "/home/u2175049/anaconda3/lib/python3.11/site-packages/CellSeg/segmentation2D.py:133: FutureWarning: The behavior of DataFrame concatenation with empty or all-NA entries is deprecated. In a future version, this will no longer exclude empty or all-NA columns when determining the result dtypes. To retain the old behavior, exclude the relevant entries before the concat operation.\n",
      "  vert_df.loc[len(vert_df)] = e_dict\n"
     ]
    },
    {
     "data": {
      "application/vnd.jupyter.widget-view+json": {
       "model_id": "3e1e7e4a2a3b41ebad218ede81a39483",
       "version_major": 2,
       "version_minor": 0
      },
      "text/plain": [
       "Vert segmentation:   0%|          | 0/21 [00:00<?, ?it/s]"
      ]
     },
     "metadata": {},
     "output_type": "display_data"
    },
    {
     "name": "stderr",
     "output_type": "stream",
     "text": [
      "/home/u2175049/anaconda3/lib/python3.11/site-packages/CellSeg/segmentation2D.py:133: FutureWarning: The behavior of DataFrame concatenation with empty or all-NA entries is deprecated. In a future version, this will no longer exclude empty or all-NA columns when determining the result dtypes. To retain the old behavior, exclude the relevant entries before the concat operation.\n",
      "  vert_df.loc[len(vert_df)] = e_dict\n",
      "/home/u2175049/anaconda3/lib/python3.11/site-packages/CellSeg/segmentation2D.py:133: FutureWarning: The behavior of DataFrame concatenation with empty or all-NA entries is deprecated. In a future version, this will no longer exclude empty or all-NA columns when determining the result dtypes. To retain the old behavior, exclude the relevant entries before the concat operation.\n",
      "  vert_df.loc[len(vert_df)] = e_dict\n",
      "/home/u2175049/anaconda3/lib/python3.11/site-packages/CellSeg/segmentation2D.py:133: FutureWarning: The behavior of DataFrame concatenation with empty or all-NA entries is deprecated. In a future version, this will no longer exclude empty or all-NA columns when determining the result dtypes. To retain the old behavior, exclude the relevant entries before the concat operation.\n",
      "  vert_df.loc[len(vert_df)] = e_dict\n",
      "/home/u2175049/anaconda3/lib/python3.11/site-packages/CellSeg/segmentation2D.py:133: FutureWarning: The behavior of DataFrame concatenation with empty or all-NA entries is deprecated. In a future version, this will no longer exclude empty or all-NA columns when determining the result dtypes. To retain the old behavior, exclude the relevant entries before the concat operation.\n",
      "  vert_df.loc[len(vert_df)] = e_dict\n",
      "/home/u2175049/anaconda3/lib/python3.11/site-packages/CellSeg/segmentation2D.py:133: FutureWarning: The behavior of DataFrame concatenation with empty or all-NA entries is deprecated. In a future version, this will no longer exclude empty or all-NA columns when determining the result dtypes. To retain the old behavior, exclude the relevant entries before the concat operation.\n",
      "  vert_df.loc[len(vert_df)] = e_dict\n",
      "/home/u2175049/anaconda3/lib/python3.11/site-packages/CellSeg/segmentation2D.py:133: FutureWarning: The behavior of DataFrame concatenation with empty or all-NA entries is deprecated. In a future version, this will no longer exclude empty or all-NA columns when determining the result dtypes. To retain the old behavior, exclude the relevant entries before the concat operation.\n",
      "  vert_df.loc[len(vert_df)] = e_dict\n",
      "/home/u2175049/anaconda3/lib/python3.11/site-packages/CellSeg/segmentation2D.py:133: FutureWarning: The behavior of DataFrame concatenation with empty or all-NA entries is deprecated. In a future version, this will no longer exclude empty or all-NA columns when determining the result dtypes. To retain the old behavior, exclude the relevant entries before the concat operation.\n",
      "  vert_df.loc[len(vert_df)] = e_dict\n",
      "/home/u2175049/anaconda3/lib/python3.11/site-packages/CellSeg/segmentation2D.py:133: FutureWarning: The behavior of DataFrame concatenation with empty or all-NA entries is deprecated. In a future version, this will no longer exclude empty or all-NA columns when determining the result dtypes. To retain the old behavior, exclude the relevant entries before the concat operation.\n",
      "  vert_df.loc[len(vert_df)] = e_dict\n",
      "/home/u2175049/anaconda3/lib/python3.11/site-packages/CellSeg/segmentation2D.py:133: FutureWarning: The behavior of DataFrame concatenation with empty or all-NA entries is deprecated. In a future version, this will no longer exclude empty or all-NA columns when determining the result dtypes. To retain the old behavior, exclude the relevant entries before the concat operation.\n",
      "  vert_df.loc[len(vert_df)] = e_dict\n",
      "/home/u2175049/anaconda3/lib/python3.11/site-packages/CellSeg/segmentation2D.py:133: FutureWarning: The behavior of DataFrame concatenation with empty or all-NA entries is deprecated. In a future version, this will no longer exclude empty or all-NA columns when determining the result dtypes. To retain the old behavior, exclude the relevant entries before the concat operation.\n",
      "  vert_df.loc[len(vert_df)] = e_dict\n",
      "/home/u2175049/anaconda3/lib/python3.11/site-packages/CellSeg/segmentation2D.py:133: FutureWarning: The behavior of DataFrame concatenation with empty or all-NA entries is deprecated. In a future version, this will no longer exclude empty or all-NA columns when determining the result dtypes. To retain the old behavior, exclude the relevant entries before the concat operation.\n",
      "  vert_df.loc[len(vert_df)] = e_dict\n",
      "/home/u2175049/anaconda3/lib/python3.11/site-packages/CellSeg/segmentation2D.py:133: FutureWarning: The behavior of DataFrame concatenation with empty or all-NA entries is deprecated. In a future version, this will no longer exclude empty or all-NA columns when determining the result dtypes. To retain the old behavior, exclude the relevant entries before the concat operation.\n",
      "  vert_df.loc[len(vert_df)] = e_dict\n",
      "/home/u2175049/anaconda3/lib/python3.11/site-packages/CellSeg/segmentation2D.py:133: FutureWarning: The behavior of DataFrame concatenation with empty or all-NA entries is deprecated. In a future version, this will no longer exclude empty or all-NA columns when determining the result dtypes. To retain the old behavior, exclude the relevant entries before the concat operation.\n",
      "  vert_df.loc[len(vert_df)] = e_dict\n"
     ]
    },
    {
     "data": {
      "application/vnd.jupyter.widget-view+json": {
       "model_id": "7b17dbad75e94f48b86fe72fc82585f8",
       "version_major": 2,
       "version_minor": 0
      },
      "text/plain": [
       "Vert segmentation:   0%|          | 0/10 [00:00<?, ?it/s]"
      ]
     },
     "metadata": {},
     "output_type": "display_data"
    },
    {
     "name": "stderr",
     "output_type": "stream",
     "text": [
      "/home/u2175049/anaconda3/lib/python3.11/site-packages/CellSeg/segmentation2D.py:133: FutureWarning: The behavior of DataFrame concatenation with empty or all-NA entries is deprecated. In a future version, this will no longer exclude empty or all-NA columns when determining the result dtypes. To retain the old behavior, exclude the relevant entries before the concat operation.\n",
      "  vert_df.loc[len(vert_df)] = e_dict\n",
      "/home/u2175049/anaconda3/lib/python3.11/site-packages/CellSeg/segmentation2D.py:133: FutureWarning: The behavior of DataFrame concatenation with empty or all-NA entries is deprecated. In a future version, this will no longer exclude empty or all-NA columns when determining the result dtypes. To retain the old behavior, exclude the relevant entries before the concat operation.\n",
      "  vert_df.loc[len(vert_df)] = e_dict\n",
      "/home/u2175049/anaconda3/lib/python3.11/site-packages/CellSeg/segmentation2D.py:133: FutureWarning: The behavior of DataFrame concatenation with empty or all-NA entries is deprecated. In a future version, this will no longer exclude empty or all-NA columns when determining the result dtypes. To retain the old behavior, exclude the relevant entries before the concat operation.\n",
      "  vert_df.loc[len(vert_df)] = e_dict\n",
      "/home/u2175049/anaconda3/lib/python3.11/site-packages/CellSeg/segmentation2D.py:133: FutureWarning: The behavior of DataFrame concatenation with empty or all-NA entries is deprecated. In a future version, this will no longer exclude empty or all-NA columns when determining the result dtypes. To retain the old behavior, exclude the relevant entries before the concat operation.\n",
      "  vert_df.loc[len(vert_df)] = e_dict\n"
     ]
    },
    {
     "data": {
      "application/vnd.jupyter.widget-view+json": {
       "model_id": "e639280732ac41de91a3858be12be654",
       "version_major": 2,
       "version_minor": 0
      },
      "text/plain": [
       "Vert segmentation:   0%|          | 0/21 [00:00<?, ?it/s]"
      ]
     },
     "metadata": {},
     "output_type": "display_data"
    },
    {
     "name": "stderr",
     "output_type": "stream",
     "text": [
      "/home/u2175049/anaconda3/lib/python3.11/site-packages/CellSeg/segmentation2D.py:133: FutureWarning: The behavior of DataFrame concatenation with empty or all-NA entries is deprecated. In a future version, this will no longer exclude empty or all-NA columns when determining the result dtypes. To retain the old behavior, exclude the relevant entries before the concat operation.\n",
      "  vert_df.loc[len(vert_df)] = e_dict\n",
      "/home/u2175049/anaconda3/lib/python3.11/site-packages/CellSeg/segmentation2D.py:133: FutureWarning: The behavior of DataFrame concatenation with empty or all-NA entries is deprecated. In a future version, this will no longer exclude empty or all-NA columns when determining the result dtypes. To retain the old behavior, exclude the relevant entries before the concat operation.\n",
      "  vert_df.loc[len(vert_df)] = e_dict\n",
      "/home/u2175049/anaconda3/lib/python3.11/site-packages/CellSeg/segmentation2D.py:133: FutureWarning: The behavior of DataFrame concatenation with empty or all-NA entries is deprecated. In a future version, this will no longer exclude empty or all-NA columns when determining the result dtypes. To retain the old behavior, exclude the relevant entries before the concat operation.\n",
      "  vert_df.loc[len(vert_df)] = e_dict\n",
      "/home/u2175049/anaconda3/lib/python3.11/site-packages/CellSeg/segmentation2D.py:133: FutureWarning: The behavior of DataFrame concatenation with empty or all-NA entries is deprecated. In a future version, this will no longer exclude empty or all-NA columns when determining the result dtypes. To retain the old behavior, exclude the relevant entries before the concat operation.\n",
      "  vert_df.loc[len(vert_df)] = e_dict\n",
      "/home/u2175049/anaconda3/lib/python3.11/site-packages/CellSeg/segmentation2D.py:133: FutureWarning: The behavior of DataFrame concatenation with empty or all-NA entries is deprecated. In a future version, this will no longer exclude empty or all-NA columns when determining the result dtypes. To retain the old behavior, exclude the relevant entries before the concat operation.\n",
      "  vert_df.loc[len(vert_df)] = e_dict\n",
      "/home/u2175049/anaconda3/lib/python3.11/site-packages/CellSeg/segmentation2D.py:133: FutureWarning: The behavior of DataFrame concatenation with empty or all-NA entries is deprecated. In a future version, this will no longer exclude empty or all-NA columns when determining the result dtypes. To retain the old behavior, exclude the relevant entries before the concat operation.\n",
      "  vert_df.loc[len(vert_df)] = e_dict\n",
      "/home/u2175049/anaconda3/lib/python3.11/site-packages/CellSeg/segmentation2D.py:133: FutureWarning: The behavior of DataFrame concatenation with empty or all-NA entries is deprecated. In a future version, this will no longer exclude empty or all-NA columns when determining the result dtypes. To retain the old behavior, exclude the relevant entries before the concat operation.\n",
      "  vert_df.loc[len(vert_df)] = e_dict\n",
      "/home/u2175049/anaconda3/lib/python3.11/site-packages/CellSeg/segmentation2D.py:133: FutureWarning: The behavior of DataFrame concatenation with empty or all-NA entries is deprecated. In a future version, this will no longer exclude empty or all-NA columns when determining the result dtypes. To retain the old behavior, exclude the relevant entries before the concat operation.\n",
      "  vert_df.loc[len(vert_df)] = e_dict\n",
      "/home/u2175049/anaconda3/lib/python3.11/site-packages/CellSeg/segmentation2D.py:133: FutureWarning: The behavior of DataFrame concatenation with empty or all-NA entries is deprecated. In a future version, this will no longer exclude empty or all-NA columns when determining the result dtypes. To retain the old behavior, exclude the relevant entries before the concat operation.\n",
      "  vert_df.loc[len(vert_df)] = e_dict\n",
      "/home/u2175049/anaconda3/lib/python3.11/site-packages/CellSeg/segmentation2D.py:133: FutureWarning: The behavior of DataFrame concatenation with empty or all-NA entries is deprecated. In a future version, this will no longer exclude empty or all-NA columns when determining the result dtypes. To retain the old behavior, exclude the relevant entries before the concat operation.\n",
      "  vert_df.loc[len(vert_df)] = e_dict\n",
      "/home/u2175049/anaconda3/lib/python3.11/site-packages/CellSeg/segmentation2D.py:133: FutureWarning: The behavior of DataFrame concatenation with empty or all-NA entries is deprecated. In a future version, this will no longer exclude empty or all-NA columns when determining the result dtypes. To retain the old behavior, exclude the relevant entries before the concat operation.\n",
      "  vert_df.loc[len(vert_df)] = e_dict\n",
      "/home/u2175049/anaconda3/lib/python3.11/site-packages/CellSeg/segmentation2D.py:133: FutureWarning: The behavior of DataFrame concatenation with empty or all-NA entries is deprecated. In a future version, this will no longer exclude empty or all-NA columns when determining the result dtypes. To retain the old behavior, exclude the relevant entries before the concat operation.\n",
      "  vert_df.loc[len(vert_df)] = e_dict\n"
     ]
    },
    {
     "data": {
      "application/vnd.jupyter.widget-view+json": {
       "model_id": "8e73ef65cead4b3fbaa8f9e00d582ce3",
       "version_major": 2,
       "version_minor": 0
      },
      "text/plain": [
       "Vert segmentation:   0%|          | 0/21 [00:00<?, ?it/s]"
      ]
     },
     "metadata": {},
     "output_type": "display_data"
    },
    {
     "name": "stderr",
     "output_type": "stream",
     "text": [
      "/home/u2175049/anaconda3/lib/python3.11/site-packages/CellSeg/segmentation2D.py:133: FutureWarning: The behavior of DataFrame concatenation with empty or all-NA entries is deprecated. In a future version, this will no longer exclude empty or all-NA columns when determining the result dtypes. To retain the old behavior, exclude the relevant entries before the concat operation.\n",
      "  vert_df.loc[len(vert_df)] = e_dict\n",
      "/home/u2175049/anaconda3/lib/python3.11/site-packages/CellSeg/segmentation2D.py:133: FutureWarning: The behavior of DataFrame concatenation with empty or all-NA entries is deprecated. In a future version, this will no longer exclude empty or all-NA columns when determining the result dtypes. To retain the old behavior, exclude the relevant entries before the concat operation.\n",
      "  vert_df.loc[len(vert_df)] = e_dict\n",
      "/home/u2175049/anaconda3/lib/python3.11/site-packages/CellSeg/segmentation2D.py:133: FutureWarning: The behavior of DataFrame concatenation with empty or all-NA entries is deprecated. In a future version, this will no longer exclude empty or all-NA columns when determining the result dtypes. To retain the old behavior, exclude the relevant entries before the concat operation.\n",
      "  vert_df.loc[len(vert_df)] = e_dict\n",
      "/home/u2175049/anaconda3/lib/python3.11/site-packages/CellSeg/segmentation2D.py:133: FutureWarning: The behavior of DataFrame concatenation with empty or all-NA entries is deprecated. In a future version, this will no longer exclude empty or all-NA columns when determining the result dtypes. To retain the old behavior, exclude the relevant entries before the concat operation.\n",
      "  vert_df.loc[len(vert_df)] = e_dict\n",
      "/home/u2175049/anaconda3/lib/python3.11/site-packages/CellSeg/segmentation2D.py:133: FutureWarning: The behavior of DataFrame concatenation with empty or all-NA entries is deprecated. In a future version, this will no longer exclude empty or all-NA columns when determining the result dtypes. To retain the old behavior, exclude the relevant entries before the concat operation.\n",
      "  vert_df.loc[len(vert_df)] = e_dict\n",
      "/home/u2175049/anaconda3/lib/python3.11/site-packages/CellSeg/segmentation2D.py:133: FutureWarning: The behavior of DataFrame concatenation with empty or all-NA entries is deprecated. In a future version, this will no longer exclude empty or all-NA columns when determining the result dtypes. To retain the old behavior, exclude the relevant entries before the concat operation.\n",
      "  vert_df.loc[len(vert_df)] = e_dict\n",
      "/home/u2175049/anaconda3/lib/python3.11/site-packages/CellSeg/segmentation2D.py:133: FutureWarning: The behavior of DataFrame concatenation with empty or all-NA entries is deprecated. In a future version, this will no longer exclude empty or all-NA columns when determining the result dtypes. To retain the old behavior, exclude the relevant entries before the concat operation.\n",
      "  vert_df.loc[len(vert_df)] = e_dict\n",
      "/home/u2175049/anaconda3/lib/python3.11/site-packages/CellSeg/segmentation2D.py:133: FutureWarning: The behavior of DataFrame concatenation with empty or all-NA entries is deprecated. In a future version, this will no longer exclude empty or all-NA columns when determining the result dtypes. To retain the old behavior, exclude the relevant entries before the concat operation.\n",
      "  vert_df.loc[len(vert_df)] = e_dict\n",
      "/home/u2175049/anaconda3/lib/python3.11/site-packages/CellSeg/segmentation2D.py:133: FutureWarning: The behavior of DataFrame concatenation with empty or all-NA entries is deprecated. In a future version, this will no longer exclude empty or all-NA columns when determining the result dtypes. To retain the old behavior, exclude the relevant entries before the concat operation.\n",
      "  vert_df.loc[len(vert_df)] = e_dict\n",
      "/home/u2175049/anaconda3/lib/python3.11/site-packages/CellSeg/segmentation2D.py:133: FutureWarning: The behavior of DataFrame concatenation with empty or all-NA entries is deprecated. In a future version, this will no longer exclude empty or all-NA columns when determining the result dtypes. To retain the old behavior, exclude the relevant entries before the concat operation.\n",
      "  vert_df.loc[len(vert_df)] = e_dict\n",
      "/home/u2175049/anaconda3/lib/python3.11/site-packages/CellSeg/segmentation2D.py:133: FutureWarning: The behavior of DataFrame concatenation with empty or all-NA entries is deprecated. In a future version, this will no longer exclude empty or all-NA columns when determining the result dtypes. To retain the old behavior, exclude the relevant entries before the concat operation.\n",
      "  vert_df.loc[len(vert_df)] = e_dict\n",
      "/home/u2175049/anaconda3/lib/python3.11/site-packages/CellSeg/segmentation2D.py:133: FutureWarning: The behavior of DataFrame concatenation with empty or all-NA entries is deprecated. In a future version, this will no longer exclude empty or all-NA columns when determining the result dtypes. To retain the old behavior, exclude the relevant entries before the concat operation.\n",
      "  vert_df.loc[len(vert_df)] = e_dict\n",
      "/home/u2175049/anaconda3/lib/python3.11/site-packages/CellSeg/segmentation2D.py:133: FutureWarning: The behavior of DataFrame concatenation with empty or all-NA entries is deprecated. In a future version, this will no longer exclude empty or all-NA columns when determining the result dtypes. To retain the old behavior, exclude the relevant entries before the concat operation.\n",
      "  vert_df.loc[len(vert_df)] = e_dict\n"
     ]
    },
    {
     "data": {
      "application/vnd.jupyter.widget-view+json": {
       "model_id": "de1c0c5feeaa4e9f84e2c4adf758c16b",
       "version_major": 2,
       "version_minor": 0
      },
      "text/plain": [
       "Vert segmentation:   0%|          | 0/10 [00:00<?, ?it/s]"
      ]
     },
     "metadata": {},
     "output_type": "display_data"
    },
    {
     "name": "stderr",
     "output_type": "stream",
     "text": [
      "/home/u2175049/anaconda3/lib/python3.11/site-packages/CellSeg/segmentation2D.py:133: FutureWarning: The behavior of DataFrame concatenation with empty or all-NA entries is deprecated. In a future version, this will no longer exclude empty or all-NA columns when determining the result dtypes. To retain the old behavior, exclude the relevant entries before the concat operation.\n",
      "  vert_df.loc[len(vert_df)] = e_dict\n",
      "/home/u2175049/anaconda3/lib/python3.11/site-packages/CellSeg/segmentation2D.py:133: FutureWarning: The behavior of DataFrame concatenation with empty or all-NA entries is deprecated. In a future version, this will no longer exclude empty or all-NA columns when determining the result dtypes. To retain the old behavior, exclude the relevant entries before the concat operation.\n",
      "  vert_df.loc[len(vert_df)] = e_dict\n",
      "/home/u2175049/anaconda3/lib/python3.11/site-packages/CellSeg/segmentation2D.py:133: FutureWarning: The behavior of DataFrame concatenation with empty or all-NA entries is deprecated. In a future version, this will no longer exclude empty or all-NA columns when determining the result dtypes. To retain the old behavior, exclude the relevant entries before the concat operation.\n",
      "  vert_df.loc[len(vert_df)] = e_dict\n",
      "/home/u2175049/anaconda3/lib/python3.11/site-packages/CellSeg/segmentation2D.py:133: FutureWarning: The behavior of DataFrame concatenation with empty or all-NA entries is deprecated. In a future version, this will no longer exclude empty or all-NA columns when determining the result dtypes. To retain the old behavior, exclude the relevant entries before the concat operation.\n",
      "  vert_df.loc[len(vert_df)] = e_dict\n",
      "/home/u2175049/anaconda3/lib/python3.11/site-packages/CellSeg/segmentation2D.py:133: FutureWarning: The behavior of DataFrame concatenation with empty or all-NA entries is deprecated. In a future version, this will no longer exclude empty or all-NA columns when determining the result dtypes. To retain the old behavior, exclude the relevant entries before the concat operation.\n",
      "  vert_df.loc[len(vert_df)] = e_dict\n",
      "/home/u2175049/anaconda3/lib/python3.11/site-packages/CellSeg/segmentation2D.py:133: FutureWarning: The behavior of DataFrame concatenation with empty or all-NA entries is deprecated. In a future version, this will no longer exclude empty or all-NA columns when determining the result dtypes. To retain the old behavior, exclude the relevant entries before the concat operation.\n",
      "  vert_df.loc[len(vert_df)] = e_dict\n"
     ]
    },
    {
     "data": {
      "application/vnd.jupyter.widget-view+json": {
       "model_id": "824513f1d1e9459e9ce337f350197121",
       "version_major": 2,
       "version_minor": 0
      },
      "text/plain": [
       "Vert segmentation:   0%|          | 0/15 [00:00<?, ?it/s]"
      ]
     },
     "metadata": {},
     "output_type": "display_data"
    },
    {
     "name": "stderr",
     "output_type": "stream",
     "text": [
      "/home/u2175049/anaconda3/lib/python3.11/site-packages/CellSeg/segmentation2D.py:133: FutureWarning: The behavior of DataFrame concatenation with empty or all-NA entries is deprecated. In a future version, this will no longer exclude empty or all-NA columns when determining the result dtypes. To retain the old behavior, exclude the relevant entries before the concat operation.\n",
      "  vert_df.loc[len(vert_df)] = e_dict\n",
      "/home/u2175049/anaconda3/lib/python3.11/site-packages/CellSeg/segmentation2D.py:133: FutureWarning: The behavior of DataFrame concatenation with empty or all-NA entries is deprecated. In a future version, this will no longer exclude empty or all-NA columns when determining the result dtypes. To retain the old behavior, exclude the relevant entries before the concat operation.\n",
      "  vert_df.loc[len(vert_df)] = e_dict\n",
      "/home/u2175049/anaconda3/lib/python3.11/site-packages/CellSeg/segmentation2D.py:133: FutureWarning: The behavior of DataFrame concatenation with empty or all-NA entries is deprecated. In a future version, this will no longer exclude empty or all-NA columns when determining the result dtypes. To retain the old behavior, exclude the relevant entries before the concat operation.\n",
      "  vert_df.loc[len(vert_df)] = e_dict\n",
      "/home/u2175049/anaconda3/lib/python3.11/site-packages/CellSeg/segmentation2D.py:133: FutureWarning: The behavior of DataFrame concatenation with empty or all-NA entries is deprecated. In a future version, this will no longer exclude empty or all-NA columns when determining the result dtypes. To retain the old behavior, exclude the relevant entries before the concat operation.\n",
      "  vert_df.loc[len(vert_df)] = e_dict\n",
      "/home/u2175049/anaconda3/lib/python3.11/site-packages/CellSeg/segmentation2D.py:133: FutureWarning: The behavior of DataFrame concatenation with empty or all-NA entries is deprecated. In a future version, this will no longer exclude empty or all-NA columns when determining the result dtypes. To retain the old behavior, exclude the relevant entries before the concat operation.\n",
      "  vert_df.loc[len(vert_df)] = e_dict\n",
      "/home/u2175049/anaconda3/lib/python3.11/site-packages/CellSeg/segmentation2D.py:133: FutureWarning: The behavior of DataFrame concatenation with empty or all-NA entries is deprecated. In a future version, this will no longer exclude empty or all-NA columns when determining the result dtypes. To retain the old behavior, exclude the relevant entries before the concat operation.\n",
      "  vert_df.loc[len(vert_df)] = e_dict\n",
      "/home/u2175049/anaconda3/lib/python3.11/site-packages/CellSeg/segmentation2D.py:133: FutureWarning: The behavior of DataFrame concatenation with empty or all-NA entries is deprecated. In a future version, this will no longer exclude empty or all-NA columns when determining the result dtypes. To retain the old behavior, exclude the relevant entries before the concat operation.\n",
      "  vert_df.loc[len(vert_df)] = e_dict\n",
      "/home/u2175049/anaconda3/lib/python3.11/site-packages/CellSeg/segmentation2D.py:133: FutureWarning: The behavior of DataFrame concatenation with empty or all-NA entries is deprecated. In a future version, this will no longer exclude empty or all-NA columns when determining the result dtypes. To retain the old behavior, exclude the relevant entries before the concat operation.\n",
      "  vert_df.loc[len(vert_df)] = e_dict\n"
     ]
    },
    {
     "data": {
      "application/vnd.jupyter.widget-view+json": {
       "model_id": "59b0fcda486a495f910e4976881edb9f",
       "version_major": 2,
       "version_minor": 0
      },
      "text/plain": [
       "Vert segmentation:   0%|          | 0/15 [00:00<?, ?it/s]"
      ]
     },
     "metadata": {},
     "output_type": "display_data"
    },
    {
     "name": "stderr",
     "output_type": "stream",
     "text": [
      "/home/u2175049/anaconda3/lib/python3.11/site-packages/CellSeg/segmentation2D.py:133: FutureWarning: The behavior of DataFrame concatenation with empty or all-NA entries is deprecated. In a future version, this will no longer exclude empty or all-NA columns when determining the result dtypes. To retain the old behavior, exclude the relevant entries before the concat operation.\n",
      "  vert_df.loc[len(vert_df)] = e_dict\n",
      "/home/u2175049/anaconda3/lib/python3.11/site-packages/CellSeg/segmentation2D.py:133: FutureWarning: The behavior of DataFrame concatenation with empty or all-NA entries is deprecated. In a future version, this will no longer exclude empty or all-NA columns when determining the result dtypes. To retain the old behavior, exclude the relevant entries before the concat operation.\n",
      "  vert_df.loc[len(vert_df)] = e_dict\n",
      "/home/u2175049/anaconda3/lib/python3.11/site-packages/CellSeg/segmentation2D.py:133: FutureWarning: The behavior of DataFrame concatenation with empty or all-NA entries is deprecated. In a future version, this will no longer exclude empty or all-NA columns when determining the result dtypes. To retain the old behavior, exclude the relevant entries before the concat operation.\n",
      "  vert_df.loc[len(vert_df)] = e_dict\n",
      "/home/u2175049/anaconda3/lib/python3.11/site-packages/CellSeg/segmentation2D.py:133: FutureWarning: The behavior of DataFrame concatenation with empty or all-NA entries is deprecated. In a future version, this will no longer exclude empty or all-NA columns when determining the result dtypes. To retain the old behavior, exclude the relevant entries before the concat operation.\n",
      "  vert_df.loc[len(vert_df)] = e_dict\n",
      "/home/u2175049/anaconda3/lib/python3.11/site-packages/CellSeg/segmentation2D.py:133: FutureWarning: The behavior of DataFrame concatenation with empty or all-NA entries is deprecated. In a future version, this will no longer exclude empty or all-NA columns when determining the result dtypes. To retain the old behavior, exclude the relevant entries before the concat operation.\n",
      "  vert_df.loc[len(vert_df)] = e_dict\n",
      "/home/u2175049/anaconda3/lib/python3.11/site-packages/CellSeg/segmentation2D.py:133: FutureWarning: The behavior of DataFrame concatenation with empty or all-NA entries is deprecated. In a future version, this will no longer exclude empty or all-NA columns when determining the result dtypes. To retain the old behavior, exclude the relevant entries before the concat operation.\n",
      "  vert_df.loc[len(vert_df)] = e_dict\n",
      "/home/u2175049/anaconda3/lib/python3.11/site-packages/CellSeg/segmentation2D.py:133: FutureWarning: The behavior of DataFrame concatenation with empty or all-NA entries is deprecated. In a future version, this will no longer exclude empty or all-NA columns when determining the result dtypes. To retain the old behavior, exclude the relevant entries before the concat operation.\n",
      "  vert_df.loc[len(vert_df)] = e_dict\n",
      "/home/u2175049/anaconda3/lib/python3.11/site-packages/CellSeg/segmentation2D.py:133: FutureWarning: The behavior of DataFrame concatenation with empty or all-NA entries is deprecated. In a future version, this will no longer exclude empty or all-NA columns when determining the result dtypes. To retain the old behavior, exclude the relevant entries before the concat operation.\n",
      "  vert_df.loc[len(vert_df)] = e_dict\n"
     ]
    },
    {
     "data": {
      "application/vnd.jupyter.widget-view+json": {
       "model_id": "fc3d76a48611489d83222d4fb02970b2",
       "version_major": 2,
       "version_minor": 0
      },
      "text/plain": [
       "Vert segmentation:   0%|          | 0/6 [00:00<?, ?it/s]"
      ]
     },
     "metadata": {},
     "output_type": "display_data"
    },
    {
     "name": "stderr",
     "output_type": "stream",
     "text": [
      "/home/u2175049/anaconda3/lib/python3.11/site-packages/CellSeg/segmentation2D.py:133: FutureWarning: The behavior of DataFrame concatenation with empty or all-NA entries is deprecated. In a future version, this will no longer exclude empty or all-NA columns when determining the result dtypes. To retain the old behavior, exclude the relevant entries before the concat operation.\n",
      "  vert_df.loc[len(vert_df)] = e_dict\n",
      "/home/u2175049/anaconda3/lib/python3.11/site-packages/CellSeg/segmentation2D.py:133: FutureWarning: The behavior of DataFrame concatenation with empty or all-NA entries is deprecated. In a future version, this will no longer exclude empty or all-NA columns when determining the result dtypes. To retain the old behavior, exclude the relevant entries before the concat operation.\n",
      "  vert_df.loc[len(vert_df)] = e_dict\n",
      "/home/u2175049/anaconda3/lib/python3.11/site-packages/CellSeg/segmentation2D.py:133: FutureWarning: The behavior of DataFrame concatenation with empty or all-NA entries is deprecated. In a future version, this will no longer exclude empty or all-NA columns when determining the result dtypes. To retain the old behavior, exclude the relevant entries before the concat operation.\n",
      "  vert_df.loc[len(vert_df)] = e_dict\n"
     ]
    },
    {
     "data": {
      "application/vnd.jupyter.widget-view+json": {
       "model_id": "259de36fe4064b2483230c594d12f05c",
       "version_major": 2,
       "version_minor": 0
      },
      "text/plain": [
       "Vert segmentation:   0%|          | 0/28 [00:00<?, ?it/s]"
      ]
     },
     "metadata": {},
     "output_type": "display_data"
    },
    {
     "name": "stderr",
     "output_type": "stream",
     "text": [
      "/home/u2175049/anaconda3/lib/python3.11/site-packages/CellSeg/segmentation2D.py:133: FutureWarning: The behavior of DataFrame concatenation with empty or all-NA entries is deprecated. In a future version, this will no longer exclude empty or all-NA columns when determining the result dtypes. To retain the old behavior, exclude the relevant entries before the concat operation.\n",
      "  vert_df.loc[len(vert_df)] = e_dict\n",
      "/home/u2175049/anaconda3/lib/python3.11/site-packages/CellSeg/segmentation2D.py:133: FutureWarning: The behavior of DataFrame concatenation with empty or all-NA entries is deprecated. In a future version, this will no longer exclude empty or all-NA columns when determining the result dtypes. To retain the old behavior, exclude the relevant entries before the concat operation.\n",
      "  vert_df.loc[len(vert_df)] = e_dict\n",
      "/home/u2175049/anaconda3/lib/python3.11/site-packages/CellSeg/segmentation2D.py:133: FutureWarning: The behavior of DataFrame concatenation with empty or all-NA entries is deprecated. In a future version, this will no longer exclude empty or all-NA columns when determining the result dtypes. To retain the old behavior, exclude the relevant entries before the concat operation.\n",
      "  vert_df.loc[len(vert_df)] = e_dict\n",
      "/home/u2175049/anaconda3/lib/python3.11/site-packages/CellSeg/segmentation2D.py:133: FutureWarning: The behavior of DataFrame concatenation with empty or all-NA entries is deprecated. In a future version, this will no longer exclude empty or all-NA columns when determining the result dtypes. To retain the old behavior, exclude the relevant entries before the concat operation.\n",
      "  vert_df.loc[len(vert_df)] = e_dict\n",
      "/home/u2175049/anaconda3/lib/python3.11/site-packages/CellSeg/segmentation2D.py:133: FutureWarning: The behavior of DataFrame concatenation with empty or all-NA entries is deprecated. In a future version, this will no longer exclude empty or all-NA columns when determining the result dtypes. To retain the old behavior, exclude the relevant entries before the concat operation.\n",
      "  vert_df.loc[len(vert_df)] = e_dict\n",
      "/home/u2175049/anaconda3/lib/python3.11/site-packages/CellSeg/segmentation2D.py:133: FutureWarning: The behavior of DataFrame concatenation with empty or all-NA entries is deprecated. In a future version, this will no longer exclude empty or all-NA columns when determining the result dtypes. To retain the old behavior, exclude the relevant entries before the concat operation.\n",
      "  vert_df.loc[len(vert_df)] = e_dict\n",
      "/home/u2175049/anaconda3/lib/python3.11/site-packages/CellSeg/segmentation2D.py:133: FutureWarning: The behavior of DataFrame concatenation with empty or all-NA entries is deprecated. In a future version, this will no longer exclude empty or all-NA columns when determining the result dtypes. To retain the old behavior, exclude the relevant entries before the concat operation.\n",
      "  vert_df.loc[len(vert_df)] = e_dict\n",
      "/home/u2175049/anaconda3/lib/python3.11/site-packages/CellSeg/segmentation2D.py:133: FutureWarning: The behavior of DataFrame concatenation with empty or all-NA entries is deprecated. In a future version, this will no longer exclude empty or all-NA columns when determining the result dtypes. To retain the old behavior, exclude the relevant entries before the concat operation.\n",
      "  vert_df.loc[len(vert_df)] = e_dict\n",
      "/home/u2175049/anaconda3/lib/python3.11/site-packages/CellSeg/segmentation2D.py:133: FutureWarning: The behavior of DataFrame concatenation with empty or all-NA entries is deprecated. In a future version, this will no longer exclude empty or all-NA columns when determining the result dtypes. To retain the old behavior, exclude the relevant entries before the concat operation.\n",
      "  vert_df.loc[len(vert_df)] = e_dict\n",
      "/home/u2175049/anaconda3/lib/python3.11/site-packages/CellSeg/segmentation2D.py:133: FutureWarning: The behavior of DataFrame concatenation with empty or all-NA entries is deprecated. In a future version, this will no longer exclude empty or all-NA columns when determining the result dtypes. To retain the old behavior, exclude the relevant entries before the concat operation.\n",
      "  vert_df.loc[len(vert_df)] = e_dict\n",
      "/home/u2175049/anaconda3/lib/python3.11/site-packages/CellSeg/segmentation2D.py:133: FutureWarning: The behavior of DataFrame concatenation with empty or all-NA entries is deprecated. In a future version, this will no longer exclude empty or all-NA columns when determining the result dtypes. To retain the old behavior, exclude the relevant entries before the concat operation.\n",
      "  vert_df.loc[len(vert_df)] = e_dict\n",
      "/home/u2175049/anaconda3/lib/python3.11/site-packages/CellSeg/segmentation2D.py:133: FutureWarning: The behavior of DataFrame concatenation with empty or all-NA entries is deprecated. In a future version, this will no longer exclude empty or all-NA columns when determining the result dtypes. To retain the old behavior, exclude the relevant entries before the concat operation.\n",
      "  vert_df.loc[len(vert_df)] = e_dict\n",
      "/home/u2175049/anaconda3/lib/python3.11/site-packages/CellSeg/segmentation2D.py:133: FutureWarning: The behavior of DataFrame concatenation with empty or all-NA entries is deprecated. In a future version, this will no longer exclude empty or all-NA columns when determining the result dtypes. To retain the old behavior, exclude the relevant entries before the concat operation.\n",
      "  vert_df.loc[len(vert_df)] = e_dict\n",
      "/home/u2175049/anaconda3/lib/python3.11/site-packages/CellSeg/segmentation2D.py:133: FutureWarning: The behavior of DataFrame concatenation with empty or all-NA entries is deprecated. In a future version, this will no longer exclude empty or all-NA columns when determining the result dtypes. To retain the old behavior, exclude the relevant entries before the concat operation.\n",
      "  vert_df.loc[len(vert_df)] = e_dict\n",
      "/home/u2175049/anaconda3/lib/python3.11/site-packages/CellSeg/segmentation2D.py:133: FutureWarning: The behavior of DataFrame concatenation with empty or all-NA entries is deprecated. In a future version, this will no longer exclude empty or all-NA columns when determining the result dtypes. To retain the old behavior, exclude the relevant entries before the concat operation.\n",
      "  vert_df.loc[len(vert_df)] = e_dict\n",
      "/home/u2175049/anaconda3/lib/python3.11/site-packages/CellSeg/segmentation2D.py:133: FutureWarning: The behavior of DataFrame concatenation with empty or all-NA entries is deprecated. In a future version, this will no longer exclude empty or all-NA columns when determining the result dtypes. To retain the old behavior, exclude the relevant entries before the concat operation.\n",
      "  vert_df.loc[len(vert_df)] = e_dict\n",
      "/home/u2175049/anaconda3/lib/python3.11/site-packages/CellSeg/segmentation2D.py:133: FutureWarning: The behavior of DataFrame concatenation with empty or all-NA entries is deprecated. In a future version, this will no longer exclude empty or all-NA columns when determining the result dtypes. To retain the old behavior, exclude the relevant entries before the concat operation.\n",
      "  vert_df.loc[len(vert_df)] = e_dict\n",
      "/home/u2175049/anaconda3/lib/python3.11/site-packages/CellSeg/segmentation2D.py:133: FutureWarning: The behavior of DataFrame concatenation with empty or all-NA entries is deprecated. In a future version, this will no longer exclude empty or all-NA columns when determining the result dtypes. To retain the old behavior, exclude the relevant entries before the concat operation.\n",
      "  vert_df.loc[len(vert_df)] = e_dict\n",
      "/home/u2175049/anaconda3/lib/python3.11/site-packages/CellSeg/segmentation2D.py:133: FutureWarning: The behavior of DataFrame concatenation with empty or all-NA entries is deprecated. In a future version, this will no longer exclude empty or all-NA columns when determining the result dtypes. To retain the old behavior, exclude the relevant entries before the concat operation.\n",
      "  vert_df.loc[len(vert_df)] = e_dict\n"
     ]
    },
    {
     "data": {
      "application/vnd.jupyter.widget-view+json": {
       "model_id": "2cac275e208a4b34a40e7bb6d3acc2b0",
       "version_major": 2,
       "version_minor": 0
      },
      "text/plain": [
       "Vert segmentation:   0%|          | 0/21 [00:00<?, ?it/s]"
      ]
     },
     "metadata": {},
     "output_type": "display_data"
    },
    {
     "name": "stderr",
     "output_type": "stream",
     "text": [
      "/home/u2175049/anaconda3/lib/python3.11/site-packages/CellSeg/segmentation2D.py:133: FutureWarning: The behavior of DataFrame concatenation with empty or all-NA entries is deprecated. In a future version, this will no longer exclude empty or all-NA columns when determining the result dtypes. To retain the old behavior, exclude the relevant entries before the concat operation.\n",
      "  vert_df.loc[len(vert_df)] = e_dict\n",
      "/home/u2175049/anaconda3/lib/python3.11/site-packages/CellSeg/segmentation2D.py:133: FutureWarning: The behavior of DataFrame concatenation with empty or all-NA entries is deprecated. In a future version, this will no longer exclude empty or all-NA columns when determining the result dtypes. To retain the old behavior, exclude the relevant entries before the concat operation.\n",
      "  vert_df.loc[len(vert_df)] = e_dict\n",
      "/home/u2175049/anaconda3/lib/python3.11/site-packages/CellSeg/segmentation2D.py:133: FutureWarning: The behavior of DataFrame concatenation with empty or all-NA entries is deprecated. In a future version, this will no longer exclude empty or all-NA columns when determining the result dtypes. To retain the old behavior, exclude the relevant entries before the concat operation.\n",
      "  vert_df.loc[len(vert_df)] = e_dict\n",
      "/home/u2175049/anaconda3/lib/python3.11/site-packages/CellSeg/segmentation2D.py:133: FutureWarning: The behavior of DataFrame concatenation with empty or all-NA entries is deprecated. In a future version, this will no longer exclude empty or all-NA columns when determining the result dtypes. To retain the old behavior, exclude the relevant entries before the concat operation.\n",
      "  vert_df.loc[len(vert_df)] = e_dict\n",
      "/home/u2175049/anaconda3/lib/python3.11/site-packages/CellSeg/segmentation2D.py:133: FutureWarning: The behavior of DataFrame concatenation with empty or all-NA entries is deprecated. In a future version, this will no longer exclude empty or all-NA columns when determining the result dtypes. To retain the old behavior, exclude the relevant entries before the concat operation.\n",
      "  vert_df.loc[len(vert_df)] = e_dict\n",
      "/home/u2175049/anaconda3/lib/python3.11/site-packages/CellSeg/segmentation2D.py:133: FutureWarning: The behavior of DataFrame concatenation with empty or all-NA entries is deprecated. In a future version, this will no longer exclude empty or all-NA columns when determining the result dtypes. To retain the old behavior, exclude the relevant entries before the concat operation.\n",
      "  vert_df.loc[len(vert_df)] = e_dict\n",
      "/home/u2175049/anaconda3/lib/python3.11/site-packages/CellSeg/segmentation2D.py:133: FutureWarning: The behavior of DataFrame concatenation with empty or all-NA entries is deprecated. In a future version, this will no longer exclude empty or all-NA columns when determining the result dtypes. To retain the old behavior, exclude the relevant entries before the concat operation.\n",
      "  vert_df.loc[len(vert_df)] = e_dict\n",
      "/home/u2175049/anaconda3/lib/python3.11/site-packages/CellSeg/segmentation2D.py:133: FutureWarning: The behavior of DataFrame concatenation with empty or all-NA entries is deprecated. In a future version, this will no longer exclude empty or all-NA columns when determining the result dtypes. To retain the old behavior, exclude the relevant entries before the concat operation.\n",
      "  vert_df.loc[len(vert_df)] = e_dict\n",
      "/home/u2175049/anaconda3/lib/python3.11/site-packages/CellSeg/segmentation2D.py:133: FutureWarning: The behavior of DataFrame concatenation with empty or all-NA entries is deprecated. In a future version, this will no longer exclude empty or all-NA columns when determining the result dtypes. To retain the old behavior, exclude the relevant entries before the concat operation.\n",
      "  vert_df.loc[len(vert_df)] = e_dict\n",
      "/home/u2175049/anaconda3/lib/python3.11/site-packages/CellSeg/segmentation2D.py:133: FutureWarning: The behavior of DataFrame concatenation with empty or all-NA entries is deprecated. In a future version, this will no longer exclude empty or all-NA columns when determining the result dtypes. To retain the old behavior, exclude the relevant entries before the concat operation.\n",
      "  vert_df.loc[len(vert_df)] = e_dict\n",
      "/home/u2175049/anaconda3/lib/python3.11/site-packages/CellSeg/segmentation2D.py:133: FutureWarning: The behavior of DataFrame concatenation with empty or all-NA entries is deprecated. In a future version, this will no longer exclude empty or all-NA columns when determining the result dtypes. To retain the old behavior, exclude the relevant entries before the concat operation.\n",
      "  vert_df.loc[len(vert_df)] = e_dict\n",
      "/home/u2175049/anaconda3/lib/python3.11/site-packages/CellSeg/segmentation2D.py:133: FutureWarning: The behavior of DataFrame concatenation with empty or all-NA entries is deprecated. In a future version, this will no longer exclude empty or all-NA columns when determining the result dtypes. To retain the old behavior, exclude the relevant entries before the concat operation.\n",
      "  vert_df.loc[len(vert_df)] = e_dict\n",
      "/home/u2175049/anaconda3/lib/python3.11/site-packages/CellSeg/segmentation2D.py:133: FutureWarning: The behavior of DataFrame concatenation with empty or all-NA entries is deprecated. In a future version, this will no longer exclude empty or all-NA columns when determining the result dtypes. To retain the old behavior, exclude the relevant entries before the concat operation.\n",
      "  vert_df.loc[len(vert_df)] = e_dict\n",
      "/home/u2175049/anaconda3/lib/python3.11/site-packages/CellSeg/segmentation2D.py:133: FutureWarning: The behavior of DataFrame concatenation with empty or all-NA entries is deprecated. In a future version, this will no longer exclude empty or all-NA columns when determining the result dtypes. To retain the old behavior, exclude the relevant entries before the concat operation.\n",
      "  vert_df.loc[len(vert_df)] = e_dict\n"
     ]
    },
    {
     "data": {
      "application/vnd.jupyter.widget-view+json": {
       "model_id": "8e704ac6ac9d4639850229e6fb428b38",
       "version_major": 2,
       "version_minor": 0
      },
      "text/plain": [
       "Vert segmentation:   0%|          | 0/6 [00:00<?, ?it/s]"
      ]
     },
     "metadata": {},
     "output_type": "display_data"
    },
    {
     "name": "stderr",
     "output_type": "stream",
     "text": [
      "/home/u2175049/anaconda3/lib/python3.11/site-packages/CellSeg/segmentation2D.py:133: FutureWarning: The behavior of DataFrame concatenation with empty or all-NA entries is deprecated. In a future version, this will no longer exclude empty or all-NA columns when determining the result dtypes. To retain the old behavior, exclude the relevant entries before the concat operation.\n",
      "  vert_df.loc[len(vert_df)] = e_dict\n",
      "/home/u2175049/anaconda3/lib/python3.11/site-packages/CellSeg/segmentation2D.py:133: FutureWarning: The behavior of DataFrame concatenation with empty or all-NA entries is deprecated. In a future version, this will no longer exclude empty or all-NA columns when determining the result dtypes. To retain the old behavior, exclude the relevant entries before the concat operation.\n",
      "  vert_df.loc[len(vert_df)] = e_dict\n"
     ]
    },
    {
     "data": {
      "application/vnd.jupyter.widget-view+json": {
       "model_id": "62e7565868c74328b217b277e9d207e4",
       "version_major": 2,
       "version_minor": 0
      },
      "text/plain": [
       "Vert segmentation:   0%|          | 0/15 [00:00<?, ?it/s]"
      ]
     },
     "metadata": {},
     "output_type": "display_data"
    },
    {
     "name": "stderr",
     "output_type": "stream",
     "text": [
      "/home/u2175049/anaconda3/lib/python3.11/site-packages/CellSeg/segmentation2D.py:133: FutureWarning: The behavior of DataFrame concatenation with empty or all-NA entries is deprecated. In a future version, this will no longer exclude empty or all-NA columns when determining the result dtypes. To retain the old behavior, exclude the relevant entries before the concat operation.\n",
      "  vert_df.loc[len(vert_df)] = e_dict\n",
      "/home/u2175049/anaconda3/lib/python3.11/site-packages/CellSeg/segmentation2D.py:133: FutureWarning: The behavior of DataFrame concatenation with empty or all-NA entries is deprecated. In a future version, this will no longer exclude empty or all-NA columns when determining the result dtypes. To retain the old behavior, exclude the relevant entries before the concat operation.\n",
      "  vert_df.loc[len(vert_df)] = e_dict\n",
      "/home/u2175049/anaconda3/lib/python3.11/site-packages/CellSeg/segmentation2D.py:133: FutureWarning: The behavior of DataFrame concatenation with empty or all-NA entries is deprecated. In a future version, this will no longer exclude empty or all-NA columns when determining the result dtypes. To retain the old behavior, exclude the relevant entries before the concat operation.\n",
      "  vert_df.loc[len(vert_df)] = e_dict\n",
      "/home/u2175049/anaconda3/lib/python3.11/site-packages/CellSeg/segmentation2D.py:133: FutureWarning: The behavior of DataFrame concatenation with empty or all-NA entries is deprecated. In a future version, this will no longer exclude empty or all-NA columns when determining the result dtypes. To retain the old behavior, exclude the relevant entries before the concat operation.\n",
      "  vert_df.loc[len(vert_df)] = e_dict\n",
      "/home/u2175049/anaconda3/lib/python3.11/site-packages/CellSeg/segmentation2D.py:133: FutureWarning: The behavior of DataFrame concatenation with empty or all-NA entries is deprecated. In a future version, this will no longer exclude empty or all-NA columns when determining the result dtypes. To retain the old behavior, exclude the relevant entries before the concat operation.\n",
      "  vert_df.loc[len(vert_df)] = e_dict\n",
      "/home/u2175049/anaconda3/lib/python3.11/site-packages/CellSeg/segmentation2D.py:133: FutureWarning: The behavior of DataFrame concatenation with empty or all-NA entries is deprecated. In a future version, this will no longer exclude empty or all-NA columns when determining the result dtypes. To retain the old behavior, exclude the relevant entries before the concat operation.\n",
      "  vert_df.loc[len(vert_df)] = e_dict\n",
      "/home/u2175049/anaconda3/lib/python3.11/site-packages/CellSeg/segmentation2D.py:133: FutureWarning: The behavior of DataFrame concatenation with empty or all-NA entries is deprecated. In a future version, this will no longer exclude empty or all-NA columns when determining the result dtypes. To retain the old behavior, exclude the relevant entries before the concat operation.\n",
      "  vert_df.loc[len(vert_df)] = e_dict\n",
      "/home/u2175049/anaconda3/lib/python3.11/site-packages/CellSeg/segmentation2D.py:133: FutureWarning: The behavior of DataFrame concatenation with empty or all-NA entries is deprecated. In a future version, this will no longer exclude empty or all-NA columns when determining the result dtypes. To retain the old behavior, exclude the relevant entries before the concat operation.\n",
      "  vert_df.loc[len(vert_df)] = e_dict\n",
      "/home/u2175049/anaconda3/lib/python3.11/site-packages/CellSeg/segmentation2D.py:133: FutureWarning: The behavior of DataFrame concatenation with empty or all-NA entries is deprecated. In a future version, this will no longer exclude empty or all-NA columns when determining the result dtypes. To retain the old behavior, exclude the relevant entries before the concat operation.\n",
      "  vert_df.loc[len(vert_df)] = e_dict\n"
     ]
    },
    {
     "data": {
      "application/vnd.jupyter.widget-view+json": {
       "model_id": "5dacbbc4c03c42b5b604c8318606d16f",
       "version_major": 2,
       "version_minor": 0
      },
      "text/plain": [
       "Vert segmentation:   0%|          | 0/3 [00:00<?, ?it/s]"
      ]
     },
     "metadata": {},
     "output_type": "display_data"
    },
    {
     "name": "stderr",
     "output_type": "stream",
     "text": [
      "/home/u2175049/anaconda3/lib/python3.11/site-packages/CellSeg/segmentation2D.py:133: FutureWarning: The behavior of DataFrame concatenation with empty or all-NA entries is deprecated. In a future version, this will no longer exclude empty or all-NA columns when determining the result dtypes. To retain the old behavior, exclude the relevant entries before the concat operation.\n",
      "  vert_df.loc[len(vert_df)] = e_dict\n"
     ]
    },
    {
     "data": {
      "application/vnd.jupyter.widget-view+json": {
       "model_id": "32492c73ea50442c8afefb1275db9412",
       "version_major": 2,
       "version_minor": 0
      },
      "text/plain": [
       "Vert segmentation:   0%|          | 0/21 [00:00<?, ?it/s]"
      ]
     },
     "metadata": {},
     "output_type": "display_data"
    },
    {
     "name": "stderr",
     "output_type": "stream",
     "text": [
      "/home/u2175049/anaconda3/lib/python3.11/site-packages/CellSeg/segmentation2D.py:133: FutureWarning: The behavior of DataFrame concatenation with empty or all-NA entries is deprecated. In a future version, this will no longer exclude empty or all-NA columns when determining the result dtypes. To retain the old behavior, exclude the relevant entries before the concat operation.\n",
      "  vert_df.loc[len(vert_df)] = e_dict\n",
      "/home/u2175049/anaconda3/lib/python3.11/site-packages/CellSeg/segmentation2D.py:133: FutureWarning: The behavior of DataFrame concatenation with empty or all-NA entries is deprecated. In a future version, this will no longer exclude empty or all-NA columns when determining the result dtypes. To retain the old behavior, exclude the relevant entries before the concat operation.\n",
      "  vert_df.loc[len(vert_df)] = e_dict\n",
      "/home/u2175049/anaconda3/lib/python3.11/site-packages/CellSeg/segmentation2D.py:133: FutureWarning: The behavior of DataFrame concatenation with empty or all-NA entries is deprecated. In a future version, this will no longer exclude empty or all-NA columns when determining the result dtypes. To retain the old behavior, exclude the relevant entries before the concat operation.\n",
      "  vert_df.loc[len(vert_df)] = e_dict\n",
      "/home/u2175049/anaconda3/lib/python3.11/site-packages/CellSeg/segmentation2D.py:133: FutureWarning: The behavior of DataFrame concatenation with empty or all-NA entries is deprecated. In a future version, this will no longer exclude empty or all-NA columns when determining the result dtypes. To retain the old behavior, exclude the relevant entries before the concat operation.\n",
      "  vert_df.loc[len(vert_df)] = e_dict\n",
      "/home/u2175049/anaconda3/lib/python3.11/site-packages/CellSeg/segmentation2D.py:133: FutureWarning: The behavior of DataFrame concatenation with empty or all-NA entries is deprecated. In a future version, this will no longer exclude empty or all-NA columns when determining the result dtypes. To retain the old behavior, exclude the relevant entries before the concat operation.\n",
      "  vert_df.loc[len(vert_df)] = e_dict\n",
      "/home/u2175049/anaconda3/lib/python3.11/site-packages/CellSeg/segmentation2D.py:133: FutureWarning: The behavior of DataFrame concatenation with empty or all-NA entries is deprecated. In a future version, this will no longer exclude empty or all-NA columns when determining the result dtypes. To retain the old behavior, exclude the relevant entries before the concat operation.\n",
      "  vert_df.loc[len(vert_df)] = e_dict\n",
      "/home/u2175049/anaconda3/lib/python3.11/site-packages/CellSeg/segmentation2D.py:133: FutureWarning: The behavior of DataFrame concatenation with empty or all-NA entries is deprecated. In a future version, this will no longer exclude empty or all-NA columns when determining the result dtypes. To retain the old behavior, exclude the relevant entries before the concat operation.\n",
      "  vert_df.loc[len(vert_df)] = e_dict\n",
      "/home/u2175049/anaconda3/lib/python3.11/site-packages/CellSeg/segmentation2D.py:133: FutureWarning: The behavior of DataFrame concatenation with empty or all-NA entries is deprecated. In a future version, this will no longer exclude empty or all-NA columns when determining the result dtypes. To retain the old behavior, exclude the relevant entries before the concat operation.\n",
      "  vert_df.loc[len(vert_df)] = e_dict\n",
      "/home/u2175049/anaconda3/lib/python3.11/site-packages/CellSeg/segmentation2D.py:133: FutureWarning: The behavior of DataFrame concatenation with empty or all-NA entries is deprecated. In a future version, this will no longer exclude empty or all-NA columns when determining the result dtypes. To retain the old behavior, exclude the relevant entries before the concat operation.\n",
      "  vert_df.loc[len(vert_df)] = e_dict\n",
      "/home/u2175049/anaconda3/lib/python3.11/site-packages/CellSeg/segmentation2D.py:133: FutureWarning: The behavior of DataFrame concatenation with empty or all-NA entries is deprecated. In a future version, this will no longer exclude empty or all-NA columns when determining the result dtypes. To retain the old behavior, exclude the relevant entries before the concat operation.\n",
      "  vert_df.loc[len(vert_df)] = e_dict\n",
      "/home/u2175049/anaconda3/lib/python3.11/site-packages/CellSeg/segmentation2D.py:133: FutureWarning: The behavior of DataFrame concatenation with empty or all-NA entries is deprecated. In a future version, this will no longer exclude empty or all-NA columns when determining the result dtypes. To retain the old behavior, exclude the relevant entries before the concat operation.\n",
      "  vert_df.loc[len(vert_df)] = e_dict\n",
      "/home/u2175049/anaconda3/lib/python3.11/site-packages/CellSeg/segmentation2D.py:133: FutureWarning: The behavior of DataFrame concatenation with empty or all-NA entries is deprecated. In a future version, this will no longer exclude empty or all-NA columns when determining the result dtypes. To retain the old behavior, exclude the relevant entries before the concat operation.\n",
      "  vert_df.loc[len(vert_df)] = e_dict\n",
      "/home/u2175049/anaconda3/lib/python3.11/site-packages/CellSeg/segmentation2D.py:133: FutureWarning: The behavior of DataFrame concatenation with empty or all-NA entries is deprecated. In a future version, this will no longer exclude empty or all-NA columns when determining the result dtypes. To retain the old behavior, exclude the relevant entries before the concat operation.\n",
      "  vert_df.loc[len(vert_df)] = e_dict\n"
     ]
    },
    {
     "data": {
      "application/vnd.jupyter.widget-view+json": {
       "model_id": "5efa88a5b2034291b37f21a09b4b4c49",
       "version_major": 2,
       "version_minor": 0
      },
      "text/plain": [
       "Vert segmentation:   0%|          | 0/15 [00:00<?, ?it/s]"
      ]
     },
     "metadata": {},
     "output_type": "display_data"
    },
    {
     "name": "stderr",
     "output_type": "stream",
     "text": [
      "/home/u2175049/anaconda3/lib/python3.11/site-packages/CellSeg/segmentation2D.py:133: FutureWarning: The behavior of DataFrame concatenation with empty or all-NA entries is deprecated. In a future version, this will no longer exclude empty or all-NA columns when determining the result dtypes. To retain the old behavior, exclude the relevant entries before the concat operation.\n",
      "  vert_df.loc[len(vert_df)] = e_dict\n",
      "/home/u2175049/anaconda3/lib/python3.11/site-packages/CellSeg/segmentation2D.py:133: FutureWarning: The behavior of DataFrame concatenation with empty or all-NA entries is deprecated. In a future version, this will no longer exclude empty or all-NA columns when determining the result dtypes. To retain the old behavior, exclude the relevant entries before the concat operation.\n",
      "  vert_df.loc[len(vert_df)] = e_dict\n",
      "/home/u2175049/anaconda3/lib/python3.11/site-packages/CellSeg/segmentation2D.py:133: FutureWarning: The behavior of DataFrame concatenation with empty or all-NA entries is deprecated. In a future version, this will no longer exclude empty or all-NA columns when determining the result dtypes. To retain the old behavior, exclude the relevant entries before the concat operation.\n",
      "  vert_df.loc[len(vert_df)] = e_dict\n",
      "/home/u2175049/anaconda3/lib/python3.11/site-packages/CellSeg/segmentation2D.py:133: FutureWarning: The behavior of DataFrame concatenation with empty or all-NA entries is deprecated. In a future version, this will no longer exclude empty or all-NA columns when determining the result dtypes. To retain the old behavior, exclude the relevant entries before the concat operation.\n",
      "  vert_df.loc[len(vert_df)] = e_dict\n",
      "/home/u2175049/anaconda3/lib/python3.11/site-packages/CellSeg/segmentation2D.py:133: FutureWarning: The behavior of DataFrame concatenation with empty or all-NA entries is deprecated. In a future version, this will no longer exclude empty or all-NA columns when determining the result dtypes. To retain the old behavior, exclude the relevant entries before the concat operation.\n",
      "  vert_df.loc[len(vert_df)] = e_dict\n",
      "/home/u2175049/anaconda3/lib/python3.11/site-packages/CellSeg/segmentation2D.py:133: FutureWarning: The behavior of DataFrame concatenation with empty or all-NA entries is deprecated. In a future version, this will no longer exclude empty or all-NA columns when determining the result dtypes. To retain the old behavior, exclude the relevant entries before the concat operation.\n",
      "  vert_df.loc[len(vert_df)] = e_dict\n",
      "/home/u2175049/anaconda3/lib/python3.11/site-packages/CellSeg/segmentation2D.py:133: FutureWarning: The behavior of DataFrame concatenation with empty or all-NA entries is deprecated. In a future version, this will no longer exclude empty or all-NA columns when determining the result dtypes. To retain the old behavior, exclude the relevant entries before the concat operation.\n",
      "  vert_df.loc[len(vert_df)] = e_dict\n",
      "/home/u2175049/anaconda3/lib/python3.11/site-packages/CellSeg/segmentation2D.py:133: FutureWarning: The behavior of DataFrame concatenation with empty or all-NA entries is deprecated. In a future version, this will no longer exclude empty or all-NA columns when determining the result dtypes. To retain the old behavior, exclude the relevant entries before the concat operation.\n",
      "  vert_df.loc[len(vert_df)] = e_dict\n",
      "/home/u2175049/anaconda3/lib/python3.11/site-packages/CellSeg/segmentation2D.py:133: FutureWarning: The behavior of DataFrame concatenation with empty or all-NA entries is deprecated. In a future version, this will no longer exclude empty or all-NA columns when determining the result dtypes. To retain the old behavior, exclude the relevant entries before the concat operation.\n",
      "  vert_df.loc[len(vert_df)] = e_dict\n"
     ]
    },
    {
     "data": {
      "application/vnd.jupyter.widget-view+json": {
       "model_id": "c9f98b960c474bc9a0b44134cc1ee147",
       "version_major": 2,
       "version_minor": 0
      },
      "text/plain": [
       "Vert segmentation:   0%|          | 0/10 [00:00<?, ?it/s]"
      ]
     },
     "metadata": {},
     "output_type": "display_data"
    },
    {
     "name": "stderr",
     "output_type": "stream",
     "text": [
      "/home/u2175049/anaconda3/lib/python3.11/site-packages/CellSeg/segmentation2D.py:133: FutureWarning: The behavior of DataFrame concatenation with empty or all-NA entries is deprecated. In a future version, this will no longer exclude empty or all-NA columns when determining the result dtypes. To retain the old behavior, exclude the relevant entries before the concat operation.\n",
      "  vert_df.loc[len(vert_df)] = e_dict\n",
      "/home/u2175049/anaconda3/lib/python3.11/site-packages/CellSeg/segmentation2D.py:133: FutureWarning: The behavior of DataFrame concatenation with empty or all-NA entries is deprecated. In a future version, this will no longer exclude empty or all-NA columns when determining the result dtypes. To retain the old behavior, exclude the relevant entries before the concat operation.\n",
      "  vert_df.loc[len(vert_df)] = e_dict\n",
      "/home/u2175049/anaconda3/lib/python3.11/site-packages/CellSeg/segmentation2D.py:133: FutureWarning: The behavior of DataFrame concatenation with empty or all-NA entries is deprecated. In a future version, this will no longer exclude empty or all-NA columns when determining the result dtypes. To retain the old behavior, exclude the relevant entries before the concat operation.\n",
      "  vert_df.loc[len(vert_df)] = e_dict\n",
      "/home/u2175049/anaconda3/lib/python3.11/site-packages/CellSeg/segmentation2D.py:133: FutureWarning: The behavior of DataFrame concatenation with empty or all-NA entries is deprecated. In a future version, this will no longer exclude empty or all-NA columns when determining the result dtypes. To retain the old behavior, exclude the relevant entries before the concat operation.\n",
      "  vert_df.loc[len(vert_df)] = e_dict\n",
      "/home/u2175049/anaconda3/lib/python3.11/site-packages/CellSeg/segmentation2D.py:133: FutureWarning: The behavior of DataFrame concatenation with empty or all-NA entries is deprecated. In a future version, this will no longer exclude empty or all-NA columns when determining the result dtypes. To retain the old behavior, exclude the relevant entries before the concat operation.\n",
      "  vert_df.loc[len(vert_df)] = e_dict\n"
     ]
    },
    {
     "data": {
      "application/vnd.jupyter.widget-view+json": {
       "model_id": "3cfbcd6a3b25464dbbf64c8c6433430c",
       "version_major": 2,
       "version_minor": 0
      },
      "text/plain": [
       "Vert segmentation:   0%|          | 0/15 [00:00<?, ?it/s]"
      ]
     },
     "metadata": {},
     "output_type": "display_data"
    },
    {
     "name": "stderr",
     "output_type": "stream",
     "text": [
      "/home/u2175049/anaconda3/lib/python3.11/site-packages/CellSeg/segmentation2D.py:133: FutureWarning: The behavior of DataFrame concatenation with empty or all-NA entries is deprecated. In a future version, this will no longer exclude empty or all-NA columns when determining the result dtypes. To retain the old behavior, exclude the relevant entries before the concat operation.\n",
      "  vert_df.loc[len(vert_df)] = e_dict\n",
      "/home/u2175049/anaconda3/lib/python3.11/site-packages/CellSeg/segmentation2D.py:133: FutureWarning: The behavior of DataFrame concatenation with empty or all-NA entries is deprecated. In a future version, this will no longer exclude empty or all-NA columns when determining the result dtypes. To retain the old behavior, exclude the relevant entries before the concat operation.\n",
      "  vert_df.loc[len(vert_df)] = e_dict\n",
      "/home/u2175049/anaconda3/lib/python3.11/site-packages/CellSeg/segmentation2D.py:133: FutureWarning: The behavior of DataFrame concatenation with empty or all-NA entries is deprecated. In a future version, this will no longer exclude empty or all-NA columns when determining the result dtypes. To retain the old behavior, exclude the relevant entries before the concat operation.\n",
      "  vert_df.loc[len(vert_df)] = e_dict\n",
      "/home/u2175049/anaconda3/lib/python3.11/site-packages/CellSeg/segmentation2D.py:133: FutureWarning: The behavior of DataFrame concatenation with empty or all-NA entries is deprecated. In a future version, this will no longer exclude empty or all-NA columns when determining the result dtypes. To retain the old behavior, exclude the relevant entries before the concat operation.\n",
      "  vert_df.loc[len(vert_df)] = e_dict\n",
      "/home/u2175049/anaconda3/lib/python3.11/site-packages/CellSeg/segmentation2D.py:133: FutureWarning: The behavior of DataFrame concatenation with empty or all-NA entries is deprecated. In a future version, this will no longer exclude empty or all-NA columns when determining the result dtypes. To retain the old behavior, exclude the relevant entries before the concat operation.\n",
      "  vert_df.loc[len(vert_df)] = e_dict\n",
      "/home/u2175049/anaconda3/lib/python3.11/site-packages/CellSeg/segmentation2D.py:133: FutureWarning: The behavior of DataFrame concatenation with empty or all-NA entries is deprecated. In a future version, this will no longer exclude empty or all-NA columns when determining the result dtypes. To retain the old behavior, exclude the relevant entries before the concat operation.\n",
      "  vert_df.loc[len(vert_df)] = e_dict\n",
      "/home/u2175049/anaconda3/lib/python3.11/site-packages/CellSeg/segmentation2D.py:133: FutureWarning: The behavior of DataFrame concatenation with empty or all-NA entries is deprecated. In a future version, this will no longer exclude empty or all-NA columns when determining the result dtypes. To retain the old behavior, exclude the relevant entries before the concat operation.\n",
      "  vert_df.loc[len(vert_df)] = e_dict\n",
      "/home/u2175049/anaconda3/lib/python3.11/site-packages/CellSeg/segmentation2D.py:133: FutureWarning: The behavior of DataFrame concatenation with empty or all-NA entries is deprecated. In a future version, this will no longer exclude empty or all-NA columns when determining the result dtypes. To retain the old behavior, exclude the relevant entries before the concat operation.\n",
      "  vert_df.loc[len(vert_df)] = e_dict\n",
      "/home/u2175049/anaconda3/lib/python3.11/site-packages/CellSeg/segmentation2D.py:133: FutureWarning: The behavior of DataFrame concatenation with empty or all-NA entries is deprecated. In a future version, this will no longer exclude empty or all-NA columns when determining the result dtypes. To retain the old behavior, exclude the relevant entries before the concat operation.\n",
      "  vert_df.loc[len(vert_df)] = e_dict\n"
     ]
    },
    {
     "data": {
      "application/vnd.jupyter.widget-view+json": {
       "model_id": "b88db4854e1c4dd797141e3e201dc2b9",
       "version_major": 2,
       "version_minor": 0
      },
      "text/plain": [
       "Vert segmentation:   0%|          | 0/28 [00:00<?, ?it/s]"
      ]
     },
     "metadata": {},
     "output_type": "display_data"
    },
    {
     "name": "stderr",
     "output_type": "stream",
     "text": [
      "/home/u2175049/anaconda3/lib/python3.11/site-packages/CellSeg/segmentation2D.py:133: FutureWarning: The behavior of DataFrame concatenation with empty or all-NA entries is deprecated. In a future version, this will no longer exclude empty or all-NA columns when determining the result dtypes. To retain the old behavior, exclude the relevant entries before the concat operation.\n",
      "  vert_df.loc[len(vert_df)] = e_dict\n",
      "/home/u2175049/anaconda3/lib/python3.11/site-packages/CellSeg/segmentation2D.py:133: FutureWarning: The behavior of DataFrame concatenation with empty or all-NA entries is deprecated. In a future version, this will no longer exclude empty or all-NA columns when determining the result dtypes. To retain the old behavior, exclude the relevant entries before the concat operation.\n",
      "  vert_df.loc[len(vert_df)] = e_dict\n",
      "/home/u2175049/anaconda3/lib/python3.11/site-packages/CellSeg/segmentation2D.py:133: FutureWarning: The behavior of DataFrame concatenation with empty or all-NA entries is deprecated. In a future version, this will no longer exclude empty or all-NA columns when determining the result dtypes. To retain the old behavior, exclude the relevant entries before the concat operation.\n",
      "  vert_df.loc[len(vert_df)] = e_dict\n",
      "/home/u2175049/anaconda3/lib/python3.11/site-packages/CellSeg/segmentation2D.py:133: FutureWarning: The behavior of DataFrame concatenation with empty or all-NA entries is deprecated. In a future version, this will no longer exclude empty or all-NA columns when determining the result dtypes. To retain the old behavior, exclude the relevant entries before the concat operation.\n",
      "  vert_df.loc[len(vert_df)] = e_dict\n",
      "/home/u2175049/anaconda3/lib/python3.11/site-packages/CellSeg/segmentation2D.py:133: FutureWarning: The behavior of DataFrame concatenation with empty or all-NA entries is deprecated. In a future version, this will no longer exclude empty or all-NA columns when determining the result dtypes. To retain the old behavior, exclude the relevant entries before the concat operation.\n",
      "  vert_df.loc[len(vert_df)] = e_dict\n",
      "/home/u2175049/anaconda3/lib/python3.11/site-packages/CellSeg/segmentation2D.py:133: FutureWarning: The behavior of DataFrame concatenation with empty or all-NA entries is deprecated. In a future version, this will no longer exclude empty or all-NA columns when determining the result dtypes. To retain the old behavior, exclude the relevant entries before the concat operation.\n",
      "  vert_df.loc[len(vert_df)] = e_dict\n",
      "/home/u2175049/anaconda3/lib/python3.11/site-packages/CellSeg/segmentation2D.py:133: FutureWarning: The behavior of DataFrame concatenation with empty or all-NA entries is deprecated. In a future version, this will no longer exclude empty or all-NA columns when determining the result dtypes. To retain the old behavior, exclude the relevant entries before the concat operation.\n",
      "  vert_df.loc[len(vert_df)] = e_dict\n",
      "/home/u2175049/anaconda3/lib/python3.11/site-packages/CellSeg/segmentation2D.py:133: FutureWarning: The behavior of DataFrame concatenation with empty or all-NA entries is deprecated. In a future version, this will no longer exclude empty or all-NA columns when determining the result dtypes. To retain the old behavior, exclude the relevant entries before the concat operation.\n",
      "  vert_df.loc[len(vert_df)] = e_dict\n",
      "/home/u2175049/anaconda3/lib/python3.11/site-packages/CellSeg/segmentation2D.py:133: FutureWarning: The behavior of DataFrame concatenation with empty or all-NA entries is deprecated. In a future version, this will no longer exclude empty or all-NA columns when determining the result dtypes. To retain the old behavior, exclude the relevant entries before the concat operation.\n",
      "  vert_df.loc[len(vert_df)] = e_dict\n",
      "/home/u2175049/anaconda3/lib/python3.11/site-packages/CellSeg/segmentation2D.py:133: FutureWarning: The behavior of DataFrame concatenation with empty or all-NA entries is deprecated. In a future version, this will no longer exclude empty or all-NA columns when determining the result dtypes. To retain the old behavior, exclude the relevant entries before the concat operation.\n",
      "  vert_df.loc[len(vert_df)] = e_dict\n",
      "/home/u2175049/anaconda3/lib/python3.11/site-packages/CellSeg/segmentation2D.py:133: FutureWarning: The behavior of DataFrame concatenation with empty or all-NA entries is deprecated. In a future version, this will no longer exclude empty or all-NA columns when determining the result dtypes. To retain the old behavior, exclude the relevant entries before the concat operation.\n",
      "  vert_df.loc[len(vert_df)] = e_dict\n",
      "/home/u2175049/anaconda3/lib/python3.11/site-packages/CellSeg/segmentation2D.py:133: FutureWarning: The behavior of DataFrame concatenation with empty or all-NA entries is deprecated. In a future version, this will no longer exclude empty or all-NA columns when determining the result dtypes. To retain the old behavior, exclude the relevant entries before the concat operation.\n",
      "  vert_df.loc[len(vert_df)] = e_dict\n",
      "/home/u2175049/anaconda3/lib/python3.11/site-packages/CellSeg/segmentation2D.py:133: FutureWarning: The behavior of DataFrame concatenation with empty or all-NA entries is deprecated. In a future version, this will no longer exclude empty or all-NA columns when determining the result dtypes. To retain the old behavior, exclude the relevant entries before the concat operation.\n",
      "  vert_df.loc[len(vert_df)] = e_dict\n",
      "/home/u2175049/anaconda3/lib/python3.11/site-packages/CellSeg/segmentation2D.py:133: FutureWarning: The behavior of DataFrame concatenation with empty or all-NA entries is deprecated. In a future version, this will no longer exclude empty or all-NA columns when determining the result dtypes. To retain the old behavior, exclude the relevant entries before the concat operation.\n",
      "  vert_df.loc[len(vert_df)] = e_dict\n",
      "/home/u2175049/anaconda3/lib/python3.11/site-packages/CellSeg/segmentation2D.py:133: FutureWarning: The behavior of DataFrame concatenation with empty or all-NA entries is deprecated. In a future version, this will no longer exclude empty or all-NA columns when determining the result dtypes. To retain the old behavior, exclude the relevant entries before the concat operation.\n",
      "  vert_df.loc[len(vert_df)] = e_dict\n",
      "/home/u2175049/anaconda3/lib/python3.11/site-packages/CellSeg/segmentation2D.py:133: FutureWarning: The behavior of DataFrame concatenation with empty or all-NA entries is deprecated. In a future version, this will no longer exclude empty or all-NA columns when determining the result dtypes. To retain the old behavior, exclude the relevant entries before the concat operation.\n",
      "  vert_df.loc[len(vert_df)] = e_dict\n",
      "/home/u2175049/anaconda3/lib/python3.11/site-packages/CellSeg/segmentation2D.py:133: FutureWarning: The behavior of DataFrame concatenation with empty or all-NA entries is deprecated. In a future version, this will no longer exclude empty or all-NA columns when determining the result dtypes. To retain the old behavior, exclude the relevant entries before the concat operation.\n",
      "  vert_df.loc[len(vert_df)] = e_dict\n",
      "/home/u2175049/anaconda3/lib/python3.11/site-packages/CellSeg/segmentation2D.py:133: FutureWarning: The behavior of DataFrame concatenation with empty or all-NA entries is deprecated. In a future version, this will no longer exclude empty or all-NA columns when determining the result dtypes. To retain the old behavior, exclude the relevant entries before the concat operation.\n",
      "  vert_df.loc[len(vert_df)] = e_dict\n",
      "/home/u2175049/anaconda3/lib/python3.11/site-packages/CellSeg/segmentation2D.py:133: FutureWarning: The behavior of DataFrame concatenation with empty or all-NA entries is deprecated. In a future version, this will no longer exclude empty or all-NA columns when determining the result dtypes. To retain the old behavior, exclude the relevant entries before the concat operation.\n",
      "  vert_df.loc[len(vert_df)] = e_dict\n",
      "/home/u2175049/anaconda3/lib/python3.11/site-packages/CellSeg/segmentation2D.py:133: FutureWarning: The behavior of DataFrame concatenation with empty or all-NA entries is deprecated. In a future version, this will no longer exclude empty or all-NA columns when determining the result dtypes. To retain the old behavior, exclude the relevant entries before the concat operation.\n",
      "  vert_df.loc[len(vert_df)] = e_dict\n"
     ]
    },
    {
     "data": {
      "application/vnd.jupyter.widget-view+json": {
       "model_id": "105814ecff4944b3a9daf0d8c6ad476a",
       "version_major": 2,
       "version_minor": 0
      },
      "text/plain": [
       "Vert segmentation:   0%|          | 0/10 [00:00<?, ?it/s]"
      ]
     },
     "metadata": {},
     "output_type": "display_data"
    },
    {
     "name": "stderr",
     "output_type": "stream",
     "text": [
      "/home/u2175049/anaconda3/lib/python3.11/site-packages/CellSeg/segmentation2D.py:133: FutureWarning: The behavior of DataFrame concatenation with empty or all-NA entries is deprecated. In a future version, this will no longer exclude empty or all-NA columns when determining the result dtypes. To retain the old behavior, exclude the relevant entries before the concat operation.\n",
      "  vert_df.loc[len(vert_df)] = e_dict\n",
      "/home/u2175049/anaconda3/lib/python3.11/site-packages/CellSeg/segmentation2D.py:133: FutureWarning: The behavior of DataFrame concatenation with empty or all-NA entries is deprecated. In a future version, this will no longer exclude empty or all-NA columns when determining the result dtypes. To retain the old behavior, exclude the relevant entries before the concat operation.\n",
      "  vert_df.loc[len(vert_df)] = e_dict\n",
      "/home/u2175049/anaconda3/lib/python3.11/site-packages/CellSeg/segmentation2D.py:133: FutureWarning: The behavior of DataFrame concatenation with empty or all-NA entries is deprecated. In a future version, this will no longer exclude empty or all-NA columns when determining the result dtypes. To retain the old behavior, exclude the relevant entries before the concat operation.\n",
      "  vert_df.loc[len(vert_df)] = e_dict\n",
      "/home/u2175049/anaconda3/lib/python3.11/site-packages/CellSeg/segmentation2D.py:133: FutureWarning: The behavior of DataFrame concatenation with empty or all-NA entries is deprecated. In a future version, this will no longer exclude empty or all-NA columns when determining the result dtypes. To retain the old behavior, exclude the relevant entries before the concat operation.\n",
      "  vert_df.loc[len(vert_df)] = e_dict\n",
      "/home/u2175049/anaconda3/lib/python3.11/site-packages/CellSeg/segmentation2D.py:133: FutureWarning: The behavior of DataFrame concatenation with empty or all-NA entries is deprecated. In a future version, this will no longer exclude empty or all-NA columns when determining the result dtypes. To retain the old behavior, exclude the relevant entries before the concat operation.\n",
      "  vert_df.loc[len(vert_df)] = e_dict\n",
      "/home/u2175049/anaconda3/lib/python3.11/site-packages/CellSeg/segmentation2D.py:133: FutureWarning: The behavior of DataFrame concatenation with empty or all-NA entries is deprecated. In a future version, this will no longer exclude empty or all-NA columns when determining the result dtypes. To retain the old behavior, exclude the relevant entries before the concat operation.\n",
      "  vert_df.loc[len(vert_df)] = e_dict\n"
     ]
    },
    {
     "data": {
      "application/vnd.jupyter.widget-view+json": {
       "model_id": "9ba1e8dcc0604b24870c2ad155563378",
       "version_major": 2,
       "version_minor": 0
      },
      "text/plain": [
       "Vert segmentation:   0%|          | 0/15 [00:00<?, ?it/s]"
      ]
     },
     "metadata": {},
     "output_type": "display_data"
    },
    {
     "name": "stderr",
     "output_type": "stream",
     "text": [
      "/home/u2175049/anaconda3/lib/python3.11/site-packages/CellSeg/segmentation2D.py:133: FutureWarning: The behavior of DataFrame concatenation with empty or all-NA entries is deprecated. In a future version, this will no longer exclude empty or all-NA columns when determining the result dtypes. To retain the old behavior, exclude the relevant entries before the concat operation.\n",
      "  vert_df.loc[len(vert_df)] = e_dict\n",
      "/home/u2175049/anaconda3/lib/python3.11/site-packages/CellSeg/segmentation2D.py:133: FutureWarning: The behavior of DataFrame concatenation with empty or all-NA entries is deprecated. In a future version, this will no longer exclude empty or all-NA columns when determining the result dtypes. To retain the old behavior, exclude the relevant entries before the concat operation.\n",
      "  vert_df.loc[len(vert_df)] = e_dict\n",
      "/home/u2175049/anaconda3/lib/python3.11/site-packages/CellSeg/segmentation2D.py:133: FutureWarning: The behavior of DataFrame concatenation with empty or all-NA entries is deprecated. In a future version, this will no longer exclude empty or all-NA columns when determining the result dtypes. To retain the old behavior, exclude the relevant entries before the concat operation.\n",
      "  vert_df.loc[len(vert_df)] = e_dict\n",
      "/home/u2175049/anaconda3/lib/python3.11/site-packages/CellSeg/segmentation2D.py:133: FutureWarning: The behavior of DataFrame concatenation with empty or all-NA entries is deprecated. In a future version, this will no longer exclude empty or all-NA columns when determining the result dtypes. To retain the old behavior, exclude the relevant entries before the concat operation.\n",
      "  vert_df.loc[len(vert_df)] = e_dict\n",
      "/home/u2175049/anaconda3/lib/python3.11/site-packages/CellSeg/segmentation2D.py:133: FutureWarning: The behavior of DataFrame concatenation with empty or all-NA entries is deprecated. In a future version, this will no longer exclude empty or all-NA columns when determining the result dtypes. To retain the old behavior, exclude the relevant entries before the concat operation.\n",
      "  vert_df.loc[len(vert_df)] = e_dict\n",
      "/home/u2175049/anaconda3/lib/python3.11/site-packages/CellSeg/segmentation2D.py:133: FutureWarning: The behavior of DataFrame concatenation with empty or all-NA entries is deprecated. In a future version, this will no longer exclude empty or all-NA columns when determining the result dtypes. To retain the old behavior, exclude the relevant entries before the concat operation.\n",
      "  vert_df.loc[len(vert_df)] = e_dict\n",
      "/home/u2175049/anaconda3/lib/python3.11/site-packages/CellSeg/segmentation2D.py:133: FutureWarning: The behavior of DataFrame concatenation with empty or all-NA entries is deprecated. In a future version, this will no longer exclude empty or all-NA columns when determining the result dtypes. To retain the old behavior, exclude the relevant entries before the concat operation.\n",
      "  vert_df.loc[len(vert_df)] = e_dict\n"
     ]
    },
    {
     "data": {
      "application/vnd.jupyter.widget-view+json": {
       "model_id": "98cbba399f3648419fa7b305cacab1da",
       "version_major": 2,
       "version_minor": 0
      },
      "text/plain": [
       "Vert segmentation:   0%|          | 0/6 [00:00<?, ?it/s]"
      ]
     },
     "metadata": {},
     "output_type": "display_data"
    },
    {
     "name": "stderr",
     "output_type": "stream",
     "text": [
      "/home/u2175049/anaconda3/lib/python3.11/site-packages/CellSeg/segmentation2D.py:133: FutureWarning: The behavior of DataFrame concatenation with empty or all-NA entries is deprecated. In a future version, this will no longer exclude empty or all-NA columns when determining the result dtypes. To retain the old behavior, exclude the relevant entries before the concat operation.\n",
      "  vert_df.loc[len(vert_df)] = e_dict\n",
      "/home/u2175049/anaconda3/lib/python3.11/site-packages/CellSeg/segmentation2D.py:133: FutureWarning: The behavior of DataFrame concatenation with empty or all-NA entries is deprecated. In a future version, this will no longer exclude empty or all-NA columns when determining the result dtypes. To retain the old behavior, exclude the relevant entries before the concat operation.\n",
      "  vert_df.loc[len(vert_df)] = e_dict\n"
     ]
    },
    {
     "data": {
      "application/vnd.jupyter.widget-view+json": {
       "model_id": "de01f3b1c2eb4f52825f528dd24e5465",
       "version_major": 2,
       "version_minor": 0
      },
      "text/plain": [
       "Vert segmentation:   0%|          | 0/10 [00:00<?, ?it/s]"
      ]
     },
     "metadata": {},
     "output_type": "display_data"
    },
    {
     "name": "stderr",
     "output_type": "stream",
     "text": [
      "/home/u2175049/anaconda3/lib/python3.11/site-packages/CellSeg/segmentation2D.py:133: FutureWarning: The behavior of DataFrame concatenation with empty or all-NA entries is deprecated. In a future version, this will no longer exclude empty or all-NA columns when determining the result dtypes. To retain the old behavior, exclude the relevant entries before the concat operation.\n",
      "  vert_df.loc[len(vert_df)] = e_dict\n",
      "/home/u2175049/anaconda3/lib/python3.11/site-packages/CellSeg/segmentation2D.py:133: FutureWarning: The behavior of DataFrame concatenation with empty or all-NA entries is deprecated. In a future version, this will no longer exclude empty or all-NA columns when determining the result dtypes. To retain the old behavior, exclude the relevant entries before the concat operation.\n",
      "  vert_df.loc[len(vert_df)] = e_dict\n",
      "/home/u2175049/anaconda3/lib/python3.11/site-packages/CellSeg/segmentation2D.py:133: FutureWarning: The behavior of DataFrame concatenation with empty or all-NA entries is deprecated. In a future version, this will no longer exclude empty or all-NA columns when determining the result dtypes. To retain the old behavior, exclude the relevant entries before the concat operation.\n",
      "  vert_df.loc[len(vert_df)] = e_dict\n",
      "/home/u2175049/anaconda3/lib/python3.11/site-packages/CellSeg/segmentation2D.py:133: FutureWarning: The behavior of DataFrame concatenation with empty or all-NA entries is deprecated. In a future version, this will no longer exclude empty or all-NA columns when determining the result dtypes. To retain the old behavior, exclude the relevant entries before the concat operation.\n",
      "  vert_df.loc[len(vert_df)] = e_dict\n",
      "/home/u2175049/anaconda3/lib/python3.11/site-packages/CellSeg/segmentation2D.py:133: FutureWarning: The behavior of DataFrame concatenation with empty or all-NA entries is deprecated. In a future version, this will no longer exclude empty or all-NA columns when determining the result dtypes. To retain the old behavior, exclude the relevant entries before the concat operation.\n",
      "  vert_df.loc[len(vert_df)] = e_dict\n"
     ]
    },
    {
     "data": {
      "application/vnd.jupyter.widget-view+json": {
       "model_id": "f094c7eda7a24854a9ca33580575389c",
       "version_major": 2,
       "version_minor": 0
      },
      "text/plain": [
       "Vert segmentation:   0%|          | 0/15 [00:00<?, ?it/s]"
      ]
     },
     "metadata": {},
     "output_type": "display_data"
    },
    {
     "name": "stderr",
     "output_type": "stream",
     "text": [
      "/home/u2175049/anaconda3/lib/python3.11/site-packages/CellSeg/segmentation2D.py:133: FutureWarning: The behavior of DataFrame concatenation with empty or all-NA entries is deprecated. In a future version, this will no longer exclude empty or all-NA columns when determining the result dtypes. To retain the old behavior, exclude the relevant entries before the concat operation.\n",
      "  vert_df.loc[len(vert_df)] = e_dict\n",
      "/home/u2175049/anaconda3/lib/python3.11/site-packages/CellSeg/segmentation2D.py:133: FutureWarning: The behavior of DataFrame concatenation with empty or all-NA entries is deprecated. In a future version, this will no longer exclude empty or all-NA columns when determining the result dtypes. To retain the old behavior, exclude the relevant entries before the concat operation.\n",
      "  vert_df.loc[len(vert_df)] = e_dict\n",
      "/home/u2175049/anaconda3/lib/python3.11/site-packages/CellSeg/segmentation2D.py:133: FutureWarning: The behavior of DataFrame concatenation with empty or all-NA entries is deprecated. In a future version, this will no longer exclude empty or all-NA columns when determining the result dtypes. To retain the old behavior, exclude the relevant entries before the concat operation.\n",
      "  vert_df.loc[len(vert_df)] = e_dict\n",
      "/home/u2175049/anaconda3/lib/python3.11/site-packages/CellSeg/segmentation2D.py:133: FutureWarning: The behavior of DataFrame concatenation with empty or all-NA entries is deprecated. In a future version, this will no longer exclude empty or all-NA columns when determining the result dtypes. To retain the old behavior, exclude the relevant entries before the concat operation.\n",
      "  vert_df.loc[len(vert_df)] = e_dict\n",
      "/home/u2175049/anaconda3/lib/python3.11/site-packages/CellSeg/segmentation2D.py:133: FutureWarning: The behavior of DataFrame concatenation with empty or all-NA entries is deprecated. In a future version, this will no longer exclude empty or all-NA columns when determining the result dtypes. To retain the old behavior, exclude the relevant entries before the concat operation.\n",
      "  vert_df.loc[len(vert_df)] = e_dict\n",
      "/home/u2175049/anaconda3/lib/python3.11/site-packages/CellSeg/segmentation2D.py:133: FutureWarning: The behavior of DataFrame concatenation with empty or all-NA entries is deprecated. In a future version, this will no longer exclude empty or all-NA columns when determining the result dtypes. To retain the old behavior, exclude the relevant entries before the concat operation.\n",
      "  vert_df.loc[len(vert_df)] = e_dict\n"
     ]
    },
    {
     "data": {
      "application/vnd.jupyter.widget-view+json": {
       "model_id": "763f3958a45c4e04960e1d27cc22a514",
       "version_major": 2,
       "version_minor": 0
      },
      "text/plain": [
       "Vert segmentation:   0%|          | 0/1 [00:00<?, ?it/s]"
      ]
     },
     "metadata": {},
     "output_type": "display_data"
    },
    {
     "data": {
      "application/vnd.jupyter.widget-view+json": {
       "model_id": "41f226c37b85440592dcce021ded1b11",
       "version_major": 2,
       "version_minor": 0
      },
      "text/plain": [
       "Vert segmentation:   0%|          | 0/15 [00:00<?, ?it/s]"
      ]
     },
     "metadata": {},
     "output_type": "display_data"
    },
    {
     "name": "stderr",
     "output_type": "stream",
     "text": [
      "/home/u2175049/anaconda3/lib/python3.11/site-packages/CellSeg/segmentation2D.py:133: FutureWarning: The behavior of DataFrame concatenation with empty or all-NA entries is deprecated. In a future version, this will no longer exclude empty or all-NA columns when determining the result dtypes. To retain the old behavior, exclude the relevant entries before the concat operation.\n",
      "  vert_df.loc[len(vert_df)] = e_dict\n",
      "/home/u2175049/anaconda3/lib/python3.11/site-packages/CellSeg/segmentation2D.py:133: FutureWarning: The behavior of DataFrame concatenation with empty or all-NA entries is deprecated. In a future version, this will no longer exclude empty or all-NA columns when determining the result dtypes. To retain the old behavior, exclude the relevant entries before the concat operation.\n",
      "  vert_df.loc[len(vert_df)] = e_dict\n",
      "/home/u2175049/anaconda3/lib/python3.11/site-packages/CellSeg/segmentation2D.py:133: FutureWarning: The behavior of DataFrame concatenation with empty or all-NA entries is deprecated. In a future version, this will no longer exclude empty or all-NA columns when determining the result dtypes. To retain the old behavior, exclude the relevant entries before the concat operation.\n",
      "  vert_df.loc[len(vert_df)] = e_dict\n",
      "/home/u2175049/anaconda3/lib/python3.11/site-packages/CellSeg/segmentation2D.py:133: FutureWarning: The behavior of DataFrame concatenation with empty or all-NA entries is deprecated. In a future version, this will no longer exclude empty or all-NA columns when determining the result dtypes. To retain the old behavior, exclude the relevant entries before the concat operation.\n",
      "  vert_df.loc[len(vert_df)] = e_dict\n",
      "/home/u2175049/anaconda3/lib/python3.11/site-packages/CellSeg/segmentation2D.py:133: FutureWarning: The behavior of DataFrame concatenation with empty or all-NA entries is deprecated. In a future version, this will no longer exclude empty or all-NA columns when determining the result dtypes. To retain the old behavior, exclude the relevant entries before the concat operation.\n",
      "  vert_df.loc[len(vert_df)] = e_dict\n",
      "/home/u2175049/anaconda3/lib/python3.11/site-packages/CellSeg/segmentation2D.py:133: FutureWarning: The behavior of DataFrame concatenation with empty or all-NA entries is deprecated. In a future version, this will no longer exclude empty or all-NA columns when determining the result dtypes. To retain the old behavior, exclude the relevant entries before the concat operation.\n",
      "  vert_df.loc[len(vert_df)] = e_dict\n",
      "/home/u2175049/anaconda3/lib/python3.11/site-packages/CellSeg/segmentation2D.py:133: FutureWarning: The behavior of DataFrame concatenation with empty or all-NA entries is deprecated. In a future version, this will no longer exclude empty or all-NA columns when determining the result dtypes. To retain the old behavior, exclude the relevant entries before the concat operation.\n",
      "  vert_df.loc[len(vert_df)] = e_dict\n",
      "/home/u2175049/anaconda3/lib/python3.11/site-packages/CellSeg/segmentation2D.py:133: FutureWarning: The behavior of DataFrame concatenation with empty or all-NA entries is deprecated. In a future version, this will no longer exclude empty or all-NA columns when determining the result dtypes. To retain the old behavior, exclude the relevant entries before the concat operation.\n",
      "  vert_df.loc[len(vert_df)] = e_dict\n"
     ]
    },
    {
     "data": {
      "application/vnd.jupyter.widget-view+json": {
       "model_id": "23601a3aecb64e85b144c896e8f8bd63",
       "version_major": 2,
       "version_minor": 0
      },
      "text/plain": [
       "Vert segmentation:   0%|          | 0/15 [00:00<?, ?it/s]"
      ]
     },
     "metadata": {},
     "output_type": "display_data"
    },
    {
     "name": "stderr",
     "output_type": "stream",
     "text": [
      "/home/u2175049/anaconda3/lib/python3.11/site-packages/CellSeg/segmentation2D.py:133: FutureWarning: The behavior of DataFrame concatenation with empty or all-NA entries is deprecated. In a future version, this will no longer exclude empty or all-NA columns when determining the result dtypes. To retain the old behavior, exclude the relevant entries before the concat operation.\n",
      "  vert_df.loc[len(vert_df)] = e_dict\n",
      "/home/u2175049/anaconda3/lib/python3.11/site-packages/CellSeg/segmentation2D.py:133: FutureWarning: The behavior of DataFrame concatenation with empty or all-NA entries is deprecated. In a future version, this will no longer exclude empty or all-NA columns when determining the result dtypes. To retain the old behavior, exclude the relevant entries before the concat operation.\n",
      "  vert_df.loc[len(vert_df)] = e_dict\n",
      "/home/u2175049/anaconda3/lib/python3.11/site-packages/CellSeg/segmentation2D.py:133: FutureWarning: The behavior of DataFrame concatenation with empty or all-NA entries is deprecated. In a future version, this will no longer exclude empty or all-NA columns when determining the result dtypes. To retain the old behavior, exclude the relevant entries before the concat operation.\n",
      "  vert_df.loc[len(vert_df)] = e_dict\n",
      "/home/u2175049/anaconda3/lib/python3.11/site-packages/CellSeg/segmentation2D.py:133: FutureWarning: The behavior of DataFrame concatenation with empty or all-NA entries is deprecated. In a future version, this will no longer exclude empty or all-NA columns when determining the result dtypes. To retain the old behavior, exclude the relevant entries before the concat operation.\n",
      "  vert_df.loc[len(vert_df)] = e_dict\n",
      "/home/u2175049/anaconda3/lib/python3.11/site-packages/CellSeg/segmentation2D.py:133: FutureWarning: The behavior of DataFrame concatenation with empty or all-NA entries is deprecated. In a future version, this will no longer exclude empty or all-NA columns when determining the result dtypes. To retain the old behavior, exclude the relevant entries before the concat operation.\n",
      "  vert_df.loc[len(vert_df)] = e_dict\n",
      "/home/u2175049/anaconda3/lib/python3.11/site-packages/CellSeg/segmentation2D.py:133: FutureWarning: The behavior of DataFrame concatenation with empty or all-NA entries is deprecated. In a future version, this will no longer exclude empty or all-NA columns when determining the result dtypes. To retain the old behavior, exclude the relevant entries before the concat operation.\n",
      "  vert_df.loc[len(vert_df)] = e_dict\n",
      "/home/u2175049/anaconda3/lib/python3.11/site-packages/CellSeg/segmentation2D.py:133: FutureWarning: The behavior of DataFrame concatenation with empty or all-NA entries is deprecated. In a future version, this will no longer exclude empty or all-NA columns when determining the result dtypes. To retain the old behavior, exclude the relevant entries before the concat operation.\n",
      "  vert_df.loc[len(vert_df)] = e_dict\n",
      "/home/u2175049/anaconda3/lib/python3.11/site-packages/CellSeg/segmentation2D.py:133: FutureWarning: The behavior of DataFrame concatenation with empty or all-NA entries is deprecated. In a future version, this will no longer exclude empty or all-NA columns when determining the result dtypes. To retain the old behavior, exclude the relevant entries before the concat operation.\n",
      "  vert_df.loc[len(vert_df)] = e_dict\n",
      "/home/u2175049/anaconda3/lib/python3.11/site-packages/CellSeg/segmentation2D.py:133: FutureWarning: The behavior of DataFrame concatenation with empty or all-NA entries is deprecated. In a future version, this will no longer exclude empty or all-NA columns when determining the result dtypes. To retain the old behavior, exclude the relevant entries before the concat operation.\n",
      "  vert_df.loc[len(vert_df)] = e_dict\n"
     ]
    },
    {
     "data": {
      "application/vnd.jupyter.widget-view+json": {
       "model_id": "7beca630ff05491580302050054627de",
       "version_major": 2,
       "version_minor": 0
      },
      "text/plain": [
       "Vert segmentation:   0%|          | 0/15 [00:00<?, ?it/s]"
      ]
     },
     "metadata": {},
     "output_type": "display_data"
    },
    {
     "name": "stderr",
     "output_type": "stream",
     "text": [
      "/home/u2175049/anaconda3/lib/python3.11/site-packages/CellSeg/segmentation2D.py:133: FutureWarning: The behavior of DataFrame concatenation with empty or all-NA entries is deprecated. In a future version, this will no longer exclude empty or all-NA columns when determining the result dtypes. To retain the old behavior, exclude the relevant entries before the concat operation.\n",
      "  vert_df.loc[len(vert_df)] = e_dict\n",
      "/home/u2175049/anaconda3/lib/python3.11/site-packages/CellSeg/segmentation2D.py:133: FutureWarning: The behavior of DataFrame concatenation with empty or all-NA entries is deprecated. In a future version, this will no longer exclude empty or all-NA columns when determining the result dtypes. To retain the old behavior, exclude the relevant entries before the concat operation.\n",
      "  vert_df.loc[len(vert_df)] = e_dict\n",
      "/home/u2175049/anaconda3/lib/python3.11/site-packages/CellSeg/segmentation2D.py:133: FutureWarning: The behavior of DataFrame concatenation with empty or all-NA entries is deprecated. In a future version, this will no longer exclude empty or all-NA columns when determining the result dtypes. To retain the old behavior, exclude the relevant entries before the concat operation.\n",
      "  vert_df.loc[len(vert_df)] = e_dict\n",
      "/home/u2175049/anaconda3/lib/python3.11/site-packages/CellSeg/segmentation2D.py:133: FutureWarning: The behavior of DataFrame concatenation with empty or all-NA entries is deprecated. In a future version, this will no longer exclude empty or all-NA columns when determining the result dtypes. To retain the old behavior, exclude the relevant entries before the concat operation.\n",
      "  vert_df.loc[len(vert_df)] = e_dict\n",
      "/home/u2175049/anaconda3/lib/python3.11/site-packages/CellSeg/segmentation2D.py:133: FutureWarning: The behavior of DataFrame concatenation with empty or all-NA entries is deprecated. In a future version, this will no longer exclude empty or all-NA columns when determining the result dtypes. To retain the old behavior, exclude the relevant entries before the concat operation.\n",
      "  vert_df.loc[len(vert_df)] = e_dict\n",
      "/home/u2175049/anaconda3/lib/python3.11/site-packages/CellSeg/segmentation2D.py:133: FutureWarning: The behavior of DataFrame concatenation with empty or all-NA entries is deprecated. In a future version, this will no longer exclude empty or all-NA columns when determining the result dtypes. To retain the old behavior, exclude the relevant entries before the concat operation.\n",
      "  vert_df.loc[len(vert_df)] = e_dict\n",
      "/home/u2175049/anaconda3/lib/python3.11/site-packages/CellSeg/segmentation2D.py:133: FutureWarning: The behavior of DataFrame concatenation with empty or all-NA entries is deprecated. In a future version, this will no longer exclude empty or all-NA columns when determining the result dtypes. To retain the old behavior, exclude the relevant entries before the concat operation.\n",
      "  vert_df.loc[len(vert_df)] = e_dict\n",
      "/home/u2175049/anaconda3/lib/python3.11/site-packages/CellSeg/segmentation2D.py:133: FutureWarning: The behavior of DataFrame concatenation with empty or all-NA entries is deprecated. In a future version, this will no longer exclude empty or all-NA columns when determining the result dtypes. To retain the old behavior, exclude the relevant entries before the concat operation.\n",
      "  vert_df.loc[len(vert_df)] = e_dict\n",
      "/home/u2175049/anaconda3/lib/python3.11/site-packages/CellSeg/segmentation2D.py:133: FutureWarning: The behavior of DataFrame concatenation with empty or all-NA entries is deprecated. In a future version, this will no longer exclude empty or all-NA columns when determining the result dtypes. To retain the old behavior, exclude the relevant entries before the concat operation.\n",
      "  vert_df.loc[len(vert_df)] = e_dict\n"
     ]
    },
    {
     "data": {
      "application/vnd.jupyter.widget-view+json": {
       "model_id": "b0c555eef3f842e2859e3b3e3607fe3b",
       "version_major": 2,
       "version_minor": 0
      },
      "text/plain": [
       "Vert segmentation:   0%|          | 0/21 [00:00<?, ?it/s]"
      ]
     },
     "metadata": {},
     "output_type": "display_data"
    },
    {
     "name": "stderr",
     "output_type": "stream",
     "text": [
      "/home/u2175049/anaconda3/lib/python3.11/site-packages/CellSeg/segmentation2D.py:133: FutureWarning: The behavior of DataFrame concatenation with empty or all-NA entries is deprecated. In a future version, this will no longer exclude empty or all-NA columns when determining the result dtypes. To retain the old behavior, exclude the relevant entries before the concat operation.\n",
      "  vert_df.loc[len(vert_df)] = e_dict\n",
      "/home/u2175049/anaconda3/lib/python3.11/site-packages/CellSeg/segmentation2D.py:133: FutureWarning: The behavior of DataFrame concatenation with empty or all-NA entries is deprecated. In a future version, this will no longer exclude empty or all-NA columns when determining the result dtypes. To retain the old behavior, exclude the relevant entries before the concat operation.\n",
      "  vert_df.loc[len(vert_df)] = e_dict\n",
      "/home/u2175049/anaconda3/lib/python3.11/site-packages/CellSeg/segmentation2D.py:133: FutureWarning: The behavior of DataFrame concatenation with empty or all-NA entries is deprecated. In a future version, this will no longer exclude empty or all-NA columns when determining the result dtypes. To retain the old behavior, exclude the relevant entries before the concat operation.\n",
      "  vert_df.loc[len(vert_df)] = e_dict\n",
      "/home/u2175049/anaconda3/lib/python3.11/site-packages/CellSeg/segmentation2D.py:133: FutureWarning: The behavior of DataFrame concatenation with empty or all-NA entries is deprecated. In a future version, this will no longer exclude empty or all-NA columns when determining the result dtypes. To retain the old behavior, exclude the relevant entries before the concat operation.\n",
      "  vert_df.loc[len(vert_df)] = e_dict\n",
      "/home/u2175049/anaconda3/lib/python3.11/site-packages/CellSeg/segmentation2D.py:133: FutureWarning: The behavior of DataFrame concatenation with empty or all-NA entries is deprecated. In a future version, this will no longer exclude empty or all-NA columns when determining the result dtypes. To retain the old behavior, exclude the relevant entries before the concat operation.\n",
      "  vert_df.loc[len(vert_df)] = e_dict\n",
      "/home/u2175049/anaconda3/lib/python3.11/site-packages/CellSeg/segmentation2D.py:133: FutureWarning: The behavior of DataFrame concatenation with empty or all-NA entries is deprecated. In a future version, this will no longer exclude empty or all-NA columns when determining the result dtypes. To retain the old behavior, exclude the relevant entries before the concat operation.\n",
      "  vert_df.loc[len(vert_df)] = e_dict\n",
      "/home/u2175049/anaconda3/lib/python3.11/site-packages/CellSeg/segmentation2D.py:133: FutureWarning: The behavior of DataFrame concatenation with empty or all-NA entries is deprecated. In a future version, this will no longer exclude empty or all-NA columns when determining the result dtypes. To retain the old behavior, exclude the relevant entries before the concat operation.\n",
      "  vert_df.loc[len(vert_df)] = e_dict\n",
      "/home/u2175049/anaconda3/lib/python3.11/site-packages/CellSeg/segmentation2D.py:133: FutureWarning: The behavior of DataFrame concatenation with empty or all-NA entries is deprecated. In a future version, this will no longer exclude empty or all-NA columns when determining the result dtypes. To retain the old behavior, exclude the relevant entries before the concat operation.\n",
      "  vert_df.loc[len(vert_df)] = e_dict\n",
      "/home/u2175049/anaconda3/lib/python3.11/site-packages/CellSeg/segmentation2D.py:133: FutureWarning: The behavior of DataFrame concatenation with empty or all-NA entries is deprecated. In a future version, this will no longer exclude empty or all-NA columns when determining the result dtypes. To retain the old behavior, exclude the relevant entries before the concat operation.\n",
      "  vert_df.loc[len(vert_df)] = e_dict\n",
      "/home/u2175049/anaconda3/lib/python3.11/site-packages/CellSeg/segmentation2D.py:133: FutureWarning: The behavior of DataFrame concatenation with empty or all-NA entries is deprecated. In a future version, this will no longer exclude empty or all-NA columns when determining the result dtypes. To retain the old behavior, exclude the relevant entries before the concat operation.\n",
      "  vert_df.loc[len(vert_df)] = e_dict\n",
      "/home/u2175049/anaconda3/lib/python3.11/site-packages/CellSeg/segmentation2D.py:133: FutureWarning: The behavior of DataFrame concatenation with empty or all-NA entries is deprecated. In a future version, this will no longer exclude empty or all-NA columns when determining the result dtypes. To retain the old behavior, exclude the relevant entries before the concat operation.\n",
      "  vert_df.loc[len(vert_df)] = e_dict\n",
      "/home/u2175049/anaconda3/lib/python3.11/site-packages/CellSeg/segmentation2D.py:133: FutureWarning: The behavior of DataFrame concatenation with empty or all-NA entries is deprecated. In a future version, this will no longer exclude empty or all-NA columns when determining the result dtypes. To retain the old behavior, exclude the relevant entries before the concat operation.\n",
      "  vert_df.loc[len(vert_df)] = e_dict\n",
      "/home/u2175049/anaconda3/lib/python3.11/site-packages/CellSeg/segmentation2D.py:133: FutureWarning: The behavior of DataFrame concatenation with empty or all-NA entries is deprecated. In a future version, this will no longer exclude empty or all-NA columns when determining the result dtypes. To retain the old behavior, exclude the relevant entries before the concat operation.\n",
      "  vert_df.loc[len(vert_df)] = e_dict\n",
      "/home/u2175049/anaconda3/lib/python3.11/site-packages/CellSeg/segmentation2D.py:133: FutureWarning: The behavior of DataFrame concatenation with empty or all-NA entries is deprecated. In a future version, this will no longer exclude empty or all-NA columns when determining the result dtypes. To retain the old behavior, exclude the relevant entries before the concat operation.\n",
      "  vert_df.loc[len(vert_df)] = e_dict\n",
      "/home/u2175049/anaconda3/lib/python3.11/site-packages/CellSeg/segmentation2D.py:133: FutureWarning: The behavior of DataFrame concatenation with empty or all-NA entries is deprecated. In a future version, this will no longer exclude empty or all-NA columns when determining the result dtypes. To retain the old behavior, exclude the relevant entries before the concat operation.\n",
      "  vert_df.loc[len(vert_df)] = e_dict\n"
     ]
    },
    {
     "data": {
      "application/vnd.jupyter.widget-view+json": {
       "model_id": "8bbe7356d7a84834b66fc63928d2304c",
       "version_major": 2,
       "version_minor": 0
      },
      "text/plain": [
       "Vert segmentation:   0%|          | 0/10 [00:00<?, ?it/s]"
      ]
     },
     "metadata": {},
     "output_type": "display_data"
    },
    {
     "name": "stderr",
     "output_type": "stream",
     "text": [
      "/home/u2175049/anaconda3/lib/python3.11/site-packages/CellSeg/segmentation2D.py:133: FutureWarning: The behavior of DataFrame concatenation with empty or all-NA entries is deprecated. In a future version, this will no longer exclude empty or all-NA columns when determining the result dtypes. To retain the old behavior, exclude the relevant entries before the concat operation.\n",
      "  vert_df.loc[len(vert_df)] = e_dict\n",
      "/home/u2175049/anaconda3/lib/python3.11/site-packages/CellSeg/segmentation2D.py:133: FutureWarning: The behavior of DataFrame concatenation with empty or all-NA entries is deprecated. In a future version, this will no longer exclude empty or all-NA columns when determining the result dtypes. To retain the old behavior, exclude the relevant entries before the concat operation.\n",
      "  vert_df.loc[len(vert_df)] = e_dict\n",
      "/home/u2175049/anaconda3/lib/python3.11/site-packages/CellSeg/segmentation2D.py:133: FutureWarning: The behavior of DataFrame concatenation with empty or all-NA entries is deprecated. In a future version, this will no longer exclude empty or all-NA columns when determining the result dtypes. To retain the old behavior, exclude the relevant entries before the concat operation.\n",
      "  vert_df.loc[len(vert_df)] = e_dict\n",
      "/home/u2175049/anaconda3/lib/python3.11/site-packages/CellSeg/segmentation2D.py:133: FutureWarning: The behavior of DataFrame concatenation with empty or all-NA entries is deprecated. In a future version, this will no longer exclude empty or all-NA columns when determining the result dtypes. To retain the old behavior, exclude the relevant entries before the concat operation.\n",
      "  vert_df.loc[len(vert_df)] = e_dict\n",
      "/home/u2175049/anaconda3/lib/python3.11/site-packages/CellSeg/segmentation2D.py:133: FutureWarning: The behavior of DataFrame concatenation with empty or all-NA entries is deprecated. In a future version, this will no longer exclude empty or all-NA columns when determining the result dtypes. To retain the old behavior, exclude the relevant entries before the concat operation.\n",
      "  vert_df.loc[len(vert_df)] = e_dict\n"
     ]
    },
    {
     "data": {
      "application/vnd.jupyter.widget-view+json": {
       "model_id": "bc9d8a4024144da7965d9f45e2386a71",
       "version_major": 2,
       "version_minor": 0
      },
      "text/plain": [
       "Vert segmentation:   0%|          | 0/6 [00:00<?, ?it/s]"
      ]
     },
     "metadata": {},
     "output_type": "display_data"
    },
    {
     "name": "stderr",
     "output_type": "stream",
     "text": [
      "/home/u2175049/anaconda3/lib/python3.11/site-packages/CellSeg/segmentation2D.py:133: FutureWarning: The behavior of DataFrame concatenation with empty or all-NA entries is deprecated. In a future version, this will no longer exclude empty or all-NA columns when determining the result dtypes. To retain the old behavior, exclude the relevant entries before the concat operation.\n",
      "  vert_df.loc[len(vert_df)] = e_dict\n",
      "/home/u2175049/anaconda3/lib/python3.11/site-packages/CellSeg/segmentation2D.py:133: FutureWarning: The behavior of DataFrame concatenation with empty or all-NA entries is deprecated. In a future version, this will no longer exclude empty or all-NA columns when determining the result dtypes. To retain the old behavior, exclude the relevant entries before the concat operation.\n",
      "  vert_df.loc[len(vert_df)] = e_dict\n"
     ]
    },
    {
     "data": {
      "application/vnd.jupyter.widget-view+json": {
       "model_id": "13a59b5c16424c5f8b511d4c5df897bf",
       "version_major": 2,
       "version_minor": 0
      },
      "text/plain": [
       "Vert segmentation:   0%|          | 0/21 [00:00<?, ?it/s]"
      ]
     },
     "metadata": {},
     "output_type": "display_data"
    },
    {
     "name": "stderr",
     "output_type": "stream",
     "text": [
      "/home/u2175049/anaconda3/lib/python3.11/site-packages/CellSeg/segmentation2D.py:133: FutureWarning: The behavior of DataFrame concatenation with empty or all-NA entries is deprecated. In a future version, this will no longer exclude empty or all-NA columns when determining the result dtypes. To retain the old behavior, exclude the relevant entries before the concat operation.\n",
      "  vert_df.loc[len(vert_df)] = e_dict\n",
      "/home/u2175049/anaconda3/lib/python3.11/site-packages/CellSeg/segmentation2D.py:133: FutureWarning: The behavior of DataFrame concatenation with empty or all-NA entries is deprecated. In a future version, this will no longer exclude empty or all-NA columns when determining the result dtypes. To retain the old behavior, exclude the relevant entries before the concat operation.\n",
      "  vert_df.loc[len(vert_df)] = e_dict\n",
      "/home/u2175049/anaconda3/lib/python3.11/site-packages/CellSeg/segmentation2D.py:133: FutureWarning: The behavior of DataFrame concatenation with empty or all-NA entries is deprecated. In a future version, this will no longer exclude empty or all-NA columns when determining the result dtypes. To retain the old behavior, exclude the relevant entries before the concat operation.\n",
      "  vert_df.loc[len(vert_df)] = e_dict\n",
      "/home/u2175049/anaconda3/lib/python3.11/site-packages/CellSeg/segmentation2D.py:133: FutureWarning: The behavior of DataFrame concatenation with empty or all-NA entries is deprecated. In a future version, this will no longer exclude empty or all-NA columns when determining the result dtypes. To retain the old behavior, exclude the relevant entries before the concat operation.\n",
      "  vert_df.loc[len(vert_df)] = e_dict\n",
      "/home/u2175049/anaconda3/lib/python3.11/site-packages/CellSeg/segmentation2D.py:133: FutureWarning: The behavior of DataFrame concatenation with empty or all-NA entries is deprecated. In a future version, this will no longer exclude empty or all-NA columns when determining the result dtypes. To retain the old behavior, exclude the relevant entries before the concat operation.\n",
      "  vert_df.loc[len(vert_df)] = e_dict\n",
      "/home/u2175049/anaconda3/lib/python3.11/site-packages/CellSeg/segmentation2D.py:133: FutureWarning: The behavior of DataFrame concatenation with empty or all-NA entries is deprecated. In a future version, this will no longer exclude empty or all-NA columns when determining the result dtypes. To retain the old behavior, exclude the relevant entries before the concat operation.\n",
      "  vert_df.loc[len(vert_df)] = e_dict\n",
      "/home/u2175049/anaconda3/lib/python3.11/site-packages/CellSeg/segmentation2D.py:133: FutureWarning: The behavior of DataFrame concatenation with empty or all-NA entries is deprecated. In a future version, this will no longer exclude empty or all-NA columns when determining the result dtypes. To retain the old behavior, exclude the relevant entries before the concat operation.\n",
      "  vert_df.loc[len(vert_df)] = e_dict\n",
      "/home/u2175049/anaconda3/lib/python3.11/site-packages/CellSeg/segmentation2D.py:133: FutureWarning: The behavior of DataFrame concatenation with empty or all-NA entries is deprecated. In a future version, this will no longer exclude empty or all-NA columns when determining the result dtypes. To retain the old behavior, exclude the relevant entries before the concat operation.\n",
      "  vert_df.loc[len(vert_df)] = e_dict\n",
      "/home/u2175049/anaconda3/lib/python3.11/site-packages/CellSeg/segmentation2D.py:133: FutureWarning: The behavior of DataFrame concatenation with empty or all-NA entries is deprecated. In a future version, this will no longer exclude empty or all-NA columns when determining the result dtypes. To retain the old behavior, exclude the relevant entries before the concat operation.\n",
      "  vert_df.loc[len(vert_df)] = e_dict\n",
      "/home/u2175049/anaconda3/lib/python3.11/site-packages/CellSeg/segmentation2D.py:133: FutureWarning: The behavior of DataFrame concatenation with empty or all-NA entries is deprecated. In a future version, this will no longer exclude empty or all-NA columns when determining the result dtypes. To retain the old behavior, exclude the relevant entries before the concat operation.\n",
      "  vert_df.loc[len(vert_df)] = e_dict\n",
      "/home/u2175049/anaconda3/lib/python3.11/site-packages/CellSeg/segmentation2D.py:133: FutureWarning: The behavior of DataFrame concatenation with empty or all-NA entries is deprecated. In a future version, this will no longer exclude empty or all-NA columns when determining the result dtypes. To retain the old behavior, exclude the relevant entries before the concat operation.\n",
      "  vert_df.loc[len(vert_df)] = e_dict\n",
      "/home/u2175049/anaconda3/lib/python3.11/site-packages/CellSeg/segmentation2D.py:133: FutureWarning: The behavior of DataFrame concatenation with empty or all-NA entries is deprecated. In a future version, this will no longer exclude empty or all-NA columns when determining the result dtypes. To retain the old behavior, exclude the relevant entries before the concat operation.\n",
      "  vert_df.loc[len(vert_df)] = e_dict\n",
      "/home/u2175049/anaconda3/lib/python3.11/site-packages/CellSeg/segmentation2D.py:133: FutureWarning: The behavior of DataFrame concatenation with empty or all-NA entries is deprecated. In a future version, this will no longer exclude empty or all-NA columns when determining the result dtypes. To retain the old behavior, exclude the relevant entries before the concat operation.\n",
      "  vert_df.loc[len(vert_df)] = e_dict\n"
     ]
    },
    {
     "data": {
      "application/vnd.jupyter.widget-view+json": {
       "model_id": "e8dc75e91c6f4dea9cd05f66bb1d3a50",
       "version_major": 2,
       "version_minor": 0
      },
      "text/plain": [
       "Vert segmentation:   0%|          | 0/15 [00:00<?, ?it/s]"
      ]
     },
     "metadata": {},
     "output_type": "display_data"
    },
    {
     "name": "stderr",
     "output_type": "stream",
     "text": [
      "/home/u2175049/anaconda3/lib/python3.11/site-packages/CellSeg/segmentation2D.py:133: FutureWarning: The behavior of DataFrame concatenation with empty or all-NA entries is deprecated. In a future version, this will no longer exclude empty or all-NA columns when determining the result dtypes. To retain the old behavior, exclude the relevant entries before the concat operation.\n",
      "  vert_df.loc[len(vert_df)] = e_dict\n",
      "/home/u2175049/anaconda3/lib/python3.11/site-packages/CellSeg/segmentation2D.py:133: FutureWarning: The behavior of DataFrame concatenation with empty or all-NA entries is deprecated. In a future version, this will no longer exclude empty or all-NA columns when determining the result dtypes. To retain the old behavior, exclude the relevant entries before the concat operation.\n",
      "  vert_df.loc[len(vert_df)] = e_dict\n",
      "/home/u2175049/anaconda3/lib/python3.11/site-packages/CellSeg/segmentation2D.py:133: FutureWarning: The behavior of DataFrame concatenation with empty or all-NA entries is deprecated. In a future version, this will no longer exclude empty or all-NA columns when determining the result dtypes. To retain the old behavior, exclude the relevant entries before the concat operation.\n",
      "  vert_df.loc[len(vert_df)] = e_dict\n",
      "/home/u2175049/anaconda3/lib/python3.11/site-packages/CellSeg/segmentation2D.py:133: FutureWarning: The behavior of DataFrame concatenation with empty or all-NA entries is deprecated. In a future version, this will no longer exclude empty or all-NA columns when determining the result dtypes. To retain the old behavior, exclude the relevant entries before the concat operation.\n",
      "  vert_df.loc[len(vert_df)] = e_dict\n",
      "/home/u2175049/anaconda3/lib/python3.11/site-packages/CellSeg/segmentation2D.py:133: FutureWarning: The behavior of DataFrame concatenation with empty or all-NA entries is deprecated. In a future version, this will no longer exclude empty or all-NA columns when determining the result dtypes. To retain the old behavior, exclude the relevant entries before the concat operation.\n",
      "  vert_df.loc[len(vert_df)] = e_dict\n",
      "/home/u2175049/anaconda3/lib/python3.11/site-packages/CellSeg/segmentation2D.py:133: FutureWarning: The behavior of DataFrame concatenation with empty or all-NA entries is deprecated. In a future version, this will no longer exclude empty or all-NA columns when determining the result dtypes. To retain the old behavior, exclude the relevant entries before the concat operation.\n",
      "  vert_df.loc[len(vert_df)] = e_dict\n",
      "/home/u2175049/anaconda3/lib/python3.11/site-packages/CellSeg/segmentation2D.py:133: FutureWarning: The behavior of DataFrame concatenation with empty or all-NA entries is deprecated. In a future version, this will no longer exclude empty or all-NA columns when determining the result dtypes. To retain the old behavior, exclude the relevant entries before the concat operation.\n",
      "  vert_df.loc[len(vert_df)] = e_dict\n",
      "/home/u2175049/anaconda3/lib/python3.11/site-packages/CellSeg/segmentation2D.py:133: FutureWarning: The behavior of DataFrame concatenation with empty or all-NA entries is deprecated. In a future version, this will no longer exclude empty or all-NA columns when determining the result dtypes. To retain the old behavior, exclude the relevant entries before the concat operation.\n",
      "  vert_df.loc[len(vert_df)] = e_dict\n",
      "/home/u2175049/anaconda3/lib/python3.11/site-packages/CellSeg/segmentation2D.py:133: FutureWarning: The behavior of DataFrame concatenation with empty or all-NA entries is deprecated. In a future version, this will no longer exclude empty or all-NA columns when determining the result dtypes. To retain the old behavior, exclude the relevant entries before the concat operation.\n",
      "  vert_df.loc[len(vert_df)] = e_dict\n"
     ]
    },
    {
     "data": {
      "application/vnd.jupyter.widget-view+json": {
       "model_id": "d3b0164c982541f6bdbb123bc2c6f061",
       "version_major": 2,
       "version_minor": 0
      },
      "text/plain": [
       "Vert segmentation:   0%|          | 0/10 [00:00<?, ?it/s]"
      ]
     },
     "metadata": {},
     "output_type": "display_data"
    },
    {
     "name": "stderr",
     "output_type": "stream",
     "text": [
      "/home/u2175049/anaconda3/lib/python3.11/site-packages/CellSeg/segmentation2D.py:133: FutureWarning: The behavior of DataFrame concatenation with empty or all-NA entries is deprecated. In a future version, this will no longer exclude empty or all-NA columns when determining the result dtypes. To retain the old behavior, exclude the relevant entries before the concat operation.\n",
      "  vert_df.loc[len(vert_df)] = e_dict\n",
      "/home/u2175049/anaconda3/lib/python3.11/site-packages/CellSeg/segmentation2D.py:133: FutureWarning: The behavior of DataFrame concatenation with empty or all-NA entries is deprecated. In a future version, this will no longer exclude empty or all-NA columns when determining the result dtypes. To retain the old behavior, exclude the relevant entries before the concat operation.\n",
      "  vert_df.loc[len(vert_df)] = e_dict\n",
      "/home/u2175049/anaconda3/lib/python3.11/site-packages/CellSeg/segmentation2D.py:133: FutureWarning: The behavior of DataFrame concatenation with empty or all-NA entries is deprecated. In a future version, this will no longer exclude empty or all-NA columns when determining the result dtypes. To retain the old behavior, exclude the relevant entries before the concat operation.\n",
      "  vert_df.loc[len(vert_df)] = e_dict\n",
      "/home/u2175049/anaconda3/lib/python3.11/site-packages/CellSeg/segmentation2D.py:133: FutureWarning: The behavior of DataFrame concatenation with empty or all-NA entries is deprecated. In a future version, this will no longer exclude empty or all-NA columns when determining the result dtypes. To retain the old behavior, exclude the relevant entries before the concat operation.\n",
      "  vert_df.loc[len(vert_df)] = e_dict\n",
      "/home/u2175049/anaconda3/lib/python3.11/site-packages/CellSeg/segmentation2D.py:133: FutureWarning: The behavior of DataFrame concatenation with empty or all-NA entries is deprecated. In a future version, this will no longer exclude empty or all-NA columns when determining the result dtypes. To retain the old behavior, exclude the relevant entries before the concat operation.\n",
      "  vert_df.loc[len(vert_df)] = e_dict\n"
     ]
    },
    {
     "data": {
      "application/vnd.jupyter.widget-view+json": {
       "model_id": "414ff6ff96224e0f8e221bef759c090e",
       "version_major": 2,
       "version_minor": 0
      },
      "text/plain": [
       "Vert segmentation:   0%|          | 0/28 [00:00<?, ?it/s]"
      ]
     },
     "metadata": {},
     "output_type": "display_data"
    },
    {
     "name": "stderr",
     "output_type": "stream",
     "text": [
      "/home/u2175049/anaconda3/lib/python3.11/site-packages/CellSeg/segmentation2D.py:133: FutureWarning: The behavior of DataFrame concatenation with empty or all-NA entries is deprecated. In a future version, this will no longer exclude empty or all-NA columns when determining the result dtypes. To retain the old behavior, exclude the relevant entries before the concat operation.\n",
      "  vert_df.loc[len(vert_df)] = e_dict\n",
      "/home/u2175049/anaconda3/lib/python3.11/site-packages/CellSeg/segmentation2D.py:133: FutureWarning: The behavior of DataFrame concatenation with empty or all-NA entries is deprecated. In a future version, this will no longer exclude empty or all-NA columns when determining the result dtypes. To retain the old behavior, exclude the relevant entries before the concat operation.\n",
      "  vert_df.loc[len(vert_df)] = e_dict\n",
      "/home/u2175049/anaconda3/lib/python3.11/site-packages/CellSeg/segmentation2D.py:133: FutureWarning: The behavior of DataFrame concatenation with empty or all-NA entries is deprecated. In a future version, this will no longer exclude empty or all-NA columns when determining the result dtypes. To retain the old behavior, exclude the relevant entries before the concat operation.\n",
      "  vert_df.loc[len(vert_df)] = e_dict\n",
      "/home/u2175049/anaconda3/lib/python3.11/site-packages/CellSeg/segmentation2D.py:133: FutureWarning: The behavior of DataFrame concatenation with empty or all-NA entries is deprecated. In a future version, this will no longer exclude empty or all-NA columns when determining the result dtypes. To retain the old behavior, exclude the relevant entries before the concat operation.\n",
      "  vert_df.loc[len(vert_df)] = e_dict\n",
      "/home/u2175049/anaconda3/lib/python3.11/site-packages/CellSeg/segmentation2D.py:133: FutureWarning: The behavior of DataFrame concatenation with empty or all-NA entries is deprecated. In a future version, this will no longer exclude empty or all-NA columns when determining the result dtypes. To retain the old behavior, exclude the relevant entries before the concat operation.\n",
      "  vert_df.loc[len(vert_df)] = e_dict\n",
      "/home/u2175049/anaconda3/lib/python3.11/site-packages/CellSeg/segmentation2D.py:133: FutureWarning: The behavior of DataFrame concatenation with empty or all-NA entries is deprecated. In a future version, this will no longer exclude empty or all-NA columns when determining the result dtypes. To retain the old behavior, exclude the relevant entries before the concat operation.\n",
      "  vert_df.loc[len(vert_df)] = e_dict\n",
      "/home/u2175049/anaconda3/lib/python3.11/site-packages/CellSeg/segmentation2D.py:133: FutureWarning: The behavior of DataFrame concatenation with empty or all-NA entries is deprecated. In a future version, this will no longer exclude empty or all-NA columns when determining the result dtypes. To retain the old behavior, exclude the relevant entries before the concat operation.\n",
      "  vert_df.loc[len(vert_df)] = e_dict\n",
      "/home/u2175049/anaconda3/lib/python3.11/site-packages/CellSeg/segmentation2D.py:133: FutureWarning: The behavior of DataFrame concatenation with empty or all-NA entries is deprecated. In a future version, this will no longer exclude empty or all-NA columns when determining the result dtypes. To retain the old behavior, exclude the relevant entries before the concat operation.\n",
      "  vert_df.loc[len(vert_df)] = e_dict\n",
      "/home/u2175049/anaconda3/lib/python3.11/site-packages/CellSeg/segmentation2D.py:133: FutureWarning: The behavior of DataFrame concatenation with empty or all-NA entries is deprecated. In a future version, this will no longer exclude empty or all-NA columns when determining the result dtypes. To retain the old behavior, exclude the relevant entries before the concat operation.\n",
      "  vert_df.loc[len(vert_df)] = e_dict\n",
      "/home/u2175049/anaconda3/lib/python3.11/site-packages/CellSeg/segmentation2D.py:133: FutureWarning: The behavior of DataFrame concatenation with empty or all-NA entries is deprecated. In a future version, this will no longer exclude empty or all-NA columns when determining the result dtypes. To retain the old behavior, exclude the relevant entries before the concat operation.\n",
      "  vert_df.loc[len(vert_df)] = e_dict\n",
      "/home/u2175049/anaconda3/lib/python3.11/site-packages/CellSeg/segmentation2D.py:133: FutureWarning: The behavior of DataFrame concatenation with empty or all-NA entries is deprecated. In a future version, this will no longer exclude empty or all-NA columns when determining the result dtypes. To retain the old behavior, exclude the relevant entries before the concat operation.\n",
      "  vert_df.loc[len(vert_df)] = e_dict\n",
      "/home/u2175049/anaconda3/lib/python3.11/site-packages/CellSeg/segmentation2D.py:133: FutureWarning: The behavior of DataFrame concatenation with empty or all-NA entries is deprecated. In a future version, this will no longer exclude empty or all-NA columns when determining the result dtypes. To retain the old behavior, exclude the relevant entries before the concat operation.\n",
      "  vert_df.loc[len(vert_df)] = e_dict\n",
      "/home/u2175049/anaconda3/lib/python3.11/site-packages/CellSeg/segmentation2D.py:133: FutureWarning: The behavior of DataFrame concatenation with empty or all-NA entries is deprecated. In a future version, this will no longer exclude empty or all-NA columns when determining the result dtypes. To retain the old behavior, exclude the relevant entries before the concat operation.\n",
      "  vert_df.loc[len(vert_df)] = e_dict\n",
      "/home/u2175049/anaconda3/lib/python3.11/site-packages/CellSeg/segmentation2D.py:133: FutureWarning: The behavior of DataFrame concatenation with empty or all-NA entries is deprecated. In a future version, this will no longer exclude empty or all-NA columns when determining the result dtypes. To retain the old behavior, exclude the relevant entries before the concat operation.\n",
      "  vert_df.loc[len(vert_df)] = e_dict\n",
      "/home/u2175049/anaconda3/lib/python3.11/site-packages/CellSeg/segmentation2D.py:133: FutureWarning: The behavior of DataFrame concatenation with empty or all-NA entries is deprecated. In a future version, this will no longer exclude empty or all-NA columns when determining the result dtypes. To retain the old behavior, exclude the relevant entries before the concat operation.\n",
      "  vert_df.loc[len(vert_df)] = e_dict\n",
      "/home/u2175049/anaconda3/lib/python3.11/site-packages/CellSeg/segmentation2D.py:133: FutureWarning: The behavior of DataFrame concatenation with empty or all-NA entries is deprecated. In a future version, this will no longer exclude empty or all-NA columns when determining the result dtypes. To retain the old behavior, exclude the relevant entries before the concat operation.\n",
      "  vert_df.loc[len(vert_df)] = e_dict\n",
      "/home/u2175049/anaconda3/lib/python3.11/site-packages/CellSeg/segmentation2D.py:133: FutureWarning: The behavior of DataFrame concatenation with empty or all-NA entries is deprecated. In a future version, this will no longer exclude empty or all-NA columns when determining the result dtypes. To retain the old behavior, exclude the relevant entries before the concat operation.\n",
      "  vert_df.loc[len(vert_df)] = e_dict\n",
      "/home/u2175049/anaconda3/lib/python3.11/site-packages/CellSeg/segmentation2D.py:133: FutureWarning: The behavior of DataFrame concatenation with empty or all-NA entries is deprecated. In a future version, this will no longer exclude empty or all-NA columns when determining the result dtypes. To retain the old behavior, exclude the relevant entries before the concat operation.\n",
      "  vert_df.loc[len(vert_df)] = e_dict\n",
      "/home/u2175049/anaconda3/lib/python3.11/site-packages/CellSeg/segmentation2D.py:133: FutureWarning: The behavior of DataFrame concatenation with empty or all-NA entries is deprecated. In a future version, this will no longer exclude empty or all-NA columns when determining the result dtypes. To retain the old behavior, exclude the relevant entries before the concat operation.\n",
      "  vert_df.loc[len(vert_df)] = e_dict\n"
     ]
    },
    {
     "data": {
      "application/vnd.jupyter.widget-view+json": {
       "model_id": "f0d9112ee666481ca9ef5f8400a15d3f",
       "version_major": 2,
       "version_minor": 0
      },
      "text/plain": [
       "Vert segmentation:   0%|          | 0/10 [00:00<?, ?it/s]"
      ]
     },
     "metadata": {},
     "output_type": "display_data"
    },
    {
     "name": "stderr",
     "output_type": "stream",
     "text": [
      "/home/u2175049/anaconda3/lib/python3.11/site-packages/CellSeg/segmentation2D.py:133: FutureWarning: The behavior of DataFrame concatenation with empty or all-NA entries is deprecated. In a future version, this will no longer exclude empty or all-NA columns when determining the result dtypes. To retain the old behavior, exclude the relevant entries before the concat operation.\n",
      "  vert_df.loc[len(vert_df)] = e_dict\n",
      "/home/u2175049/anaconda3/lib/python3.11/site-packages/CellSeg/segmentation2D.py:133: FutureWarning: The behavior of DataFrame concatenation with empty or all-NA entries is deprecated. In a future version, this will no longer exclude empty or all-NA columns when determining the result dtypes. To retain the old behavior, exclude the relevant entries before the concat operation.\n",
      "  vert_df.loc[len(vert_df)] = e_dict\n",
      "/home/u2175049/anaconda3/lib/python3.11/site-packages/CellSeg/segmentation2D.py:133: FutureWarning: The behavior of DataFrame concatenation with empty or all-NA entries is deprecated. In a future version, this will no longer exclude empty or all-NA columns when determining the result dtypes. To retain the old behavior, exclude the relevant entries before the concat operation.\n",
      "  vert_df.loc[len(vert_df)] = e_dict\n",
      "/home/u2175049/anaconda3/lib/python3.11/site-packages/CellSeg/segmentation2D.py:133: FutureWarning: The behavior of DataFrame concatenation with empty or all-NA entries is deprecated. In a future version, this will no longer exclude empty or all-NA columns when determining the result dtypes. To retain the old behavior, exclude the relevant entries before the concat operation.\n",
      "  vert_df.loc[len(vert_df)] = e_dict\n"
     ]
    },
    {
     "data": {
      "application/vnd.jupyter.widget-view+json": {
       "model_id": "03885be714a74edf9604682b77287186",
       "version_major": 2,
       "version_minor": 0
      },
      "text/plain": [
       "Vert segmentation:   0%|          | 0/21 [00:00<?, ?it/s]"
      ]
     },
     "metadata": {},
     "output_type": "display_data"
    },
    {
     "name": "stderr",
     "output_type": "stream",
     "text": [
      "/home/u2175049/anaconda3/lib/python3.11/site-packages/CellSeg/segmentation2D.py:133: FutureWarning: The behavior of DataFrame concatenation with empty or all-NA entries is deprecated. In a future version, this will no longer exclude empty or all-NA columns when determining the result dtypes. To retain the old behavior, exclude the relevant entries before the concat operation.\n",
      "  vert_df.loc[len(vert_df)] = e_dict\n",
      "/home/u2175049/anaconda3/lib/python3.11/site-packages/CellSeg/segmentation2D.py:133: FutureWarning: The behavior of DataFrame concatenation with empty or all-NA entries is deprecated. In a future version, this will no longer exclude empty or all-NA columns when determining the result dtypes. To retain the old behavior, exclude the relevant entries before the concat operation.\n",
      "  vert_df.loc[len(vert_df)] = e_dict\n",
      "/home/u2175049/anaconda3/lib/python3.11/site-packages/CellSeg/segmentation2D.py:133: FutureWarning: The behavior of DataFrame concatenation with empty or all-NA entries is deprecated. In a future version, this will no longer exclude empty or all-NA columns when determining the result dtypes. To retain the old behavior, exclude the relevant entries before the concat operation.\n",
      "  vert_df.loc[len(vert_df)] = e_dict\n",
      "/home/u2175049/anaconda3/lib/python3.11/site-packages/CellSeg/segmentation2D.py:133: FutureWarning: The behavior of DataFrame concatenation with empty or all-NA entries is deprecated. In a future version, this will no longer exclude empty or all-NA columns when determining the result dtypes. To retain the old behavior, exclude the relevant entries before the concat operation.\n",
      "  vert_df.loc[len(vert_df)] = e_dict\n",
      "/home/u2175049/anaconda3/lib/python3.11/site-packages/CellSeg/segmentation2D.py:133: FutureWarning: The behavior of DataFrame concatenation with empty or all-NA entries is deprecated. In a future version, this will no longer exclude empty or all-NA columns when determining the result dtypes. To retain the old behavior, exclude the relevant entries before the concat operation.\n",
      "  vert_df.loc[len(vert_df)] = e_dict\n",
      "/home/u2175049/anaconda3/lib/python3.11/site-packages/CellSeg/segmentation2D.py:133: FutureWarning: The behavior of DataFrame concatenation with empty or all-NA entries is deprecated. In a future version, this will no longer exclude empty or all-NA columns when determining the result dtypes. To retain the old behavior, exclude the relevant entries before the concat operation.\n",
      "  vert_df.loc[len(vert_df)] = e_dict\n",
      "/home/u2175049/anaconda3/lib/python3.11/site-packages/CellSeg/segmentation2D.py:133: FutureWarning: The behavior of DataFrame concatenation with empty or all-NA entries is deprecated. In a future version, this will no longer exclude empty or all-NA columns when determining the result dtypes. To retain the old behavior, exclude the relevant entries before the concat operation.\n",
      "  vert_df.loc[len(vert_df)] = e_dict\n",
      "/home/u2175049/anaconda3/lib/python3.11/site-packages/CellSeg/segmentation2D.py:133: FutureWarning: The behavior of DataFrame concatenation with empty or all-NA entries is deprecated. In a future version, this will no longer exclude empty or all-NA columns when determining the result dtypes. To retain the old behavior, exclude the relevant entries before the concat operation.\n",
      "  vert_df.loc[len(vert_df)] = e_dict\n",
      "/home/u2175049/anaconda3/lib/python3.11/site-packages/CellSeg/segmentation2D.py:133: FutureWarning: The behavior of DataFrame concatenation with empty or all-NA entries is deprecated. In a future version, this will no longer exclude empty or all-NA columns when determining the result dtypes. To retain the old behavior, exclude the relevant entries before the concat operation.\n",
      "  vert_df.loc[len(vert_df)] = e_dict\n",
      "/home/u2175049/anaconda3/lib/python3.11/site-packages/CellSeg/segmentation2D.py:133: FutureWarning: The behavior of DataFrame concatenation with empty or all-NA entries is deprecated. In a future version, this will no longer exclude empty or all-NA columns when determining the result dtypes. To retain the old behavior, exclude the relevant entries before the concat operation.\n",
      "  vert_df.loc[len(vert_df)] = e_dict\n",
      "/home/u2175049/anaconda3/lib/python3.11/site-packages/CellSeg/segmentation2D.py:133: FutureWarning: The behavior of DataFrame concatenation with empty or all-NA entries is deprecated. In a future version, this will no longer exclude empty or all-NA columns when determining the result dtypes. To retain the old behavior, exclude the relevant entries before the concat operation.\n",
      "  vert_df.loc[len(vert_df)] = e_dict\n",
      "/home/u2175049/anaconda3/lib/python3.11/site-packages/CellSeg/segmentation2D.py:133: FutureWarning: The behavior of DataFrame concatenation with empty or all-NA entries is deprecated. In a future version, this will no longer exclude empty or all-NA columns when determining the result dtypes. To retain the old behavior, exclude the relevant entries before the concat operation.\n",
      "  vert_df.loc[len(vert_df)] = e_dict\n",
      "/home/u2175049/anaconda3/lib/python3.11/site-packages/CellSeg/segmentation2D.py:133: FutureWarning: The behavior of DataFrame concatenation with empty or all-NA entries is deprecated. In a future version, this will no longer exclude empty or all-NA columns when determining the result dtypes. To retain the old behavior, exclude the relevant entries before the concat operation.\n",
      "  vert_df.loc[len(vert_df)] = e_dict\n",
      "/home/u2175049/anaconda3/lib/python3.11/site-packages/CellSeg/segmentation2D.py:133: FutureWarning: The behavior of DataFrame concatenation with empty or all-NA entries is deprecated. In a future version, this will no longer exclude empty or all-NA columns when determining the result dtypes. To retain the old behavior, exclude the relevant entries before the concat operation.\n",
      "  vert_df.loc[len(vert_df)] = e_dict\n"
     ]
    },
    {
     "data": {
      "application/vnd.jupyter.widget-view+json": {
       "model_id": "07ae27222da0411b80bee13802d52b87",
       "version_major": 2,
       "version_minor": 0
      },
      "text/plain": [
       "Vert segmentation:   0%|          | 0/15 [00:00<?, ?it/s]"
      ]
     },
     "metadata": {},
     "output_type": "display_data"
    },
    {
     "name": "stderr",
     "output_type": "stream",
     "text": [
      "/home/u2175049/anaconda3/lib/python3.11/site-packages/CellSeg/segmentation2D.py:133: FutureWarning: The behavior of DataFrame concatenation with empty or all-NA entries is deprecated. In a future version, this will no longer exclude empty or all-NA columns when determining the result dtypes. To retain the old behavior, exclude the relevant entries before the concat operation.\n",
      "  vert_df.loc[len(vert_df)] = e_dict\n",
      "/home/u2175049/anaconda3/lib/python3.11/site-packages/CellSeg/segmentation2D.py:133: FutureWarning: The behavior of DataFrame concatenation with empty or all-NA entries is deprecated. In a future version, this will no longer exclude empty or all-NA columns when determining the result dtypes. To retain the old behavior, exclude the relevant entries before the concat operation.\n",
      "  vert_df.loc[len(vert_df)] = e_dict\n",
      "/home/u2175049/anaconda3/lib/python3.11/site-packages/CellSeg/segmentation2D.py:133: FutureWarning: The behavior of DataFrame concatenation with empty or all-NA entries is deprecated. In a future version, this will no longer exclude empty or all-NA columns when determining the result dtypes. To retain the old behavior, exclude the relevant entries before the concat operation.\n",
      "  vert_df.loc[len(vert_df)] = e_dict\n",
      "/home/u2175049/anaconda3/lib/python3.11/site-packages/CellSeg/segmentation2D.py:133: FutureWarning: The behavior of DataFrame concatenation with empty or all-NA entries is deprecated. In a future version, this will no longer exclude empty or all-NA columns when determining the result dtypes. To retain the old behavior, exclude the relevant entries before the concat operation.\n",
      "  vert_df.loc[len(vert_df)] = e_dict\n",
      "/home/u2175049/anaconda3/lib/python3.11/site-packages/CellSeg/segmentation2D.py:133: FutureWarning: The behavior of DataFrame concatenation with empty or all-NA entries is deprecated. In a future version, this will no longer exclude empty or all-NA columns when determining the result dtypes. To retain the old behavior, exclude the relevant entries before the concat operation.\n",
      "  vert_df.loc[len(vert_df)] = e_dict\n",
      "/home/u2175049/anaconda3/lib/python3.11/site-packages/CellSeg/segmentation2D.py:133: FutureWarning: The behavior of DataFrame concatenation with empty or all-NA entries is deprecated. In a future version, this will no longer exclude empty or all-NA columns when determining the result dtypes. To retain the old behavior, exclude the relevant entries before the concat operation.\n",
      "  vert_df.loc[len(vert_df)] = e_dict\n",
      "/home/u2175049/anaconda3/lib/python3.11/site-packages/CellSeg/segmentation2D.py:133: FutureWarning: The behavior of DataFrame concatenation with empty or all-NA entries is deprecated. In a future version, this will no longer exclude empty or all-NA columns when determining the result dtypes. To retain the old behavior, exclude the relevant entries before the concat operation.\n",
      "  vert_df.loc[len(vert_df)] = e_dict\n",
      "/home/u2175049/anaconda3/lib/python3.11/site-packages/CellSeg/segmentation2D.py:133: FutureWarning: The behavior of DataFrame concatenation with empty or all-NA entries is deprecated. In a future version, this will no longer exclude empty or all-NA columns when determining the result dtypes. To retain the old behavior, exclude the relevant entries before the concat operation.\n",
      "  vert_df.loc[len(vert_df)] = e_dict\n",
      "/home/u2175049/anaconda3/lib/python3.11/site-packages/CellSeg/segmentation2D.py:133: FutureWarning: The behavior of DataFrame concatenation with empty or all-NA entries is deprecated. In a future version, this will no longer exclude empty or all-NA columns when determining the result dtypes. To retain the old behavior, exclude the relevant entries before the concat operation.\n",
      "  vert_df.loc[len(vert_df)] = e_dict\n"
     ]
    },
    {
     "data": {
      "application/vnd.jupyter.widget-view+json": {
       "model_id": "963ebd44bc6d494f9445b9f65f4cb8c2",
       "version_major": 2,
       "version_minor": 0
      },
      "text/plain": [
       "Vert segmentation:   0%|          | 0/15 [00:00<?, ?it/s]"
      ]
     },
     "metadata": {},
     "output_type": "display_data"
    },
    {
     "name": "stderr",
     "output_type": "stream",
     "text": [
      "/home/u2175049/anaconda3/lib/python3.11/site-packages/CellSeg/segmentation2D.py:133: FutureWarning: The behavior of DataFrame concatenation with empty or all-NA entries is deprecated. In a future version, this will no longer exclude empty or all-NA columns when determining the result dtypes. To retain the old behavior, exclude the relevant entries before the concat operation.\n",
      "  vert_df.loc[len(vert_df)] = e_dict\n",
      "/home/u2175049/anaconda3/lib/python3.11/site-packages/CellSeg/segmentation2D.py:133: FutureWarning: The behavior of DataFrame concatenation with empty or all-NA entries is deprecated. In a future version, this will no longer exclude empty or all-NA columns when determining the result dtypes. To retain the old behavior, exclude the relevant entries before the concat operation.\n",
      "  vert_df.loc[len(vert_df)] = e_dict\n",
      "/home/u2175049/anaconda3/lib/python3.11/site-packages/CellSeg/segmentation2D.py:133: FutureWarning: The behavior of DataFrame concatenation with empty or all-NA entries is deprecated. In a future version, this will no longer exclude empty or all-NA columns when determining the result dtypes. To retain the old behavior, exclude the relevant entries before the concat operation.\n",
      "  vert_df.loc[len(vert_df)] = e_dict\n",
      "/home/u2175049/anaconda3/lib/python3.11/site-packages/CellSeg/segmentation2D.py:133: FutureWarning: The behavior of DataFrame concatenation with empty or all-NA entries is deprecated. In a future version, this will no longer exclude empty or all-NA columns when determining the result dtypes. To retain the old behavior, exclude the relevant entries before the concat operation.\n",
      "  vert_df.loc[len(vert_df)] = e_dict\n",
      "/home/u2175049/anaconda3/lib/python3.11/site-packages/CellSeg/segmentation2D.py:133: FutureWarning: The behavior of DataFrame concatenation with empty or all-NA entries is deprecated. In a future version, this will no longer exclude empty or all-NA columns when determining the result dtypes. To retain the old behavior, exclude the relevant entries before the concat operation.\n",
      "  vert_df.loc[len(vert_df)] = e_dict\n",
      "/home/u2175049/anaconda3/lib/python3.11/site-packages/CellSeg/segmentation2D.py:133: FutureWarning: The behavior of DataFrame concatenation with empty or all-NA entries is deprecated. In a future version, this will no longer exclude empty or all-NA columns when determining the result dtypes. To retain the old behavior, exclude the relevant entries before the concat operation.\n",
      "  vert_df.loc[len(vert_df)] = e_dict\n",
      "/home/u2175049/anaconda3/lib/python3.11/site-packages/CellSeg/segmentation2D.py:133: FutureWarning: The behavior of DataFrame concatenation with empty or all-NA entries is deprecated. In a future version, this will no longer exclude empty or all-NA columns when determining the result dtypes. To retain the old behavior, exclude the relevant entries before the concat operation.\n",
      "  vert_df.loc[len(vert_df)] = e_dict\n"
     ]
    },
    {
     "data": {
      "application/vnd.jupyter.widget-view+json": {
       "model_id": "60a272165c6246588008694820f21f3e",
       "version_major": 2,
       "version_minor": 0
      },
      "text/plain": [
       "Vert segmentation:   0%|          | 0/15 [00:00<?, ?it/s]"
      ]
     },
     "metadata": {},
     "output_type": "display_data"
    },
    {
     "name": "stderr",
     "output_type": "stream",
     "text": [
      "/home/u2175049/anaconda3/lib/python3.11/site-packages/CellSeg/segmentation2D.py:133: FutureWarning: The behavior of DataFrame concatenation with empty or all-NA entries is deprecated. In a future version, this will no longer exclude empty or all-NA columns when determining the result dtypes. To retain the old behavior, exclude the relevant entries before the concat operation.\n",
      "  vert_df.loc[len(vert_df)] = e_dict\n",
      "/home/u2175049/anaconda3/lib/python3.11/site-packages/CellSeg/segmentation2D.py:133: FutureWarning: The behavior of DataFrame concatenation with empty or all-NA entries is deprecated. In a future version, this will no longer exclude empty or all-NA columns when determining the result dtypes. To retain the old behavior, exclude the relevant entries before the concat operation.\n",
      "  vert_df.loc[len(vert_df)] = e_dict\n",
      "/home/u2175049/anaconda3/lib/python3.11/site-packages/CellSeg/segmentation2D.py:133: FutureWarning: The behavior of DataFrame concatenation with empty or all-NA entries is deprecated. In a future version, this will no longer exclude empty or all-NA columns when determining the result dtypes. To retain the old behavior, exclude the relevant entries before the concat operation.\n",
      "  vert_df.loc[len(vert_df)] = e_dict\n",
      "/home/u2175049/anaconda3/lib/python3.11/site-packages/CellSeg/segmentation2D.py:133: FutureWarning: The behavior of DataFrame concatenation with empty or all-NA entries is deprecated. In a future version, this will no longer exclude empty or all-NA columns when determining the result dtypes. To retain the old behavior, exclude the relevant entries before the concat operation.\n",
      "  vert_df.loc[len(vert_df)] = e_dict\n",
      "/home/u2175049/anaconda3/lib/python3.11/site-packages/CellSeg/segmentation2D.py:133: FutureWarning: The behavior of DataFrame concatenation with empty or all-NA entries is deprecated. In a future version, this will no longer exclude empty or all-NA columns when determining the result dtypes. To retain the old behavior, exclude the relevant entries before the concat operation.\n",
      "  vert_df.loc[len(vert_df)] = e_dict\n",
      "/home/u2175049/anaconda3/lib/python3.11/site-packages/CellSeg/segmentation2D.py:133: FutureWarning: The behavior of DataFrame concatenation with empty or all-NA entries is deprecated. In a future version, this will no longer exclude empty or all-NA columns when determining the result dtypes. To retain the old behavior, exclude the relevant entries before the concat operation.\n",
      "  vert_df.loc[len(vert_df)] = e_dict\n",
      "/home/u2175049/anaconda3/lib/python3.11/site-packages/CellSeg/segmentation2D.py:133: FutureWarning: The behavior of DataFrame concatenation with empty or all-NA entries is deprecated. In a future version, this will no longer exclude empty or all-NA columns when determining the result dtypes. To retain the old behavior, exclude the relevant entries before the concat operation.\n",
      "  vert_df.loc[len(vert_df)] = e_dict\n",
      "/home/u2175049/anaconda3/lib/python3.11/site-packages/CellSeg/segmentation2D.py:133: FutureWarning: The behavior of DataFrame concatenation with empty or all-NA entries is deprecated. In a future version, this will no longer exclude empty or all-NA columns when determining the result dtypes. To retain the old behavior, exclude the relevant entries before the concat operation.\n",
      "  vert_df.loc[len(vert_df)] = e_dict\n"
     ]
    },
    {
     "data": {
      "application/vnd.jupyter.widget-view+json": {
       "model_id": "73edf72226824179be5e4cf855f7db24",
       "version_major": 2,
       "version_minor": 0
      },
      "text/plain": [
       "Vert segmentation:   0%|          | 0/28 [00:00<?, ?it/s]"
      ]
     },
     "metadata": {},
     "output_type": "display_data"
    },
    {
     "name": "stderr",
     "output_type": "stream",
     "text": [
      "/home/u2175049/anaconda3/lib/python3.11/site-packages/CellSeg/segmentation2D.py:133: FutureWarning: The behavior of DataFrame concatenation with empty or all-NA entries is deprecated. In a future version, this will no longer exclude empty or all-NA columns when determining the result dtypes. To retain the old behavior, exclude the relevant entries before the concat operation.\n",
      "  vert_df.loc[len(vert_df)] = e_dict\n",
      "/home/u2175049/anaconda3/lib/python3.11/site-packages/CellSeg/segmentation2D.py:133: FutureWarning: The behavior of DataFrame concatenation with empty or all-NA entries is deprecated. In a future version, this will no longer exclude empty or all-NA columns when determining the result dtypes. To retain the old behavior, exclude the relevant entries before the concat operation.\n",
      "  vert_df.loc[len(vert_df)] = e_dict\n",
      "/home/u2175049/anaconda3/lib/python3.11/site-packages/CellSeg/segmentation2D.py:133: FutureWarning: The behavior of DataFrame concatenation with empty or all-NA entries is deprecated. In a future version, this will no longer exclude empty or all-NA columns when determining the result dtypes. To retain the old behavior, exclude the relevant entries before the concat operation.\n",
      "  vert_df.loc[len(vert_df)] = e_dict\n",
      "/home/u2175049/anaconda3/lib/python3.11/site-packages/CellSeg/segmentation2D.py:133: FutureWarning: The behavior of DataFrame concatenation with empty or all-NA entries is deprecated. In a future version, this will no longer exclude empty or all-NA columns when determining the result dtypes. To retain the old behavior, exclude the relevant entries before the concat operation.\n",
      "  vert_df.loc[len(vert_df)] = e_dict\n",
      "/home/u2175049/anaconda3/lib/python3.11/site-packages/CellSeg/segmentation2D.py:133: FutureWarning: The behavior of DataFrame concatenation with empty or all-NA entries is deprecated. In a future version, this will no longer exclude empty or all-NA columns when determining the result dtypes. To retain the old behavior, exclude the relevant entries before the concat operation.\n",
      "  vert_df.loc[len(vert_df)] = e_dict\n",
      "/home/u2175049/anaconda3/lib/python3.11/site-packages/CellSeg/segmentation2D.py:133: FutureWarning: The behavior of DataFrame concatenation with empty or all-NA entries is deprecated. In a future version, this will no longer exclude empty or all-NA columns when determining the result dtypes. To retain the old behavior, exclude the relevant entries before the concat operation.\n",
      "  vert_df.loc[len(vert_df)] = e_dict\n",
      "/home/u2175049/anaconda3/lib/python3.11/site-packages/CellSeg/segmentation2D.py:133: FutureWarning: The behavior of DataFrame concatenation with empty or all-NA entries is deprecated. In a future version, this will no longer exclude empty or all-NA columns when determining the result dtypes. To retain the old behavior, exclude the relevant entries before the concat operation.\n",
      "  vert_df.loc[len(vert_df)] = e_dict\n",
      "/home/u2175049/anaconda3/lib/python3.11/site-packages/CellSeg/segmentation2D.py:133: FutureWarning: The behavior of DataFrame concatenation with empty or all-NA entries is deprecated. In a future version, this will no longer exclude empty or all-NA columns when determining the result dtypes. To retain the old behavior, exclude the relevant entries before the concat operation.\n",
      "  vert_df.loc[len(vert_df)] = e_dict\n",
      "/home/u2175049/anaconda3/lib/python3.11/site-packages/CellSeg/segmentation2D.py:133: FutureWarning: The behavior of DataFrame concatenation with empty or all-NA entries is deprecated. In a future version, this will no longer exclude empty or all-NA columns when determining the result dtypes. To retain the old behavior, exclude the relevant entries before the concat operation.\n",
      "  vert_df.loc[len(vert_df)] = e_dict\n",
      "/home/u2175049/anaconda3/lib/python3.11/site-packages/CellSeg/segmentation2D.py:133: FutureWarning: The behavior of DataFrame concatenation with empty or all-NA entries is deprecated. In a future version, this will no longer exclude empty or all-NA columns when determining the result dtypes. To retain the old behavior, exclude the relevant entries before the concat operation.\n",
      "  vert_df.loc[len(vert_df)] = e_dict\n",
      "/home/u2175049/anaconda3/lib/python3.11/site-packages/CellSeg/segmentation2D.py:133: FutureWarning: The behavior of DataFrame concatenation with empty or all-NA entries is deprecated. In a future version, this will no longer exclude empty or all-NA columns when determining the result dtypes. To retain the old behavior, exclude the relevant entries before the concat operation.\n",
      "  vert_df.loc[len(vert_df)] = e_dict\n",
      "/home/u2175049/anaconda3/lib/python3.11/site-packages/CellSeg/segmentation2D.py:133: FutureWarning: The behavior of DataFrame concatenation with empty or all-NA entries is deprecated. In a future version, this will no longer exclude empty or all-NA columns when determining the result dtypes. To retain the old behavior, exclude the relevant entries before the concat operation.\n",
      "  vert_df.loc[len(vert_df)] = e_dict\n",
      "/home/u2175049/anaconda3/lib/python3.11/site-packages/CellSeg/segmentation2D.py:133: FutureWarning: The behavior of DataFrame concatenation with empty or all-NA entries is deprecated. In a future version, this will no longer exclude empty or all-NA columns when determining the result dtypes. To retain the old behavior, exclude the relevant entries before the concat operation.\n",
      "  vert_df.loc[len(vert_df)] = e_dict\n",
      "/home/u2175049/anaconda3/lib/python3.11/site-packages/CellSeg/segmentation2D.py:133: FutureWarning: The behavior of DataFrame concatenation with empty or all-NA entries is deprecated. In a future version, this will no longer exclude empty or all-NA columns when determining the result dtypes. To retain the old behavior, exclude the relevant entries before the concat operation.\n",
      "  vert_df.loc[len(vert_df)] = e_dict\n",
      "/home/u2175049/anaconda3/lib/python3.11/site-packages/CellSeg/segmentation2D.py:133: FutureWarning: The behavior of DataFrame concatenation with empty or all-NA entries is deprecated. In a future version, this will no longer exclude empty or all-NA columns when determining the result dtypes. To retain the old behavior, exclude the relevant entries before the concat operation.\n",
      "  vert_df.loc[len(vert_df)] = e_dict\n",
      "/home/u2175049/anaconda3/lib/python3.11/site-packages/CellSeg/segmentation2D.py:133: FutureWarning: The behavior of DataFrame concatenation with empty or all-NA entries is deprecated. In a future version, this will no longer exclude empty or all-NA columns when determining the result dtypes. To retain the old behavior, exclude the relevant entries before the concat operation.\n",
      "  vert_df.loc[len(vert_df)] = e_dict\n",
      "/home/u2175049/anaconda3/lib/python3.11/site-packages/CellSeg/segmentation2D.py:133: FutureWarning: The behavior of DataFrame concatenation with empty or all-NA entries is deprecated. In a future version, this will no longer exclude empty or all-NA columns when determining the result dtypes. To retain the old behavior, exclude the relevant entries before the concat operation.\n",
      "  vert_df.loc[len(vert_df)] = e_dict\n",
      "/home/u2175049/anaconda3/lib/python3.11/site-packages/CellSeg/segmentation2D.py:133: FutureWarning: The behavior of DataFrame concatenation with empty or all-NA entries is deprecated. In a future version, this will no longer exclude empty or all-NA columns when determining the result dtypes. To retain the old behavior, exclude the relevant entries before the concat operation.\n",
      "  vert_df.loc[len(vert_df)] = e_dict\n",
      "/home/u2175049/anaconda3/lib/python3.11/site-packages/CellSeg/segmentation2D.py:133: FutureWarning: The behavior of DataFrame concatenation with empty or all-NA entries is deprecated. In a future version, this will no longer exclude empty or all-NA columns when determining the result dtypes. To retain the old behavior, exclude the relevant entries before the concat operation.\n",
      "  vert_df.loc[len(vert_df)] = e_dict\n"
     ]
    },
    {
     "data": {
      "application/vnd.jupyter.widget-view+json": {
       "model_id": "852384f767a04aa888bc750eabcfcc3f",
       "version_major": 2,
       "version_minor": 0
      },
      "text/plain": [
       "Vert segmentation:   0%|          | 0/28 [00:00<?, ?it/s]"
      ]
     },
     "metadata": {},
     "output_type": "display_data"
    },
    {
     "name": "stderr",
     "output_type": "stream",
     "text": [
      "/home/u2175049/anaconda3/lib/python3.11/site-packages/CellSeg/segmentation2D.py:133: FutureWarning: The behavior of DataFrame concatenation with empty or all-NA entries is deprecated. In a future version, this will no longer exclude empty or all-NA columns when determining the result dtypes. To retain the old behavior, exclude the relevant entries before the concat operation.\n",
      "  vert_df.loc[len(vert_df)] = e_dict\n",
      "/home/u2175049/anaconda3/lib/python3.11/site-packages/CellSeg/segmentation2D.py:133: FutureWarning: The behavior of DataFrame concatenation with empty or all-NA entries is deprecated. In a future version, this will no longer exclude empty or all-NA columns when determining the result dtypes. To retain the old behavior, exclude the relevant entries before the concat operation.\n",
      "  vert_df.loc[len(vert_df)] = e_dict\n",
      "/home/u2175049/anaconda3/lib/python3.11/site-packages/CellSeg/segmentation2D.py:133: FutureWarning: The behavior of DataFrame concatenation with empty or all-NA entries is deprecated. In a future version, this will no longer exclude empty or all-NA columns when determining the result dtypes. To retain the old behavior, exclude the relevant entries before the concat operation.\n",
      "  vert_df.loc[len(vert_df)] = e_dict\n",
      "/home/u2175049/anaconda3/lib/python3.11/site-packages/CellSeg/segmentation2D.py:133: FutureWarning: The behavior of DataFrame concatenation with empty or all-NA entries is deprecated. In a future version, this will no longer exclude empty or all-NA columns when determining the result dtypes. To retain the old behavior, exclude the relevant entries before the concat operation.\n",
      "  vert_df.loc[len(vert_df)] = e_dict\n",
      "/home/u2175049/anaconda3/lib/python3.11/site-packages/CellSeg/segmentation2D.py:133: FutureWarning: The behavior of DataFrame concatenation with empty or all-NA entries is deprecated. In a future version, this will no longer exclude empty or all-NA columns when determining the result dtypes. To retain the old behavior, exclude the relevant entries before the concat operation.\n",
      "  vert_df.loc[len(vert_df)] = e_dict\n",
      "/home/u2175049/anaconda3/lib/python3.11/site-packages/CellSeg/segmentation2D.py:133: FutureWarning: The behavior of DataFrame concatenation with empty or all-NA entries is deprecated. In a future version, this will no longer exclude empty or all-NA columns when determining the result dtypes. To retain the old behavior, exclude the relevant entries before the concat operation.\n",
      "  vert_df.loc[len(vert_df)] = e_dict\n",
      "/home/u2175049/anaconda3/lib/python3.11/site-packages/CellSeg/segmentation2D.py:133: FutureWarning: The behavior of DataFrame concatenation with empty or all-NA entries is deprecated. In a future version, this will no longer exclude empty or all-NA columns when determining the result dtypes. To retain the old behavior, exclude the relevant entries before the concat operation.\n",
      "  vert_df.loc[len(vert_df)] = e_dict\n",
      "/home/u2175049/anaconda3/lib/python3.11/site-packages/CellSeg/segmentation2D.py:133: FutureWarning: The behavior of DataFrame concatenation with empty or all-NA entries is deprecated. In a future version, this will no longer exclude empty or all-NA columns when determining the result dtypes. To retain the old behavior, exclude the relevant entries before the concat operation.\n",
      "  vert_df.loc[len(vert_df)] = e_dict\n",
      "/home/u2175049/anaconda3/lib/python3.11/site-packages/CellSeg/segmentation2D.py:133: FutureWarning: The behavior of DataFrame concatenation with empty or all-NA entries is deprecated. In a future version, this will no longer exclude empty or all-NA columns when determining the result dtypes. To retain the old behavior, exclude the relevant entries before the concat operation.\n",
      "  vert_df.loc[len(vert_df)] = e_dict\n",
      "/home/u2175049/anaconda3/lib/python3.11/site-packages/CellSeg/segmentation2D.py:133: FutureWarning: The behavior of DataFrame concatenation with empty or all-NA entries is deprecated. In a future version, this will no longer exclude empty or all-NA columns when determining the result dtypes. To retain the old behavior, exclude the relevant entries before the concat operation.\n",
      "  vert_df.loc[len(vert_df)] = e_dict\n",
      "/home/u2175049/anaconda3/lib/python3.11/site-packages/CellSeg/segmentation2D.py:133: FutureWarning: The behavior of DataFrame concatenation with empty or all-NA entries is deprecated. In a future version, this will no longer exclude empty or all-NA columns when determining the result dtypes. To retain the old behavior, exclude the relevant entries before the concat operation.\n",
      "  vert_df.loc[len(vert_df)] = e_dict\n",
      "/home/u2175049/anaconda3/lib/python3.11/site-packages/CellSeg/segmentation2D.py:133: FutureWarning: The behavior of DataFrame concatenation with empty or all-NA entries is deprecated. In a future version, this will no longer exclude empty or all-NA columns when determining the result dtypes. To retain the old behavior, exclude the relevant entries before the concat operation.\n",
      "  vert_df.loc[len(vert_df)] = e_dict\n",
      "/home/u2175049/anaconda3/lib/python3.11/site-packages/CellSeg/segmentation2D.py:133: FutureWarning: The behavior of DataFrame concatenation with empty or all-NA entries is deprecated. In a future version, this will no longer exclude empty or all-NA columns when determining the result dtypes. To retain the old behavior, exclude the relevant entries before the concat operation.\n",
      "  vert_df.loc[len(vert_df)] = e_dict\n",
      "/home/u2175049/anaconda3/lib/python3.11/site-packages/CellSeg/segmentation2D.py:133: FutureWarning: The behavior of DataFrame concatenation with empty or all-NA entries is deprecated. In a future version, this will no longer exclude empty or all-NA columns when determining the result dtypes. To retain the old behavior, exclude the relevant entries before the concat operation.\n",
      "  vert_df.loc[len(vert_df)] = e_dict\n",
      "/home/u2175049/anaconda3/lib/python3.11/site-packages/CellSeg/segmentation2D.py:133: FutureWarning: The behavior of DataFrame concatenation with empty or all-NA entries is deprecated. In a future version, this will no longer exclude empty or all-NA columns when determining the result dtypes. To retain the old behavior, exclude the relevant entries before the concat operation.\n",
      "  vert_df.loc[len(vert_df)] = e_dict\n",
      "/home/u2175049/anaconda3/lib/python3.11/site-packages/CellSeg/segmentation2D.py:133: FutureWarning: The behavior of DataFrame concatenation with empty or all-NA entries is deprecated. In a future version, this will no longer exclude empty or all-NA columns when determining the result dtypes. To retain the old behavior, exclude the relevant entries before the concat operation.\n",
      "  vert_df.loc[len(vert_df)] = e_dict\n",
      "/home/u2175049/anaconda3/lib/python3.11/site-packages/CellSeg/segmentation2D.py:133: FutureWarning: The behavior of DataFrame concatenation with empty or all-NA entries is deprecated. In a future version, this will no longer exclude empty or all-NA columns when determining the result dtypes. To retain the old behavior, exclude the relevant entries before the concat operation.\n",
      "  vert_df.loc[len(vert_df)] = e_dict\n",
      "/home/u2175049/anaconda3/lib/python3.11/site-packages/CellSeg/segmentation2D.py:133: FutureWarning: The behavior of DataFrame concatenation with empty or all-NA entries is deprecated. In a future version, this will no longer exclude empty or all-NA columns when determining the result dtypes. To retain the old behavior, exclude the relevant entries before the concat operation.\n",
      "  vert_df.loc[len(vert_df)] = e_dict\n",
      "/home/u2175049/anaconda3/lib/python3.11/site-packages/CellSeg/segmentation2D.py:133: FutureWarning: The behavior of DataFrame concatenation with empty or all-NA entries is deprecated. In a future version, this will no longer exclude empty or all-NA columns when determining the result dtypes. To retain the old behavior, exclude the relevant entries before the concat operation.\n",
      "  vert_df.loc[len(vert_df)] = e_dict\n"
     ]
    },
    {
     "data": {
      "application/vnd.jupyter.widget-view+json": {
       "model_id": "2a21dd63802a40a3bcd0da6a8571df2d",
       "version_major": 2,
       "version_minor": 0
      },
      "text/plain": [
       "Vert segmentation:   0%|          | 0/3 [00:00<?, ?it/s]"
      ]
     },
     "metadata": {},
     "output_type": "display_data"
    },
    {
     "name": "stderr",
     "output_type": "stream",
     "text": [
      "/home/u2175049/anaconda3/lib/python3.11/site-packages/CellSeg/segmentation2D.py:133: FutureWarning: The behavior of DataFrame concatenation with empty or all-NA entries is deprecated. In a future version, this will no longer exclude empty or all-NA columns when determining the result dtypes. To retain the old behavior, exclude the relevant entries before the concat operation.\n",
      "  vert_df.loc[len(vert_df)] = e_dict\n"
     ]
    },
    {
     "data": {
      "application/vnd.jupyter.widget-view+json": {
       "model_id": "e4ecd6d4f109446a8814c304eb1f34cd",
       "version_major": 2,
       "version_minor": 0
      },
      "text/plain": [
       "Vert segmentation:   0%|          | 0/10 [00:00<?, ?it/s]"
      ]
     },
     "metadata": {},
     "output_type": "display_data"
    },
    {
     "name": "stderr",
     "output_type": "stream",
     "text": [
      "/home/u2175049/anaconda3/lib/python3.11/site-packages/CellSeg/segmentation2D.py:133: FutureWarning: The behavior of DataFrame concatenation with empty or all-NA entries is deprecated. In a future version, this will no longer exclude empty or all-NA columns when determining the result dtypes. To retain the old behavior, exclude the relevant entries before the concat operation.\n",
      "  vert_df.loc[len(vert_df)] = e_dict\n",
      "/home/u2175049/anaconda3/lib/python3.11/site-packages/CellSeg/segmentation2D.py:133: FutureWarning: The behavior of DataFrame concatenation with empty or all-NA entries is deprecated. In a future version, this will no longer exclude empty or all-NA columns when determining the result dtypes. To retain the old behavior, exclude the relevant entries before the concat operation.\n",
      "  vert_df.loc[len(vert_df)] = e_dict\n",
      "/home/u2175049/anaconda3/lib/python3.11/site-packages/CellSeg/segmentation2D.py:133: FutureWarning: The behavior of DataFrame concatenation with empty or all-NA entries is deprecated. In a future version, this will no longer exclude empty or all-NA columns when determining the result dtypes. To retain the old behavior, exclude the relevant entries before the concat operation.\n",
      "  vert_df.loc[len(vert_df)] = e_dict\n",
      "/home/u2175049/anaconda3/lib/python3.11/site-packages/CellSeg/segmentation2D.py:133: FutureWarning: The behavior of DataFrame concatenation with empty or all-NA entries is deprecated. In a future version, this will no longer exclude empty or all-NA columns when determining the result dtypes. To retain the old behavior, exclude the relevant entries before the concat operation.\n",
      "  vert_df.loc[len(vert_df)] = e_dict\n",
      "/home/u2175049/anaconda3/lib/python3.11/site-packages/CellSeg/segmentation2D.py:133: FutureWarning: The behavior of DataFrame concatenation with empty or all-NA entries is deprecated. In a future version, this will no longer exclude empty or all-NA columns when determining the result dtypes. To retain the old behavior, exclude the relevant entries before the concat operation.\n",
      "  vert_df.loc[len(vert_df)] = e_dict\n"
     ]
    },
    {
     "data": {
      "application/vnd.jupyter.widget-view+json": {
       "model_id": "6d4a3b47fc7f4eb5a85c78ef6afc6dca",
       "version_major": 2,
       "version_minor": 0
      },
      "text/plain": [
       "Vert segmentation:   0%|          | 0/21 [00:00<?, ?it/s]"
      ]
     },
     "metadata": {},
     "output_type": "display_data"
    },
    {
     "name": "stderr",
     "output_type": "stream",
     "text": [
      "/home/u2175049/anaconda3/lib/python3.11/site-packages/CellSeg/segmentation2D.py:133: FutureWarning: The behavior of DataFrame concatenation with empty or all-NA entries is deprecated. In a future version, this will no longer exclude empty or all-NA columns when determining the result dtypes. To retain the old behavior, exclude the relevant entries before the concat operation.\n",
      "  vert_df.loc[len(vert_df)] = e_dict\n",
      "/home/u2175049/anaconda3/lib/python3.11/site-packages/CellSeg/segmentation2D.py:133: FutureWarning: The behavior of DataFrame concatenation with empty or all-NA entries is deprecated. In a future version, this will no longer exclude empty or all-NA columns when determining the result dtypes. To retain the old behavior, exclude the relevant entries before the concat operation.\n",
      "  vert_df.loc[len(vert_df)] = e_dict\n",
      "/home/u2175049/anaconda3/lib/python3.11/site-packages/CellSeg/segmentation2D.py:133: FutureWarning: The behavior of DataFrame concatenation with empty or all-NA entries is deprecated. In a future version, this will no longer exclude empty or all-NA columns when determining the result dtypes. To retain the old behavior, exclude the relevant entries before the concat operation.\n",
      "  vert_df.loc[len(vert_df)] = e_dict\n",
      "/home/u2175049/anaconda3/lib/python3.11/site-packages/CellSeg/segmentation2D.py:133: FutureWarning: The behavior of DataFrame concatenation with empty or all-NA entries is deprecated. In a future version, this will no longer exclude empty or all-NA columns when determining the result dtypes. To retain the old behavior, exclude the relevant entries before the concat operation.\n",
      "  vert_df.loc[len(vert_df)] = e_dict\n",
      "/home/u2175049/anaconda3/lib/python3.11/site-packages/CellSeg/segmentation2D.py:133: FutureWarning: The behavior of DataFrame concatenation with empty or all-NA entries is deprecated. In a future version, this will no longer exclude empty or all-NA columns when determining the result dtypes. To retain the old behavior, exclude the relevant entries before the concat operation.\n",
      "  vert_df.loc[len(vert_df)] = e_dict\n",
      "/home/u2175049/anaconda3/lib/python3.11/site-packages/CellSeg/segmentation2D.py:133: FutureWarning: The behavior of DataFrame concatenation with empty or all-NA entries is deprecated. In a future version, this will no longer exclude empty or all-NA columns when determining the result dtypes. To retain the old behavior, exclude the relevant entries before the concat operation.\n",
      "  vert_df.loc[len(vert_df)] = e_dict\n",
      "/home/u2175049/anaconda3/lib/python3.11/site-packages/CellSeg/segmentation2D.py:133: FutureWarning: The behavior of DataFrame concatenation with empty or all-NA entries is deprecated. In a future version, this will no longer exclude empty or all-NA columns when determining the result dtypes. To retain the old behavior, exclude the relevant entries before the concat operation.\n",
      "  vert_df.loc[len(vert_df)] = e_dict\n",
      "/home/u2175049/anaconda3/lib/python3.11/site-packages/CellSeg/segmentation2D.py:133: FutureWarning: The behavior of DataFrame concatenation with empty or all-NA entries is deprecated. In a future version, this will no longer exclude empty or all-NA columns when determining the result dtypes. To retain the old behavior, exclude the relevant entries before the concat operation.\n",
      "  vert_df.loc[len(vert_df)] = e_dict\n",
      "/home/u2175049/anaconda3/lib/python3.11/site-packages/CellSeg/segmentation2D.py:133: FutureWarning: The behavior of DataFrame concatenation with empty or all-NA entries is deprecated. In a future version, this will no longer exclude empty or all-NA columns when determining the result dtypes. To retain the old behavior, exclude the relevant entries before the concat operation.\n",
      "  vert_df.loc[len(vert_df)] = e_dict\n",
      "/home/u2175049/anaconda3/lib/python3.11/site-packages/CellSeg/segmentation2D.py:133: FutureWarning: The behavior of DataFrame concatenation with empty or all-NA entries is deprecated. In a future version, this will no longer exclude empty or all-NA columns when determining the result dtypes. To retain the old behavior, exclude the relevant entries before the concat operation.\n",
      "  vert_df.loc[len(vert_df)] = e_dict\n",
      "/home/u2175049/anaconda3/lib/python3.11/site-packages/CellSeg/segmentation2D.py:133: FutureWarning: The behavior of DataFrame concatenation with empty or all-NA entries is deprecated. In a future version, this will no longer exclude empty or all-NA columns when determining the result dtypes. To retain the old behavior, exclude the relevant entries before the concat operation.\n",
      "  vert_df.loc[len(vert_df)] = e_dict\n",
      "/home/u2175049/anaconda3/lib/python3.11/site-packages/CellSeg/segmentation2D.py:133: FutureWarning: The behavior of DataFrame concatenation with empty or all-NA entries is deprecated. In a future version, this will no longer exclude empty or all-NA columns when determining the result dtypes. To retain the old behavior, exclude the relevant entries before the concat operation.\n",
      "  vert_df.loc[len(vert_df)] = e_dict\n",
      "/home/u2175049/anaconda3/lib/python3.11/site-packages/CellSeg/segmentation2D.py:133: FutureWarning: The behavior of DataFrame concatenation with empty or all-NA entries is deprecated. In a future version, this will no longer exclude empty or all-NA columns when determining the result dtypes. To retain the old behavior, exclude the relevant entries before the concat operation.\n",
      "  vert_df.loc[len(vert_df)] = e_dict\n"
     ]
    },
    {
     "data": {
      "application/vnd.jupyter.widget-view+json": {
       "model_id": "9234aaf86cd249769fb4a7ee1c7d2618",
       "version_major": 2,
       "version_minor": 0
      },
      "text/plain": [
       "Vert segmentation:   0%|          | 0/21 [00:00<?, ?it/s]"
      ]
     },
     "metadata": {},
     "output_type": "display_data"
    },
    {
     "name": "stderr",
     "output_type": "stream",
     "text": [
      "/home/u2175049/anaconda3/lib/python3.11/site-packages/CellSeg/segmentation2D.py:133: FutureWarning: The behavior of DataFrame concatenation with empty or all-NA entries is deprecated. In a future version, this will no longer exclude empty or all-NA columns when determining the result dtypes. To retain the old behavior, exclude the relevant entries before the concat operation.\n",
      "  vert_df.loc[len(vert_df)] = e_dict\n",
      "/home/u2175049/anaconda3/lib/python3.11/site-packages/CellSeg/segmentation2D.py:133: FutureWarning: The behavior of DataFrame concatenation with empty or all-NA entries is deprecated. In a future version, this will no longer exclude empty or all-NA columns when determining the result dtypes. To retain the old behavior, exclude the relevant entries before the concat operation.\n",
      "  vert_df.loc[len(vert_df)] = e_dict\n",
      "/home/u2175049/anaconda3/lib/python3.11/site-packages/CellSeg/segmentation2D.py:133: FutureWarning: The behavior of DataFrame concatenation with empty or all-NA entries is deprecated. In a future version, this will no longer exclude empty or all-NA columns when determining the result dtypes. To retain the old behavior, exclude the relevant entries before the concat operation.\n",
      "  vert_df.loc[len(vert_df)] = e_dict\n",
      "/home/u2175049/anaconda3/lib/python3.11/site-packages/CellSeg/segmentation2D.py:133: FutureWarning: The behavior of DataFrame concatenation with empty or all-NA entries is deprecated. In a future version, this will no longer exclude empty or all-NA columns when determining the result dtypes. To retain the old behavior, exclude the relevant entries before the concat operation.\n",
      "  vert_df.loc[len(vert_df)] = e_dict\n",
      "/home/u2175049/anaconda3/lib/python3.11/site-packages/CellSeg/segmentation2D.py:133: FutureWarning: The behavior of DataFrame concatenation with empty or all-NA entries is deprecated. In a future version, this will no longer exclude empty or all-NA columns when determining the result dtypes. To retain the old behavior, exclude the relevant entries before the concat operation.\n",
      "  vert_df.loc[len(vert_df)] = e_dict\n",
      "/home/u2175049/anaconda3/lib/python3.11/site-packages/CellSeg/segmentation2D.py:133: FutureWarning: The behavior of DataFrame concatenation with empty or all-NA entries is deprecated. In a future version, this will no longer exclude empty or all-NA columns when determining the result dtypes. To retain the old behavior, exclude the relevant entries before the concat operation.\n",
      "  vert_df.loc[len(vert_df)] = e_dict\n",
      "/home/u2175049/anaconda3/lib/python3.11/site-packages/CellSeg/segmentation2D.py:133: FutureWarning: The behavior of DataFrame concatenation with empty or all-NA entries is deprecated. In a future version, this will no longer exclude empty or all-NA columns when determining the result dtypes. To retain the old behavior, exclude the relevant entries before the concat operation.\n",
      "  vert_df.loc[len(vert_df)] = e_dict\n",
      "/home/u2175049/anaconda3/lib/python3.11/site-packages/CellSeg/segmentation2D.py:133: FutureWarning: The behavior of DataFrame concatenation with empty or all-NA entries is deprecated. In a future version, this will no longer exclude empty or all-NA columns when determining the result dtypes. To retain the old behavior, exclude the relevant entries before the concat operation.\n",
      "  vert_df.loc[len(vert_df)] = e_dict\n",
      "/home/u2175049/anaconda3/lib/python3.11/site-packages/CellSeg/segmentation2D.py:133: FutureWarning: The behavior of DataFrame concatenation with empty or all-NA entries is deprecated. In a future version, this will no longer exclude empty or all-NA columns when determining the result dtypes. To retain the old behavior, exclude the relevant entries before the concat operation.\n",
      "  vert_df.loc[len(vert_df)] = e_dict\n",
      "/home/u2175049/anaconda3/lib/python3.11/site-packages/CellSeg/segmentation2D.py:133: FutureWarning: The behavior of DataFrame concatenation with empty or all-NA entries is deprecated. In a future version, this will no longer exclude empty or all-NA columns when determining the result dtypes. To retain the old behavior, exclude the relevant entries before the concat operation.\n",
      "  vert_df.loc[len(vert_df)] = e_dict\n",
      "/home/u2175049/anaconda3/lib/python3.11/site-packages/CellSeg/segmentation2D.py:133: FutureWarning: The behavior of DataFrame concatenation with empty or all-NA entries is deprecated. In a future version, this will no longer exclude empty or all-NA columns when determining the result dtypes. To retain the old behavior, exclude the relevant entries before the concat operation.\n",
      "  vert_df.loc[len(vert_df)] = e_dict\n",
      "/home/u2175049/anaconda3/lib/python3.11/site-packages/CellSeg/segmentation2D.py:133: FutureWarning: The behavior of DataFrame concatenation with empty or all-NA entries is deprecated. In a future version, this will no longer exclude empty or all-NA columns when determining the result dtypes. To retain the old behavior, exclude the relevant entries before the concat operation.\n",
      "  vert_df.loc[len(vert_df)] = e_dict\n",
      "/home/u2175049/anaconda3/lib/python3.11/site-packages/CellSeg/segmentation2D.py:133: FutureWarning: The behavior of DataFrame concatenation with empty or all-NA entries is deprecated. In a future version, this will no longer exclude empty or all-NA columns when determining the result dtypes. To retain the old behavior, exclude the relevant entries before the concat operation.\n",
      "  vert_df.loc[len(vert_df)] = e_dict\n"
     ]
    },
    {
     "data": {
      "application/vnd.jupyter.widget-view+json": {
       "model_id": "baca258a13a7482eb597a57621c36d92",
       "version_major": 2,
       "version_minor": 0
      },
      "text/plain": [
       "Vert segmentation:   0%|          | 0/10 [00:00<?, ?it/s]"
      ]
     },
     "metadata": {},
     "output_type": "display_data"
    },
    {
     "name": "stderr",
     "output_type": "stream",
     "text": [
      "/home/u2175049/anaconda3/lib/python3.11/site-packages/CellSeg/segmentation2D.py:133: FutureWarning: The behavior of DataFrame concatenation with empty or all-NA entries is deprecated. In a future version, this will no longer exclude empty or all-NA columns when determining the result dtypes. To retain the old behavior, exclude the relevant entries before the concat operation.\n",
      "  vert_df.loc[len(vert_df)] = e_dict\n",
      "/home/u2175049/anaconda3/lib/python3.11/site-packages/CellSeg/segmentation2D.py:133: FutureWarning: The behavior of DataFrame concatenation with empty or all-NA entries is deprecated. In a future version, this will no longer exclude empty or all-NA columns when determining the result dtypes. To retain the old behavior, exclude the relevant entries before the concat operation.\n",
      "  vert_df.loc[len(vert_df)] = e_dict\n",
      "/home/u2175049/anaconda3/lib/python3.11/site-packages/CellSeg/segmentation2D.py:133: FutureWarning: The behavior of DataFrame concatenation with empty or all-NA entries is deprecated. In a future version, this will no longer exclude empty or all-NA columns when determining the result dtypes. To retain the old behavior, exclude the relevant entries before the concat operation.\n",
      "  vert_df.loc[len(vert_df)] = e_dict\n",
      "/home/u2175049/anaconda3/lib/python3.11/site-packages/CellSeg/segmentation2D.py:133: FutureWarning: The behavior of DataFrame concatenation with empty or all-NA entries is deprecated. In a future version, this will no longer exclude empty or all-NA columns when determining the result dtypes. To retain the old behavior, exclude the relevant entries before the concat operation.\n",
      "  vert_df.loc[len(vert_df)] = e_dict\n",
      "/home/u2175049/anaconda3/lib/python3.11/site-packages/CellSeg/segmentation2D.py:133: FutureWarning: The behavior of DataFrame concatenation with empty or all-NA entries is deprecated. In a future version, this will no longer exclude empty or all-NA columns when determining the result dtypes. To retain the old behavior, exclude the relevant entries before the concat operation.\n",
      "  vert_df.loc[len(vert_df)] = e_dict\n"
     ]
    },
    {
     "data": {
      "application/vnd.jupyter.widget-view+json": {
       "model_id": "2c286a74eee5436fac1aebadb072723d",
       "version_major": 2,
       "version_minor": 0
      },
      "text/plain": [
       "Vert segmentation:   0%|          | 0/10 [00:00<?, ?it/s]"
      ]
     },
     "metadata": {},
     "output_type": "display_data"
    },
    {
     "name": "stderr",
     "output_type": "stream",
     "text": [
      "/home/u2175049/anaconda3/lib/python3.11/site-packages/CellSeg/segmentation2D.py:133: FutureWarning: The behavior of DataFrame concatenation with empty or all-NA entries is deprecated. In a future version, this will no longer exclude empty or all-NA columns when determining the result dtypes. To retain the old behavior, exclude the relevant entries before the concat operation.\n",
      "  vert_df.loc[len(vert_df)] = e_dict\n",
      "/home/u2175049/anaconda3/lib/python3.11/site-packages/CellSeg/segmentation2D.py:133: FutureWarning: The behavior of DataFrame concatenation with empty or all-NA entries is deprecated. In a future version, this will no longer exclude empty or all-NA columns when determining the result dtypes. To retain the old behavior, exclude the relevant entries before the concat operation.\n",
      "  vert_df.loc[len(vert_df)] = e_dict\n",
      "/home/u2175049/anaconda3/lib/python3.11/site-packages/CellSeg/segmentation2D.py:133: FutureWarning: The behavior of DataFrame concatenation with empty or all-NA entries is deprecated. In a future version, this will no longer exclude empty or all-NA columns when determining the result dtypes. To retain the old behavior, exclude the relevant entries before the concat operation.\n",
      "  vert_df.loc[len(vert_df)] = e_dict\n",
      "/home/u2175049/anaconda3/lib/python3.11/site-packages/CellSeg/segmentation2D.py:133: FutureWarning: The behavior of DataFrame concatenation with empty or all-NA entries is deprecated. In a future version, this will no longer exclude empty or all-NA columns when determining the result dtypes. To retain the old behavior, exclude the relevant entries before the concat operation.\n",
      "  vert_df.loc[len(vert_df)] = e_dict\n",
      "/home/u2175049/anaconda3/lib/python3.11/site-packages/CellSeg/segmentation2D.py:133: FutureWarning: The behavior of DataFrame concatenation with empty or all-NA entries is deprecated. In a future version, this will no longer exclude empty or all-NA columns when determining the result dtypes. To retain the old behavior, exclude the relevant entries before the concat operation.\n",
      "  vert_df.loc[len(vert_df)] = e_dict\n"
     ]
    },
    {
     "data": {
      "application/vnd.jupyter.widget-view+json": {
       "model_id": "4495fb2db19e49acae0ddc1b6beacf50",
       "version_major": 2,
       "version_minor": 0
      },
      "text/plain": [
       "Vert segmentation:   0%|          | 0/21 [00:00<?, ?it/s]"
      ]
     },
     "metadata": {},
     "output_type": "display_data"
    },
    {
     "name": "stderr",
     "output_type": "stream",
     "text": [
      "/home/u2175049/anaconda3/lib/python3.11/site-packages/CellSeg/segmentation2D.py:133: FutureWarning: The behavior of DataFrame concatenation with empty or all-NA entries is deprecated. In a future version, this will no longer exclude empty or all-NA columns when determining the result dtypes. To retain the old behavior, exclude the relevant entries before the concat operation.\n",
      "  vert_df.loc[len(vert_df)] = e_dict\n",
      "/home/u2175049/anaconda3/lib/python3.11/site-packages/CellSeg/segmentation2D.py:133: FutureWarning: The behavior of DataFrame concatenation with empty or all-NA entries is deprecated. In a future version, this will no longer exclude empty or all-NA columns when determining the result dtypes. To retain the old behavior, exclude the relevant entries before the concat operation.\n",
      "  vert_df.loc[len(vert_df)] = e_dict\n",
      "/home/u2175049/anaconda3/lib/python3.11/site-packages/CellSeg/segmentation2D.py:133: FutureWarning: The behavior of DataFrame concatenation with empty or all-NA entries is deprecated. In a future version, this will no longer exclude empty or all-NA columns when determining the result dtypes. To retain the old behavior, exclude the relevant entries before the concat operation.\n",
      "  vert_df.loc[len(vert_df)] = e_dict\n",
      "/home/u2175049/anaconda3/lib/python3.11/site-packages/CellSeg/segmentation2D.py:133: FutureWarning: The behavior of DataFrame concatenation with empty or all-NA entries is deprecated. In a future version, this will no longer exclude empty or all-NA columns when determining the result dtypes. To retain the old behavior, exclude the relevant entries before the concat operation.\n",
      "  vert_df.loc[len(vert_df)] = e_dict\n",
      "/home/u2175049/anaconda3/lib/python3.11/site-packages/CellSeg/segmentation2D.py:133: FutureWarning: The behavior of DataFrame concatenation with empty or all-NA entries is deprecated. In a future version, this will no longer exclude empty or all-NA columns when determining the result dtypes. To retain the old behavior, exclude the relevant entries before the concat operation.\n",
      "  vert_df.loc[len(vert_df)] = e_dict\n",
      "/home/u2175049/anaconda3/lib/python3.11/site-packages/CellSeg/segmentation2D.py:133: FutureWarning: The behavior of DataFrame concatenation with empty or all-NA entries is deprecated. In a future version, this will no longer exclude empty or all-NA columns when determining the result dtypes. To retain the old behavior, exclude the relevant entries before the concat operation.\n",
      "  vert_df.loc[len(vert_df)] = e_dict\n",
      "/home/u2175049/anaconda3/lib/python3.11/site-packages/CellSeg/segmentation2D.py:133: FutureWarning: The behavior of DataFrame concatenation with empty or all-NA entries is deprecated. In a future version, this will no longer exclude empty or all-NA columns when determining the result dtypes. To retain the old behavior, exclude the relevant entries before the concat operation.\n",
      "  vert_df.loc[len(vert_df)] = e_dict\n",
      "/home/u2175049/anaconda3/lib/python3.11/site-packages/CellSeg/segmentation2D.py:133: FutureWarning: The behavior of DataFrame concatenation with empty or all-NA entries is deprecated. In a future version, this will no longer exclude empty or all-NA columns when determining the result dtypes. To retain the old behavior, exclude the relevant entries before the concat operation.\n",
      "  vert_df.loc[len(vert_df)] = e_dict\n",
      "/home/u2175049/anaconda3/lib/python3.11/site-packages/CellSeg/segmentation2D.py:133: FutureWarning: The behavior of DataFrame concatenation with empty or all-NA entries is deprecated. In a future version, this will no longer exclude empty or all-NA columns when determining the result dtypes. To retain the old behavior, exclude the relevant entries before the concat operation.\n",
      "  vert_df.loc[len(vert_df)] = e_dict\n",
      "/home/u2175049/anaconda3/lib/python3.11/site-packages/CellSeg/segmentation2D.py:133: FutureWarning: The behavior of DataFrame concatenation with empty or all-NA entries is deprecated. In a future version, this will no longer exclude empty or all-NA columns when determining the result dtypes. To retain the old behavior, exclude the relevant entries before the concat operation.\n",
      "  vert_df.loc[len(vert_df)] = e_dict\n",
      "/home/u2175049/anaconda3/lib/python3.11/site-packages/CellSeg/segmentation2D.py:133: FutureWarning: The behavior of DataFrame concatenation with empty or all-NA entries is deprecated. In a future version, this will no longer exclude empty or all-NA columns when determining the result dtypes. To retain the old behavior, exclude the relevant entries before the concat operation.\n",
      "  vert_df.loc[len(vert_df)] = e_dict\n",
      "/home/u2175049/anaconda3/lib/python3.11/site-packages/CellSeg/segmentation2D.py:133: FutureWarning: The behavior of DataFrame concatenation with empty or all-NA entries is deprecated. In a future version, this will no longer exclude empty or all-NA columns when determining the result dtypes. To retain the old behavior, exclude the relevant entries before the concat operation.\n",
      "  vert_df.loc[len(vert_df)] = e_dict\n",
      "/home/u2175049/anaconda3/lib/python3.11/site-packages/CellSeg/segmentation2D.py:133: FutureWarning: The behavior of DataFrame concatenation with empty or all-NA entries is deprecated. In a future version, this will no longer exclude empty or all-NA columns when determining the result dtypes. To retain the old behavior, exclude the relevant entries before the concat operation.\n",
      "  vert_df.loc[len(vert_df)] = e_dict\n",
      "/home/u2175049/anaconda3/lib/python3.11/site-packages/CellSeg/segmentation2D.py:133: FutureWarning: The behavior of DataFrame concatenation with empty or all-NA entries is deprecated. In a future version, this will no longer exclude empty or all-NA columns when determining the result dtypes. To retain the old behavior, exclude the relevant entries before the concat operation.\n",
      "  vert_df.loc[len(vert_df)] = e_dict\n"
     ]
    },
    {
     "data": {
      "application/vnd.jupyter.widget-view+json": {
       "model_id": "1d672bd2373c44efbd7c5f7b1b284c63",
       "version_major": 2,
       "version_minor": 0
      },
      "text/plain": [
       "Vert segmentation:   0%|          | 0/10 [00:00<?, ?it/s]"
      ]
     },
     "metadata": {},
     "output_type": "display_data"
    },
    {
     "name": "stderr",
     "output_type": "stream",
     "text": [
      "/home/u2175049/anaconda3/lib/python3.11/site-packages/CellSeg/segmentation2D.py:133: FutureWarning: The behavior of DataFrame concatenation with empty or all-NA entries is deprecated. In a future version, this will no longer exclude empty or all-NA columns when determining the result dtypes. To retain the old behavior, exclude the relevant entries before the concat operation.\n",
      "  vert_df.loc[len(vert_df)] = e_dict\n",
      "/home/u2175049/anaconda3/lib/python3.11/site-packages/CellSeg/segmentation2D.py:133: FutureWarning: The behavior of DataFrame concatenation with empty or all-NA entries is deprecated. In a future version, this will no longer exclude empty or all-NA columns when determining the result dtypes. To retain the old behavior, exclude the relevant entries before the concat operation.\n",
      "  vert_df.loc[len(vert_df)] = e_dict\n",
      "/home/u2175049/anaconda3/lib/python3.11/site-packages/CellSeg/segmentation2D.py:133: FutureWarning: The behavior of DataFrame concatenation with empty or all-NA entries is deprecated. In a future version, this will no longer exclude empty or all-NA columns when determining the result dtypes. To retain the old behavior, exclude the relevant entries before the concat operation.\n",
      "  vert_df.loc[len(vert_df)] = e_dict\n",
      "/home/u2175049/anaconda3/lib/python3.11/site-packages/CellSeg/segmentation2D.py:133: FutureWarning: The behavior of DataFrame concatenation with empty or all-NA entries is deprecated. In a future version, this will no longer exclude empty or all-NA columns when determining the result dtypes. To retain the old behavior, exclude the relevant entries before the concat operation.\n",
      "  vert_df.loc[len(vert_df)] = e_dict\n",
      "/home/u2175049/anaconda3/lib/python3.11/site-packages/CellSeg/segmentation2D.py:133: FutureWarning: The behavior of DataFrame concatenation with empty or all-NA entries is deprecated. In a future version, this will no longer exclude empty or all-NA columns when determining the result dtypes. To retain the old behavior, exclude the relevant entries before the concat operation.\n",
      "  vert_df.loc[len(vert_df)] = e_dict\n"
     ]
    },
    {
     "data": {
      "application/vnd.jupyter.widget-view+json": {
       "model_id": "59106347461f459392b4a5fac03a7a53",
       "version_major": 2,
       "version_minor": 0
      },
      "text/plain": [
       "Vert segmentation:   0%|          | 0/6 [00:00<?, ?it/s]"
      ]
     },
     "metadata": {},
     "output_type": "display_data"
    },
    {
     "name": "stderr",
     "output_type": "stream",
     "text": [
      "/home/u2175049/anaconda3/lib/python3.11/site-packages/CellSeg/segmentation2D.py:133: FutureWarning: The behavior of DataFrame concatenation with empty or all-NA entries is deprecated. In a future version, this will no longer exclude empty or all-NA columns when determining the result dtypes. To retain the old behavior, exclude the relevant entries before the concat operation.\n",
      "  vert_df.loc[len(vert_df)] = e_dict\n"
     ]
    },
    {
     "data": {
      "application/vnd.jupyter.widget-view+json": {
       "model_id": "c90c80b67a6c444eaf70628f3e9a1ad3",
       "version_major": 2,
       "version_minor": 0
      },
      "text/plain": [
       "Vert segmentation:   0%|          | 0/15 [00:00<?, ?it/s]"
      ]
     },
     "metadata": {},
     "output_type": "display_data"
    },
    {
     "name": "stderr",
     "output_type": "stream",
     "text": [
      "/home/u2175049/anaconda3/lib/python3.11/site-packages/CellSeg/segmentation2D.py:133: FutureWarning: The behavior of DataFrame concatenation with empty or all-NA entries is deprecated. In a future version, this will no longer exclude empty or all-NA columns when determining the result dtypes. To retain the old behavior, exclude the relevant entries before the concat operation.\n",
      "  vert_df.loc[len(vert_df)] = e_dict\n",
      "/home/u2175049/anaconda3/lib/python3.11/site-packages/CellSeg/segmentation2D.py:133: FutureWarning: The behavior of DataFrame concatenation with empty or all-NA entries is deprecated. In a future version, this will no longer exclude empty or all-NA columns when determining the result dtypes. To retain the old behavior, exclude the relevant entries before the concat operation.\n",
      "  vert_df.loc[len(vert_df)] = e_dict\n",
      "/home/u2175049/anaconda3/lib/python3.11/site-packages/CellSeg/segmentation2D.py:133: FutureWarning: The behavior of DataFrame concatenation with empty or all-NA entries is deprecated. In a future version, this will no longer exclude empty or all-NA columns when determining the result dtypes. To retain the old behavior, exclude the relevant entries before the concat operation.\n",
      "  vert_df.loc[len(vert_df)] = e_dict\n",
      "/home/u2175049/anaconda3/lib/python3.11/site-packages/CellSeg/segmentation2D.py:133: FutureWarning: The behavior of DataFrame concatenation with empty or all-NA entries is deprecated. In a future version, this will no longer exclude empty or all-NA columns when determining the result dtypes. To retain the old behavior, exclude the relevant entries before the concat operation.\n",
      "  vert_df.loc[len(vert_df)] = e_dict\n",
      "/home/u2175049/anaconda3/lib/python3.11/site-packages/CellSeg/segmentation2D.py:133: FutureWarning: The behavior of DataFrame concatenation with empty or all-NA entries is deprecated. In a future version, this will no longer exclude empty or all-NA columns when determining the result dtypes. To retain the old behavior, exclude the relevant entries before the concat operation.\n",
      "  vert_df.loc[len(vert_df)] = e_dict\n",
      "/home/u2175049/anaconda3/lib/python3.11/site-packages/CellSeg/segmentation2D.py:133: FutureWarning: The behavior of DataFrame concatenation with empty or all-NA entries is deprecated. In a future version, this will no longer exclude empty or all-NA columns when determining the result dtypes. To retain the old behavior, exclude the relevant entries before the concat operation.\n",
      "  vert_df.loc[len(vert_df)] = e_dict\n",
      "/home/u2175049/anaconda3/lib/python3.11/site-packages/CellSeg/segmentation2D.py:133: FutureWarning: The behavior of DataFrame concatenation with empty or all-NA entries is deprecated. In a future version, this will no longer exclude empty or all-NA columns when determining the result dtypes. To retain the old behavior, exclude the relevant entries before the concat operation.\n",
      "  vert_df.loc[len(vert_df)] = e_dict\n",
      "/home/u2175049/anaconda3/lib/python3.11/site-packages/CellSeg/segmentation2D.py:133: FutureWarning: The behavior of DataFrame concatenation with empty or all-NA entries is deprecated. In a future version, this will no longer exclude empty or all-NA columns when determining the result dtypes. To retain the old behavior, exclude the relevant entries before the concat operation.\n",
      "  vert_df.loc[len(vert_df)] = e_dict\n"
     ]
    },
    {
     "data": {
      "application/vnd.jupyter.widget-view+json": {
       "model_id": "3861ad4eda4a42ab9da7feac8b3f8d5c",
       "version_major": 2,
       "version_minor": 0
      },
      "text/plain": [
       "Vert segmentation:   0%|          | 0/10 [00:00<?, ?it/s]"
      ]
     },
     "metadata": {},
     "output_type": "display_data"
    },
    {
     "name": "stderr",
     "output_type": "stream",
     "text": [
      "/home/u2175049/anaconda3/lib/python3.11/site-packages/CellSeg/segmentation2D.py:133: FutureWarning: The behavior of DataFrame concatenation with empty or all-NA entries is deprecated. In a future version, this will no longer exclude empty or all-NA columns when determining the result dtypes. To retain the old behavior, exclude the relevant entries before the concat operation.\n",
      "  vert_df.loc[len(vert_df)] = e_dict\n",
      "/home/u2175049/anaconda3/lib/python3.11/site-packages/CellSeg/segmentation2D.py:133: FutureWarning: The behavior of DataFrame concatenation with empty or all-NA entries is deprecated. In a future version, this will no longer exclude empty or all-NA columns when determining the result dtypes. To retain the old behavior, exclude the relevant entries before the concat operation.\n",
      "  vert_df.loc[len(vert_df)] = e_dict\n",
      "/home/u2175049/anaconda3/lib/python3.11/site-packages/CellSeg/segmentation2D.py:133: FutureWarning: The behavior of DataFrame concatenation with empty or all-NA entries is deprecated. In a future version, this will no longer exclude empty or all-NA columns when determining the result dtypes. To retain the old behavior, exclude the relevant entries before the concat operation.\n",
      "  vert_df.loc[len(vert_df)] = e_dict\n",
      "/home/u2175049/anaconda3/lib/python3.11/site-packages/CellSeg/segmentation2D.py:133: FutureWarning: The behavior of DataFrame concatenation with empty or all-NA entries is deprecated. In a future version, this will no longer exclude empty or all-NA columns when determining the result dtypes. To retain the old behavior, exclude the relevant entries before the concat operation.\n",
      "  vert_df.loc[len(vert_df)] = e_dict\n",
      "/home/u2175049/anaconda3/lib/python3.11/site-packages/CellSeg/segmentation2D.py:133: FutureWarning: The behavior of DataFrame concatenation with empty or all-NA entries is deprecated. In a future version, this will no longer exclude empty or all-NA columns when determining the result dtypes. To retain the old behavior, exclude the relevant entries before the concat operation.\n",
      "  vert_df.loc[len(vert_df)] = e_dict\n"
     ]
    },
    {
     "data": {
      "application/vnd.jupyter.widget-view+json": {
       "model_id": "a74805fe050a4f95ab7bb35672afe8b8",
       "version_major": 2,
       "version_minor": 0
      },
      "text/plain": [
       "Vert segmentation:   0%|          | 0/21 [00:00<?, ?it/s]"
      ]
     },
     "metadata": {},
     "output_type": "display_data"
    },
    {
     "name": "stderr",
     "output_type": "stream",
     "text": [
      "/home/u2175049/anaconda3/lib/python3.11/site-packages/CellSeg/segmentation2D.py:133: FutureWarning: The behavior of DataFrame concatenation with empty or all-NA entries is deprecated. In a future version, this will no longer exclude empty or all-NA columns when determining the result dtypes. To retain the old behavior, exclude the relevant entries before the concat operation.\n",
      "  vert_df.loc[len(vert_df)] = e_dict\n",
      "/home/u2175049/anaconda3/lib/python3.11/site-packages/CellSeg/segmentation2D.py:133: FutureWarning: The behavior of DataFrame concatenation with empty or all-NA entries is deprecated. In a future version, this will no longer exclude empty or all-NA columns when determining the result dtypes. To retain the old behavior, exclude the relevant entries before the concat operation.\n",
      "  vert_df.loc[len(vert_df)] = e_dict\n",
      "/home/u2175049/anaconda3/lib/python3.11/site-packages/CellSeg/segmentation2D.py:133: FutureWarning: The behavior of DataFrame concatenation with empty or all-NA entries is deprecated. In a future version, this will no longer exclude empty or all-NA columns when determining the result dtypes. To retain the old behavior, exclude the relevant entries before the concat operation.\n",
      "  vert_df.loc[len(vert_df)] = e_dict\n",
      "/home/u2175049/anaconda3/lib/python3.11/site-packages/CellSeg/segmentation2D.py:133: FutureWarning: The behavior of DataFrame concatenation with empty or all-NA entries is deprecated. In a future version, this will no longer exclude empty or all-NA columns when determining the result dtypes. To retain the old behavior, exclude the relevant entries before the concat operation.\n",
      "  vert_df.loc[len(vert_df)] = e_dict\n",
      "/home/u2175049/anaconda3/lib/python3.11/site-packages/CellSeg/segmentation2D.py:133: FutureWarning: The behavior of DataFrame concatenation with empty or all-NA entries is deprecated. In a future version, this will no longer exclude empty or all-NA columns when determining the result dtypes. To retain the old behavior, exclude the relevant entries before the concat operation.\n",
      "  vert_df.loc[len(vert_df)] = e_dict\n",
      "/home/u2175049/anaconda3/lib/python3.11/site-packages/CellSeg/segmentation2D.py:133: FutureWarning: The behavior of DataFrame concatenation with empty or all-NA entries is deprecated. In a future version, this will no longer exclude empty or all-NA columns when determining the result dtypes. To retain the old behavior, exclude the relevant entries before the concat operation.\n",
      "  vert_df.loc[len(vert_df)] = e_dict\n",
      "/home/u2175049/anaconda3/lib/python3.11/site-packages/CellSeg/segmentation2D.py:133: FutureWarning: The behavior of DataFrame concatenation with empty or all-NA entries is deprecated. In a future version, this will no longer exclude empty or all-NA columns when determining the result dtypes. To retain the old behavior, exclude the relevant entries before the concat operation.\n",
      "  vert_df.loc[len(vert_df)] = e_dict\n",
      "/home/u2175049/anaconda3/lib/python3.11/site-packages/CellSeg/segmentation2D.py:133: FutureWarning: The behavior of DataFrame concatenation with empty or all-NA entries is deprecated. In a future version, this will no longer exclude empty or all-NA columns when determining the result dtypes. To retain the old behavior, exclude the relevant entries before the concat operation.\n",
      "  vert_df.loc[len(vert_df)] = e_dict\n",
      "/home/u2175049/anaconda3/lib/python3.11/site-packages/CellSeg/segmentation2D.py:133: FutureWarning: The behavior of DataFrame concatenation with empty or all-NA entries is deprecated. In a future version, this will no longer exclude empty or all-NA columns when determining the result dtypes. To retain the old behavior, exclude the relevant entries before the concat operation.\n",
      "  vert_df.loc[len(vert_df)] = e_dict\n",
      "/home/u2175049/anaconda3/lib/python3.11/site-packages/CellSeg/segmentation2D.py:133: FutureWarning: The behavior of DataFrame concatenation with empty or all-NA entries is deprecated. In a future version, this will no longer exclude empty or all-NA columns when determining the result dtypes. To retain the old behavior, exclude the relevant entries before the concat operation.\n",
      "  vert_df.loc[len(vert_df)] = e_dict\n",
      "/home/u2175049/anaconda3/lib/python3.11/site-packages/CellSeg/segmentation2D.py:133: FutureWarning: The behavior of DataFrame concatenation with empty or all-NA entries is deprecated. In a future version, this will no longer exclude empty or all-NA columns when determining the result dtypes. To retain the old behavior, exclude the relevant entries before the concat operation.\n",
      "  vert_df.loc[len(vert_df)] = e_dict\n",
      "/home/u2175049/anaconda3/lib/python3.11/site-packages/CellSeg/segmentation2D.py:133: FutureWarning: The behavior of DataFrame concatenation with empty or all-NA entries is deprecated. In a future version, this will no longer exclude empty or all-NA columns when determining the result dtypes. To retain the old behavior, exclude the relevant entries before the concat operation.\n",
      "  vert_df.loc[len(vert_df)] = e_dict\n",
      "/home/u2175049/anaconda3/lib/python3.11/site-packages/CellSeg/segmentation2D.py:133: FutureWarning: The behavior of DataFrame concatenation with empty or all-NA entries is deprecated. In a future version, this will no longer exclude empty or all-NA columns when determining the result dtypes. To retain the old behavior, exclude the relevant entries before the concat operation.\n",
      "  vert_df.loc[len(vert_df)] = e_dict\n",
      "/home/u2175049/anaconda3/lib/python3.11/site-packages/CellSeg/segmentation2D.py:133: FutureWarning: The behavior of DataFrame concatenation with empty or all-NA entries is deprecated. In a future version, this will no longer exclude empty or all-NA columns when determining the result dtypes. To retain the old behavior, exclude the relevant entries before the concat operation.\n",
      "  vert_df.loc[len(vert_df)] = e_dict\n"
     ]
    },
    {
     "data": {
      "application/vnd.jupyter.widget-view+json": {
       "model_id": "d2d2ffe20d394e8fa4c4c08b9996d219",
       "version_major": 2,
       "version_minor": 0
      },
      "text/plain": [
       "Vert segmentation:   0%|          | 0/10 [00:00<?, ?it/s]"
      ]
     },
     "metadata": {},
     "output_type": "display_data"
    },
    {
     "name": "stderr",
     "output_type": "stream",
     "text": [
      "/home/u2175049/anaconda3/lib/python3.11/site-packages/CellSeg/segmentation2D.py:133: FutureWarning: The behavior of DataFrame concatenation with empty or all-NA entries is deprecated. In a future version, this will no longer exclude empty or all-NA columns when determining the result dtypes. To retain the old behavior, exclude the relevant entries before the concat operation.\n",
      "  vert_df.loc[len(vert_df)] = e_dict\n",
      "/home/u2175049/anaconda3/lib/python3.11/site-packages/CellSeg/segmentation2D.py:133: FutureWarning: The behavior of DataFrame concatenation with empty or all-NA entries is deprecated. In a future version, this will no longer exclude empty or all-NA columns when determining the result dtypes. To retain the old behavior, exclude the relevant entries before the concat operation.\n",
      "  vert_df.loc[len(vert_df)] = e_dict\n",
      "/home/u2175049/anaconda3/lib/python3.11/site-packages/CellSeg/segmentation2D.py:133: FutureWarning: The behavior of DataFrame concatenation with empty or all-NA entries is deprecated. In a future version, this will no longer exclude empty or all-NA columns when determining the result dtypes. To retain the old behavior, exclude the relevant entries before the concat operation.\n",
      "  vert_df.loc[len(vert_df)] = e_dict\n",
      "/home/u2175049/anaconda3/lib/python3.11/site-packages/CellSeg/segmentation2D.py:133: FutureWarning: The behavior of DataFrame concatenation with empty or all-NA entries is deprecated. In a future version, this will no longer exclude empty or all-NA columns when determining the result dtypes. To retain the old behavior, exclude the relevant entries before the concat operation.\n",
      "  vert_df.loc[len(vert_df)] = e_dict\n",
      "/home/u2175049/anaconda3/lib/python3.11/site-packages/CellSeg/segmentation2D.py:133: FutureWarning: The behavior of DataFrame concatenation with empty or all-NA entries is deprecated. In a future version, this will no longer exclude empty or all-NA columns when determining the result dtypes. To retain the old behavior, exclude the relevant entries before the concat operation.\n",
      "  vert_df.loc[len(vert_df)] = e_dict\n",
      "/home/u2175049/anaconda3/lib/python3.11/site-packages/CellSeg/segmentation2D.py:133: FutureWarning: The behavior of DataFrame concatenation with empty or all-NA entries is deprecated. In a future version, this will no longer exclude empty or all-NA columns when determining the result dtypes. To retain the old behavior, exclude the relevant entries before the concat operation.\n",
      "  vert_df.loc[len(vert_df)] = e_dict\n"
     ]
    },
    {
     "data": {
      "application/vnd.jupyter.widget-view+json": {
       "model_id": "57247f6af8de4cc09f4c392ec67d812d",
       "version_major": 2,
       "version_minor": 0
      },
      "text/plain": [
       "Vert segmentation:   0%|          | 0/3 [00:00<?, ?it/s]"
      ]
     },
     "metadata": {},
     "output_type": "display_data"
    },
    {
     "name": "stderr",
     "output_type": "stream",
     "text": [
      "/home/u2175049/anaconda3/lib/python3.11/site-packages/CellSeg/segmentation2D.py:133: FutureWarning: The behavior of DataFrame concatenation with empty or all-NA entries is deprecated. In a future version, this will no longer exclude empty or all-NA columns when determining the result dtypes. To retain the old behavior, exclude the relevant entries before the concat operation.\n",
      "  vert_df.loc[len(vert_df)] = e_dict\n"
     ]
    },
    {
     "data": {
      "application/vnd.jupyter.widget-view+json": {
       "model_id": "d795d32f5ab6460aa366cb6d90d91719",
       "version_major": 2,
       "version_minor": 0
      },
      "text/plain": [
       "Vert segmentation:   0%|          | 0/15 [00:00<?, ?it/s]"
      ]
     },
     "metadata": {},
     "output_type": "display_data"
    },
    {
     "name": "stderr",
     "output_type": "stream",
     "text": [
      "/home/u2175049/anaconda3/lib/python3.11/site-packages/CellSeg/segmentation2D.py:133: FutureWarning: The behavior of DataFrame concatenation with empty or all-NA entries is deprecated. In a future version, this will no longer exclude empty or all-NA columns when determining the result dtypes. To retain the old behavior, exclude the relevant entries before the concat operation.\n",
      "  vert_df.loc[len(vert_df)] = e_dict\n",
      "/home/u2175049/anaconda3/lib/python3.11/site-packages/CellSeg/segmentation2D.py:133: FutureWarning: The behavior of DataFrame concatenation with empty or all-NA entries is deprecated. In a future version, this will no longer exclude empty or all-NA columns when determining the result dtypes. To retain the old behavior, exclude the relevant entries before the concat operation.\n",
      "  vert_df.loc[len(vert_df)] = e_dict\n",
      "/home/u2175049/anaconda3/lib/python3.11/site-packages/CellSeg/segmentation2D.py:133: FutureWarning: The behavior of DataFrame concatenation with empty or all-NA entries is deprecated. In a future version, this will no longer exclude empty or all-NA columns when determining the result dtypes. To retain the old behavior, exclude the relevant entries before the concat operation.\n",
      "  vert_df.loc[len(vert_df)] = e_dict\n",
      "/home/u2175049/anaconda3/lib/python3.11/site-packages/CellSeg/segmentation2D.py:133: FutureWarning: The behavior of DataFrame concatenation with empty or all-NA entries is deprecated. In a future version, this will no longer exclude empty or all-NA columns when determining the result dtypes. To retain the old behavior, exclude the relevant entries before the concat operation.\n",
      "  vert_df.loc[len(vert_df)] = e_dict\n",
      "/home/u2175049/anaconda3/lib/python3.11/site-packages/CellSeg/segmentation2D.py:133: FutureWarning: The behavior of DataFrame concatenation with empty or all-NA entries is deprecated. In a future version, this will no longer exclude empty or all-NA columns when determining the result dtypes. To retain the old behavior, exclude the relevant entries before the concat operation.\n",
      "  vert_df.loc[len(vert_df)] = e_dict\n",
      "/home/u2175049/anaconda3/lib/python3.11/site-packages/CellSeg/segmentation2D.py:133: FutureWarning: The behavior of DataFrame concatenation with empty or all-NA entries is deprecated. In a future version, this will no longer exclude empty or all-NA columns when determining the result dtypes. To retain the old behavior, exclude the relevant entries before the concat operation.\n",
      "  vert_df.loc[len(vert_df)] = e_dict\n",
      "/home/u2175049/anaconda3/lib/python3.11/site-packages/CellSeg/segmentation2D.py:133: FutureWarning: The behavior of DataFrame concatenation with empty or all-NA entries is deprecated. In a future version, this will no longer exclude empty or all-NA columns when determining the result dtypes. To retain the old behavior, exclude the relevant entries before the concat operation.\n",
      "  vert_df.loc[len(vert_df)] = e_dict\n",
      "/home/u2175049/anaconda3/lib/python3.11/site-packages/CellSeg/segmentation2D.py:133: FutureWarning: The behavior of DataFrame concatenation with empty or all-NA entries is deprecated. In a future version, this will no longer exclude empty or all-NA columns when determining the result dtypes. To retain the old behavior, exclude the relevant entries before the concat operation.\n",
      "  vert_df.loc[len(vert_df)] = e_dict\n"
     ]
    },
    {
     "data": {
      "application/vnd.jupyter.widget-view+json": {
       "model_id": "2c58389ae4534ebcad228df18c11c7ed",
       "version_major": 2,
       "version_minor": 0
      },
      "text/plain": [
       "Vert segmentation:   0%|          | 0/28 [00:00<?, ?it/s]"
      ]
     },
     "metadata": {},
     "output_type": "display_data"
    },
    {
     "name": "stderr",
     "output_type": "stream",
     "text": [
      "/home/u2175049/anaconda3/lib/python3.11/site-packages/CellSeg/segmentation2D.py:133: FutureWarning: The behavior of DataFrame concatenation with empty or all-NA entries is deprecated. In a future version, this will no longer exclude empty or all-NA columns when determining the result dtypes. To retain the old behavior, exclude the relevant entries before the concat operation.\n",
      "  vert_df.loc[len(vert_df)] = e_dict\n",
      "/home/u2175049/anaconda3/lib/python3.11/site-packages/CellSeg/segmentation2D.py:133: FutureWarning: The behavior of DataFrame concatenation with empty or all-NA entries is deprecated. In a future version, this will no longer exclude empty or all-NA columns when determining the result dtypes. To retain the old behavior, exclude the relevant entries before the concat operation.\n",
      "  vert_df.loc[len(vert_df)] = e_dict\n",
      "/home/u2175049/anaconda3/lib/python3.11/site-packages/CellSeg/segmentation2D.py:133: FutureWarning: The behavior of DataFrame concatenation with empty or all-NA entries is deprecated. In a future version, this will no longer exclude empty or all-NA columns when determining the result dtypes. To retain the old behavior, exclude the relevant entries before the concat operation.\n",
      "  vert_df.loc[len(vert_df)] = e_dict\n",
      "/home/u2175049/anaconda3/lib/python3.11/site-packages/CellSeg/segmentation2D.py:133: FutureWarning: The behavior of DataFrame concatenation with empty or all-NA entries is deprecated. In a future version, this will no longer exclude empty or all-NA columns when determining the result dtypes. To retain the old behavior, exclude the relevant entries before the concat operation.\n",
      "  vert_df.loc[len(vert_df)] = e_dict\n",
      "/home/u2175049/anaconda3/lib/python3.11/site-packages/CellSeg/segmentation2D.py:133: FutureWarning: The behavior of DataFrame concatenation with empty or all-NA entries is deprecated. In a future version, this will no longer exclude empty or all-NA columns when determining the result dtypes. To retain the old behavior, exclude the relevant entries before the concat operation.\n",
      "  vert_df.loc[len(vert_df)] = e_dict\n",
      "/home/u2175049/anaconda3/lib/python3.11/site-packages/CellSeg/segmentation2D.py:133: FutureWarning: The behavior of DataFrame concatenation with empty or all-NA entries is deprecated. In a future version, this will no longer exclude empty or all-NA columns when determining the result dtypes. To retain the old behavior, exclude the relevant entries before the concat operation.\n",
      "  vert_df.loc[len(vert_df)] = e_dict\n",
      "/home/u2175049/anaconda3/lib/python3.11/site-packages/CellSeg/segmentation2D.py:133: FutureWarning: The behavior of DataFrame concatenation with empty or all-NA entries is deprecated. In a future version, this will no longer exclude empty or all-NA columns when determining the result dtypes. To retain the old behavior, exclude the relevant entries before the concat operation.\n",
      "  vert_df.loc[len(vert_df)] = e_dict\n",
      "/home/u2175049/anaconda3/lib/python3.11/site-packages/CellSeg/segmentation2D.py:133: FutureWarning: The behavior of DataFrame concatenation with empty or all-NA entries is deprecated. In a future version, this will no longer exclude empty or all-NA columns when determining the result dtypes. To retain the old behavior, exclude the relevant entries before the concat operation.\n",
      "  vert_df.loc[len(vert_df)] = e_dict\n",
      "/home/u2175049/anaconda3/lib/python3.11/site-packages/CellSeg/segmentation2D.py:133: FutureWarning: The behavior of DataFrame concatenation with empty or all-NA entries is deprecated. In a future version, this will no longer exclude empty or all-NA columns when determining the result dtypes. To retain the old behavior, exclude the relevant entries before the concat operation.\n",
      "  vert_df.loc[len(vert_df)] = e_dict\n",
      "/home/u2175049/anaconda3/lib/python3.11/site-packages/CellSeg/segmentation2D.py:133: FutureWarning: The behavior of DataFrame concatenation with empty or all-NA entries is deprecated. In a future version, this will no longer exclude empty or all-NA columns when determining the result dtypes. To retain the old behavior, exclude the relevant entries before the concat operation.\n",
      "  vert_df.loc[len(vert_df)] = e_dict\n",
      "/home/u2175049/anaconda3/lib/python3.11/site-packages/CellSeg/segmentation2D.py:133: FutureWarning: The behavior of DataFrame concatenation with empty or all-NA entries is deprecated. In a future version, this will no longer exclude empty or all-NA columns when determining the result dtypes. To retain the old behavior, exclude the relevant entries before the concat operation.\n",
      "  vert_df.loc[len(vert_df)] = e_dict\n",
      "/home/u2175049/anaconda3/lib/python3.11/site-packages/CellSeg/segmentation2D.py:133: FutureWarning: The behavior of DataFrame concatenation with empty or all-NA entries is deprecated. In a future version, this will no longer exclude empty or all-NA columns when determining the result dtypes. To retain the old behavior, exclude the relevant entries before the concat operation.\n",
      "  vert_df.loc[len(vert_df)] = e_dict\n",
      "/home/u2175049/anaconda3/lib/python3.11/site-packages/CellSeg/segmentation2D.py:133: FutureWarning: The behavior of DataFrame concatenation with empty or all-NA entries is deprecated. In a future version, this will no longer exclude empty or all-NA columns when determining the result dtypes. To retain the old behavior, exclude the relevant entries before the concat operation.\n",
      "  vert_df.loc[len(vert_df)] = e_dict\n",
      "/home/u2175049/anaconda3/lib/python3.11/site-packages/CellSeg/segmentation2D.py:133: FutureWarning: The behavior of DataFrame concatenation with empty or all-NA entries is deprecated. In a future version, this will no longer exclude empty or all-NA columns when determining the result dtypes. To retain the old behavior, exclude the relevant entries before the concat operation.\n",
      "  vert_df.loc[len(vert_df)] = e_dict\n",
      "/home/u2175049/anaconda3/lib/python3.11/site-packages/CellSeg/segmentation2D.py:133: FutureWarning: The behavior of DataFrame concatenation with empty or all-NA entries is deprecated. In a future version, this will no longer exclude empty or all-NA columns when determining the result dtypes. To retain the old behavior, exclude the relevant entries before the concat operation.\n",
      "  vert_df.loc[len(vert_df)] = e_dict\n",
      "/home/u2175049/anaconda3/lib/python3.11/site-packages/CellSeg/segmentation2D.py:133: FutureWarning: The behavior of DataFrame concatenation with empty or all-NA entries is deprecated. In a future version, this will no longer exclude empty or all-NA columns when determining the result dtypes. To retain the old behavior, exclude the relevant entries before the concat operation.\n",
      "  vert_df.loc[len(vert_df)] = e_dict\n",
      "/home/u2175049/anaconda3/lib/python3.11/site-packages/CellSeg/segmentation2D.py:133: FutureWarning: The behavior of DataFrame concatenation with empty or all-NA entries is deprecated. In a future version, this will no longer exclude empty or all-NA columns when determining the result dtypes. To retain the old behavior, exclude the relevant entries before the concat operation.\n",
      "  vert_df.loc[len(vert_df)] = e_dict\n",
      "/home/u2175049/anaconda3/lib/python3.11/site-packages/CellSeg/segmentation2D.py:133: FutureWarning: The behavior of DataFrame concatenation with empty or all-NA entries is deprecated. In a future version, this will no longer exclude empty or all-NA columns when determining the result dtypes. To retain the old behavior, exclude the relevant entries before the concat operation.\n",
      "  vert_df.loc[len(vert_df)] = e_dict\n",
      "/home/u2175049/anaconda3/lib/python3.11/site-packages/CellSeg/segmentation2D.py:133: FutureWarning: The behavior of DataFrame concatenation with empty or all-NA entries is deprecated. In a future version, this will no longer exclude empty or all-NA columns when determining the result dtypes. To retain the old behavior, exclude the relevant entries before the concat operation.\n",
      "  vert_df.loc[len(vert_df)] = e_dict\n"
     ]
    },
    {
     "data": {
      "application/vnd.jupyter.widget-view+json": {
       "model_id": "4ec6859822094aef812a43cc18ef82ee",
       "version_major": 2,
       "version_minor": 0
      },
      "text/plain": [
       "Vert segmentation:   0%|          | 0/15 [00:00<?, ?it/s]"
      ]
     },
     "metadata": {},
     "output_type": "display_data"
    },
    {
     "name": "stderr",
     "output_type": "stream",
     "text": [
      "/home/u2175049/anaconda3/lib/python3.11/site-packages/CellSeg/segmentation2D.py:133: FutureWarning: The behavior of DataFrame concatenation with empty or all-NA entries is deprecated. In a future version, this will no longer exclude empty or all-NA columns when determining the result dtypes. To retain the old behavior, exclude the relevant entries before the concat operation.\n",
      "  vert_df.loc[len(vert_df)] = e_dict\n",
      "/home/u2175049/anaconda3/lib/python3.11/site-packages/CellSeg/segmentation2D.py:133: FutureWarning: The behavior of DataFrame concatenation with empty or all-NA entries is deprecated. In a future version, this will no longer exclude empty or all-NA columns when determining the result dtypes. To retain the old behavior, exclude the relevant entries before the concat operation.\n",
      "  vert_df.loc[len(vert_df)] = e_dict\n",
      "/home/u2175049/anaconda3/lib/python3.11/site-packages/CellSeg/segmentation2D.py:133: FutureWarning: The behavior of DataFrame concatenation with empty or all-NA entries is deprecated. In a future version, this will no longer exclude empty or all-NA columns when determining the result dtypes. To retain the old behavior, exclude the relevant entries before the concat operation.\n",
      "  vert_df.loc[len(vert_df)] = e_dict\n",
      "/home/u2175049/anaconda3/lib/python3.11/site-packages/CellSeg/segmentation2D.py:133: FutureWarning: The behavior of DataFrame concatenation with empty or all-NA entries is deprecated. In a future version, this will no longer exclude empty or all-NA columns when determining the result dtypes. To retain the old behavior, exclude the relevant entries before the concat operation.\n",
      "  vert_df.loc[len(vert_df)] = e_dict\n",
      "/home/u2175049/anaconda3/lib/python3.11/site-packages/CellSeg/segmentation2D.py:133: FutureWarning: The behavior of DataFrame concatenation with empty or all-NA entries is deprecated. In a future version, this will no longer exclude empty or all-NA columns when determining the result dtypes. To retain the old behavior, exclude the relevant entries before the concat operation.\n",
      "  vert_df.loc[len(vert_df)] = e_dict\n",
      "/home/u2175049/anaconda3/lib/python3.11/site-packages/CellSeg/segmentation2D.py:133: FutureWarning: The behavior of DataFrame concatenation with empty or all-NA entries is deprecated. In a future version, this will no longer exclude empty or all-NA columns when determining the result dtypes. To retain the old behavior, exclude the relevant entries before the concat operation.\n",
      "  vert_df.loc[len(vert_df)] = e_dict\n",
      "/home/u2175049/anaconda3/lib/python3.11/site-packages/CellSeg/segmentation2D.py:133: FutureWarning: The behavior of DataFrame concatenation with empty or all-NA entries is deprecated. In a future version, this will no longer exclude empty or all-NA columns when determining the result dtypes. To retain the old behavior, exclude the relevant entries before the concat operation.\n",
      "  vert_df.loc[len(vert_df)] = e_dict\n",
      "/home/u2175049/anaconda3/lib/python3.11/site-packages/CellSeg/segmentation2D.py:133: FutureWarning: The behavior of DataFrame concatenation with empty or all-NA entries is deprecated. In a future version, this will no longer exclude empty or all-NA columns when determining the result dtypes. To retain the old behavior, exclude the relevant entries before the concat operation.\n",
      "  vert_df.loc[len(vert_df)] = e_dict\n",
      "/home/u2175049/anaconda3/lib/python3.11/site-packages/CellSeg/segmentation2D.py:133: FutureWarning: The behavior of DataFrame concatenation with empty or all-NA entries is deprecated. In a future version, this will no longer exclude empty or all-NA columns when determining the result dtypes. To retain the old behavior, exclude the relevant entries before the concat operation.\n",
      "  vert_df.loc[len(vert_df)] = e_dict\n"
     ]
    },
    {
     "data": {
      "application/vnd.jupyter.widget-view+json": {
       "model_id": "cb7a86badd694e36bb6d88b9758664a1",
       "version_major": 2,
       "version_minor": 0
      },
      "text/plain": [
       "Vert segmentation:   0%|          | 0/10 [00:00<?, ?it/s]"
      ]
     },
     "metadata": {},
     "output_type": "display_data"
    },
    {
     "name": "stderr",
     "output_type": "stream",
     "text": [
      "/home/u2175049/anaconda3/lib/python3.11/site-packages/CellSeg/segmentation2D.py:133: FutureWarning: The behavior of DataFrame concatenation with empty or all-NA entries is deprecated. In a future version, this will no longer exclude empty or all-NA columns when determining the result dtypes. To retain the old behavior, exclude the relevant entries before the concat operation.\n",
      "  vert_df.loc[len(vert_df)] = e_dict\n",
      "/home/u2175049/anaconda3/lib/python3.11/site-packages/CellSeg/segmentation2D.py:133: FutureWarning: The behavior of DataFrame concatenation with empty or all-NA entries is deprecated. In a future version, this will no longer exclude empty or all-NA columns when determining the result dtypes. To retain the old behavior, exclude the relevant entries before the concat operation.\n",
      "  vert_df.loc[len(vert_df)] = e_dict\n",
      "/home/u2175049/anaconda3/lib/python3.11/site-packages/CellSeg/segmentation2D.py:133: FutureWarning: The behavior of DataFrame concatenation with empty or all-NA entries is deprecated. In a future version, this will no longer exclude empty or all-NA columns when determining the result dtypes. To retain the old behavior, exclude the relevant entries before the concat operation.\n",
      "  vert_df.loc[len(vert_df)] = e_dict\n",
      "/home/u2175049/anaconda3/lib/python3.11/site-packages/CellSeg/segmentation2D.py:133: FutureWarning: The behavior of DataFrame concatenation with empty or all-NA entries is deprecated. In a future version, this will no longer exclude empty or all-NA columns when determining the result dtypes. To retain the old behavior, exclude the relevant entries before the concat operation.\n",
      "  vert_df.loc[len(vert_df)] = e_dict\n",
      "/home/u2175049/anaconda3/lib/python3.11/site-packages/CellSeg/segmentation2D.py:133: FutureWarning: The behavior of DataFrame concatenation with empty or all-NA entries is deprecated. In a future version, this will no longer exclude empty or all-NA columns when determining the result dtypes. To retain the old behavior, exclude the relevant entries before the concat operation.\n",
      "  vert_df.loc[len(vert_df)] = e_dict\n"
     ]
    },
    {
     "data": {
      "application/vnd.jupyter.widget-view+json": {
       "model_id": "2d3e765faf6e4ae3ba3c6cb5654a5e33",
       "version_major": 2,
       "version_minor": 0
      },
      "text/plain": [
       "Vert segmentation:   0%|          | 0/21 [00:00<?, ?it/s]"
      ]
     },
     "metadata": {},
     "output_type": "display_data"
    },
    {
     "name": "stderr",
     "output_type": "stream",
     "text": [
      "/home/u2175049/anaconda3/lib/python3.11/site-packages/CellSeg/segmentation2D.py:133: FutureWarning: The behavior of DataFrame concatenation with empty or all-NA entries is deprecated. In a future version, this will no longer exclude empty or all-NA columns when determining the result dtypes. To retain the old behavior, exclude the relevant entries before the concat operation.\n",
      "  vert_df.loc[len(vert_df)] = e_dict\n",
      "/home/u2175049/anaconda3/lib/python3.11/site-packages/CellSeg/segmentation2D.py:133: FutureWarning: The behavior of DataFrame concatenation with empty or all-NA entries is deprecated. In a future version, this will no longer exclude empty or all-NA columns when determining the result dtypes. To retain the old behavior, exclude the relevant entries before the concat operation.\n",
      "  vert_df.loc[len(vert_df)] = e_dict\n",
      "/home/u2175049/anaconda3/lib/python3.11/site-packages/CellSeg/segmentation2D.py:133: FutureWarning: The behavior of DataFrame concatenation with empty or all-NA entries is deprecated. In a future version, this will no longer exclude empty or all-NA columns when determining the result dtypes. To retain the old behavior, exclude the relevant entries before the concat operation.\n",
      "  vert_df.loc[len(vert_df)] = e_dict\n",
      "/home/u2175049/anaconda3/lib/python3.11/site-packages/CellSeg/segmentation2D.py:133: FutureWarning: The behavior of DataFrame concatenation with empty or all-NA entries is deprecated. In a future version, this will no longer exclude empty or all-NA columns when determining the result dtypes. To retain the old behavior, exclude the relevant entries before the concat operation.\n",
      "  vert_df.loc[len(vert_df)] = e_dict\n",
      "/home/u2175049/anaconda3/lib/python3.11/site-packages/CellSeg/segmentation2D.py:133: FutureWarning: The behavior of DataFrame concatenation with empty or all-NA entries is deprecated. In a future version, this will no longer exclude empty or all-NA columns when determining the result dtypes. To retain the old behavior, exclude the relevant entries before the concat operation.\n",
      "  vert_df.loc[len(vert_df)] = e_dict\n",
      "/home/u2175049/anaconda3/lib/python3.11/site-packages/CellSeg/segmentation2D.py:133: FutureWarning: The behavior of DataFrame concatenation with empty or all-NA entries is deprecated. In a future version, this will no longer exclude empty or all-NA columns when determining the result dtypes. To retain the old behavior, exclude the relevant entries before the concat operation.\n",
      "  vert_df.loc[len(vert_df)] = e_dict\n",
      "/home/u2175049/anaconda3/lib/python3.11/site-packages/CellSeg/segmentation2D.py:133: FutureWarning: The behavior of DataFrame concatenation with empty or all-NA entries is deprecated. In a future version, this will no longer exclude empty or all-NA columns when determining the result dtypes. To retain the old behavior, exclude the relevant entries before the concat operation.\n",
      "  vert_df.loc[len(vert_df)] = e_dict\n",
      "/home/u2175049/anaconda3/lib/python3.11/site-packages/CellSeg/segmentation2D.py:133: FutureWarning: The behavior of DataFrame concatenation with empty or all-NA entries is deprecated. In a future version, this will no longer exclude empty or all-NA columns when determining the result dtypes. To retain the old behavior, exclude the relevant entries before the concat operation.\n",
      "  vert_df.loc[len(vert_df)] = e_dict\n",
      "/home/u2175049/anaconda3/lib/python3.11/site-packages/CellSeg/segmentation2D.py:133: FutureWarning: The behavior of DataFrame concatenation with empty or all-NA entries is deprecated. In a future version, this will no longer exclude empty or all-NA columns when determining the result dtypes. To retain the old behavior, exclude the relevant entries before the concat operation.\n",
      "  vert_df.loc[len(vert_df)] = e_dict\n",
      "/home/u2175049/anaconda3/lib/python3.11/site-packages/CellSeg/segmentation2D.py:133: FutureWarning: The behavior of DataFrame concatenation with empty or all-NA entries is deprecated. In a future version, this will no longer exclude empty or all-NA columns when determining the result dtypes. To retain the old behavior, exclude the relevant entries before the concat operation.\n",
      "  vert_df.loc[len(vert_df)] = e_dict\n",
      "/home/u2175049/anaconda3/lib/python3.11/site-packages/CellSeg/segmentation2D.py:133: FutureWarning: The behavior of DataFrame concatenation with empty or all-NA entries is deprecated. In a future version, this will no longer exclude empty or all-NA columns when determining the result dtypes. To retain the old behavior, exclude the relevant entries before the concat operation.\n",
      "  vert_df.loc[len(vert_df)] = e_dict\n",
      "/home/u2175049/anaconda3/lib/python3.11/site-packages/CellSeg/segmentation2D.py:133: FutureWarning: The behavior of DataFrame concatenation with empty or all-NA entries is deprecated. In a future version, this will no longer exclude empty or all-NA columns when determining the result dtypes. To retain the old behavior, exclude the relevant entries before the concat operation.\n",
      "  vert_df.loc[len(vert_df)] = e_dict\n",
      "/home/u2175049/anaconda3/lib/python3.11/site-packages/CellSeg/segmentation2D.py:133: FutureWarning: The behavior of DataFrame concatenation with empty or all-NA entries is deprecated. In a future version, this will no longer exclude empty or all-NA columns when determining the result dtypes. To retain the old behavior, exclude the relevant entries before the concat operation.\n",
      "  vert_df.loc[len(vert_df)] = e_dict\n"
     ]
    },
    {
     "data": {
      "application/vnd.jupyter.widget-view+json": {
       "model_id": "d0fa1798ca8b4a6b979e4266765edd04",
       "version_major": 2,
       "version_minor": 0
      },
      "text/plain": [
       "Vert segmentation:   0%|          | 0/15 [00:00<?, ?it/s]"
      ]
     },
     "metadata": {},
     "output_type": "display_data"
    },
    {
     "name": "stderr",
     "output_type": "stream",
     "text": [
      "/home/u2175049/anaconda3/lib/python3.11/site-packages/CellSeg/segmentation2D.py:133: FutureWarning: The behavior of DataFrame concatenation with empty or all-NA entries is deprecated. In a future version, this will no longer exclude empty or all-NA columns when determining the result dtypes. To retain the old behavior, exclude the relevant entries before the concat operation.\n",
      "  vert_df.loc[len(vert_df)] = e_dict\n",
      "/home/u2175049/anaconda3/lib/python3.11/site-packages/CellSeg/segmentation2D.py:133: FutureWarning: The behavior of DataFrame concatenation with empty or all-NA entries is deprecated. In a future version, this will no longer exclude empty or all-NA columns when determining the result dtypes. To retain the old behavior, exclude the relevant entries before the concat operation.\n",
      "  vert_df.loc[len(vert_df)] = e_dict\n",
      "/home/u2175049/anaconda3/lib/python3.11/site-packages/CellSeg/segmentation2D.py:133: FutureWarning: The behavior of DataFrame concatenation with empty or all-NA entries is deprecated. In a future version, this will no longer exclude empty or all-NA columns when determining the result dtypes. To retain the old behavior, exclude the relevant entries before the concat operation.\n",
      "  vert_df.loc[len(vert_df)] = e_dict\n",
      "/home/u2175049/anaconda3/lib/python3.11/site-packages/CellSeg/segmentation2D.py:133: FutureWarning: The behavior of DataFrame concatenation with empty or all-NA entries is deprecated. In a future version, this will no longer exclude empty or all-NA columns when determining the result dtypes. To retain the old behavior, exclude the relevant entries before the concat operation.\n",
      "  vert_df.loc[len(vert_df)] = e_dict\n",
      "/home/u2175049/anaconda3/lib/python3.11/site-packages/CellSeg/segmentation2D.py:133: FutureWarning: The behavior of DataFrame concatenation with empty or all-NA entries is deprecated. In a future version, this will no longer exclude empty or all-NA columns when determining the result dtypes. To retain the old behavior, exclude the relevant entries before the concat operation.\n",
      "  vert_df.loc[len(vert_df)] = e_dict\n",
      "/home/u2175049/anaconda3/lib/python3.11/site-packages/CellSeg/segmentation2D.py:133: FutureWarning: The behavior of DataFrame concatenation with empty or all-NA entries is deprecated. In a future version, this will no longer exclude empty or all-NA columns when determining the result dtypes. To retain the old behavior, exclude the relevant entries before the concat operation.\n",
      "  vert_df.loc[len(vert_df)] = e_dict\n",
      "/home/u2175049/anaconda3/lib/python3.11/site-packages/CellSeg/segmentation2D.py:133: FutureWarning: The behavior of DataFrame concatenation with empty or all-NA entries is deprecated. In a future version, this will no longer exclude empty or all-NA columns when determining the result dtypes. To retain the old behavior, exclude the relevant entries before the concat operation.\n",
      "  vert_df.loc[len(vert_df)] = e_dict\n",
      "/home/u2175049/anaconda3/lib/python3.11/site-packages/CellSeg/segmentation2D.py:133: FutureWarning: The behavior of DataFrame concatenation with empty or all-NA entries is deprecated. In a future version, this will no longer exclude empty or all-NA columns when determining the result dtypes. To retain the old behavior, exclude the relevant entries before the concat operation.\n",
      "  vert_df.loc[len(vert_df)] = e_dict\n",
      "/home/u2175049/anaconda3/lib/python3.11/site-packages/CellSeg/segmentation2D.py:133: FutureWarning: The behavior of DataFrame concatenation with empty or all-NA entries is deprecated. In a future version, this will no longer exclude empty or all-NA columns when determining the result dtypes. To retain the old behavior, exclude the relevant entries before the concat operation.\n",
      "  vert_df.loc[len(vert_df)] = e_dict\n"
     ]
    },
    {
     "data": {
      "application/vnd.jupyter.widget-view+json": {
       "model_id": "5c3036dc758c486c97afdc8a644f3fa2",
       "version_major": 2,
       "version_minor": 0
      },
      "text/plain": [
       "Vert segmentation:   0%|          | 0/10 [00:00<?, ?it/s]"
      ]
     },
     "metadata": {},
     "output_type": "display_data"
    },
    {
     "name": "stderr",
     "output_type": "stream",
     "text": [
      "/home/u2175049/anaconda3/lib/python3.11/site-packages/CellSeg/segmentation2D.py:133: FutureWarning: The behavior of DataFrame concatenation with empty or all-NA entries is deprecated. In a future version, this will no longer exclude empty or all-NA columns when determining the result dtypes. To retain the old behavior, exclude the relevant entries before the concat operation.\n",
      "  vert_df.loc[len(vert_df)] = e_dict\n",
      "/home/u2175049/anaconda3/lib/python3.11/site-packages/CellSeg/segmentation2D.py:133: FutureWarning: The behavior of DataFrame concatenation with empty or all-NA entries is deprecated. In a future version, this will no longer exclude empty or all-NA columns when determining the result dtypes. To retain the old behavior, exclude the relevant entries before the concat operation.\n",
      "  vert_df.loc[len(vert_df)] = e_dict\n",
      "/home/u2175049/anaconda3/lib/python3.11/site-packages/CellSeg/segmentation2D.py:133: FutureWarning: The behavior of DataFrame concatenation with empty or all-NA entries is deprecated. In a future version, this will no longer exclude empty or all-NA columns when determining the result dtypes. To retain the old behavior, exclude the relevant entries before the concat operation.\n",
      "  vert_df.loc[len(vert_df)] = e_dict\n",
      "/home/u2175049/anaconda3/lib/python3.11/site-packages/CellSeg/segmentation2D.py:133: FutureWarning: The behavior of DataFrame concatenation with empty or all-NA entries is deprecated. In a future version, this will no longer exclude empty or all-NA columns when determining the result dtypes. To retain the old behavior, exclude the relevant entries before the concat operation.\n",
      "  vert_df.loc[len(vert_df)] = e_dict\n",
      "/home/u2175049/anaconda3/lib/python3.11/site-packages/CellSeg/segmentation2D.py:133: FutureWarning: The behavior of DataFrame concatenation with empty or all-NA entries is deprecated. In a future version, this will no longer exclude empty or all-NA columns when determining the result dtypes. To retain the old behavior, exclude the relevant entries before the concat operation.\n",
      "  vert_df.loc[len(vert_df)] = e_dict\n"
     ]
    },
    {
     "data": {
      "application/vnd.jupyter.widget-view+json": {
       "model_id": "eea89066c4f04dd0b53468bf48004e69",
       "version_major": 2,
       "version_minor": 0
      },
      "text/plain": [
       "Vert segmentation:   0%|          | 0/10 [00:00<?, ?it/s]"
      ]
     },
     "metadata": {},
     "output_type": "display_data"
    },
    {
     "name": "stderr",
     "output_type": "stream",
     "text": [
      "/home/u2175049/anaconda3/lib/python3.11/site-packages/CellSeg/segmentation2D.py:133: FutureWarning: The behavior of DataFrame concatenation with empty or all-NA entries is deprecated. In a future version, this will no longer exclude empty or all-NA columns when determining the result dtypes. To retain the old behavior, exclude the relevant entries before the concat operation.\n",
      "  vert_df.loc[len(vert_df)] = e_dict\n",
      "/home/u2175049/anaconda3/lib/python3.11/site-packages/CellSeg/segmentation2D.py:133: FutureWarning: The behavior of DataFrame concatenation with empty or all-NA entries is deprecated. In a future version, this will no longer exclude empty or all-NA columns when determining the result dtypes. To retain the old behavior, exclude the relevant entries before the concat operation.\n",
      "  vert_df.loc[len(vert_df)] = e_dict\n",
      "/home/u2175049/anaconda3/lib/python3.11/site-packages/CellSeg/segmentation2D.py:133: FutureWarning: The behavior of DataFrame concatenation with empty or all-NA entries is deprecated. In a future version, this will no longer exclude empty or all-NA columns when determining the result dtypes. To retain the old behavior, exclude the relevant entries before the concat operation.\n",
      "  vert_df.loc[len(vert_df)] = e_dict\n",
      "/home/u2175049/anaconda3/lib/python3.11/site-packages/CellSeg/segmentation2D.py:133: FutureWarning: The behavior of DataFrame concatenation with empty or all-NA entries is deprecated. In a future version, this will no longer exclude empty or all-NA columns when determining the result dtypes. To retain the old behavior, exclude the relevant entries before the concat operation.\n",
      "  vert_df.loc[len(vert_df)] = e_dict\n",
      "/home/u2175049/anaconda3/lib/python3.11/site-packages/CellSeg/segmentation2D.py:133: FutureWarning: The behavior of DataFrame concatenation with empty or all-NA entries is deprecated. In a future version, this will no longer exclude empty or all-NA columns when determining the result dtypes. To retain the old behavior, exclude the relevant entries before the concat operation.\n",
      "  vert_df.loc[len(vert_df)] = e_dict\n"
     ]
    },
    {
     "data": {
      "application/vnd.jupyter.widget-view+json": {
       "model_id": "ec9e840e8b2443b08c654b9e5fa0cf5f",
       "version_major": 2,
       "version_minor": 0
      },
      "text/plain": [
       "Vert segmentation:   0%|          | 0/36 [00:00<?, ?it/s]"
      ]
     },
     "metadata": {},
     "output_type": "display_data"
    },
    {
     "name": "stderr",
     "output_type": "stream",
     "text": [
      "/home/u2175049/anaconda3/lib/python3.11/site-packages/CellSeg/segmentation2D.py:133: FutureWarning: The behavior of DataFrame concatenation with empty or all-NA entries is deprecated. In a future version, this will no longer exclude empty or all-NA columns when determining the result dtypes. To retain the old behavior, exclude the relevant entries before the concat operation.\n",
      "  vert_df.loc[len(vert_df)] = e_dict\n",
      "/home/u2175049/anaconda3/lib/python3.11/site-packages/CellSeg/segmentation2D.py:133: FutureWarning: The behavior of DataFrame concatenation with empty or all-NA entries is deprecated. In a future version, this will no longer exclude empty or all-NA columns when determining the result dtypes. To retain the old behavior, exclude the relevant entries before the concat operation.\n",
      "  vert_df.loc[len(vert_df)] = e_dict\n",
      "/home/u2175049/anaconda3/lib/python3.11/site-packages/CellSeg/segmentation2D.py:133: FutureWarning: The behavior of DataFrame concatenation with empty or all-NA entries is deprecated. In a future version, this will no longer exclude empty or all-NA columns when determining the result dtypes. To retain the old behavior, exclude the relevant entries before the concat operation.\n",
      "  vert_df.loc[len(vert_df)] = e_dict\n",
      "/home/u2175049/anaconda3/lib/python3.11/site-packages/CellSeg/segmentation2D.py:133: FutureWarning: The behavior of DataFrame concatenation with empty or all-NA entries is deprecated. In a future version, this will no longer exclude empty or all-NA columns when determining the result dtypes. To retain the old behavior, exclude the relevant entries before the concat operation.\n",
      "  vert_df.loc[len(vert_df)] = e_dict\n",
      "/home/u2175049/anaconda3/lib/python3.11/site-packages/CellSeg/segmentation2D.py:133: FutureWarning: The behavior of DataFrame concatenation with empty or all-NA entries is deprecated. In a future version, this will no longer exclude empty or all-NA columns when determining the result dtypes. To retain the old behavior, exclude the relevant entries before the concat operation.\n",
      "  vert_df.loc[len(vert_df)] = e_dict\n",
      "/home/u2175049/anaconda3/lib/python3.11/site-packages/CellSeg/segmentation2D.py:133: FutureWarning: The behavior of DataFrame concatenation with empty or all-NA entries is deprecated. In a future version, this will no longer exclude empty or all-NA columns when determining the result dtypes. To retain the old behavior, exclude the relevant entries before the concat operation.\n",
      "  vert_df.loc[len(vert_df)] = e_dict\n",
      "/home/u2175049/anaconda3/lib/python3.11/site-packages/CellSeg/segmentation2D.py:133: FutureWarning: The behavior of DataFrame concatenation with empty or all-NA entries is deprecated. In a future version, this will no longer exclude empty or all-NA columns when determining the result dtypes. To retain the old behavior, exclude the relevant entries before the concat operation.\n",
      "  vert_df.loc[len(vert_df)] = e_dict\n",
      "/home/u2175049/anaconda3/lib/python3.11/site-packages/CellSeg/segmentation2D.py:133: FutureWarning: The behavior of DataFrame concatenation with empty or all-NA entries is deprecated. In a future version, this will no longer exclude empty or all-NA columns when determining the result dtypes. To retain the old behavior, exclude the relevant entries before the concat operation.\n",
      "  vert_df.loc[len(vert_df)] = e_dict\n",
      "/home/u2175049/anaconda3/lib/python3.11/site-packages/CellSeg/segmentation2D.py:133: FutureWarning: The behavior of DataFrame concatenation with empty or all-NA entries is deprecated. In a future version, this will no longer exclude empty or all-NA columns when determining the result dtypes. To retain the old behavior, exclude the relevant entries before the concat operation.\n",
      "  vert_df.loc[len(vert_df)] = e_dict\n",
      "/home/u2175049/anaconda3/lib/python3.11/site-packages/CellSeg/segmentation2D.py:133: FutureWarning: The behavior of DataFrame concatenation with empty or all-NA entries is deprecated. In a future version, this will no longer exclude empty or all-NA columns when determining the result dtypes. To retain the old behavior, exclude the relevant entries before the concat operation.\n",
      "  vert_df.loc[len(vert_df)] = e_dict\n",
      "/home/u2175049/anaconda3/lib/python3.11/site-packages/CellSeg/segmentation2D.py:133: FutureWarning: The behavior of DataFrame concatenation with empty or all-NA entries is deprecated. In a future version, this will no longer exclude empty or all-NA columns when determining the result dtypes. To retain the old behavior, exclude the relevant entries before the concat operation.\n",
      "  vert_df.loc[len(vert_df)] = e_dict\n",
      "/home/u2175049/anaconda3/lib/python3.11/site-packages/CellSeg/segmentation2D.py:133: FutureWarning: The behavior of DataFrame concatenation with empty or all-NA entries is deprecated. In a future version, this will no longer exclude empty or all-NA columns when determining the result dtypes. To retain the old behavior, exclude the relevant entries before the concat operation.\n",
      "  vert_df.loc[len(vert_df)] = e_dict\n",
      "/home/u2175049/anaconda3/lib/python3.11/site-packages/CellSeg/segmentation2D.py:133: FutureWarning: The behavior of DataFrame concatenation with empty or all-NA entries is deprecated. In a future version, this will no longer exclude empty or all-NA columns when determining the result dtypes. To retain the old behavior, exclude the relevant entries before the concat operation.\n",
      "  vert_df.loc[len(vert_df)] = e_dict\n",
      "/home/u2175049/anaconda3/lib/python3.11/site-packages/CellSeg/segmentation2D.py:133: FutureWarning: The behavior of DataFrame concatenation with empty or all-NA entries is deprecated. In a future version, this will no longer exclude empty or all-NA columns when determining the result dtypes. To retain the old behavior, exclude the relevant entries before the concat operation.\n",
      "  vert_df.loc[len(vert_df)] = e_dict\n",
      "/home/u2175049/anaconda3/lib/python3.11/site-packages/CellSeg/segmentation2D.py:133: FutureWarning: The behavior of DataFrame concatenation with empty or all-NA entries is deprecated. In a future version, this will no longer exclude empty or all-NA columns when determining the result dtypes. To retain the old behavior, exclude the relevant entries before the concat operation.\n",
      "  vert_df.loc[len(vert_df)] = e_dict\n",
      "/home/u2175049/anaconda3/lib/python3.11/site-packages/CellSeg/segmentation2D.py:133: FutureWarning: The behavior of DataFrame concatenation with empty or all-NA entries is deprecated. In a future version, this will no longer exclude empty or all-NA columns when determining the result dtypes. To retain the old behavior, exclude the relevant entries before the concat operation.\n",
      "  vert_df.loc[len(vert_df)] = e_dict\n",
      "/home/u2175049/anaconda3/lib/python3.11/site-packages/CellSeg/segmentation2D.py:133: FutureWarning: The behavior of DataFrame concatenation with empty or all-NA entries is deprecated. In a future version, this will no longer exclude empty or all-NA columns when determining the result dtypes. To retain the old behavior, exclude the relevant entries before the concat operation.\n",
      "  vert_df.loc[len(vert_df)] = e_dict\n",
      "/home/u2175049/anaconda3/lib/python3.11/site-packages/CellSeg/segmentation2D.py:133: FutureWarning: The behavior of DataFrame concatenation with empty or all-NA entries is deprecated. In a future version, this will no longer exclude empty or all-NA columns when determining the result dtypes. To retain the old behavior, exclude the relevant entries before the concat operation.\n",
      "  vert_df.loc[len(vert_df)] = e_dict\n",
      "/home/u2175049/anaconda3/lib/python3.11/site-packages/CellSeg/segmentation2D.py:133: FutureWarning: The behavior of DataFrame concatenation with empty or all-NA entries is deprecated. In a future version, this will no longer exclude empty or all-NA columns when determining the result dtypes. To retain the old behavior, exclude the relevant entries before the concat operation.\n",
      "  vert_df.loc[len(vert_df)] = e_dict\n",
      "/home/u2175049/anaconda3/lib/python3.11/site-packages/CellSeg/segmentation2D.py:133: FutureWarning: The behavior of DataFrame concatenation with empty or all-NA entries is deprecated. In a future version, this will no longer exclude empty or all-NA columns when determining the result dtypes. To retain the old behavior, exclude the relevant entries before the concat operation.\n",
      "  vert_df.loc[len(vert_df)] = e_dict\n",
      "/home/u2175049/anaconda3/lib/python3.11/site-packages/CellSeg/segmentation2D.py:133: FutureWarning: The behavior of DataFrame concatenation with empty or all-NA entries is deprecated. In a future version, this will no longer exclude empty or all-NA columns when determining the result dtypes. To retain the old behavior, exclude the relevant entries before the concat operation.\n",
      "  vert_df.loc[len(vert_df)] = e_dict\n",
      "/home/u2175049/anaconda3/lib/python3.11/site-packages/CellSeg/segmentation2D.py:133: FutureWarning: The behavior of DataFrame concatenation with empty or all-NA entries is deprecated. In a future version, this will no longer exclude empty or all-NA columns when determining the result dtypes. To retain the old behavior, exclude the relevant entries before the concat operation.\n",
      "  vert_df.loc[len(vert_df)] = e_dict\n",
      "/home/u2175049/anaconda3/lib/python3.11/site-packages/CellSeg/segmentation2D.py:133: FutureWarning: The behavior of DataFrame concatenation with empty or all-NA entries is deprecated. In a future version, this will no longer exclude empty or all-NA columns when determining the result dtypes. To retain the old behavior, exclude the relevant entries before the concat operation.\n",
      "  vert_df.loc[len(vert_df)] = e_dict\n"
     ]
    },
    {
     "name": "stderr",
     "output_type": "stream",
     "text": [
      "/home/u2175049/anaconda3/lib/python3.11/site-packages/CellSeg/segmentation2D.py:133: FutureWarning: The behavior of DataFrame concatenation with empty or all-NA entries is deprecated. In a future version, this will no longer exclude empty or all-NA columns when determining the result dtypes. To retain the old behavior, exclude the relevant entries before the concat operation.\n",
      "  vert_df.loc[len(vert_df)] = e_dict\n",
      "/home/u2175049/anaconda3/lib/python3.11/site-packages/CellSeg/segmentation2D.py:133: FutureWarning: The behavior of DataFrame concatenation with empty or all-NA entries is deprecated. In a future version, this will no longer exclude empty or all-NA columns when determining the result dtypes. To retain the old behavior, exclude the relevant entries before the concat operation.\n",
      "  vert_df.loc[len(vert_df)] = e_dict\n",
      "/home/u2175049/anaconda3/lib/python3.11/site-packages/CellSeg/segmentation2D.py:133: FutureWarning: The behavior of DataFrame concatenation with empty or all-NA entries is deprecated. In a future version, this will no longer exclude empty or all-NA columns when determining the result dtypes. To retain the old behavior, exclude the relevant entries before the concat operation.\n",
      "  vert_df.loc[len(vert_df)] = e_dict\n"
     ]
    },
    {
     "data": {
      "application/vnd.jupyter.widget-view+json": {
       "model_id": "0e5a5c1d471849a1be79302e78dc8920",
       "version_major": 2,
       "version_minor": 0
      },
      "text/plain": [
       "Vert segmentation:   0%|          | 0/15 [00:00<?, ?it/s]"
      ]
     },
     "metadata": {},
     "output_type": "display_data"
    },
    {
     "name": "stderr",
     "output_type": "stream",
     "text": [
      "/home/u2175049/anaconda3/lib/python3.11/site-packages/CellSeg/segmentation2D.py:133: FutureWarning: The behavior of DataFrame concatenation with empty or all-NA entries is deprecated. In a future version, this will no longer exclude empty or all-NA columns when determining the result dtypes. To retain the old behavior, exclude the relevant entries before the concat operation.\n",
      "  vert_df.loc[len(vert_df)] = e_dict\n",
      "/home/u2175049/anaconda3/lib/python3.11/site-packages/CellSeg/segmentation2D.py:133: FutureWarning: The behavior of DataFrame concatenation with empty or all-NA entries is deprecated. In a future version, this will no longer exclude empty or all-NA columns when determining the result dtypes. To retain the old behavior, exclude the relevant entries before the concat operation.\n",
      "  vert_df.loc[len(vert_df)] = e_dict\n",
      "/home/u2175049/anaconda3/lib/python3.11/site-packages/CellSeg/segmentation2D.py:133: FutureWarning: The behavior of DataFrame concatenation with empty or all-NA entries is deprecated. In a future version, this will no longer exclude empty or all-NA columns when determining the result dtypes. To retain the old behavior, exclude the relevant entries before the concat operation.\n",
      "  vert_df.loc[len(vert_df)] = e_dict\n",
      "/home/u2175049/anaconda3/lib/python3.11/site-packages/CellSeg/segmentation2D.py:133: FutureWarning: The behavior of DataFrame concatenation with empty or all-NA entries is deprecated. In a future version, this will no longer exclude empty or all-NA columns when determining the result dtypes. To retain the old behavior, exclude the relevant entries before the concat operation.\n",
      "  vert_df.loc[len(vert_df)] = e_dict\n",
      "/home/u2175049/anaconda3/lib/python3.11/site-packages/CellSeg/segmentation2D.py:133: FutureWarning: The behavior of DataFrame concatenation with empty or all-NA entries is deprecated. In a future version, this will no longer exclude empty or all-NA columns when determining the result dtypes. To retain the old behavior, exclude the relevant entries before the concat operation.\n",
      "  vert_df.loc[len(vert_df)] = e_dict\n",
      "/home/u2175049/anaconda3/lib/python3.11/site-packages/CellSeg/segmentation2D.py:133: FutureWarning: The behavior of DataFrame concatenation with empty or all-NA entries is deprecated. In a future version, this will no longer exclude empty or all-NA columns when determining the result dtypes. To retain the old behavior, exclude the relevant entries before the concat operation.\n",
      "  vert_df.loc[len(vert_df)] = e_dict\n",
      "/home/u2175049/anaconda3/lib/python3.11/site-packages/CellSeg/segmentation2D.py:133: FutureWarning: The behavior of DataFrame concatenation with empty or all-NA entries is deprecated. In a future version, this will no longer exclude empty or all-NA columns when determining the result dtypes. To retain the old behavior, exclude the relevant entries before the concat operation.\n",
      "  vert_df.loc[len(vert_df)] = e_dict\n",
      "/home/u2175049/anaconda3/lib/python3.11/site-packages/CellSeg/segmentation2D.py:133: FutureWarning: The behavior of DataFrame concatenation with empty or all-NA entries is deprecated. In a future version, this will no longer exclude empty or all-NA columns when determining the result dtypes. To retain the old behavior, exclude the relevant entries before the concat operation.\n",
      "  vert_df.loc[len(vert_df)] = e_dict\n",
      "/home/u2175049/anaconda3/lib/python3.11/site-packages/CellSeg/segmentation2D.py:133: FutureWarning: The behavior of DataFrame concatenation with empty or all-NA entries is deprecated. In a future version, this will no longer exclude empty or all-NA columns when determining the result dtypes. To retain the old behavior, exclude the relevant entries before the concat operation.\n",
      "  vert_df.loc[len(vert_df)] = e_dict\n"
     ]
    },
    {
     "data": {
      "application/vnd.jupyter.widget-view+json": {
       "model_id": "6f91dd9e833c414b8e768e7c749ecc3c",
       "version_major": 2,
       "version_minor": 0
      },
      "text/plain": [
       "Vert segmentation:   0%|          | 0/15 [00:00<?, ?it/s]"
      ]
     },
     "metadata": {},
     "output_type": "display_data"
    },
    {
     "name": "stderr",
     "output_type": "stream",
     "text": [
      "/home/u2175049/anaconda3/lib/python3.11/site-packages/CellSeg/segmentation2D.py:133: FutureWarning: The behavior of DataFrame concatenation with empty or all-NA entries is deprecated. In a future version, this will no longer exclude empty or all-NA columns when determining the result dtypes. To retain the old behavior, exclude the relevant entries before the concat operation.\n",
      "  vert_df.loc[len(vert_df)] = e_dict\n",
      "/home/u2175049/anaconda3/lib/python3.11/site-packages/CellSeg/segmentation2D.py:133: FutureWarning: The behavior of DataFrame concatenation with empty or all-NA entries is deprecated. In a future version, this will no longer exclude empty or all-NA columns when determining the result dtypes. To retain the old behavior, exclude the relevant entries before the concat operation.\n",
      "  vert_df.loc[len(vert_df)] = e_dict\n",
      "/home/u2175049/anaconda3/lib/python3.11/site-packages/CellSeg/segmentation2D.py:133: FutureWarning: The behavior of DataFrame concatenation with empty or all-NA entries is deprecated. In a future version, this will no longer exclude empty or all-NA columns when determining the result dtypes. To retain the old behavior, exclude the relevant entries before the concat operation.\n",
      "  vert_df.loc[len(vert_df)] = e_dict\n",
      "/home/u2175049/anaconda3/lib/python3.11/site-packages/CellSeg/segmentation2D.py:133: FutureWarning: The behavior of DataFrame concatenation with empty or all-NA entries is deprecated. In a future version, this will no longer exclude empty or all-NA columns when determining the result dtypes. To retain the old behavior, exclude the relevant entries before the concat operation.\n",
      "  vert_df.loc[len(vert_df)] = e_dict\n",
      "/home/u2175049/anaconda3/lib/python3.11/site-packages/CellSeg/segmentation2D.py:133: FutureWarning: The behavior of DataFrame concatenation with empty or all-NA entries is deprecated. In a future version, this will no longer exclude empty or all-NA columns when determining the result dtypes. To retain the old behavior, exclude the relevant entries before the concat operation.\n",
      "  vert_df.loc[len(vert_df)] = e_dict\n",
      "/home/u2175049/anaconda3/lib/python3.11/site-packages/CellSeg/segmentation2D.py:133: FutureWarning: The behavior of DataFrame concatenation with empty or all-NA entries is deprecated. In a future version, this will no longer exclude empty or all-NA columns when determining the result dtypes. To retain the old behavior, exclude the relevant entries before the concat operation.\n",
      "  vert_df.loc[len(vert_df)] = e_dict\n",
      "/home/u2175049/anaconda3/lib/python3.11/site-packages/CellSeg/segmentation2D.py:133: FutureWarning: The behavior of DataFrame concatenation with empty or all-NA entries is deprecated. In a future version, this will no longer exclude empty or all-NA columns when determining the result dtypes. To retain the old behavior, exclude the relevant entries before the concat operation.\n",
      "  vert_df.loc[len(vert_df)] = e_dict\n",
      "/home/u2175049/anaconda3/lib/python3.11/site-packages/CellSeg/segmentation2D.py:133: FutureWarning: The behavior of DataFrame concatenation with empty or all-NA entries is deprecated. In a future version, this will no longer exclude empty or all-NA columns when determining the result dtypes. To retain the old behavior, exclude the relevant entries before the concat operation.\n",
      "  vert_df.loc[len(vert_df)] = e_dict\n",
      "/home/u2175049/anaconda3/lib/python3.11/site-packages/CellSeg/segmentation2D.py:133: FutureWarning: The behavior of DataFrame concatenation with empty or all-NA entries is deprecated. In a future version, this will no longer exclude empty or all-NA columns when determining the result dtypes. To retain the old behavior, exclude the relevant entries before the concat operation.\n",
      "  vert_df.loc[len(vert_df)] = e_dict\n"
     ]
    },
    {
     "data": {
      "application/vnd.jupyter.widget-view+json": {
       "model_id": "35b4e763a31f4fe7a261438c88334cb0",
       "version_major": 2,
       "version_minor": 0
      },
      "text/plain": [
       "Vert segmentation:   0%|          | 0/21 [00:00<?, ?it/s]"
      ]
     },
     "metadata": {},
     "output_type": "display_data"
    },
    {
     "name": "stderr",
     "output_type": "stream",
     "text": [
      "/home/u2175049/anaconda3/lib/python3.11/site-packages/CellSeg/segmentation2D.py:133: FutureWarning: The behavior of DataFrame concatenation with empty or all-NA entries is deprecated. In a future version, this will no longer exclude empty or all-NA columns when determining the result dtypes. To retain the old behavior, exclude the relevant entries before the concat operation.\n",
      "  vert_df.loc[len(vert_df)] = e_dict\n",
      "/home/u2175049/anaconda3/lib/python3.11/site-packages/CellSeg/segmentation2D.py:133: FutureWarning: The behavior of DataFrame concatenation with empty or all-NA entries is deprecated. In a future version, this will no longer exclude empty or all-NA columns when determining the result dtypes. To retain the old behavior, exclude the relevant entries before the concat operation.\n",
      "  vert_df.loc[len(vert_df)] = e_dict\n",
      "/home/u2175049/anaconda3/lib/python3.11/site-packages/CellSeg/segmentation2D.py:133: FutureWarning: The behavior of DataFrame concatenation with empty or all-NA entries is deprecated. In a future version, this will no longer exclude empty or all-NA columns when determining the result dtypes. To retain the old behavior, exclude the relevant entries before the concat operation.\n",
      "  vert_df.loc[len(vert_df)] = e_dict\n",
      "/home/u2175049/anaconda3/lib/python3.11/site-packages/CellSeg/segmentation2D.py:133: FutureWarning: The behavior of DataFrame concatenation with empty or all-NA entries is deprecated. In a future version, this will no longer exclude empty or all-NA columns when determining the result dtypes. To retain the old behavior, exclude the relevant entries before the concat operation.\n",
      "  vert_df.loc[len(vert_df)] = e_dict\n",
      "/home/u2175049/anaconda3/lib/python3.11/site-packages/CellSeg/segmentation2D.py:133: FutureWarning: The behavior of DataFrame concatenation with empty or all-NA entries is deprecated. In a future version, this will no longer exclude empty or all-NA columns when determining the result dtypes. To retain the old behavior, exclude the relevant entries before the concat operation.\n",
      "  vert_df.loc[len(vert_df)] = e_dict\n",
      "/home/u2175049/anaconda3/lib/python3.11/site-packages/CellSeg/segmentation2D.py:133: FutureWarning: The behavior of DataFrame concatenation with empty or all-NA entries is deprecated. In a future version, this will no longer exclude empty or all-NA columns when determining the result dtypes. To retain the old behavior, exclude the relevant entries before the concat operation.\n",
      "  vert_df.loc[len(vert_df)] = e_dict\n",
      "/home/u2175049/anaconda3/lib/python3.11/site-packages/CellSeg/segmentation2D.py:133: FutureWarning: The behavior of DataFrame concatenation with empty or all-NA entries is deprecated. In a future version, this will no longer exclude empty or all-NA columns when determining the result dtypes. To retain the old behavior, exclude the relevant entries before the concat operation.\n",
      "  vert_df.loc[len(vert_df)] = e_dict\n",
      "/home/u2175049/anaconda3/lib/python3.11/site-packages/CellSeg/segmentation2D.py:133: FutureWarning: The behavior of DataFrame concatenation with empty or all-NA entries is deprecated. In a future version, this will no longer exclude empty or all-NA columns when determining the result dtypes. To retain the old behavior, exclude the relevant entries before the concat operation.\n",
      "  vert_df.loc[len(vert_df)] = e_dict\n",
      "/home/u2175049/anaconda3/lib/python3.11/site-packages/CellSeg/segmentation2D.py:133: FutureWarning: The behavior of DataFrame concatenation with empty or all-NA entries is deprecated. In a future version, this will no longer exclude empty or all-NA columns when determining the result dtypes. To retain the old behavior, exclude the relevant entries before the concat operation.\n",
      "  vert_df.loc[len(vert_df)] = e_dict\n",
      "/home/u2175049/anaconda3/lib/python3.11/site-packages/CellSeg/segmentation2D.py:133: FutureWarning: The behavior of DataFrame concatenation with empty or all-NA entries is deprecated. In a future version, this will no longer exclude empty or all-NA columns when determining the result dtypes. To retain the old behavior, exclude the relevant entries before the concat operation.\n",
      "  vert_df.loc[len(vert_df)] = e_dict\n",
      "/home/u2175049/anaconda3/lib/python3.11/site-packages/CellSeg/segmentation2D.py:133: FutureWarning: The behavior of DataFrame concatenation with empty or all-NA entries is deprecated. In a future version, this will no longer exclude empty or all-NA columns when determining the result dtypes. To retain the old behavior, exclude the relevant entries before the concat operation.\n",
      "  vert_df.loc[len(vert_df)] = e_dict\n",
      "/home/u2175049/anaconda3/lib/python3.11/site-packages/CellSeg/segmentation2D.py:133: FutureWarning: The behavior of DataFrame concatenation with empty or all-NA entries is deprecated. In a future version, this will no longer exclude empty or all-NA columns when determining the result dtypes. To retain the old behavior, exclude the relevant entries before the concat operation.\n",
      "  vert_df.loc[len(vert_df)] = e_dict\n",
      "/home/u2175049/anaconda3/lib/python3.11/site-packages/CellSeg/segmentation2D.py:133: FutureWarning: The behavior of DataFrame concatenation with empty or all-NA entries is deprecated. In a future version, this will no longer exclude empty or all-NA columns when determining the result dtypes. To retain the old behavior, exclude the relevant entries before the concat operation.\n",
      "  vert_df.loc[len(vert_df)] = e_dict\n",
      "/home/u2175049/anaconda3/lib/python3.11/site-packages/CellSeg/segmentation2D.py:133: FutureWarning: The behavior of DataFrame concatenation with empty or all-NA entries is deprecated. In a future version, this will no longer exclude empty or all-NA columns when determining the result dtypes. To retain the old behavior, exclude the relevant entries before the concat operation.\n",
      "  vert_df.loc[len(vert_df)] = e_dict\n"
     ]
    },
    {
     "data": {
      "application/vnd.jupyter.widget-view+json": {
       "model_id": "b1a91cf99cd4482aa625e0d42939d978",
       "version_major": 2,
       "version_minor": 0
      },
      "text/plain": [
       "Vert segmentation:   0%|          | 0/10 [00:00<?, ?it/s]"
      ]
     },
     "metadata": {},
     "output_type": "display_data"
    },
    {
     "name": "stderr",
     "output_type": "stream",
     "text": [
      "/home/u2175049/anaconda3/lib/python3.11/site-packages/CellSeg/segmentation2D.py:133: FutureWarning: The behavior of DataFrame concatenation with empty or all-NA entries is deprecated. In a future version, this will no longer exclude empty or all-NA columns when determining the result dtypes. To retain the old behavior, exclude the relevant entries before the concat operation.\n",
      "  vert_df.loc[len(vert_df)] = e_dict\n",
      "/home/u2175049/anaconda3/lib/python3.11/site-packages/CellSeg/segmentation2D.py:133: FutureWarning: The behavior of DataFrame concatenation with empty or all-NA entries is deprecated. In a future version, this will no longer exclude empty or all-NA columns when determining the result dtypes. To retain the old behavior, exclude the relevant entries before the concat operation.\n",
      "  vert_df.loc[len(vert_df)] = e_dict\n",
      "/home/u2175049/anaconda3/lib/python3.11/site-packages/CellSeg/segmentation2D.py:133: FutureWarning: The behavior of DataFrame concatenation with empty or all-NA entries is deprecated. In a future version, this will no longer exclude empty or all-NA columns when determining the result dtypes. To retain the old behavior, exclude the relevant entries before the concat operation.\n",
      "  vert_df.loc[len(vert_df)] = e_dict\n",
      "/home/u2175049/anaconda3/lib/python3.11/site-packages/CellSeg/segmentation2D.py:133: FutureWarning: The behavior of DataFrame concatenation with empty or all-NA entries is deprecated. In a future version, this will no longer exclude empty or all-NA columns when determining the result dtypes. To retain the old behavior, exclude the relevant entries before the concat operation.\n",
      "  vert_df.loc[len(vert_df)] = e_dict\n",
      "/home/u2175049/anaconda3/lib/python3.11/site-packages/CellSeg/segmentation2D.py:133: FutureWarning: The behavior of DataFrame concatenation with empty or all-NA entries is deprecated. In a future version, this will no longer exclude empty or all-NA columns when determining the result dtypes. To retain the old behavior, exclude the relevant entries before the concat operation.\n",
      "  vert_df.loc[len(vert_df)] = e_dict\n"
     ]
    },
    {
     "data": {
      "application/vnd.jupyter.widget-view+json": {
       "model_id": "bf94a50d13fa45098c80bfac71384b01",
       "version_major": 2,
       "version_minor": 0
      },
      "text/plain": [
       "Vert segmentation:   0%|          | 0/6 [00:00<?, ?it/s]"
      ]
     },
     "metadata": {},
     "output_type": "display_data"
    },
    {
     "name": "stderr",
     "output_type": "stream",
     "text": [
      "/home/u2175049/anaconda3/lib/python3.11/site-packages/CellSeg/segmentation2D.py:133: FutureWarning: The behavior of DataFrame concatenation with empty or all-NA entries is deprecated. In a future version, this will no longer exclude empty or all-NA columns when determining the result dtypes. To retain the old behavior, exclude the relevant entries before the concat operation.\n",
      "  vert_df.loc[len(vert_df)] = e_dict\n",
      "/home/u2175049/anaconda3/lib/python3.11/site-packages/CellSeg/segmentation2D.py:133: FutureWarning: The behavior of DataFrame concatenation with empty or all-NA entries is deprecated. In a future version, this will no longer exclude empty or all-NA columns when determining the result dtypes. To retain the old behavior, exclude the relevant entries before the concat operation.\n",
      "  vert_df.loc[len(vert_df)] = e_dict\n"
     ]
    },
    {
     "data": {
      "application/vnd.jupyter.widget-view+json": {
       "model_id": "be266ceddceb45259ca4506666d43080",
       "version_major": 2,
       "version_minor": 0
      },
      "text/plain": [
       "Vert segmentation:   0%|          | 0/6 [00:00<?, ?it/s]"
      ]
     },
     "metadata": {},
     "output_type": "display_data"
    },
    {
     "name": "stderr",
     "output_type": "stream",
     "text": [
      "/home/u2175049/anaconda3/lib/python3.11/site-packages/CellSeg/segmentation2D.py:133: FutureWarning: The behavior of DataFrame concatenation with empty or all-NA entries is deprecated. In a future version, this will no longer exclude empty or all-NA columns when determining the result dtypes. To retain the old behavior, exclude the relevant entries before the concat operation.\n",
      "  vert_df.loc[len(vert_df)] = e_dict\n",
      "/home/u2175049/anaconda3/lib/python3.11/site-packages/CellSeg/segmentation2D.py:133: FutureWarning: The behavior of DataFrame concatenation with empty or all-NA entries is deprecated. In a future version, this will no longer exclude empty or all-NA columns when determining the result dtypes. To retain the old behavior, exclude the relevant entries before the concat operation.\n",
      "  vert_df.loc[len(vert_df)] = e_dict\n",
      "/home/u2175049/anaconda3/lib/python3.11/site-packages/CellSeg/segmentation2D.py:133: FutureWarning: The behavior of DataFrame concatenation with empty or all-NA entries is deprecated. In a future version, this will no longer exclude empty or all-NA columns when determining the result dtypes. To retain the old behavior, exclude the relevant entries before the concat operation.\n",
      "  vert_df.loc[len(vert_df)] = e_dict\n"
     ]
    },
    {
     "data": {
      "application/vnd.jupyter.widget-view+json": {
       "model_id": "1dfb20956c3b4d5fbcd60d4115693497",
       "version_major": 2,
       "version_minor": 0
      },
      "text/plain": [
       "Vert segmentation:   0%|          | 0/21 [00:00<?, ?it/s]"
      ]
     },
     "metadata": {},
     "output_type": "display_data"
    },
    {
     "name": "stderr",
     "output_type": "stream",
     "text": [
      "/home/u2175049/anaconda3/lib/python3.11/site-packages/CellSeg/segmentation2D.py:133: FutureWarning: The behavior of DataFrame concatenation with empty or all-NA entries is deprecated. In a future version, this will no longer exclude empty or all-NA columns when determining the result dtypes. To retain the old behavior, exclude the relevant entries before the concat operation.\n",
      "  vert_df.loc[len(vert_df)] = e_dict\n",
      "/home/u2175049/anaconda3/lib/python3.11/site-packages/CellSeg/segmentation2D.py:133: FutureWarning: The behavior of DataFrame concatenation with empty or all-NA entries is deprecated. In a future version, this will no longer exclude empty or all-NA columns when determining the result dtypes. To retain the old behavior, exclude the relevant entries before the concat operation.\n",
      "  vert_df.loc[len(vert_df)] = e_dict\n",
      "/home/u2175049/anaconda3/lib/python3.11/site-packages/CellSeg/segmentation2D.py:133: FutureWarning: The behavior of DataFrame concatenation with empty or all-NA entries is deprecated. In a future version, this will no longer exclude empty or all-NA columns when determining the result dtypes. To retain the old behavior, exclude the relevant entries before the concat operation.\n",
      "  vert_df.loc[len(vert_df)] = e_dict\n",
      "/home/u2175049/anaconda3/lib/python3.11/site-packages/CellSeg/segmentation2D.py:133: FutureWarning: The behavior of DataFrame concatenation with empty or all-NA entries is deprecated. In a future version, this will no longer exclude empty or all-NA columns when determining the result dtypes. To retain the old behavior, exclude the relevant entries before the concat operation.\n",
      "  vert_df.loc[len(vert_df)] = e_dict\n",
      "/home/u2175049/anaconda3/lib/python3.11/site-packages/CellSeg/segmentation2D.py:133: FutureWarning: The behavior of DataFrame concatenation with empty or all-NA entries is deprecated. In a future version, this will no longer exclude empty or all-NA columns when determining the result dtypes. To retain the old behavior, exclude the relevant entries before the concat operation.\n",
      "  vert_df.loc[len(vert_df)] = e_dict\n",
      "/home/u2175049/anaconda3/lib/python3.11/site-packages/CellSeg/segmentation2D.py:133: FutureWarning: The behavior of DataFrame concatenation with empty or all-NA entries is deprecated. In a future version, this will no longer exclude empty or all-NA columns when determining the result dtypes. To retain the old behavior, exclude the relevant entries before the concat operation.\n",
      "  vert_df.loc[len(vert_df)] = e_dict\n",
      "/home/u2175049/anaconda3/lib/python3.11/site-packages/CellSeg/segmentation2D.py:133: FutureWarning: The behavior of DataFrame concatenation with empty or all-NA entries is deprecated. In a future version, this will no longer exclude empty or all-NA columns when determining the result dtypes. To retain the old behavior, exclude the relevant entries before the concat operation.\n",
      "  vert_df.loc[len(vert_df)] = e_dict\n",
      "/home/u2175049/anaconda3/lib/python3.11/site-packages/CellSeg/segmentation2D.py:133: FutureWarning: The behavior of DataFrame concatenation with empty or all-NA entries is deprecated. In a future version, this will no longer exclude empty or all-NA columns when determining the result dtypes. To retain the old behavior, exclude the relevant entries before the concat operation.\n",
      "  vert_df.loc[len(vert_df)] = e_dict\n",
      "/home/u2175049/anaconda3/lib/python3.11/site-packages/CellSeg/segmentation2D.py:133: FutureWarning: The behavior of DataFrame concatenation with empty or all-NA entries is deprecated. In a future version, this will no longer exclude empty or all-NA columns when determining the result dtypes. To retain the old behavior, exclude the relevant entries before the concat operation.\n",
      "  vert_df.loc[len(vert_df)] = e_dict\n",
      "/home/u2175049/anaconda3/lib/python3.11/site-packages/CellSeg/segmentation2D.py:133: FutureWarning: The behavior of DataFrame concatenation with empty or all-NA entries is deprecated. In a future version, this will no longer exclude empty or all-NA columns when determining the result dtypes. To retain the old behavior, exclude the relevant entries before the concat operation.\n",
      "  vert_df.loc[len(vert_df)] = e_dict\n",
      "/home/u2175049/anaconda3/lib/python3.11/site-packages/CellSeg/segmentation2D.py:133: FutureWarning: The behavior of DataFrame concatenation with empty or all-NA entries is deprecated. In a future version, this will no longer exclude empty or all-NA columns when determining the result dtypes. To retain the old behavior, exclude the relevant entries before the concat operation.\n",
      "  vert_df.loc[len(vert_df)] = e_dict\n",
      "/home/u2175049/anaconda3/lib/python3.11/site-packages/CellSeg/segmentation2D.py:133: FutureWarning: The behavior of DataFrame concatenation with empty or all-NA entries is deprecated. In a future version, this will no longer exclude empty or all-NA columns when determining the result dtypes. To retain the old behavior, exclude the relevant entries before the concat operation.\n",
      "  vert_df.loc[len(vert_df)] = e_dict\n",
      "/home/u2175049/anaconda3/lib/python3.11/site-packages/CellSeg/segmentation2D.py:133: FutureWarning: The behavior of DataFrame concatenation with empty or all-NA entries is deprecated. In a future version, this will no longer exclude empty or all-NA columns when determining the result dtypes. To retain the old behavior, exclude the relevant entries before the concat operation.\n",
      "  vert_df.loc[len(vert_df)] = e_dict\n",
      "/home/u2175049/anaconda3/lib/python3.11/site-packages/CellSeg/segmentation2D.py:133: FutureWarning: The behavior of DataFrame concatenation with empty or all-NA entries is deprecated. In a future version, this will no longer exclude empty or all-NA columns when determining the result dtypes. To retain the old behavior, exclude the relevant entries before the concat operation.\n",
      "  vert_df.loc[len(vert_df)] = e_dict\n"
     ]
    },
    {
     "data": {
      "application/vnd.jupyter.widget-view+json": {
       "model_id": "c0f79cf5d329429893c4ee93119ab781",
       "version_major": 2,
       "version_minor": 0
      },
      "text/plain": [
       "Vert segmentation:   0%|          | 0/15 [00:00<?, ?it/s]"
      ]
     },
     "metadata": {},
     "output_type": "display_data"
    },
    {
     "name": "stderr",
     "output_type": "stream",
     "text": [
      "/home/u2175049/anaconda3/lib/python3.11/site-packages/CellSeg/segmentation2D.py:133: FutureWarning: The behavior of DataFrame concatenation with empty or all-NA entries is deprecated. In a future version, this will no longer exclude empty or all-NA columns when determining the result dtypes. To retain the old behavior, exclude the relevant entries before the concat operation.\n",
      "  vert_df.loc[len(vert_df)] = e_dict\n",
      "/home/u2175049/anaconda3/lib/python3.11/site-packages/CellSeg/segmentation2D.py:133: FutureWarning: The behavior of DataFrame concatenation with empty or all-NA entries is deprecated. In a future version, this will no longer exclude empty or all-NA columns when determining the result dtypes. To retain the old behavior, exclude the relevant entries before the concat operation.\n",
      "  vert_df.loc[len(vert_df)] = e_dict\n",
      "/home/u2175049/anaconda3/lib/python3.11/site-packages/CellSeg/segmentation2D.py:133: FutureWarning: The behavior of DataFrame concatenation with empty or all-NA entries is deprecated. In a future version, this will no longer exclude empty or all-NA columns when determining the result dtypes. To retain the old behavior, exclude the relevant entries before the concat operation.\n",
      "  vert_df.loc[len(vert_df)] = e_dict\n",
      "/home/u2175049/anaconda3/lib/python3.11/site-packages/CellSeg/segmentation2D.py:133: FutureWarning: The behavior of DataFrame concatenation with empty or all-NA entries is deprecated. In a future version, this will no longer exclude empty or all-NA columns when determining the result dtypes. To retain the old behavior, exclude the relevant entries before the concat operation.\n",
      "  vert_df.loc[len(vert_df)] = e_dict\n",
      "/home/u2175049/anaconda3/lib/python3.11/site-packages/CellSeg/segmentation2D.py:133: FutureWarning: The behavior of DataFrame concatenation with empty or all-NA entries is deprecated. In a future version, this will no longer exclude empty or all-NA columns when determining the result dtypes. To retain the old behavior, exclude the relevant entries before the concat operation.\n",
      "  vert_df.loc[len(vert_df)] = e_dict\n",
      "/home/u2175049/anaconda3/lib/python3.11/site-packages/CellSeg/segmentation2D.py:133: FutureWarning: The behavior of DataFrame concatenation with empty or all-NA entries is deprecated. In a future version, this will no longer exclude empty or all-NA columns when determining the result dtypes. To retain the old behavior, exclude the relevant entries before the concat operation.\n",
      "  vert_df.loc[len(vert_df)] = e_dict\n",
      "/home/u2175049/anaconda3/lib/python3.11/site-packages/CellSeg/segmentation2D.py:133: FutureWarning: The behavior of DataFrame concatenation with empty or all-NA entries is deprecated. In a future version, this will no longer exclude empty or all-NA columns when determining the result dtypes. To retain the old behavior, exclude the relevant entries before the concat operation.\n",
      "  vert_df.loc[len(vert_df)] = e_dict\n",
      "/home/u2175049/anaconda3/lib/python3.11/site-packages/CellSeg/segmentation2D.py:133: FutureWarning: The behavior of DataFrame concatenation with empty or all-NA entries is deprecated. In a future version, this will no longer exclude empty or all-NA columns when determining the result dtypes. To retain the old behavior, exclude the relevant entries before the concat operation.\n",
      "  vert_df.loc[len(vert_df)] = e_dict\n",
      "/home/u2175049/anaconda3/lib/python3.11/site-packages/CellSeg/segmentation2D.py:133: FutureWarning: The behavior of DataFrame concatenation with empty or all-NA entries is deprecated. In a future version, this will no longer exclude empty or all-NA columns when determining the result dtypes. To retain the old behavior, exclude the relevant entries before the concat operation.\n",
      "  vert_df.loc[len(vert_df)] = e_dict\n",
      "/home/u2175049/anaconda3/lib/python3.11/site-packages/CellSeg/segmentation2D.py:133: FutureWarning: The behavior of DataFrame concatenation with empty or all-NA entries is deprecated. In a future version, this will no longer exclude empty or all-NA columns when determining the result dtypes. To retain the old behavior, exclude the relevant entries before the concat operation.\n",
      "  vert_df.loc[len(vert_df)] = e_dict\n"
     ]
    },
    {
     "data": {
      "application/vnd.jupyter.widget-view+json": {
       "model_id": "1b9751a77fb34e6e96b19fed0bce7a7e",
       "version_major": 2,
       "version_minor": 0
      },
      "text/plain": [
       "Vert segmentation:   0%|          | 0/15 [00:00<?, ?it/s]"
      ]
     },
     "metadata": {},
     "output_type": "display_data"
    },
    {
     "name": "stderr",
     "output_type": "stream",
     "text": [
      "/home/u2175049/anaconda3/lib/python3.11/site-packages/CellSeg/segmentation2D.py:133: FutureWarning: The behavior of DataFrame concatenation with empty or all-NA entries is deprecated. In a future version, this will no longer exclude empty or all-NA columns when determining the result dtypes. To retain the old behavior, exclude the relevant entries before the concat operation.\n",
      "  vert_df.loc[len(vert_df)] = e_dict\n",
      "/home/u2175049/anaconda3/lib/python3.11/site-packages/CellSeg/segmentation2D.py:133: FutureWarning: The behavior of DataFrame concatenation with empty or all-NA entries is deprecated. In a future version, this will no longer exclude empty or all-NA columns when determining the result dtypes. To retain the old behavior, exclude the relevant entries before the concat operation.\n",
      "  vert_df.loc[len(vert_df)] = e_dict\n",
      "/home/u2175049/anaconda3/lib/python3.11/site-packages/CellSeg/segmentation2D.py:133: FutureWarning: The behavior of DataFrame concatenation with empty or all-NA entries is deprecated. In a future version, this will no longer exclude empty or all-NA columns when determining the result dtypes. To retain the old behavior, exclude the relevant entries before the concat operation.\n",
      "  vert_df.loc[len(vert_df)] = e_dict\n",
      "/home/u2175049/anaconda3/lib/python3.11/site-packages/CellSeg/segmentation2D.py:133: FutureWarning: The behavior of DataFrame concatenation with empty or all-NA entries is deprecated. In a future version, this will no longer exclude empty or all-NA columns when determining the result dtypes. To retain the old behavior, exclude the relevant entries before the concat operation.\n",
      "  vert_df.loc[len(vert_df)] = e_dict\n",
      "/home/u2175049/anaconda3/lib/python3.11/site-packages/CellSeg/segmentation2D.py:133: FutureWarning: The behavior of DataFrame concatenation with empty or all-NA entries is deprecated. In a future version, this will no longer exclude empty or all-NA columns when determining the result dtypes. To retain the old behavior, exclude the relevant entries before the concat operation.\n",
      "  vert_df.loc[len(vert_df)] = e_dict\n",
      "/home/u2175049/anaconda3/lib/python3.11/site-packages/CellSeg/segmentation2D.py:133: FutureWarning: The behavior of DataFrame concatenation with empty or all-NA entries is deprecated. In a future version, this will no longer exclude empty or all-NA columns when determining the result dtypes. To retain the old behavior, exclude the relevant entries before the concat operation.\n",
      "  vert_df.loc[len(vert_df)] = e_dict\n",
      "/home/u2175049/anaconda3/lib/python3.11/site-packages/CellSeg/segmentation2D.py:133: FutureWarning: The behavior of DataFrame concatenation with empty or all-NA entries is deprecated. In a future version, this will no longer exclude empty or all-NA columns when determining the result dtypes. To retain the old behavior, exclude the relevant entries before the concat operation.\n",
      "  vert_df.loc[len(vert_df)] = e_dict\n",
      "/home/u2175049/anaconda3/lib/python3.11/site-packages/CellSeg/segmentation2D.py:133: FutureWarning: The behavior of DataFrame concatenation with empty or all-NA entries is deprecated. In a future version, this will no longer exclude empty or all-NA columns when determining the result dtypes. To retain the old behavior, exclude the relevant entries before the concat operation.\n",
      "  vert_df.loc[len(vert_df)] = e_dict\n",
      "/home/u2175049/anaconda3/lib/python3.11/site-packages/CellSeg/segmentation2D.py:133: FutureWarning: The behavior of DataFrame concatenation with empty or all-NA entries is deprecated. In a future version, this will no longer exclude empty or all-NA columns when determining the result dtypes. To retain the old behavior, exclude the relevant entries before the concat operation.\n",
      "  vert_df.loc[len(vert_df)] = e_dict\n"
     ]
    },
    {
     "data": {
      "application/vnd.jupyter.widget-view+json": {
       "model_id": "ba5adf96d8a74c0f8e020f719d230520",
       "version_major": 2,
       "version_minor": 0
      },
      "text/plain": [
       "Vert segmentation:   0%|          | 0/6 [00:00<?, ?it/s]"
      ]
     },
     "metadata": {},
     "output_type": "display_data"
    },
    {
     "name": "stderr",
     "output_type": "stream",
     "text": [
      "/home/u2175049/anaconda3/lib/python3.11/site-packages/CellSeg/segmentation2D.py:133: FutureWarning: The behavior of DataFrame concatenation with empty or all-NA entries is deprecated. In a future version, this will no longer exclude empty or all-NA columns when determining the result dtypes. To retain the old behavior, exclude the relevant entries before the concat operation.\n",
      "  vert_df.loc[len(vert_df)] = e_dict\n",
      "/home/u2175049/anaconda3/lib/python3.11/site-packages/CellSeg/segmentation2D.py:133: FutureWarning: The behavior of DataFrame concatenation with empty or all-NA entries is deprecated. In a future version, this will no longer exclude empty or all-NA columns when determining the result dtypes. To retain the old behavior, exclude the relevant entries before the concat operation.\n",
      "  vert_df.loc[len(vert_df)] = e_dict\n",
      "/home/u2175049/anaconda3/lib/python3.11/site-packages/CellSeg/segmentation2D.py:133: FutureWarning: The behavior of DataFrame concatenation with empty or all-NA entries is deprecated. In a future version, this will no longer exclude empty or all-NA columns when determining the result dtypes. To retain the old behavior, exclude the relevant entries before the concat operation.\n",
      "  vert_df.loc[len(vert_df)] = e_dict\n"
     ]
    },
    {
     "data": {
      "application/vnd.jupyter.widget-view+json": {
       "model_id": "922918dfee8c491f951e64d8cfed750a",
       "version_major": 2,
       "version_minor": 0
      },
      "text/plain": [
       "Vert segmentation:   0%|          | 0/21 [00:00<?, ?it/s]"
      ]
     },
     "metadata": {},
     "output_type": "display_data"
    },
    {
     "name": "stderr",
     "output_type": "stream",
     "text": [
      "/home/u2175049/anaconda3/lib/python3.11/site-packages/CellSeg/segmentation2D.py:133: FutureWarning: The behavior of DataFrame concatenation with empty or all-NA entries is deprecated. In a future version, this will no longer exclude empty or all-NA columns when determining the result dtypes. To retain the old behavior, exclude the relevant entries before the concat operation.\n",
      "  vert_df.loc[len(vert_df)] = e_dict\n",
      "/home/u2175049/anaconda3/lib/python3.11/site-packages/CellSeg/segmentation2D.py:133: FutureWarning: The behavior of DataFrame concatenation with empty or all-NA entries is deprecated. In a future version, this will no longer exclude empty or all-NA columns when determining the result dtypes. To retain the old behavior, exclude the relevant entries before the concat operation.\n",
      "  vert_df.loc[len(vert_df)] = e_dict\n",
      "/home/u2175049/anaconda3/lib/python3.11/site-packages/CellSeg/segmentation2D.py:133: FutureWarning: The behavior of DataFrame concatenation with empty or all-NA entries is deprecated. In a future version, this will no longer exclude empty or all-NA columns when determining the result dtypes. To retain the old behavior, exclude the relevant entries before the concat operation.\n",
      "  vert_df.loc[len(vert_df)] = e_dict\n",
      "/home/u2175049/anaconda3/lib/python3.11/site-packages/CellSeg/segmentation2D.py:133: FutureWarning: The behavior of DataFrame concatenation with empty or all-NA entries is deprecated. In a future version, this will no longer exclude empty or all-NA columns when determining the result dtypes. To retain the old behavior, exclude the relevant entries before the concat operation.\n",
      "  vert_df.loc[len(vert_df)] = e_dict\n",
      "/home/u2175049/anaconda3/lib/python3.11/site-packages/CellSeg/segmentation2D.py:133: FutureWarning: The behavior of DataFrame concatenation with empty or all-NA entries is deprecated. In a future version, this will no longer exclude empty or all-NA columns when determining the result dtypes. To retain the old behavior, exclude the relevant entries before the concat operation.\n",
      "  vert_df.loc[len(vert_df)] = e_dict\n",
      "/home/u2175049/anaconda3/lib/python3.11/site-packages/CellSeg/segmentation2D.py:133: FutureWarning: The behavior of DataFrame concatenation with empty or all-NA entries is deprecated. In a future version, this will no longer exclude empty or all-NA columns when determining the result dtypes. To retain the old behavior, exclude the relevant entries before the concat operation.\n",
      "  vert_df.loc[len(vert_df)] = e_dict\n",
      "/home/u2175049/anaconda3/lib/python3.11/site-packages/CellSeg/segmentation2D.py:133: FutureWarning: The behavior of DataFrame concatenation with empty or all-NA entries is deprecated. In a future version, this will no longer exclude empty or all-NA columns when determining the result dtypes. To retain the old behavior, exclude the relevant entries before the concat operation.\n",
      "  vert_df.loc[len(vert_df)] = e_dict\n",
      "/home/u2175049/anaconda3/lib/python3.11/site-packages/CellSeg/segmentation2D.py:133: FutureWarning: The behavior of DataFrame concatenation with empty or all-NA entries is deprecated. In a future version, this will no longer exclude empty or all-NA columns when determining the result dtypes. To retain the old behavior, exclude the relevant entries before the concat operation.\n",
      "  vert_df.loc[len(vert_df)] = e_dict\n",
      "/home/u2175049/anaconda3/lib/python3.11/site-packages/CellSeg/segmentation2D.py:133: FutureWarning: The behavior of DataFrame concatenation with empty or all-NA entries is deprecated. In a future version, this will no longer exclude empty or all-NA columns when determining the result dtypes. To retain the old behavior, exclude the relevant entries before the concat operation.\n",
      "  vert_df.loc[len(vert_df)] = e_dict\n",
      "/home/u2175049/anaconda3/lib/python3.11/site-packages/CellSeg/segmentation2D.py:133: FutureWarning: The behavior of DataFrame concatenation with empty or all-NA entries is deprecated. In a future version, this will no longer exclude empty or all-NA columns when determining the result dtypes. To retain the old behavior, exclude the relevant entries before the concat operation.\n",
      "  vert_df.loc[len(vert_df)] = e_dict\n",
      "/home/u2175049/anaconda3/lib/python3.11/site-packages/CellSeg/segmentation2D.py:133: FutureWarning: The behavior of DataFrame concatenation with empty or all-NA entries is deprecated. In a future version, this will no longer exclude empty or all-NA columns when determining the result dtypes. To retain the old behavior, exclude the relevant entries before the concat operation.\n",
      "  vert_df.loc[len(vert_df)] = e_dict\n",
      "/home/u2175049/anaconda3/lib/python3.11/site-packages/CellSeg/segmentation2D.py:133: FutureWarning: The behavior of DataFrame concatenation with empty or all-NA entries is deprecated. In a future version, this will no longer exclude empty or all-NA columns when determining the result dtypes. To retain the old behavior, exclude the relevant entries before the concat operation.\n",
      "  vert_df.loc[len(vert_df)] = e_dict\n",
      "/home/u2175049/anaconda3/lib/python3.11/site-packages/CellSeg/segmentation2D.py:133: FutureWarning: The behavior of DataFrame concatenation with empty or all-NA entries is deprecated. In a future version, this will no longer exclude empty or all-NA columns when determining the result dtypes. To retain the old behavior, exclude the relevant entries before the concat operation.\n",
      "  vert_df.loc[len(vert_df)] = e_dict\n",
      "/home/u2175049/anaconda3/lib/python3.11/site-packages/CellSeg/segmentation2D.py:133: FutureWarning: The behavior of DataFrame concatenation with empty or all-NA entries is deprecated. In a future version, this will no longer exclude empty or all-NA columns when determining the result dtypes. To retain the old behavior, exclude the relevant entries before the concat operation.\n",
      "  vert_df.loc[len(vert_df)] = e_dict\n"
     ]
    },
    {
     "data": {
      "application/vnd.jupyter.widget-view+json": {
       "model_id": "9664a72b66524125bbf10fc992578ee3",
       "version_major": 2,
       "version_minor": 0
      },
      "text/plain": [
       "Vert segmentation:   0%|          | 0/6 [00:00<?, ?it/s]"
      ]
     },
     "metadata": {},
     "output_type": "display_data"
    },
    {
     "name": "stderr",
     "output_type": "stream",
     "text": [
      "/home/u2175049/anaconda3/lib/python3.11/site-packages/CellSeg/segmentation2D.py:133: FutureWarning: The behavior of DataFrame concatenation with empty or all-NA entries is deprecated. In a future version, this will no longer exclude empty or all-NA columns when determining the result dtypes. To retain the old behavior, exclude the relevant entries before the concat operation.\n",
      "  vert_df.loc[len(vert_df)] = e_dict\n",
      "/home/u2175049/anaconda3/lib/python3.11/site-packages/CellSeg/segmentation2D.py:133: FutureWarning: The behavior of DataFrame concatenation with empty or all-NA entries is deprecated. In a future version, this will no longer exclude empty or all-NA columns when determining the result dtypes. To retain the old behavior, exclude the relevant entries before the concat operation.\n",
      "  vert_df.loc[len(vert_df)] = e_dict\n",
      "/home/u2175049/anaconda3/lib/python3.11/site-packages/CellSeg/segmentation2D.py:133: FutureWarning: The behavior of DataFrame concatenation with empty or all-NA entries is deprecated. In a future version, this will no longer exclude empty or all-NA columns when determining the result dtypes. To retain the old behavior, exclude the relevant entries before the concat operation.\n",
      "  vert_df.loc[len(vert_df)] = e_dict\n"
     ]
    },
    {
     "data": {
      "application/vnd.jupyter.widget-view+json": {
       "model_id": "739ceba1df2848c09ba4c06c74ce33ed",
       "version_major": 2,
       "version_minor": 0
      },
      "text/plain": [
       "Vert segmentation:   0%|          | 0/15 [00:00<?, ?it/s]"
      ]
     },
     "metadata": {},
     "output_type": "display_data"
    },
    {
     "name": "stderr",
     "output_type": "stream",
     "text": [
      "/home/u2175049/anaconda3/lib/python3.11/site-packages/CellSeg/segmentation2D.py:133: FutureWarning: The behavior of DataFrame concatenation with empty or all-NA entries is deprecated. In a future version, this will no longer exclude empty or all-NA columns when determining the result dtypes. To retain the old behavior, exclude the relevant entries before the concat operation.\n",
      "  vert_df.loc[len(vert_df)] = e_dict\n",
      "/home/u2175049/anaconda3/lib/python3.11/site-packages/CellSeg/segmentation2D.py:133: FutureWarning: The behavior of DataFrame concatenation with empty or all-NA entries is deprecated. In a future version, this will no longer exclude empty or all-NA columns when determining the result dtypes. To retain the old behavior, exclude the relevant entries before the concat operation.\n",
      "  vert_df.loc[len(vert_df)] = e_dict\n",
      "/home/u2175049/anaconda3/lib/python3.11/site-packages/CellSeg/segmentation2D.py:133: FutureWarning: The behavior of DataFrame concatenation with empty or all-NA entries is deprecated. In a future version, this will no longer exclude empty or all-NA columns when determining the result dtypes. To retain the old behavior, exclude the relevant entries before the concat operation.\n",
      "  vert_df.loc[len(vert_df)] = e_dict\n",
      "/home/u2175049/anaconda3/lib/python3.11/site-packages/CellSeg/segmentation2D.py:133: FutureWarning: The behavior of DataFrame concatenation with empty or all-NA entries is deprecated. In a future version, this will no longer exclude empty or all-NA columns when determining the result dtypes. To retain the old behavior, exclude the relevant entries before the concat operation.\n",
      "  vert_df.loc[len(vert_df)] = e_dict\n",
      "/home/u2175049/anaconda3/lib/python3.11/site-packages/CellSeg/segmentation2D.py:133: FutureWarning: The behavior of DataFrame concatenation with empty or all-NA entries is deprecated. In a future version, this will no longer exclude empty or all-NA columns when determining the result dtypes. To retain the old behavior, exclude the relevant entries before the concat operation.\n",
      "  vert_df.loc[len(vert_df)] = e_dict\n",
      "/home/u2175049/anaconda3/lib/python3.11/site-packages/CellSeg/segmentation2D.py:133: FutureWarning: The behavior of DataFrame concatenation with empty or all-NA entries is deprecated. In a future version, this will no longer exclude empty or all-NA columns when determining the result dtypes. To retain the old behavior, exclude the relevant entries before the concat operation.\n",
      "  vert_df.loc[len(vert_df)] = e_dict\n",
      "/home/u2175049/anaconda3/lib/python3.11/site-packages/CellSeg/segmentation2D.py:133: FutureWarning: The behavior of DataFrame concatenation with empty or all-NA entries is deprecated. In a future version, this will no longer exclude empty or all-NA columns when determining the result dtypes. To retain the old behavior, exclude the relevant entries before the concat operation.\n",
      "  vert_df.loc[len(vert_df)] = e_dict\n",
      "/home/u2175049/anaconda3/lib/python3.11/site-packages/CellSeg/segmentation2D.py:133: FutureWarning: The behavior of DataFrame concatenation with empty or all-NA entries is deprecated. In a future version, this will no longer exclude empty or all-NA columns when determining the result dtypes. To retain the old behavior, exclude the relevant entries before the concat operation.\n",
      "  vert_df.loc[len(vert_df)] = e_dict\n",
      "/home/u2175049/anaconda3/lib/python3.11/site-packages/CellSeg/segmentation2D.py:133: FutureWarning: The behavior of DataFrame concatenation with empty or all-NA entries is deprecated. In a future version, this will no longer exclude empty or all-NA columns when determining the result dtypes. To retain the old behavior, exclude the relevant entries before the concat operation.\n",
      "  vert_df.loc[len(vert_df)] = e_dict\n"
     ]
    },
    {
     "data": {
      "application/vnd.jupyter.widget-view+json": {
       "model_id": "c492095c4dda4996b4099e94f1520d18",
       "version_major": 2,
       "version_minor": 0
      },
      "text/plain": [
       "Vert segmentation:   0%|          | 0/21 [00:00<?, ?it/s]"
      ]
     },
     "metadata": {},
     "output_type": "display_data"
    },
    {
     "name": "stderr",
     "output_type": "stream",
     "text": [
      "/home/u2175049/anaconda3/lib/python3.11/site-packages/CellSeg/segmentation2D.py:133: FutureWarning: The behavior of DataFrame concatenation with empty or all-NA entries is deprecated. In a future version, this will no longer exclude empty or all-NA columns when determining the result dtypes. To retain the old behavior, exclude the relevant entries before the concat operation.\n",
      "  vert_df.loc[len(vert_df)] = e_dict\n",
      "/home/u2175049/anaconda3/lib/python3.11/site-packages/CellSeg/segmentation2D.py:133: FutureWarning: The behavior of DataFrame concatenation with empty or all-NA entries is deprecated. In a future version, this will no longer exclude empty or all-NA columns when determining the result dtypes. To retain the old behavior, exclude the relevant entries before the concat operation.\n",
      "  vert_df.loc[len(vert_df)] = e_dict\n",
      "/home/u2175049/anaconda3/lib/python3.11/site-packages/CellSeg/segmentation2D.py:133: FutureWarning: The behavior of DataFrame concatenation with empty or all-NA entries is deprecated. In a future version, this will no longer exclude empty or all-NA columns when determining the result dtypes. To retain the old behavior, exclude the relevant entries before the concat operation.\n",
      "  vert_df.loc[len(vert_df)] = e_dict\n",
      "/home/u2175049/anaconda3/lib/python3.11/site-packages/CellSeg/segmentation2D.py:133: FutureWarning: The behavior of DataFrame concatenation with empty or all-NA entries is deprecated. In a future version, this will no longer exclude empty or all-NA columns when determining the result dtypes. To retain the old behavior, exclude the relevant entries before the concat operation.\n",
      "  vert_df.loc[len(vert_df)] = e_dict\n",
      "/home/u2175049/anaconda3/lib/python3.11/site-packages/CellSeg/segmentation2D.py:133: FutureWarning: The behavior of DataFrame concatenation with empty or all-NA entries is deprecated. In a future version, this will no longer exclude empty or all-NA columns when determining the result dtypes. To retain the old behavior, exclude the relevant entries before the concat operation.\n",
      "  vert_df.loc[len(vert_df)] = e_dict\n",
      "/home/u2175049/anaconda3/lib/python3.11/site-packages/CellSeg/segmentation2D.py:133: FutureWarning: The behavior of DataFrame concatenation with empty or all-NA entries is deprecated. In a future version, this will no longer exclude empty or all-NA columns when determining the result dtypes. To retain the old behavior, exclude the relevant entries before the concat operation.\n",
      "  vert_df.loc[len(vert_df)] = e_dict\n",
      "/home/u2175049/anaconda3/lib/python3.11/site-packages/CellSeg/segmentation2D.py:133: FutureWarning: The behavior of DataFrame concatenation with empty or all-NA entries is deprecated. In a future version, this will no longer exclude empty or all-NA columns when determining the result dtypes. To retain the old behavior, exclude the relevant entries before the concat operation.\n",
      "  vert_df.loc[len(vert_df)] = e_dict\n",
      "/home/u2175049/anaconda3/lib/python3.11/site-packages/CellSeg/segmentation2D.py:133: FutureWarning: The behavior of DataFrame concatenation with empty or all-NA entries is deprecated. In a future version, this will no longer exclude empty or all-NA columns when determining the result dtypes. To retain the old behavior, exclude the relevant entries before the concat operation.\n",
      "  vert_df.loc[len(vert_df)] = e_dict\n",
      "/home/u2175049/anaconda3/lib/python3.11/site-packages/CellSeg/segmentation2D.py:133: FutureWarning: The behavior of DataFrame concatenation with empty or all-NA entries is deprecated. In a future version, this will no longer exclude empty or all-NA columns when determining the result dtypes. To retain the old behavior, exclude the relevant entries before the concat operation.\n",
      "  vert_df.loc[len(vert_df)] = e_dict\n",
      "/home/u2175049/anaconda3/lib/python3.11/site-packages/CellSeg/segmentation2D.py:133: FutureWarning: The behavior of DataFrame concatenation with empty or all-NA entries is deprecated. In a future version, this will no longer exclude empty or all-NA columns when determining the result dtypes. To retain the old behavior, exclude the relevant entries before the concat operation.\n",
      "  vert_df.loc[len(vert_df)] = e_dict\n",
      "/home/u2175049/anaconda3/lib/python3.11/site-packages/CellSeg/segmentation2D.py:133: FutureWarning: The behavior of DataFrame concatenation with empty or all-NA entries is deprecated. In a future version, this will no longer exclude empty or all-NA columns when determining the result dtypes. To retain the old behavior, exclude the relevant entries before the concat operation.\n",
      "  vert_df.loc[len(vert_df)] = e_dict\n",
      "/home/u2175049/anaconda3/lib/python3.11/site-packages/CellSeg/segmentation2D.py:133: FutureWarning: The behavior of DataFrame concatenation with empty or all-NA entries is deprecated. In a future version, this will no longer exclude empty or all-NA columns when determining the result dtypes. To retain the old behavior, exclude the relevant entries before the concat operation.\n",
      "  vert_df.loc[len(vert_df)] = e_dict\n",
      "/home/u2175049/anaconda3/lib/python3.11/site-packages/CellSeg/segmentation2D.py:133: FutureWarning: The behavior of DataFrame concatenation with empty or all-NA entries is deprecated. In a future version, this will no longer exclude empty or all-NA columns when determining the result dtypes. To retain the old behavior, exclude the relevant entries before the concat operation.\n",
      "  vert_df.loc[len(vert_df)] = e_dict\n",
      "/home/u2175049/anaconda3/lib/python3.11/site-packages/CellSeg/segmentation2D.py:133: FutureWarning: The behavior of DataFrame concatenation with empty or all-NA entries is deprecated. In a future version, this will no longer exclude empty or all-NA columns when determining the result dtypes. To retain the old behavior, exclude the relevant entries before the concat operation.\n",
      "  vert_df.loc[len(vert_df)] = e_dict\n"
     ]
    },
    {
     "data": {
      "application/vnd.jupyter.widget-view+json": {
       "model_id": "286a01744762415791618b7decd4e3d4",
       "version_major": 2,
       "version_minor": 0
      },
      "text/plain": [
       "Vert segmentation:   0%|          | 0/10 [00:00<?, ?it/s]"
      ]
     },
     "metadata": {},
     "output_type": "display_data"
    },
    {
     "name": "stderr",
     "output_type": "stream",
     "text": [
      "/home/u2175049/anaconda3/lib/python3.11/site-packages/CellSeg/segmentation2D.py:133: FutureWarning: The behavior of DataFrame concatenation with empty or all-NA entries is deprecated. In a future version, this will no longer exclude empty or all-NA columns when determining the result dtypes. To retain the old behavior, exclude the relevant entries before the concat operation.\n",
      "  vert_df.loc[len(vert_df)] = e_dict\n",
      "/home/u2175049/anaconda3/lib/python3.11/site-packages/CellSeg/segmentation2D.py:133: FutureWarning: The behavior of DataFrame concatenation with empty or all-NA entries is deprecated. In a future version, this will no longer exclude empty or all-NA columns when determining the result dtypes. To retain the old behavior, exclude the relevant entries before the concat operation.\n",
      "  vert_df.loc[len(vert_df)] = e_dict\n",
      "/home/u2175049/anaconda3/lib/python3.11/site-packages/CellSeg/segmentation2D.py:133: FutureWarning: The behavior of DataFrame concatenation with empty or all-NA entries is deprecated. In a future version, this will no longer exclude empty or all-NA columns when determining the result dtypes. To retain the old behavior, exclude the relevant entries before the concat operation.\n",
      "  vert_df.loc[len(vert_df)] = e_dict\n",
      "/home/u2175049/anaconda3/lib/python3.11/site-packages/CellSeg/segmentation2D.py:133: FutureWarning: The behavior of DataFrame concatenation with empty or all-NA entries is deprecated. In a future version, this will no longer exclude empty or all-NA columns when determining the result dtypes. To retain the old behavior, exclude the relevant entries before the concat operation.\n",
      "  vert_df.loc[len(vert_df)] = e_dict\n",
      "/home/u2175049/anaconda3/lib/python3.11/site-packages/CellSeg/segmentation2D.py:133: FutureWarning: The behavior of DataFrame concatenation with empty or all-NA entries is deprecated. In a future version, this will no longer exclude empty or all-NA columns when determining the result dtypes. To retain the old behavior, exclude the relevant entries before the concat operation.\n",
      "  vert_df.loc[len(vert_df)] = e_dict\n",
      "/home/u2175049/anaconda3/lib/python3.11/site-packages/CellSeg/segmentation2D.py:133: FutureWarning: The behavior of DataFrame concatenation with empty or all-NA entries is deprecated. In a future version, this will no longer exclude empty or all-NA columns when determining the result dtypes. To retain the old behavior, exclude the relevant entries before the concat operation.\n",
      "  vert_df.loc[len(vert_df)] = e_dict\n"
     ]
    },
    {
     "data": {
      "application/vnd.jupyter.widget-view+json": {
       "model_id": "a459f3b3a64343298aeff1edf242db34",
       "version_major": 2,
       "version_minor": 0
      },
      "text/plain": [
       "Vert segmentation:   0%|          | 0/10 [00:00<?, ?it/s]"
      ]
     },
     "metadata": {},
     "output_type": "display_data"
    },
    {
     "name": "stderr",
     "output_type": "stream",
     "text": [
      "/home/u2175049/anaconda3/lib/python3.11/site-packages/CellSeg/segmentation2D.py:133: FutureWarning: The behavior of DataFrame concatenation with empty or all-NA entries is deprecated. In a future version, this will no longer exclude empty or all-NA columns when determining the result dtypes. To retain the old behavior, exclude the relevant entries before the concat operation.\n",
      "  vert_df.loc[len(vert_df)] = e_dict\n",
      "/home/u2175049/anaconda3/lib/python3.11/site-packages/CellSeg/segmentation2D.py:133: FutureWarning: The behavior of DataFrame concatenation with empty or all-NA entries is deprecated. In a future version, this will no longer exclude empty or all-NA columns when determining the result dtypes. To retain the old behavior, exclude the relevant entries before the concat operation.\n",
      "  vert_df.loc[len(vert_df)] = e_dict\n",
      "/home/u2175049/anaconda3/lib/python3.11/site-packages/CellSeg/segmentation2D.py:133: FutureWarning: The behavior of DataFrame concatenation with empty or all-NA entries is deprecated. In a future version, this will no longer exclude empty or all-NA columns when determining the result dtypes. To retain the old behavior, exclude the relevant entries before the concat operation.\n",
      "  vert_df.loc[len(vert_df)] = e_dict\n",
      "/home/u2175049/anaconda3/lib/python3.11/site-packages/CellSeg/segmentation2D.py:133: FutureWarning: The behavior of DataFrame concatenation with empty or all-NA entries is deprecated. In a future version, this will no longer exclude empty or all-NA columns when determining the result dtypes. To retain the old behavior, exclude the relevant entries before the concat operation.\n",
      "  vert_df.loc[len(vert_df)] = e_dict\n",
      "/home/u2175049/anaconda3/lib/python3.11/site-packages/CellSeg/segmentation2D.py:133: FutureWarning: The behavior of DataFrame concatenation with empty or all-NA entries is deprecated. In a future version, this will no longer exclude empty or all-NA columns when determining the result dtypes. To retain the old behavior, exclude the relevant entries before the concat operation.\n",
      "  vert_df.loc[len(vert_df)] = e_dict\n",
      "/home/u2175049/anaconda3/lib/python3.11/site-packages/CellSeg/segmentation2D.py:133: FutureWarning: The behavior of DataFrame concatenation with empty or all-NA entries is deprecated. In a future version, this will no longer exclude empty or all-NA columns when determining the result dtypes. To retain the old behavior, exclude the relevant entries before the concat operation.\n",
      "  vert_df.loc[len(vert_df)] = e_dict\n"
     ]
    },
    {
     "data": {
      "application/vnd.jupyter.widget-view+json": {
       "model_id": "537fc8fdc34f43a6b2a2b17679da9448",
       "version_major": 2,
       "version_minor": 0
      },
      "text/plain": [
       "Vert segmentation:   0%|          | 0/15 [00:00<?, ?it/s]"
      ]
     },
     "metadata": {},
     "output_type": "display_data"
    },
    {
     "name": "stderr",
     "output_type": "stream",
     "text": [
      "/home/u2175049/anaconda3/lib/python3.11/site-packages/CellSeg/segmentation2D.py:133: FutureWarning: The behavior of DataFrame concatenation with empty or all-NA entries is deprecated. In a future version, this will no longer exclude empty or all-NA columns when determining the result dtypes. To retain the old behavior, exclude the relevant entries before the concat operation.\n",
      "  vert_df.loc[len(vert_df)] = e_dict\n",
      "/home/u2175049/anaconda3/lib/python3.11/site-packages/CellSeg/segmentation2D.py:133: FutureWarning: The behavior of DataFrame concatenation with empty or all-NA entries is deprecated. In a future version, this will no longer exclude empty or all-NA columns when determining the result dtypes. To retain the old behavior, exclude the relevant entries before the concat operation.\n",
      "  vert_df.loc[len(vert_df)] = e_dict\n",
      "/home/u2175049/anaconda3/lib/python3.11/site-packages/CellSeg/segmentation2D.py:133: FutureWarning: The behavior of DataFrame concatenation with empty or all-NA entries is deprecated. In a future version, this will no longer exclude empty or all-NA columns when determining the result dtypes. To retain the old behavior, exclude the relevant entries before the concat operation.\n",
      "  vert_df.loc[len(vert_df)] = e_dict\n",
      "/home/u2175049/anaconda3/lib/python3.11/site-packages/CellSeg/segmentation2D.py:133: FutureWarning: The behavior of DataFrame concatenation with empty or all-NA entries is deprecated. In a future version, this will no longer exclude empty or all-NA columns when determining the result dtypes. To retain the old behavior, exclude the relevant entries before the concat operation.\n",
      "  vert_df.loc[len(vert_df)] = e_dict\n",
      "/home/u2175049/anaconda3/lib/python3.11/site-packages/CellSeg/segmentation2D.py:133: FutureWarning: The behavior of DataFrame concatenation with empty or all-NA entries is deprecated. In a future version, this will no longer exclude empty or all-NA columns when determining the result dtypes. To retain the old behavior, exclude the relevant entries before the concat operation.\n",
      "  vert_df.loc[len(vert_df)] = e_dict\n",
      "/home/u2175049/anaconda3/lib/python3.11/site-packages/CellSeg/segmentation2D.py:133: FutureWarning: The behavior of DataFrame concatenation with empty or all-NA entries is deprecated. In a future version, this will no longer exclude empty or all-NA columns when determining the result dtypes. To retain the old behavior, exclude the relevant entries before the concat operation.\n",
      "  vert_df.loc[len(vert_df)] = e_dict\n",
      "/home/u2175049/anaconda3/lib/python3.11/site-packages/CellSeg/segmentation2D.py:133: FutureWarning: The behavior of DataFrame concatenation with empty or all-NA entries is deprecated. In a future version, this will no longer exclude empty or all-NA columns when determining the result dtypes. To retain the old behavior, exclude the relevant entries before the concat operation.\n",
      "  vert_df.loc[len(vert_df)] = e_dict\n",
      "/home/u2175049/anaconda3/lib/python3.11/site-packages/CellSeg/segmentation2D.py:133: FutureWarning: The behavior of DataFrame concatenation with empty or all-NA entries is deprecated. In a future version, this will no longer exclude empty or all-NA columns when determining the result dtypes. To retain the old behavior, exclude the relevant entries before the concat operation.\n",
      "  vert_df.loc[len(vert_df)] = e_dict\n",
      "/home/u2175049/anaconda3/lib/python3.11/site-packages/CellSeg/segmentation2D.py:133: FutureWarning: The behavior of DataFrame concatenation with empty or all-NA entries is deprecated. In a future version, this will no longer exclude empty or all-NA columns when determining the result dtypes. To retain the old behavior, exclude the relevant entries before the concat operation.\n",
      "  vert_df.loc[len(vert_df)] = e_dict\n",
      "/home/u2175049/anaconda3/lib/python3.11/site-packages/CellSeg/segmentation2D.py:133: FutureWarning: The behavior of DataFrame concatenation with empty or all-NA entries is deprecated. In a future version, this will no longer exclude empty or all-NA columns when determining the result dtypes. To retain the old behavior, exclude the relevant entries before the concat operation.\n",
      "  vert_df.loc[len(vert_df)] = e_dict\n"
     ]
    },
    {
     "data": {
      "application/vnd.jupyter.widget-view+json": {
       "model_id": "f96cefbb80a34026b08c8ca6b682c61e",
       "version_major": 2,
       "version_minor": 0
      },
      "text/plain": [
       "Vert segmentation:   0%|          | 0/6 [00:00<?, ?it/s]"
      ]
     },
     "metadata": {},
     "output_type": "display_data"
    },
    {
     "name": "stderr",
     "output_type": "stream",
     "text": [
      "/home/u2175049/anaconda3/lib/python3.11/site-packages/CellSeg/segmentation2D.py:133: FutureWarning: The behavior of DataFrame concatenation with empty or all-NA entries is deprecated. In a future version, this will no longer exclude empty or all-NA columns when determining the result dtypes. To retain the old behavior, exclude the relevant entries before the concat operation.\n",
      "  vert_df.loc[len(vert_df)] = e_dict\n",
      "/home/u2175049/anaconda3/lib/python3.11/site-packages/CellSeg/segmentation2D.py:133: FutureWarning: The behavior of DataFrame concatenation with empty or all-NA entries is deprecated. In a future version, this will no longer exclude empty or all-NA columns when determining the result dtypes. To retain the old behavior, exclude the relevant entries before the concat operation.\n",
      "  vert_df.loc[len(vert_df)] = e_dict\n"
     ]
    },
    {
     "data": {
      "application/vnd.jupyter.widget-view+json": {
       "model_id": "6eb4ab7923bc4db0aeb3c14bba07e8a5",
       "version_major": 2,
       "version_minor": 0
      },
      "text/plain": [
       "Vert segmentation:   0%|          | 0/15 [00:00<?, ?it/s]"
      ]
     },
     "metadata": {},
     "output_type": "display_data"
    },
    {
     "name": "stderr",
     "output_type": "stream",
     "text": [
      "/home/u2175049/anaconda3/lib/python3.11/site-packages/CellSeg/segmentation2D.py:133: FutureWarning: The behavior of DataFrame concatenation with empty or all-NA entries is deprecated. In a future version, this will no longer exclude empty or all-NA columns when determining the result dtypes. To retain the old behavior, exclude the relevant entries before the concat operation.\n",
      "  vert_df.loc[len(vert_df)] = e_dict\n",
      "/home/u2175049/anaconda3/lib/python3.11/site-packages/CellSeg/segmentation2D.py:133: FutureWarning: The behavior of DataFrame concatenation with empty or all-NA entries is deprecated. In a future version, this will no longer exclude empty or all-NA columns when determining the result dtypes. To retain the old behavior, exclude the relevant entries before the concat operation.\n",
      "  vert_df.loc[len(vert_df)] = e_dict\n",
      "/home/u2175049/anaconda3/lib/python3.11/site-packages/CellSeg/segmentation2D.py:133: FutureWarning: The behavior of DataFrame concatenation with empty or all-NA entries is deprecated. In a future version, this will no longer exclude empty or all-NA columns when determining the result dtypes. To retain the old behavior, exclude the relevant entries before the concat operation.\n",
      "  vert_df.loc[len(vert_df)] = e_dict\n",
      "/home/u2175049/anaconda3/lib/python3.11/site-packages/CellSeg/segmentation2D.py:133: FutureWarning: The behavior of DataFrame concatenation with empty or all-NA entries is deprecated. In a future version, this will no longer exclude empty or all-NA columns when determining the result dtypes. To retain the old behavior, exclude the relevant entries before the concat operation.\n",
      "  vert_df.loc[len(vert_df)] = e_dict\n",
      "/home/u2175049/anaconda3/lib/python3.11/site-packages/CellSeg/segmentation2D.py:133: FutureWarning: The behavior of DataFrame concatenation with empty or all-NA entries is deprecated. In a future version, this will no longer exclude empty or all-NA columns when determining the result dtypes. To retain the old behavior, exclude the relevant entries before the concat operation.\n",
      "  vert_df.loc[len(vert_df)] = e_dict\n",
      "/home/u2175049/anaconda3/lib/python3.11/site-packages/CellSeg/segmentation2D.py:133: FutureWarning: The behavior of DataFrame concatenation with empty or all-NA entries is deprecated. In a future version, this will no longer exclude empty or all-NA columns when determining the result dtypes. To retain the old behavior, exclude the relevant entries before the concat operation.\n",
      "  vert_df.loc[len(vert_df)] = e_dict\n",
      "/home/u2175049/anaconda3/lib/python3.11/site-packages/CellSeg/segmentation2D.py:133: FutureWarning: The behavior of DataFrame concatenation with empty or all-NA entries is deprecated. In a future version, this will no longer exclude empty or all-NA columns when determining the result dtypes. To retain the old behavior, exclude the relevant entries before the concat operation.\n",
      "  vert_df.loc[len(vert_df)] = e_dict\n",
      "/home/u2175049/anaconda3/lib/python3.11/site-packages/CellSeg/segmentation2D.py:133: FutureWarning: The behavior of DataFrame concatenation with empty or all-NA entries is deprecated. In a future version, this will no longer exclude empty or all-NA columns when determining the result dtypes. To retain the old behavior, exclude the relevant entries before the concat operation.\n",
      "  vert_df.loc[len(vert_df)] = e_dict\n",
      "/home/u2175049/anaconda3/lib/python3.11/site-packages/CellSeg/segmentation2D.py:133: FutureWarning: The behavior of DataFrame concatenation with empty or all-NA entries is deprecated. In a future version, this will no longer exclude empty or all-NA columns when determining the result dtypes. To retain the old behavior, exclude the relevant entries before the concat operation.\n",
      "  vert_df.loc[len(vert_df)] = e_dict\n"
     ]
    },
    {
     "data": {
      "application/vnd.jupyter.widget-view+json": {
       "model_id": "9f11e6140aa54b828a58906e4beaee3a",
       "version_major": 2,
       "version_minor": 0
      },
      "text/plain": [
       "Vert segmentation:   0%|          | 0/6 [00:00<?, ?it/s]"
      ]
     },
     "metadata": {},
     "output_type": "display_data"
    },
    {
     "name": "stderr",
     "output_type": "stream",
     "text": [
      "/home/u2175049/anaconda3/lib/python3.11/site-packages/CellSeg/segmentation2D.py:133: FutureWarning: The behavior of DataFrame concatenation with empty or all-NA entries is deprecated. In a future version, this will no longer exclude empty or all-NA columns when determining the result dtypes. To retain the old behavior, exclude the relevant entries before the concat operation.\n",
      "  vert_df.loc[len(vert_df)] = e_dict\n",
      "/home/u2175049/anaconda3/lib/python3.11/site-packages/CellSeg/segmentation2D.py:133: FutureWarning: The behavior of DataFrame concatenation with empty or all-NA entries is deprecated. In a future version, this will no longer exclude empty or all-NA columns when determining the result dtypes. To retain the old behavior, exclude the relevant entries before the concat operation.\n",
      "  vert_df.loc[len(vert_df)] = e_dict\n",
      "/home/u2175049/anaconda3/lib/python3.11/site-packages/CellSeg/segmentation2D.py:133: FutureWarning: The behavior of DataFrame concatenation with empty or all-NA entries is deprecated. In a future version, this will no longer exclude empty or all-NA columns when determining the result dtypes. To retain the old behavior, exclude the relevant entries before the concat operation.\n",
      "  vert_df.loc[len(vert_df)] = e_dict\n"
     ]
    },
    {
     "data": {
      "application/vnd.jupyter.widget-view+json": {
       "model_id": "cb04a4acc30844b58a623702536bbc8e",
       "version_major": 2,
       "version_minor": 0
      },
      "text/plain": [
       "Vert segmentation:   0%|          | 0/6 [00:00<?, ?it/s]"
      ]
     },
     "metadata": {},
     "output_type": "display_data"
    },
    {
     "name": "stderr",
     "output_type": "stream",
     "text": [
      "/home/u2175049/anaconda3/lib/python3.11/site-packages/CellSeg/segmentation2D.py:133: FutureWarning: The behavior of DataFrame concatenation with empty or all-NA entries is deprecated. In a future version, this will no longer exclude empty or all-NA columns when determining the result dtypes. To retain the old behavior, exclude the relevant entries before the concat operation.\n",
      "  vert_df.loc[len(vert_df)] = e_dict\n",
      "/home/u2175049/anaconda3/lib/python3.11/site-packages/CellSeg/segmentation2D.py:133: FutureWarning: The behavior of DataFrame concatenation with empty or all-NA entries is deprecated. In a future version, this will no longer exclude empty or all-NA columns when determining the result dtypes. To retain the old behavior, exclude the relevant entries before the concat operation.\n",
      "  vert_df.loc[len(vert_df)] = e_dict\n",
      "/home/u2175049/anaconda3/lib/python3.11/site-packages/CellSeg/segmentation2D.py:133: FutureWarning: The behavior of DataFrame concatenation with empty or all-NA entries is deprecated. In a future version, this will no longer exclude empty or all-NA columns when determining the result dtypes. To retain the old behavior, exclude the relevant entries before the concat operation.\n",
      "  vert_df.loc[len(vert_df)] = e_dict\n"
     ]
    },
    {
     "data": {
      "application/vnd.jupyter.widget-view+json": {
       "model_id": "fb827f799f2d429fbcd3356cf6830b1e",
       "version_major": 2,
       "version_minor": 0
      },
      "text/plain": [
       "Vert segmentation:   0%|          | 0/6 [00:00<?, ?it/s]"
      ]
     },
     "metadata": {},
     "output_type": "display_data"
    },
    {
     "name": "stderr",
     "output_type": "stream",
     "text": [
      "/home/u2175049/anaconda3/lib/python3.11/site-packages/CellSeg/segmentation2D.py:133: FutureWarning: The behavior of DataFrame concatenation with empty or all-NA entries is deprecated. In a future version, this will no longer exclude empty or all-NA columns when determining the result dtypes. To retain the old behavior, exclude the relevant entries before the concat operation.\n",
      "  vert_df.loc[len(vert_df)] = e_dict\n",
      "/home/u2175049/anaconda3/lib/python3.11/site-packages/CellSeg/segmentation2D.py:133: FutureWarning: The behavior of DataFrame concatenation with empty or all-NA entries is deprecated. In a future version, this will no longer exclude empty or all-NA columns when determining the result dtypes. To retain the old behavior, exclude the relevant entries before the concat operation.\n",
      "  vert_df.loc[len(vert_df)] = e_dict\n",
      "/home/u2175049/anaconda3/lib/python3.11/site-packages/CellSeg/segmentation2D.py:133: FutureWarning: The behavior of DataFrame concatenation with empty or all-NA entries is deprecated. In a future version, this will no longer exclude empty or all-NA columns when determining the result dtypes. To retain the old behavior, exclude the relevant entries before the concat operation.\n",
      "  vert_df.loc[len(vert_df)] = e_dict\n"
     ]
    },
    {
     "data": {
      "application/vnd.jupyter.widget-view+json": {
       "model_id": "33b008b9356248b998192ee9d2c9f6de",
       "version_major": 2,
       "version_minor": 0
      },
      "text/plain": [
       "Vert segmentation:   0%|          | 0/6 [00:00<?, ?it/s]"
      ]
     },
     "metadata": {},
     "output_type": "display_data"
    },
    {
     "name": "stderr",
     "output_type": "stream",
     "text": [
      "/home/u2175049/anaconda3/lib/python3.11/site-packages/CellSeg/segmentation2D.py:133: FutureWarning: The behavior of DataFrame concatenation with empty or all-NA entries is deprecated. In a future version, this will no longer exclude empty or all-NA columns when determining the result dtypes. To retain the old behavior, exclude the relevant entries before the concat operation.\n",
      "  vert_df.loc[len(vert_df)] = e_dict\n",
      "/home/u2175049/anaconda3/lib/python3.11/site-packages/CellSeg/segmentation2D.py:133: FutureWarning: The behavior of DataFrame concatenation with empty or all-NA entries is deprecated. In a future version, this will no longer exclude empty or all-NA columns when determining the result dtypes. To retain the old behavior, exclude the relevant entries before the concat operation.\n",
      "  vert_df.loc[len(vert_df)] = e_dict\n",
      "/home/u2175049/anaconda3/lib/python3.11/site-packages/CellSeg/segmentation2D.py:133: FutureWarning: The behavior of DataFrame concatenation with empty or all-NA entries is deprecated. In a future version, this will no longer exclude empty or all-NA columns when determining the result dtypes. To retain the old behavior, exclude the relevant entries before the concat operation.\n",
      "  vert_df.loc[len(vert_df)] = e_dict\n"
     ]
    },
    {
     "data": {
      "application/vnd.jupyter.widget-view+json": {
       "model_id": "7253d915d4b24828b546aba6370277b5",
       "version_major": 2,
       "version_minor": 0
      },
      "text/plain": [
       "Vert segmentation:   0%|          | 0/10 [00:00<?, ?it/s]"
      ]
     },
     "metadata": {},
     "output_type": "display_data"
    },
    {
     "name": "stderr",
     "output_type": "stream",
     "text": [
      "/home/u2175049/anaconda3/lib/python3.11/site-packages/CellSeg/segmentation2D.py:133: FutureWarning: The behavior of DataFrame concatenation with empty or all-NA entries is deprecated. In a future version, this will no longer exclude empty or all-NA columns when determining the result dtypes. To retain the old behavior, exclude the relevant entries before the concat operation.\n",
      "  vert_df.loc[len(vert_df)] = e_dict\n",
      "/home/u2175049/anaconda3/lib/python3.11/site-packages/CellSeg/segmentation2D.py:133: FutureWarning: The behavior of DataFrame concatenation with empty or all-NA entries is deprecated. In a future version, this will no longer exclude empty or all-NA columns when determining the result dtypes. To retain the old behavior, exclude the relevant entries before the concat operation.\n",
      "  vert_df.loc[len(vert_df)] = e_dict\n",
      "/home/u2175049/anaconda3/lib/python3.11/site-packages/CellSeg/segmentation2D.py:133: FutureWarning: The behavior of DataFrame concatenation with empty or all-NA entries is deprecated. In a future version, this will no longer exclude empty or all-NA columns when determining the result dtypes. To retain the old behavior, exclude the relevant entries before the concat operation.\n",
      "  vert_df.loc[len(vert_df)] = e_dict\n",
      "/home/u2175049/anaconda3/lib/python3.11/site-packages/CellSeg/segmentation2D.py:133: FutureWarning: The behavior of DataFrame concatenation with empty or all-NA entries is deprecated. In a future version, this will no longer exclude empty or all-NA columns when determining the result dtypes. To retain the old behavior, exclude the relevant entries before the concat operation.\n",
      "  vert_df.loc[len(vert_df)] = e_dict\n",
      "/home/u2175049/anaconda3/lib/python3.11/site-packages/CellSeg/segmentation2D.py:133: FutureWarning: The behavior of DataFrame concatenation with empty or all-NA entries is deprecated. In a future version, this will no longer exclude empty or all-NA columns when determining the result dtypes. To retain the old behavior, exclude the relevant entries before the concat operation.\n",
      "  vert_df.loc[len(vert_df)] = e_dict\n"
     ]
    },
    {
     "data": {
      "application/vnd.jupyter.widget-view+json": {
       "model_id": "a57a8ce7dc2c469f89b3c52512d01665",
       "version_major": 2,
       "version_minor": 0
      },
      "text/plain": [
       "Vert segmentation:   0%|          | 0/1 [00:00<?, ?it/s]"
      ]
     },
     "metadata": {},
     "output_type": "display_data"
    },
    {
     "data": {
      "application/vnd.jupyter.widget-view+json": {
       "model_id": "d73e293ae9704b5b88d4622cc02711b0",
       "version_major": 2,
       "version_minor": 0
      },
      "text/plain": [
       "Vert segmentation:   0%|          | 0/6 [00:00<?, ?it/s]"
      ]
     },
     "metadata": {},
     "output_type": "display_data"
    },
    {
     "name": "stderr",
     "output_type": "stream",
     "text": [
      "/home/u2175049/anaconda3/lib/python3.11/site-packages/CellSeg/segmentation2D.py:133: FutureWarning: The behavior of DataFrame concatenation with empty or all-NA entries is deprecated. In a future version, this will no longer exclude empty or all-NA columns when determining the result dtypes. To retain the old behavior, exclude the relevant entries before the concat operation.\n",
      "  vert_df.loc[len(vert_df)] = e_dict\n",
      "/home/u2175049/anaconda3/lib/python3.11/site-packages/CellSeg/segmentation2D.py:133: FutureWarning: The behavior of DataFrame concatenation with empty or all-NA entries is deprecated. In a future version, this will no longer exclude empty or all-NA columns when determining the result dtypes. To retain the old behavior, exclude the relevant entries before the concat operation.\n",
      "  vert_df.loc[len(vert_df)] = e_dict\n",
      "/home/u2175049/anaconda3/lib/python3.11/site-packages/CellSeg/segmentation2D.py:133: FutureWarning: The behavior of DataFrame concatenation with empty or all-NA entries is deprecated. In a future version, this will no longer exclude empty or all-NA columns when determining the result dtypes. To retain the old behavior, exclude the relevant entries before the concat operation.\n",
      "  vert_df.loc[len(vert_df)] = e_dict\n"
     ]
    },
    {
     "data": {
      "application/vnd.jupyter.widget-view+json": {
       "model_id": "cb90ba0a555046978f04b53f04992a46",
       "version_major": 2,
       "version_minor": 0
      },
      "text/plain": [
       "Vert segmentation:   0%|          | 0/3 [00:00<?, ?it/s]"
      ]
     },
     "metadata": {},
     "output_type": "display_data"
    },
    {
     "name": "stderr",
     "output_type": "stream",
     "text": [
      "/home/u2175049/anaconda3/lib/python3.11/site-packages/CellSeg/segmentation2D.py:133: FutureWarning: The behavior of DataFrame concatenation with empty or all-NA entries is deprecated. In a future version, this will no longer exclude empty or all-NA columns when determining the result dtypes. To retain the old behavior, exclude the relevant entries before the concat operation.\n",
      "  vert_df.loc[len(vert_df)] = e_dict\n"
     ]
    },
    {
     "data": {
      "application/vnd.jupyter.widget-view+json": {
       "model_id": "6440e17c403849cf85296ac2fce2d8e4",
       "version_major": 2,
       "version_minor": 0
      },
      "text/plain": [
       "Vert segmentation:   0%|          | 0/3 [00:00<?, ?it/s]"
      ]
     },
     "metadata": {},
     "output_type": "display_data"
    },
    {
     "name": "stderr",
     "output_type": "stream",
     "text": [
      "/home/u2175049/anaconda3/lib/python3.11/site-packages/CellSeg/segmentation2D.py:133: FutureWarning: The behavior of DataFrame concatenation with empty or all-NA entries is deprecated. In a future version, this will no longer exclude empty or all-NA columns when determining the result dtypes. To retain the old behavior, exclude the relevant entries before the concat operation.\n",
      "  vert_df.loc[len(vert_df)] = e_dict\n"
     ]
    },
    {
     "data": {
      "application/vnd.jupyter.widget-view+json": {
       "model_id": "ee9a893bfbe94d5d8269bd6cd97adcc3",
       "version_major": 2,
       "version_minor": 0
      },
      "text/plain": [
       "Vert segmentation:   0%|          | 0/1 [00:00<?, ?it/s]"
      ]
     },
     "metadata": {},
     "output_type": "display_data"
    },
    {
     "data": {
      "application/vnd.jupyter.widget-view+json": {
       "model_id": "a29157091d904b08bf32c094da83c11c",
       "version_major": 2,
       "version_minor": 0
      },
      "text/plain": [
       "Vert segmentation:   0%|          | 0/3 [00:00<?, ?it/s]"
      ]
     },
     "metadata": {},
     "output_type": "display_data"
    },
    {
     "name": "stderr",
     "output_type": "stream",
     "text": [
      "/home/u2175049/anaconda3/lib/python3.11/site-packages/CellSeg/segmentation2D.py:133: FutureWarning: The behavior of DataFrame concatenation with empty or all-NA entries is deprecated. In a future version, this will no longer exclude empty or all-NA columns when determining the result dtypes. To retain the old behavior, exclude the relevant entries before the concat operation.\n",
      "  vert_df.loc[len(vert_df)] = e_dict\n"
     ]
    },
    {
     "data": {
      "application/vnd.jupyter.widget-view+json": {
       "model_id": "5d0ef7d836ce4a68872bb2d805255a64",
       "version_major": 2,
       "version_minor": 0
      },
      "text/plain": [
       "Vert segmentation:   0%|          | 0/3 [00:00<?, ?it/s]"
      ]
     },
     "metadata": {},
     "output_type": "display_data"
    },
    {
     "name": "stderr",
     "output_type": "stream",
     "text": [
      "/home/u2175049/anaconda3/lib/python3.11/site-packages/CellSeg/segmentation2D.py:133: FutureWarning: The behavior of DataFrame concatenation with empty or all-NA entries is deprecated. In a future version, this will no longer exclude empty or all-NA columns when determining the result dtypes. To retain the old behavior, exclude the relevant entries before the concat operation.\n",
      "  vert_df.loc[len(vert_df)] = e_dict\n"
     ]
    },
    {
     "data": {
      "application/vnd.jupyter.widget-view+json": {
       "model_id": "f3a87035730f43d4835d973dfd153bfd",
       "version_major": 2,
       "version_minor": 0
      },
      "text/plain": [
       "Vert segmentation:   0%|          | 0/3 [00:00<?, ?it/s]"
      ]
     },
     "metadata": {},
     "output_type": "display_data"
    },
    {
     "name": "stderr",
     "output_type": "stream",
     "text": [
      "/home/u2175049/anaconda3/lib/python3.11/site-packages/CellSeg/segmentation2D.py:133: FutureWarning: The behavior of DataFrame concatenation with empty or all-NA entries is deprecated. In a future version, this will no longer exclude empty or all-NA columns when determining the result dtypes. To retain the old behavior, exclude the relevant entries before the concat operation.\n",
      "  vert_df.loc[len(vert_df)] = e_dict\n"
     ]
    },
    {
     "data": {
      "application/vnd.jupyter.widget-view+json": {
       "model_id": "cf22c5a3ab8f4da68e0213664737e37e",
       "version_major": 2,
       "version_minor": 0
      },
      "text/plain": [
       "Vert segmentation:   0%|          | 0/6 [00:00<?, ?it/s]"
      ]
     },
     "metadata": {},
     "output_type": "display_data"
    },
    {
     "name": "stderr",
     "output_type": "stream",
     "text": [
      "/home/u2175049/anaconda3/lib/python3.11/site-packages/CellSeg/segmentation2D.py:133: FutureWarning: The behavior of DataFrame concatenation with empty or all-NA entries is deprecated. In a future version, this will no longer exclude empty or all-NA columns when determining the result dtypes. To retain the old behavior, exclude the relevant entries before the concat operation.\n",
      "  vert_df.loc[len(vert_df)] = e_dict\n",
      "/home/u2175049/anaconda3/lib/python3.11/site-packages/CellSeg/segmentation2D.py:133: FutureWarning: The behavior of DataFrame concatenation with empty or all-NA entries is deprecated. In a future version, this will no longer exclude empty or all-NA columns when determining the result dtypes. To retain the old behavior, exclude the relevant entries before the concat operation.\n",
      "  vert_df.loc[len(vert_df)] = e_dict\n",
      "/home/u2175049/anaconda3/lib/python3.11/site-packages/CellSeg/segmentation2D.py:133: FutureWarning: The behavior of DataFrame concatenation with empty or all-NA entries is deprecated. In a future version, this will no longer exclude empty or all-NA columns when determining the result dtypes. To retain the old behavior, exclude the relevant entries before the concat operation.\n",
      "  vert_df.loc[len(vert_df)] = e_dict\n"
     ]
    },
    {
     "data": {
      "application/vnd.jupyter.widget-view+json": {
       "model_id": "0f8ab3b756f44404bb7eaea2a98772b6",
       "version_major": 2,
       "version_minor": 0
      },
      "text/plain": [
       "Vert segmentation:   0%|          | 0/1 [00:00<?, ?it/s]"
      ]
     },
     "metadata": {},
     "output_type": "display_data"
    },
    {
     "data": {
      "application/vnd.jupyter.widget-view+json": {
       "model_id": "6051dcfa63b946d0b6e693d17a647c16",
       "version_major": 2,
       "version_minor": 0
      },
      "text/plain": [
       "Vert segmentation:   0%|          | 0/10 [00:00<?, ?it/s]"
      ]
     },
     "metadata": {},
     "output_type": "display_data"
    },
    {
     "name": "stderr",
     "output_type": "stream",
     "text": [
      "/home/u2175049/anaconda3/lib/python3.11/site-packages/CellSeg/segmentation2D.py:133: FutureWarning: The behavior of DataFrame concatenation with empty or all-NA entries is deprecated. In a future version, this will no longer exclude empty or all-NA columns when determining the result dtypes. To retain the old behavior, exclude the relevant entries before the concat operation.\n",
      "  vert_df.loc[len(vert_df)] = e_dict\n",
      "/home/u2175049/anaconda3/lib/python3.11/site-packages/CellSeg/segmentation2D.py:133: FutureWarning: The behavior of DataFrame concatenation with empty or all-NA entries is deprecated. In a future version, this will no longer exclude empty or all-NA columns when determining the result dtypes. To retain the old behavior, exclude the relevant entries before the concat operation.\n",
      "  vert_df.loc[len(vert_df)] = e_dict\n",
      "/home/u2175049/anaconda3/lib/python3.11/site-packages/CellSeg/segmentation2D.py:133: FutureWarning: The behavior of DataFrame concatenation with empty or all-NA entries is deprecated. In a future version, this will no longer exclude empty or all-NA columns when determining the result dtypes. To retain the old behavior, exclude the relevant entries before the concat operation.\n",
      "  vert_df.loc[len(vert_df)] = e_dict\n",
      "/home/u2175049/anaconda3/lib/python3.11/site-packages/CellSeg/segmentation2D.py:133: FutureWarning: The behavior of DataFrame concatenation with empty or all-NA entries is deprecated. In a future version, this will no longer exclude empty or all-NA columns when determining the result dtypes. To retain the old behavior, exclude the relevant entries before the concat operation.\n",
      "  vert_df.loc[len(vert_df)] = e_dict\n"
     ]
    },
    {
     "data": {
      "application/vnd.jupyter.widget-view+json": {
       "model_id": "542ab8f0caef4ce1965dad633127cd42",
       "version_major": 2,
       "version_minor": 0
      },
      "text/plain": [
       "Vert segmentation:   0%|          | 0/15 [00:00<?, ?it/s]"
      ]
     },
     "metadata": {},
     "output_type": "display_data"
    },
    {
     "name": "stderr",
     "output_type": "stream",
     "text": [
      "/home/u2175049/anaconda3/lib/python3.11/site-packages/CellSeg/segmentation2D.py:133: FutureWarning: The behavior of DataFrame concatenation with empty or all-NA entries is deprecated. In a future version, this will no longer exclude empty or all-NA columns when determining the result dtypes. To retain the old behavior, exclude the relevant entries before the concat operation.\n",
      "  vert_df.loc[len(vert_df)] = e_dict\n",
      "/home/u2175049/anaconda3/lib/python3.11/site-packages/CellSeg/segmentation2D.py:133: FutureWarning: The behavior of DataFrame concatenation with empty or all-NA entries is deprecated. In a future version, this will no longer exclude empty or all-NA columns when determining the result dtypes. To retain the old behavior, exclude the relevant entries before the concat operation.\n",
      "  vert_df.loc[len(vert_df)] = e_dict\n",
      "/home/u2175049/anaconda3/lib/python3.11/site-packages/CellSeg/segmentation2D.py:133: FutureWarning: The behavior of DataFrame concatenation with empty or all-NA entries is deprecated. In a future version, this will no longer exclude empty or all-NA columns when determining the result dtypes. To retain the old behavior, exclude the relevant entries before the concat operation.\n",
      "  vert_df.loc[len(vert_df)] = e_dict\n",
      "/home/u2175049/anaconda3/lib/python3.11/site-packages/CellSeg/segmentation2D.py:133: FutureWarning: The behavior of DataFrame concatenation with empty or all-NA entries is deprecated. In a future version, this will no longer exclude empty or all-NA columns when determining the result dtypes. To retain the old behavior, exclude the relevant entries before the concat operation.\n",
      "  vert_df.loc[len(vert_df)] = e_dict\n",
      "/home/u2175049/anaconda3/lib/python3.11/site-packages/CellSeg/segmentation2D.py:133: FutureWarning: The behavior of DataFrame concatenation with empty or all-NA entries is deprecated. In a future version, this will no longer exclude empty or all-NA columns when determining the result dtypes. To retain the old behavior, exclude the relevant entries before the concat operation.\n",
      "  vert_df.loc[len(vert_df)] = e_dict\n",
      "/home/u2175049/anaconda3/lib/python3.11/site-packages/CellSeg/segmentation2D.py:133: FutureWarning: The behavior of DataFrame concatenation with empty or all-NA entries is deprecated. In a future version, this will no longer exclude empty or all-NA columns when determining the result dtypes. To retain the old behavior, exclude the relevant entries before the concat operation.\n",
      "  vert_df.loc[len(vert_df)] = e_dict\n",
      "/home/u2175049/anaconda3/lib/python3.11/site-packages/CellSeg/segmentation2D.py:133: FutureWarning: The behavior of DataFrame concatenation with empty or all-NA entries is deprecated. In a future version, this will no longer exclude empty or all-NA columns when determining the result dtypes. To retain the old behavior, exclude the relevant entries before the concat operation.\n",
      "  vert_df.loc[len(vert_df)] = e_dict\n",
      "/home/u2175049/anaconda3/lib/python3.11/site-packages/CellSeg/segmentation2D.py:133: FutureWarning: The behavior of DataFrame concatenation with empty or all-NA entries is deprecated. In a future version, this will no longer exclude empty or all-NA columns when determining the result dtypes. To retain the old behavior, exclude the relevant entries before the concat operation.\n",
      "  vert_df.loc[len(vert_df)] = e_dict\n",
      "/home/u2175049/anaconda3/lib/python3.11/site-packages/CellSeg/segmentation2D.py:133: FutureWarning: The behavior of DataFrame concatenation with empty or all-NA entries is deprecated. In a future version, this will no longer exclude empty or all-NA columns when determining the result dtypes. To retain the old behavior, exclude the relevant entries before the concat operation.\n",
      "  vert_df.loc[len(vert_df)] = e_dict\n"
     ]
    },
    {
     "data": {
      "application/vnd.jupyter.widget-view+json": {
       "model_id": "91a2c975cbf34581bdabccb2775af33f",
       "version_major": 2,
       "version_minor": 0
      },
      "text/plain": [
       "Vert segmentation:   0%|          | 0/10 [00:00<?, ?it/s]"
      ]
     },
     "metadata": {},
     "output_type": "display_data"
    },
    {
     "name": "stderr",
     "output_type": "stream",
     "text": [
      "/home/u2175049/anaconda3/lib/python3.11/site-packages/CellSeg/segmentation2D.py:133: FutureWarning: The behavior of DataFrame concatenation with empty or all-NA entries is deprecated. In a future version, this will no longer exclude empty or all-NA columns when determining the result dtypes. To retain the old behavior, exclude the relevant entries before the concat operation.\n",
      "  vert_df.loc[len(vert_df)] = e_dict\n",
      "/home/u2175049/anaconda3/lib/python3.11/site-packages/CellSeg/segmentation2D.py:133: FutureWarning: The behavior of DataFrame concatenation with empty or all-NA entries is deprecated. In a future version, this will no longer exclude empty or all-NA columns when determining the result dtypes. To retain the old behavior, exclude the relevant entries before the concat operation.\n",
      "  vert_df.loc[len(vert_df)] = e_dict\n",
      "/home/u2175049/anaconda3/lib/python3.11/site-packages/CellSeg/segmentation2D.py:133: FutureWarning: The behavior of DataFrame concatenation with empty or all-NA entries is deprecated. In a future version, this will no longer exclude empty or all-NA columns when determining the result dtypes. To retain the old behavior, exclude the relevant entries before the concat operation.\n",
      "  vert_df.loc[len(vert_df)] = e_dict\n",
      "/home/u2175049/anaconda3/lib/python3.11/site-packages/CellSeg/segmentation2D.py:133: FutureWarning: The behavior of DataFrame concatenation with empty or all-NA entries is deprecated. In a future version, this will no longer exclude empty or all-NA columns when determining the result dtypes. To retain the old behavior, exclude the relevant entries before the concat operation.\n",
      "  vert_df.loc[len(vert_df)] = e_dict\n",
      "/home/u2175049/anaconda3/lib/python3.11/site-packages/CellSeg/segmentation2D.py:133: FutureWarning: The behavior of DataFrame concatenation with empty or all-NA entries is deprecated. In a future version, this will no longer exclude empty or all-NA columns when determining the result dtypes. To retain the old behavior, exclude the relevant entries before the concat operation.\n",
      "  vert_df.loc[len(vert_df)] = e_dict\n"
     ]
    },
    {
     "data": {
      "application/vnd.jupyter.widget-view+json": {
       "model_id": "1ed5ec93df0b468aba03f78064ac37e2",
       "version_major": 2,
       "version_minor": 0
      },
      "text/plain": [
       "Vert segmentation:   0%|          | 0/15 [00:00<?, ?it/s]"
      ]
     },
     "metadata": {},
     "output_type": "display_data"
    },
    {
     "name": "stderr",
     "output_type": "stream",
     "text": [
      "/home/u2175049/anaconda3/lib/python3.11/site-packages/CellSeg/segmentation2D.py:133: FutureWarning: The behavior of DataFrame concatenation with empty or all-NA entries is deprecated. In a future version, this will no longer exclude empty or all-NA columns when determining the result dtypes. To retain the old behavior, exclude the relevant entries before the concat operation.\n",
      "  vert_df.loc[len(vert_df)] = e_dict\n",
      "/home/u2175049/anaconda3/lib/python3.11/site-packages/CellSeg/segmentation2D.py:133: FutureWarning: The behavior of DataFrame concatenation with empty or all-NA entries is deprecated. In a future version, this will no longer exclude empty or all-NA columns when determining the result dtypes. To retain the old behavior, exclude the relevant entries before the concat operation.\n",
      "  vert_df.loc[len(vert_df)] = e_dict\n",
      "/home/u2175049/anaconda3/lib/python3.11/site-packages/CellSeg/segmentation2D.py:133: FutureWarning: The behavior of DataFrame concatenation with empty or all-NA entries is deprecated. In a future version, this will no longer exclude empty or all-NA columns when determining the result dtypes. To retain the old behavior, exclude the relevant entries before the concat operation.\n",
      "  vert_df.loc[len(vert_df)] = e_dict\n",
      "/home/u2175049/anaconda3/lib/python3.11/site-packages/CellSeg/segmentation2D.py:133: FutureWarning: The behavior of DataFrame concatenation with empty or all-NA entries is deprecated. In a future version, this will no longer exclude empty or all-NA columns when determining the result dtypes. To retain the old behavior, exclude the relevant entries before the concat operation.\n",
      "  vert_df.loc[len(vert_df)] = e_dict\n",
      "/home/u2175049/anaconda3/lib/python3.11/site-packages/CellSeg/segmentation2D.py:133: FutureWarning: The behavior of DataFrame concatenation with empty or all-NA entries is deprecated. In a future version, this will no longer exclude empty or all-NA columns when determining the result dtypes. To retain the old behavior, exclude the relevant entries before the concat operation.\n",
      "  vert_df.loc[len(vert_df)] = e_dict\n",
      "/home/u2175049/anaconda3/lib/python3.11/site-packages/CellSeg/segmentation2D.py:133: FutureWarning: The behavior of DataFrame concatenation with empty or all-NA entries is deprecated. In a future version, this will no longer exclude empty or all-NA columns when determining the result dtypes. To retain the old behavior, exclude the relevant entries before the concat operation.\n",
      "  vert_df.loc[len(vert_df)] = e_dict\n",
      "/home/u2175049/anaconda3/lib/python3.11/site-packages/CellSeg/segmentation2D.py:133: FutureWarning: The behavior of DataFrame concatenation with empty or all-NA entries is deprecated. In a future version, this will no longer exclude empty or all-NA columns when determining the result dtypes. To retain the old behavior, exclude the relevant entries before the concat operation.\n",
      "  vert_df.loc[len(vert_df)] = e_dict\n",
      "/home/u2175049/anaconda3/lib/python3.11/site-packages/CellSeg/segmentation2D.py:133: FutureWarning: The behavior of DataFrame concatenation with empty or all-NA entries is deprecated. In a future version, this will no longer exclude empty or all-NA columns when determining the result dtypes. To retain the old behavior, exclude the relevant entries before the concat operation.\n",
      "  vert_df.loc[len(vert_df)] = e_dict\n"
     ]
    },
    {
     "data": {
      "application/vnd.jupyter.widget-view+json": {
       "model_id": "58668d654c1248cdb6531204b9923724",
       "version_major": 2,
       "version_minor": 0
      },
      "text/plain": [
       "Vert segmentation:   0%|          | 0/28 [00:00<?, ?it/s]"
      ]
     },
     "metadata": {},
     "output_type": "display_data"
    },
    {
     "name": "stderr",
     "output_type": "stream",
     "text": [
      "/home/u2175049/anaconda3/lib/python3.11/site-packages/CellSeg/segmentation2D.py:133: FutureWarning: The behavior of DataFrame concatenation with empty or all-NA entries is deprecated. In a future version, this will no longer exclude empty or all-NA columns when determining the result dtypes. To retain the old behavior, exclude the relevant entries before the concat operation.\n",
      "  vert_df.loc[len(vert_df)] = e_dict\n",
      "/home/u2175049/anaconda3/lib/python3.11/site-packages/CellSeg/segmentation2D.py:133: FutureWarning: The behavior of DataFrame concatenation with empty or all-NA entries is deprecated. In a future version, this will no longer exclude empty or all-NA columns when determining the result dtypes. To retain the old behavior, exclude the relevant entries before the concat operation.\n",
      "  vert_df.loc[len(vert_df)] = e_dict\n",
      "/home/u2175049/anaconda3/lib/python3.11/site-packages/CellSeg/segmentation2D.py:133: FutureWarning: The behavior of DataFrame concatenation with empty or all-NA entries is deprecated. In a future version, this will no longer exclude empty or all-NA columns when determining the result dtypes. To retain the old behavior, exclude the relevant entries before the concat operation.\n",
      "  vert_df.loc[len(vert_df)] = e_dict\n",
      "/home/u2175049/anaconda3/lib/python3.11/site-packages/CellSeg/segmentation2D.py:133: FutureWarning: The behavior of DataFrame concatenation with empty or all-NA entries is deprecated. In a future version, this will no longer exclude empty or all-NA columns when determining the result dtypes. To retain the old behavior, exclude the relevant entries before the concat operation.\n",
      "  vert_df.loc[len(vert_df)] = e_dict\n",
      "/home/u2175049/anaconda3/lib/python3.11/site-packages/CellSeg/segmentation2D.py:133: FutureWarning: The behavior of DataFrame concatenation with empty or all-NA entries is deprecated. In a future version, this will no longer exclude empty or all-NA columns when determining the result dtypes. To retain the old behavior, exclude the relevant entries before the concat operation.\n",
      "  vert_df.loc[len(vert_df)] = e_dict\n",
      "/home/u2175049/anaconda3/lib/python3.11/site-packages/CellSeg/segmentation2D.py:133: FutureWarning: The behavior of DataFrame concatenation with empty or all-NA entries is deprecated. In a future version, this will no longer exclude empty or all-NA columns when determining the result dtypes. To retain the old behavior, exclude the relevant entries before the concat operation.\n",
      "  vert_df.loc[len(vert_df)] = e_dict\n",
      "/home/u2175049/anaconda3/lib/python3.11/site-packages/CellSeg/segmentation2D.py:133: FutureWarning: The behavior of DataFrame concatenation with empty or all-NA entries is deprecated. In a future version, this will no longer exclude empty or all-NA columns when determining the result dtypes. To retain the old behavior, exclude the relevant entries before the concat operation.\n",
      "  vert_df.loc[len(vert_df)] = e_dict\n",
      "/home/u2175049/anaconda3/lib/python3.11/site-packages/CellSeg/segmentation2D.py:133: FutureWarning: The behavior of DataFrame concatenation with empty or all-NA entries is deprecated. In a future version, this will no longer exclude empty or all-NA columns when determining the result dtypes. To retain the old behavior, exclude the relevant entries before the concat operation.\n",
      "  vert_df.loc[len(vert_df)] = e_dict\n",
      "/home/u2175049/anaconda3/lib/python3.11/site-packages/CellSeg/segmentation2D.py:133: FutureWarning: The behavior of DataFrame concatenation with empty or all-NA entries is deprecated. In a future version, this will no longer exclude empty or all-NA columns when determining the result dtypes. To retain the old behavior, exclude the relevant entries before the concat operation.\n",
      "  vert_df.loc[len(vert_df)] = e_dict\n",
      "/home/u2175049/anaconda3/lib/python3.11/site-packages/CellSeg/segmentation2D.py:133: FutureWarning: The behavior of DataFrame concatenation with empty or all-NA entries is deprecated. In a future version, this will no longer exclude empty or all-NA columns when determining the result dtypes. To retain the old behavior, exclude the relevant entries before the concat operation.\n",
      "  vert_df.loc[len(vert_df)] = e_dict\n",
      "/home/u2175049/anaconda3/lib/python3.11/site-packages/CellSeg/segmentation2D.py:133: FutureWarning: The behavior of DataFrame concatenation with empty or all-NA entries is deprecated. In a future version, this will no longer exclude empty or all-NA columns when determining the result dtypes. To retain the old behavior, exclude the relevant entries before the concat operation.\n",
      "  vert_df.loc[len(vert_df)] = e_dict\n",
      "/home/u2175049/anaconda3/lib/python3.11/site-packages/CellSeg/segmentation2D.py:133: FutureWarning: The behavior of DataFrame concatenation with empty or all-NA entries is deprecated. In a future version, this will no longer exclude empty or all-NA columns when determining the result dtypes. To retain the old behavior, exclude the relevant entries before the concat operation.\n",
      "  vert_df.loc[len(vert_df)] = e_dict\n",
      "/home/u2175049/anaconda3/lib/python3.11/site-packages/CellSeg/segmentation2D.py:133: FutureWarning: The behavior of DataFrame concatenation with empty or all-NA entries is deprecated. In a future version, this will no longer exclude empty or all-NA columns when determining the result dtypes. To retain the old behavior, exclude the relevant entries before the concat operation.\n",
      "  vert_df.loc[len(vert_df)] = e_dict\n",
      "/home/u2175049/anaconda3/lib/python3.11/site-packages/CellSeg/segmentation2D.py:133: FutureWarning: The behavior of DataFrame concatenation with empty or all-NA entries is deprecated. In a future version, this will no longer exclude empty or all-NA columns when determining the result dtypes. To retain the old behavior, exclude the relevant entries before the concat operation.\n",
      "  vert_df.loc[len(vert_df)] = e_dict\n",
      "/home/u2175049/anaconda3/lib/python3.11/site-packages/CellSeg/segmentation2D.py:133: FutureWarning: The behavior of DataFrame concatenation with empty or all-NA entries is deprecated. In a future version, this will no longer exclude empty or all-NA columns when determining the result dtypes. To retain the old behavior, exclude the relevant entries before the concat operation.\n",
      "  vert_df.loc[len(vert_df)] = e_dict\n",
      "/home/u2175049/anaconda3/lib/python3.11/site-packages/CellSeg/segmentation2D.py:133: FutureWarning: The behavior of DataFrame concatenation with empty or all-NA entries is deprecated. In a future version, this will no longer exclude empty or all-NA columns when determining the result dtypes. To retain the old behavior, exclude the relevant entries before the concat operation.\n",
      "  vert_df.loc[len(vert_df)] = e_dict\n",
      "/home/u2175049/anaconda3/lib/python3.11/site-packages/CellSeg/segmentation2D.py:133: FutureWarning: The behavior of DataFrame concatenation with empty or all-NA entries is deprecated. In a future version, this will no longer exclude empty or all-NA columns when determining the result dtypes. To retain the old behavior, exclude the relevant entries before the concat operation.\n",
      "  vert_df.loc[len(vert_df)] = e_dict\n",
      "/home/u2175049/anaconda3/lib/python3.11/site-packages/CellSeg/segmentation2D.py:133: FutureWarning: The behavior of DataFrame concatenation with empty or all-NA entries is deprecated. In a future version, this will no longer exclude empty or all-NA columns when determining the result dtypes. To retain the old behavior, exclude the relevant entries before the concat operation.\n",
      "  vert_df.loc[len(vert_df)] = e_dict\n",
      "/home/u2175049/anaconda3/lib/python3.11/site-packages/CellSeg/segmentation2D.py:133: FutureWarning: The behavior of DataFrame concatenation with empty or all-NA entries is deprecated. In a future version, this will no longer exclude empty or all-NA columns when determining the result dtypes. To retain the old behavior, exclude the relevant entries before the concat operation.\n",
      "  vert_df.loc[len(vert_df)] = e_dict\n"
     ]
    },
    {
     "data": {
      "application/vnd.jupyter.widget-view+json": {
       "model_id": "38503a49b9d141ffb8c91338370671d3",
       "version_major": 2,
       "version_minor": 0
      },
      "text/plain": [
       "Vert segmentation:   0%|          | 0/15 [00:00<?, ?it/s]"
      ]
     },
     "metadata": {},
     "output_type": "display_data"
    },
    {
     "name": "stderr",
     "output_type": "stream",
     "text": [
      "/home/u2175049/anaconda3/lib/python3.11/site-packages/CellSeg/segmentation2D.py:133: FutureWarning: The behavior of DataFrame concatenation with empty or all-NA entries is deprecated. In a future version, this will no longer exclude empty or all-NA columns when determining the result dtypes. To retain the old behavior, exclude the relevant entries before the concat operation.\n",
      "  vert_df.loc[len(vert_df)] = e_dict\n",
      "/home/u2175049/anaconda3/lib/python3.11/site-packages/CellSeg/segmentation2D.py:133: FutureWarning: The behavior of DataFrame concatenation with empty or all-NA entries is deprecated. In a future version, this will no longer exclude empty or all-NA columns when determining the result dtypes. To retain the old behavior, exclude the relevant entries before the concat operation.\n",
      "  vert_df.loc[len(vert_df)] = e_dict\n",
      "/home/u2175049/anaconda3/lib/python3.11/site-packages/CellSeg/segmentation2D.py:133: FutureWarning: The behavior of DataFrame concatenation with empty or all-NA entries is deprecated. In a future version, this will no longer exclude empty or all-NA columns when determining the result dtypes. To retain the old behavior, exclude the relevant entries before the concat operation.\n",
      "  vert_df.loc[len(vert_df)] = e_dict\n",
      "/home/u2175049/anaconda3/lib/python3.11/site-packages/CellSeg/segmentation2D.py:133: FutureWarning: The behavior of DataFrame concatenation with empty or all-NA entries is deprecated. In a future version, this will no longer exclude empty or all-NA columns when determining the result dtypes. To retain the old behavior, exclude the relevant entries before the concat operation.\n",
      "  vert_df.loc[len(vert_df)] = e_dict\n",
      "/home/u2175049/anaconda3/lib/python3.11/site-packages/CellSeg/segmentation2D.py:133: FutureWarning: The behavior of DataFrame concatenation with empty or all-NA entries is deprecated. In a future version, this will no longer exclude empty or all-NA columns when determining the result dtypes. To retain the old behavior, exclude the relevant entries before the concat operation.\n",
      "  vert_df.loc[len(vert_df)] = e_dict\n",
      "/home/u2175049/anaconda3/lib/python3.11/site-packages/CellSeg/segmentation2D.py:133: FutureWarning: The behavior of DataFrame concatenation with empty or all-NA entries is deprecated. In a future version, this will no longer exclude empty or all-NA columns when determining the result dtypes. To retain the old behavior, exclude the relevant entries before the concat operation.\n",
      "  vert_df.loc[len(vert_df)] = e_dict\n",
      "/home/u2175049/anaconda3/lib/python3.11/site-packages/CellSeg/segmentation2D.py:133: FutureWarning: The behavior of DataFrame concatenation with empty or all-NA entries is deprecated. In a future version, this will no longer exclude empty or all-NA columns when determining the result dtypes. To retain the old behavior, exclude the relevant entries before the concat operation.\n",
      "  vert_df.loc[len(vert_df)] = e_dict\n",
      "/home/u2175049/anaconda3/lib/python3.11/site-packages/CellSeg/segmentation2D.py:133: FutureWarning: The behavior of DataFrame concatenation with empty or all-NA entries is deprecated. In a future version, this will no longer exclude empty or all-NA columns when determining the result dtypes. To retain the old behavior, exclude the relevant entries before the concat operation.\n",
      "  vert_df.loc[len(vert_df)] = e_dict\n",
      "/home/u2175049/anaconda3/lib/python3.11/site-packages/CellSeg/segmentation2D.py:133: FutureWarning: The behavior of DataFrame concatenation with empty or all-NA entries is deprecated. In a future version, this will no longer exclude empty or all-NA columns when determining the result dtypes. To retain the old behavior, exclude the relevant entries before the concat operation.\n",
      "  vert_df.loc[len(vert_df)] = e_dict\n"
     ]
    },
    {
     "data": {
      "application/vnd.jupyter.widget-view+json": {
       "model_id": "c101859c864744f595e4a712d1e89474",
       "version_major": 2,
       "version_minor": 0
      },
      "text/plain": [
       "Vert segmentation:   0%|          | 0/21 [00:00<?, ?it/s]"
      ]
     },
     "metadata": {},
     "output_type": "display_data"
    },
    {
     "name": "stderr",
     "output_type": "stream",
     "text": [
      "/home/u2175049/anaconda3/lib/python3.11/site-packages/CellSeg/segmentation2D.py:133: FutureWarning: The behavior of DataFrame concatenation with empty or all-NA entries is deprecated. In a future version, this will no longer exclude empty or all-NA columns when determining the result dtypes. To retain the old behavior, exclude the relevant entries before the concat operation.\n",
      "  vert_df.loc[len(vert_df)] = e_dict\n",
      "/home/u2175049/anaconda3/lib/python3.11/site-packages/CellSeg/segmentation2D.py:133: FutureWarning: The behavior of DataFrame concatenation with empty or all-NA entries is deprecated. In a future version, this will no longer exclude empty or all-NA columns when determining the result dtypes. To retain the old behavior, exclude the relevant entries before the concat operation.\n",
      "  vert_df.loc[len(vert_df)] = e_dict\n",
      "/home/u2175049/anaconda3/lib/python3.11/site-packages/CellSeg/segmentation2D.py:133: FutureWarning: The behavior of DataFrame concatenation with empty or all-NA entries is deprecated. In a future version, this will no longer exclude empty or all-NA columns when determining the result dtypes. To retain the old behavior, exclude the relevant entries before the concat operation.\n",
      "  vert_df.loc[len(vert_df)] = e_dict\n",
      "/home/u2175049/anaconda3/lib/python3.11/site-packages/CellSeg/segmentation2D.py:133: FutureWarning: The behavior of DataFrame concatenation with empty or all-NA entries is deprecated. In a future version, this will no longer exclude empty or all-NA columns when determining the result dtypes. To retain the old behavior, exclude the relevant entries before the concat operation.\n",
      "  vert_df.loc[len(vert_df)] = e_dict\n",
      "/home/u2175049/anaconda3/lib/python3.11/site-packages/CellSeg/segmentation2D.py:133: FutureWarning: The behavior of DataFrame concatenation with empty or all-NA entries is deprecated. In a future version, this will no longer exclude empty or all-NA columns when determining the result dtypes. To retain the old behavior, exclude the relevant entries before the concat operation.\n",
      "  vert_df.loc[len(vert_df)] = e_dict\n",
      "/home/u2175049/anaconda3/lib/python3.11/site-packages/CellSeg/segmentation2D.py:133: FutureWarning: The behavior of DataFrame concatenation with empty or all-NA entries is deprecated. In a future version, this will no longer exclude empty or all-NA columns when determining the result dtypes. To retain the old behavior, exclude the relevant entries before the concat operation.\n",
      "  vert_df.loc[len(vert_df)] = e_dict\n",
      "/home/u2175049/anaconda3/lib/python3.11/site-packages/CellSeg/segmentation2D.py:133: FutureWarning: The behavior of DataFrame concatenation with empty or all-NA entries is deprecated. In a future version, this will no longer exclude empty or all-NA columns when determining the result dtypes. To retain the old behavior, exclude the relevant entries before the concat operation.\n",
      "  vert_df.loc[len(vert_df)] = e_dict\n",
      "/home/u2175049/anaconda3/lib/python3.11/site-packages/CellSeg/segmentation2D.py:133: FutureWarning: The behavior of DataFrame concatenation with empty or all-NA entries is deprecated. In a future version, this will no longer exclude empty or all-NA columns when determining the result dtypes. To retain the old behavior, exclude the relevant entries before the concat operation.\n",
      "  vert_df.loc[len(vert_df)] = e_dict\n",
      "/home/u2175049/anaconda3/lib/python3.11/site-packages/CellSeg/segmentation2D.py:133: FutureWarning: The behavior of DataFrame concatenation with empty or all-NA entries is deprecated. In a future version, this will no longer exclude empty or all-NA columns when determining the result dtypes. To retain the old behavior, exclude the relevant entries before the concat operation.\n",
      "  vert_df.loc[len(vert_df)] = e_dict\n",
      "/home/u2175049/anaconda3/lib/python3.11/site-packages/CellSeg/segmentation2D.py:133: FutureWarning: The behavior of DataFrame concatenation with empty or all-NA entries is deprecated. In a future version, this will no longer exclude empty or all-NA columns when determining the result dtypes. To retain the old behavior, exclude the relevant entries before the concat operation.\n",
      "  vert_df.loc[len(vert_df)] = e_dict\n",
      "/home/u2175049/anaconda3/lib/python3.11/site-packages/CellSeg/segmentation2D.py:133: FutureWarning: The behavior of DataFrame concatenation with empty or all-NA entries is deprecated. In a future version, this will no longer exclude empty or all-NA columns when determining the result dtypes. To retain the old behavior, exclude the relevant entries before the concat operation.\n",
      "  vert_df.loc[len(vert_df)] = e_dict\n",
      "/home/u2175049/anaconda3/lib/python3.11/site-packages/CellSeg/segmentation2D.py:133: FutureWarning: The behavior of DataFrame concatenation with empty or all-NA entries is deprecated. In a future version, this will no longer exclude empty or all-NA columns when determining the result dtypes. To retain the old behavior, exclude the relevant entries before the concat operation.\n",
      "  vert_df.loc[len(vert_df)] = e_dict\n",
      "/home/u2175049/anaconda3/lib/python3.11/site-packages/CellSeg/segmentation2D.py:133: FutureWarning: The behavior of DataFrame concatenation with empty or all-NA entries is deprecated. In a future version, this will no longer exclude empty or all-NA columns when determining the result dtypes. To retain the old behavior, exclude the relevant entries before the concat operation.\n",
      "  vert_df.loc[len(vert_df)] = e_dict\n",
      "/home/u2175049/anaconda3/lib/python3.11/site-packages/CellSeg/segmentation2D.py:133: FutureWarning: The behavior of DataFrame concatenation with empty or all-NA entries is deprecated. In a future version, this will no longer exclude empty or all-NA columns when determining the result dtypes. To retain the old behavior, exclude the relevant entries before the concat operation.\n",
      "  vert_df.loc[len(vert_df)] = e_dict\n"
     ]
    },
    {
     "data": {
      "application/vnd.jupyter.widget-view+json": {
       "model_id": "5cf851c234d14a7aa07fd658d30dfbdc",
       "version_major": 2,
       "version_minor": 0
      },
      "text/plain": [
       "Vert segmentation:   0%|          | 0/15 [00:00<?, ?it/s]"
      ]
     },
     "metadata": {},
     "output_type": "display_data"
    },
    {
     "name": "stderr",
     "output_type": "stream",
     "text": [
      "/home/u2175049/anaconda3/lib/python3.11/site-packages/CellSeg/segmentation2D.py:133: FutureWarning: The behavior of DataFrame concatenation with empty or all-NA entries is deprecated. In a future version, this will no longer exclude empty or all-NA columns when determining the result dtypes. To retain the old behavior, exclude the relevant entries before the concat operation.\n",
      "  vert_df.loc[len(vert_df)] = e_dict\n",
      "/home/u2175049/anaconda3/lib/python3.11/site-packages/CellSeg/segmentation2D.py:133: FutureWarning: The behavior of DataFrame concatenation with empty or all-NA entries is deprecated. In a future version, this will no longer exclude empty or all-NA columns when determining the result dtypes. To retain the old behavior, exclude the relevant entries before the concat operation.\n",
      "  vert_df.loc[len(vert_df)] = e_dict\n",
      "/home/u2175049/anaconda3/lib/python3.11/site-packages/CellSeg/segmentation2D.py:133: FutureWarning: The behavior of DataFrame concatenation with empty or all-NA entries is deprecated. In a future version, this will no longer exclude empty or all-NA columns when determining the result dtypes. To retain the old behavior, exclude the relevant entries before the concat operation.\n",
      "  vert_df.loc[len(vert_df)] = e_dict\n",
      "/home/u2175049/anaconda3/lib/python3.11/site-packages/CellSeg/segmentation2D.py:133: FutureWarning: The behavior of DataFrame concatenation with empty or all-NA entries is deprecated. In a future version, this will no longer exclude empty or all-NA columns when determining the result dtypes. To retain the old behavior, exclude the relevant entries before the concat operation.\n",
      "  vert_df.loc[len(vert_df)] = e_dict\n",
      "/home/u2175049/anaconda3/lib/python3.11/site-packages/CellSeg/segmentation2D.py:133: FutureWarning: The behavior of DataFrame concatenation with empty or all-NA entries is deprecated. In a future version, this will no longer exclude empty or all-NA columns when determining the result dtypes. To retain the old behavior, exclude the relevant entries before the concat operation.\n",
      "  vert_df.loc[len(vert_df)] = e_dict\n",
      "/home/u2175049/anaconda3/lib/python3.11/site-packages/CellSeg/segmentation2D.py:133: FutureWarning: The behavior of DataFrame concatenation with empty or all-NA entries is deprecated. In a future version, this will no longer exclude empty or all-NA columns when determining the result dtypes. To retain the old behavior, exclude the relevant entries before the concat operation.\n",
      "  vert_df.loc[len(vert_df)] = e_dict\n",
      "/home/u2175049/anaconda3/lib/python3.11/site-packages/CellSeg/segmentation2D.py:133: FutureWarning: The behavior of DataFrame concatenation with empty or all-NA entries is deprecated. In a future version, this will no longer exclude empty or all-NA columns when determining the result dtypes. To retain the old behavior, exclude the relevant entries before the concat operation.\n",
      "  vert_df.loc[len(vert_df)] = e_dict\n",
      "/home/u2175049/anaconda3/lib/python3.11/site-packages/CellSeg/segmentation2D.py:133: FutureWarning: The behavior of DataFrame concatenation with empty or all-NA entries is deprecated. In a future version, this will no longer exclude empty or all-NA columns when determining the result dtypes. To retain the old behavior, exclude the relevant entries before the concat operation.\n",
      "  vert_df.loc[len(vert_df)] = e_dict\n",
      "/home/u2175049/anaconda3/lib/python3.11/site-packages/CellSeg/segmentation2D.py:133: FutureWarning: The behavior of DataFrame concatenation with empty or all-NA entries is deprecated. In a future version, this will no longer exclude empty or all-NA columns when determining the result dtypes. To retain the old behavior, exclude the relevant entries before the concat operation.\n",
      "  vert_df.loc[len(vert_df)] = e_dict\n"
     ]
    },
    {
     "data": {
      "application/vnd.jupyter.widget-view+json": {
       "model_id": "5897b1539f2449189f072c4525504f5e",
       "version_major": 2,
       "version_minor": 0
      },
      "text/plain": [
       "Vert segmentation:   0%|          | 0/3 [00:00<?, ?it/s]"
      ]
     },
     "metadata": {},
     "output_type": "display_data"
    }
   ],
   "source": [
    "\n",
    "start_time = time.time()\n",
    "seg.vert_segmentation()\n",
    "# print(\"--- %s seconds ---\" % (time.time() - start_time))\n",
    "#2.09e+3"
   ]
  },
  {
   "cell_type": "code",
   "execution_count": 8,
   "id": "85ef8827",
   "metadata": {
    "scrolled": true
   },
   "outputs": [
    {
     "data": {
      "application/vnd.jupyter.widget-view+json": {
       "model_id": "a88dc3e7cdea43d9bce63619edfb1c77",
       "version_major": 2,
       "version_minor": 0
      },
      "text/plain": [
       "Cell:   0%|          | 0/141 [00:00<?, ?it/s]"
      ]
     },
     "metadata": {},
     "output_type": "display_data"
    },
    {
     "data": {
      "application/vnd.jupyter.widget-view+json": {
       "model_id": "899cfa8915924062a7e3c49cc1e94233",
       "version_major": 2,
       "version_minor": 0
      },
      "text/plain": [
       "Face segmentation:   0%|          | 0/2 [00:00<?, ?it/s]"
      ]
     },
     "metadata": {},
     "output_type": "display_data"
    },
    {
     "data": {
      "application/vnd.jupyter.widget-view+json": {
       "model_id": "936ae87a20a94076a8deac5dfb5896fe",
       "version_major": 2,
       "version_minor": 0
      },
      "text/plain": [
       "Face segmentation:   0%|          | 0/2 [00:00<?, ?it/s]"
      ]
     },
     "metadata": {},
     "output_type": "display_data"
    },
    {
     "data": {
      "application/vnd.jupyter.widget-view+json": {
       "model_id": "ce2f92b0a9724ca1b0e9bf88f3f8f2ce",
       "version_major": 2,
       "version_minor": 0
      },
      "text/plain": [
       "Face segmentation:   0%|          | 0/5 [00:00<?, ?it/s]"
      ]
     },
     "metadata": {},
     "output_type": "display_data"
    },
    {
     "data": {
      "application/vnd.jupyter.widget-view+json": {
       "model_id": "c3341595b3174819a77d8da11d018060",
       "version_major": 2,
       "version_minor": 0
      },
      "text/plain": [
       "Face segmentation:   0%|          | 0/3 [00:00<?, ?it/s]"
      ]
     },
     "metadata": {},
     "output_type": "display_data"
    },
    {
     "data": {
      "application/vnd.jupyter.widget-view+json": {
       "model_id": "0c3b62ddf2674a248e5c0cf9e9affa00",
       "version_major": 2,
       "version_minor": 0
      },
      "text/plain": [
       "Face segmentation:   0%|          | 0/4 [00:00<?, ?it/s]"
      ]
     },
     "metadata": {},
     "output_type": "display_data"
    },
    {
     "data": {
      "application/vnd.jupyter.widget-view+json": {
       "model_id": "fae3af60cb8d4171a0a6cc68dca121fa",
       "version_major": 2,
       "version_minor": 0
      },
      "text/plain": [
       "Face segmentation:   0%|          | 0/3 [00:00<?, ?it/s]"
      ]
     },
     "metadata": {},
     "output_type": "display_data"
    },
    {
     "data": {
      "application/vnd.jupyter.widget-view+json": {
       "model_id": "d02c97da78df4f4e8f08fa711db6eab4",
       "version_major": 2,
       "version_minor": 0
      },
      "text/plain": [
       "Face segmentation:   0%|          | 0/3 [00:00<?, ?it/s]"
      ]
     },
     "metadata": {},
     "output_type": "display_data"
    },
    {
     "data": {
      "application/vnd.jupyter.widget-view+json": {
       "model_id": "ee6ad3c1ed4d44b9b946dc51b21722a5",
       "version_major": 2,
       "version_minor": 0
      },
      "text/plain": [
       "Face segmentation:   0%|          | 0/19 [00:00<?, ?it/s]"
      ]
     },
     "metadata": {},
     "output_type": "display_data"
    },
    {
     "data": {
      "application/vnd.jupyter.widget-view+json": {
       "model_id": "aed23d2b4a80470f8e8c5e2f8832c39d",
       "version_major": 2,
       "version_minor": 0
      },
      "text/plain": [
       "Face segmentation:   0%|          | 0/4 [00:00<?, ?it/s]"
      ]
     },
     "metadata": {},
     "output_type": "display_data"
    },
    {
     "data": {
      "application/vnd.jupyter.widget-view+json": {
       "model_id": "4d72eae238014cf581ddf4ce79c06e29",
       "version_major": 2,
       "version_minor": 0
      },
      "text/plain": [
       "Face segmentation:   0%|          | 0/3 [00:00<?, ?it/s]"
      ]
     },
     "metadata": {},
     "output_type": "display_data"
    },
    {
     "data": {
      "application/vnd.jupyter.widget-view+json": {
       "model_id": "3242771aa5a7457088ea43d6db77fd79",
       "version_major": 2,
       "version_minor": 0
      },
      "text/plain": [
       "Face segmentation:   0%|          | 0/6 [00:00<?, ?it/s]"
      ]
     },
     "metadata": {},
     "output_type": "display_data"
    },
    {
     "data": {
      "application/vnd.jupyter.widget-view+json": {
       "model_id": "26dca2490642444a87ee1d06f58e4486",
       "version_major": 2,
       "version_minor": 0
      },
      "text/plain": [
       "Face segmentation:   0%|          | 0/4 [00:00<?, ?it/s]"
      ]
     },
     "metadata": {},
     "output_type": "display_data"
    },
    {
     "data": {
      "application/vnd.jupyter.widget-view+json": {
       "model_id": "871f344748a44431a65009ea07898656",
       "version_major": 2,
       "version_minor": 0
      },
      "text/plain": [
       "Face segmentation:   0%|          | 0/5 [00:00<?, ?it/s]"
      ]
     },
     "metadata": {},
     "output_type": "display_data"
    },
    {
     "data": {
      "application/vnd.jupyter.widget-view+json": {
       "model_id": "72d00a28c8704c6aa107540d3f03b8e2",
       "version_major": 2,
       "version_minor": 0
      },
      "text/plain": [
       "Face segmentation:   0%|          | 0/6 [00:00<?, ?it/s]"
      ]
     },
     "metadata": {},
     "output_type": "display_data"
    },
    {
     "data": {
      "application/vnd.jupyter.widget-view+json": {
       "model_id": "0f25c186cfb34ccb95b2227a199f230e",
       "version_major": 2,
       "version_minor": 0
      },
      "text/plain": [
       "Face segmentation:   0%|          | 0/5 [00:00<?, ?it/s]"
      ]
     },
     "metadata": {},
     "output_type": "display_data"
    },
    {
     "data": {
      "application/vnd.jupyter.widget-view+json": {
       "model_id": "2512686f0c734900951f89635c861294",
       "version_major": 2,
       "version_minor": 0
      },
      "text/plain": [
       "Face segmentation:   0%|          | 0/7 [00:00<?, ?it/s]"
      ]
     },
     "metadata": {},
     "output_type": "display_data"
    },
    {
     "data": {
      "application/vnd.jupyter.widget-view+json": {
       "model_id": "629e8b11808f4849be056c91f32e293b",
       "version_major": 2,
       "version_minor": 0
      },
      "text/plain": [
       "Face segmentation:   0%|          | 0/8 [00:00<?, ?it/s]"
      ]
     },
     "metadata": {},
     "output_type": "display_data"
    },
    {
     "data": {
      "application/vnd.jupyter.widget-view+json": {
       "model_id": "1c5954958bd04100b32b8e05466f9612",
       "version_major": 2,
       "version_minor": 0
      },
      "text/plain": [
       "Face segmentation:   0%|          | 0/3 [00:00<?, ?it/s]"
      ]
     },
     "metadata": {},
     "output_type": "display_data"
    },
    {
     "data": {
      "application/vnd.jupyter.widget-view+json": {
       "model_id": "ea50110ea2134e698273660ad3778df6",
       "version_major": 2,
       "version_minor": 0
      },
      "text/plain": [
       "Face segmentation:   0%|          | 0/8 [00:00<?, ?it/s]"
      ]
     },
     "metadata": {},
     "output_type": "display_data"
    },
    {
     "data": {
      "application/vnd.jupyter.widget-view+json": {
       "model_id": "2ffa094ee3a0458eaeecd3da3b81a362",
       "version_major": 2,
       "version_minor": 0
      },
      "text/plain": [
       "Face segmentation:   0%|          | 0/4 [00:00<?, ?it/s]"
      ]
     },
     "metadata": {},
     "output_type": "display_data"
    },
    {
     "data": {
      "application/vnd.jupyter.widget-view+json": {
       "model_id": "259a88bc3e3e4758891e526bfeeaa0e1",
       "version_major": 2,
       "version_minor": 0
      },
      "text/plain": [
       "Face segmentation:   0%|          | 0/10 [00:00<?, ?it/s]"
      ]
     },
     "metadata": {},
     "output_type": "display_data"
    },
    {
     "data": {
      "application/vnd.jupyter.widget-view+json": {
       "model_id": "9b09ba53ea48446e8c3e42704bef5155",
       "version_major": 2,
       "version_minor": 0
      },
      "text/plain": [
       "Face segmentation:   0%|          | 0/5 [00:00<?, ?it/s]"
      ]
     },
     "metadata": {},
     "output_type": "display_data"
    },
    {
     "data": {
      "application/vnd.jupyter.widget-view+json": {
       "model_id": "3ad9269616c24999be28f0db33a6678d",
       "version_major": 2,
       "version_minor": 0
      },
      "text/plain": [
       "Face segmentation:   0%|          | 0/4 [00:00<?, ?it/s]"
      ]
     },
     "metadata": {},
     "output_type": "display_data"
    },
    {
     "data": {
      "application/vnd.jupyter.widget-view+json": {
       "model_id": "25a10b69fa30404098adf5aef82a1f21",
       "version_major": 2,
       "version_minor": 0
      },
      "text/plain": [
       "Face segmentation:   0%|          | 0/6 [00:00<?, ?it/s]"
      ]
     },
     "metadata": {},
     "output_type": "display_data"
    },
    {
     "data": {
      "application/vnd.jupyter.widget-view+json": {
       "model_id": "cc28f16a700144f2be577bc3029c70b2",
       "version_major": 2,
       "version_minor": 0
      },
      "text/plain": [
       "Face segmentation:   0%|          | 0/7 [00:00<?, ?it/s]"
      ]
     },
     "metadata": {},
     "output_type": "display_data"
    },
    {
     "data": {
      "application/vnd.jupyter.widget-view+json": {
       "model_id": "fd24b0d404cd4433afe899b8294383fe",
       "version_major": 2,
       "version_minor": 0
      },
      "text/plain": [
       "Face segmentation:   0%|          | 0/6 [00:00<?, ?it/s]"
      ]
     },
     "metadata": {},
     "output_type": "display_data"
    },
    {
     "data": {
      "application/vnd.jupyter.widget-view+json": {
       "model_id": "21462bbbb73948f9837b4494d46316f7",
       "version_major": 2,
       "version_minor": 0
      },
      "text/plain": [
       "Face segmentation:   0%|          | 0/5 [00:00<?, ?it/s]"
      ]
     },
     "metadata": {},
     "output_type": "display_data"
    },
    {
     "data": {
      "application/vnd.jupyter.widget-view+json": {
       "model_id": "f6588e5e73b14969a368e4d9ce56bcbd",
       "version_major": 2,
       "version_minor": 0
      },
      "text/plain": [
       "Face segmentation:   0%|          | 0/7 [00:00<?, ?it/s]"
      ]
     },
     "metadata": {},
     "output_type": "display_data"
    },
    {
     "data": {
      "application/vnd.jupyter.widget-view+json": {
       "model_id": "8d1276afd4a64ad8a8becaa449fcc51d",
       "version_major": 2,
       "version_minor": 0
      },
      "text/plain": [
       "Face segmentation:   0%|          | 0/5 [00:00<?, ?it/s]"
      ]
     },
     "metadata": {},
     "output_type": "display_data"
    },
    {
     "data": {
      "application/vnd.jupyter.widget-view+json": {
       "model_id": "89e2d11e34e54612a063d8597d719d76",
       "version_major": 2,
       "version_minor": 0
      },
      "text/plain": [
       "Face segmentation:   0%|          | 0/5 [00:00<?, ?it/s]"
      ]
     },
     "metadata": {},
     "output_type": "display_data"
    },
    {
     "data": {
      "application/vnd.jupyter.widget-view+json": {
       "model_id": "76ff93c8969f41e292da2d2e60031d8d",
       "version_major": 2,
       "version_minor": 0
      },
      "text/plain": [
       "Face segmentation:   0%|          | 0/4 [00:00<?, ?it/s]"
      ]
     },
     "metadata": {},
     "output_type": "display_data"
    },
    {
     "data": {
      "application/vnd.jupyter.widget-view+json": {
       "model_id": "1d579aa9d5724a049ea6e5d7572523be",
       "version_major": 2,
       "version_minor": 0
      },
      "text/plain": [
       "Face segmentation:   0%|          | 0/5 [00:00<?, ?it/s]"
      ]
     },
     "metadata": {},
     "output_type": "display_data"
    },
    {
     "data": {
      "application/vnd.jupyter.widget-view+json": {
       "model_id": "3be38ae52ccb4eadb670bcbeed5d6502",
       "version_major": 2,
       "version_minor": 0
      },
      "text/plain": [
       "Face segmentation:   0%|          | 0/4 [00:00<?, ?it/s]"
      ]
     },
     "metadata": {},
     "output_type": "display_data"
    },
    {
     "data": {
      "application/vnd.jupyter.widget-view+json": {
       "model_id": "49414834d25c4dbf89ad373704843955",
       "version_major": 2,
       "version_minor": 0
      },
      "text/plain": [
       "Face segmentation:   0%|          | 0/6 [00:00<?, ?it/s]"
      ]
     },
     "metadata": {},
     "output_type": "display_data"
    },
    {
     "data": {
      "application/vnd.jupyter.widget-view+json": {
       "model_id": "e2733821812b4b0bacb8b1ca7e99dd0f",
       "version_major": 2,
       "version_minor": 0
      },
      "text/plain": [
       "Face segmentation:   0%|          | 0/9 [00:00<?, ?it/s]"
      ]
     },
     "metadata": {},
     "output_type": "display_data"
    },
    {
     "data": {
      "application/vnd.jupyter.widget-view+json": {
       "model_id": "017221b8a25049e7b0f7a457cd1b5854",
       "version_major": 2,
       "version_minor": 0
      },
      "text/plain": [
       "Face segmentation:   0%|          | 0/7 [00:00<?, ?it/s]"
      ]
     },
     "metadata": {},
     "output_type": "display_data"
    },
    {
     "data": {
      "application/vnd.jupyter.widget-view+json": {
       "model_id": "89b8a220c2ba42a1ba6b616a327518f5",
       "version_major": 2,
       "version_minor": 0
      },
      "text/plain": [
       "Face segmentation:   0%|          | 0/12 [00:00<?, ?it/s]"
      ]
     },
     "metadata": {},
     "output_type": "display_data"
    },
    {
     "data": {
      "application/vnd.jupyter.widget-view+json": {
       "model_id": "4fa2e33a2ed34388ae1500dd8bbdace2",
       "version_major": 2,
       "version_minor": 0
      },
      "text/plain": [
       "Face segmentation:   0%|          | 0/9 [00:00<?, ?it/s]"
      ]
     },
     "metadata": {},
     "output_type": "display_data"
    },
    {
     "data": {
      "application/vnd.jupyter.widget-view+json": {
       "model_id": "1ee70d79f54549d5b8ffe87052426141",
       "version_major": 2,
       "version_minor": 0
      },
      "text/plain": [
       "Face segmentation:   0%|          | 0/5 [00:00<?, ?it/s]"
      ]
     },
     "metadata": {},
     "output_type": "display_data"
    },
    {
     "data": {
      "application/vnd.jupyter.widget-view+json": {
       "model_id": "cde25bd54f2b4c0c8473e0a1fa8d6fff",
       "version_major": 2,
       "version_minor": 0
      },
      "text/plain": [
       "Face segmentation:   0%|          | 0/8 [00:00<?, ?it/s]"
      ]
     },
     "metadata": {},
     "output_type": "display_data"
    },
    {
     "data": {
      "application/vnd.jupyter.widget-view+json": {
       "model_id": "b0034bf7c2f9402f991863bd7ca9b992",
       "version_major": 2,
       "version_minor": 0
      },
      "text/plain": [
       "Face segmentation:   0%|          | 0/8 [00:00<?, ?it/s]"
      ]
     },
     "metadata": {},
     "output_type": "display_data"
    },
    {
     "data": {
      "application/vnd.jupyter.widget-view+json": {
       "model_id": "ccaba40a872d420eb6f349f86eadad64",
       "version_major": 2,
       "version_minor": 0
      },
      "text/plain": [
       "Face segmentation:   0%|          | 0/4 [00:00<?, ?it/s]"
      ]
     },
     "metadata": {},
     "output_type": "display_data"
    },
    {
     "data": {
      "application/vnd.jupyter.widget-view+json": {
       "model_id": "3cf7c1aa416c42ed802e698bb34def45",
       "version_major": 2,
       "version_minor": 0
      },
      "text/plain": [
       "Face segmentation:   0%|          | 0/10 [00:00<?, ?it/s]"
      ]
     },
     "metadata": {},
     "output_type": "display_data"
    },
    {
     "data": {
      "application/vnd.jupyter.widget-view+json": {
       "model_id": "3a54fce20fc342b69a6afbfadf6027f6",
       "version_major": 2,
       "version_minor": 0
      },
      "text/plain": [
       "Face segmentation:   0%|          | 0/7 [00:00<?, ?it/s]"
      ]
     },
     "metadata": {},
     "output_type": "display_data"
    },
    {
     "data": {
      "application/vnd.jupyter.widget-view+json": {
       "model_id": "7bf82599dba24a4da2aec0b96d658ae6",
       "version_major": 2,
       "version_minor": 0
      },
      "text/plain": [
       "Face segmentation:   0%|          | 0/4 [00:00<?, ?it/s]"
      ]
     },
     "metadata": {},
     "output_type": "display_data"
    },
    {
     "data": {
      "application/vnd.jupyter.widget-view+json": {
       "model_id": "042ba387bd5f459d94dac3fa6a1063cc",
       "version_major": 2,
       "version_minor": 0
      },
      "text/plain": [
       "Face segmentation:   0%|          | 0/6 [00:00<?, ?it/s]"
      ]
     },
     "metadata": {},
     "output_type": "display_data"
    },
    {
     "data": {
      "application/vnd.jupyter.widget-view+json": {
       "model_id": "77f4954eb9c44140aef8984bfbf6aab4",
       "version_major": 2,
       "version_minor": 0
      },
      "text/plain": [
       "Face segmentation:   0%|          | 0/3 [00:00<?, ?it/s]"
      ]
     },
     "metadata": {},
     "output_type": "display_data"
    },
    {
     "data": {
      "application/vnd.jupyter.widget-view+json": {
       "model_id": "fbfe50a1f40d49dcb1601e7b5b9a7b16",
       "version_major": 2,
       "version_minor": 0
      },
      "text/plain": [
       "Face segmentation:   0%|          | 0/9 [00:00<?, ?it/s]"
      ]
     },
     "metadata": {},
     "output_type": "display_data"
    },
    {
     "data": {
      "application/vnd.jupyter.widget-view+json": {
       "model_id": "bc23f43052294c90a8668c4410fa29a2",
       "version_major": 2,
       "version_minor": 0
      },
      "text/plain": [
       "Face segmentation:   0%|          | 0/6 [00:00<?, ?it/s]"
      ]
     },
     "metadata": {},
     "output_type": "display_data"
    },
    {
     "data": {
      "application/vnd.jupyter.widget-view+json": {
       "model_id": "dccb5ce62b6a4566aeeed6219f0a7074",
       "version_major": 2,
       "version_minor": 0
      },
      "text/plain": [
       "Face segmentation:   0%|          | 0/5 [00:00<?, ?it/s]"
      ]
     },
     "metadata": {},
     "output_type": "display_data"
    },
    {
     "data": {
      "application/vnd.jupyter.widget-view+json": {
       "model_id": "2e607f6a38d84dc4a8cfde7186c3d362",
       "version_major": 2,
       "version_minor": 0
      },
      "text/plain": [
       "Face segmentation:   0%|          | 0/6 [00:00<?, ?it/s]"
      ]
     },
     "metadata": {},
     "output_type": "display_data"
    },
    {
     "data": {
      "application/vnd.jupyter.widget-view+json": {
       "model_id": "040a5dd294974d28a487fb5de90ee496",
       "version_major": 2,
       "version_minor": 0
      },
      "text/plain": [
       "Face segmentation:   0%|          | 0/8 [00:00<?, ?it/s]"
      ]
     },
     "metadata": {},
     "output_type": "display_data"
    },
    {
     "data": {
      "application/vnd.jupyter.widget-view+json": {
       "model_id": "cf8695827ff947188b497bdf84efeec4",
       "version_major": 2,
       "version_minor": 0
      },
      "text/plain": [
       "Face segmentation:   0%|          | 0/5 [00:00<?, ?it/s]"
      ]
     },
     "metadata": {},
     "output_type": "display_data"
    },
    {
     "data": {
      "application/vnd.jupyter.widget-view+json": {
       "model_id": "0218fd747f2c43fe9c3e9ffcbfa9aa27",
       "version_major": 2,
       "version_minor": 0
      },
      "text/plain": [
       "Face segmentation:   0%|          | 0/11 [00:00<?, ?it/s]"
      ]
     },
     "metadata": {},
     "output_type": "display_data"
    },
    {
     "data": {
      "application/vnd.jupyter.widget-view+json": {
       "model_id": "23287f3605c249778e0b4ae73cb75de1",
       "version_major": 2,
       "version_minor": 0
      },
      "text/plain": [
       "Face segmentation:   0%|          | 0/4 [00:00<?, ?it/s]"
      ]
     },
     "metadata": {},
     "output_type": "display_data"
    },
    {
     "data": {
      "application/vnd.jupyter.widget-view+json": {
       "model_id": "5e628794e2384374bdf85079db20047e",
       "version_major": 2,
       "version_minor": 0
      },
      "text/plain": [
       "Face segmentation:   0%|          | 0/5 [00:00<?, ?it/s]"
      ]
     },
     "metadata": {},
     "output_type": "display_data"
    },
    {
     "data": {
      "application/vnd.jupyter.widget-view+json": {
       "model_id": "8c5a6bb8042f4b5d90494d293077aad0",
       "version_major": 2,
       "version_minor": 0
      },
      "text/plain": [
       "Face segmentation:   0%|          | 0/13 [00:00<?, ?it/s]"
      ]
     },
     "metadata": {},
     "output_type": "display_data"
    },
    {
     "data": {
      "application/vnd.jupyter.widget-view+json": {
       "model_id": "09ab2f23939d4977bd8db1357f1989b9",
       "version_major": 2,
       "version_minor": 0
      },
      "text/plain": [
       "Face segmentation:   0%|          | 0/2 [00:00<?, ?it/s]"
      ]
     },
     "metadata": {},
     "output_type": "display_data"
    },
    {
     "data": {
      "application/vnd.jupyter.widget-view+json": {
       "model_id": "236902c70ce5499e817e9705579a207f",
       "version_major": 2,
       "version_minor": 0
      },
      "text/plain": [
       "Face segmentation:   0%|          | 0/8 [00:00<?, ?it/s]"
      ]
     },
     "metadata": {},
     "output_type": "display_data"
    },
    {
     "data": {
      "application/vnd.jupyter.widget-view+json": {
       "model_id": "7217ad2cb3f6409dbed85dcd178da1fc",
       "version_major": 2,
       "version_minor": 0
      },
      "text/plain": [
       "Face segmentation:   0%|          | 0/6 [00:00<?, ?it/s]"
      ]
     },
     "metadata": {},
     "output_type": "display_data"
    },
    {
     "data": {
      "application/vnd.jupyter.widget-view+json": {
       "model_id": "7175fc3033e14b718e1de374a8ef1b3a",
       "version_major": 2,
       "version_minor": 0
      },
      "text/plain": [
       "Face segmentation:   0%|          | 0/6 [00:00<?, ?it/s]"
      ]
     },
     "metadata": {},
     "output_type": "display_data"
    },
    {
     "data": {
      "application/vnd.jupyter.widget-view+json": {
       "model_id": "e7f64f9af316463aa69dbeb13e2707f4",
       "version_major": 2,
       "version_minor": 0
      },
      "text/plain": [
       "Face segmentation:   0%|          | 0/7 [00:00<?, ?it/s]"
      ]
     },
     "metadata": {},
     "output_type": "display_data"
    },
    {
     "data": {
      "application/vnd.jupyter.widget-view+json": {
       "model_id": "6cc5f01f4e4a4ed9812d7464bc95ae0c",
       "version_major": 2,
       "version_minor": 0
      },
      "text/plain": [
       "Face segmentation:   0%|          | 0/5 [00:00<?, ?it/s]"
      ]
     },
     "metadata": {},
     "output_type": "display_data"
    },
    {
     "data": {
      "application/vnd.jupyter.widget-view+json": {
       "model_id": "f186064fe84c4ee3b75107fac87290f8",
       "version_major": 2,
       "version_minor": 0
      },
      "text/plain": [
       "Face segmentation:   0%|          | 0/4 [00:00<?, ?it/s]"
      ]
     },
     "metadata": {},
     "output_type": "display_data"
    },
    {
     "data": {
      "application/vnd.jupyter.widget-view+json": {
       "model_id": "f10e2c021635480e9b1df1da591358c6",
       "version_major": 2,
       "version_minor": 0
      },
      "text/plain": [
       "Face segmentation:   0%|          | 0/9 [00:00<?, ?it/s]"
      ]
     },
     "metadata": {},
     "output_type": "display_data"
    },
    {
     "data": {
      "application/vnd.jupyter.widget-view+json": {
       "model_id": "e97e4714719140e089fd1af9761098f1",
       "version_major": 2,
       "version_minor": 0
      },
      "text/plain": [
       "Face segmentation:   0%|          | 0/6 [00:00<?, ?it/s]"
      ]
     },
     "metadata": {},
     "output_type": "display_data"
    },
    {
     "data": {
      "application/vnd.jupyter.widget-view+json": {
       "model_id": "9ca1b8eb5c6d495bbbf5efb47bd0cd55",
       "version_major": 2,
       "version_minor": 0
      },
      "text/plain": [
       "Face segmentation:   0%|          | 0/5 [00:00<?, ?it/s]"
      ]
     },
     "metadata": {},
     "output_type": "display_data"
    },
    {
     "data": {
      "application/vnd.jupyter.widget-view+json": {
       "model_id": "fb554ab133874c8eb1b94973d4a5deb8",
       "version_major": 2,
       "version_minor": 0
      },
      "text/plain": [
       "Face segmentation:   0%|          | 0/10 [00:00<?, ?it/s]"
      ]
     },
     "metadata": {},
     "output_type": "display_data"
    },
    {
     "data": {
      "application/vnd.jupyter.widget-view+json": {
       "model_id": "c49a116b55584a91935de7defe1da9e1",
       "version_major": 2,
       "version_minor": 0
      },
      "text/plain": [
       "Face segmentation:   0%|          | 0/7 [00:00<?, ?it/s]"
      ]
     },
     "metadata": {},
     "output_type": "display_data"
    },
    {
     "data": {
      "application/vnd.jupyter.widget-view+json": {
       "model_id": "7a2bc5e514614d44a5ccbe142d2e2853",
       "version_major": 2,
       "version_minor": 0
      },
      "text/plain": [
       "Face segmentation:   0%|          | 0/7 [00:00<?, ?it/s]"
      ]
     },
     "metadata": {},
     "output_type": "display_data"
    },
    {
     "data": {
      "application/vnd.jupyter.widget-view+json": {
       "model_id": "bda012603e4b45549a8ea6eb2096c318",
       "version_major": 2,
       "version_minor": 0
      },
      "text/plain": [
       "Face segmentation:   0%|          | 0/11 [00:00<?, ?it/s]"
      ]
     },
     "metadata": {},
     "output_type": "display_data"
    },
    {
     "data": {
      "application/vnd.jupyter.widget-view+json": {
       "model_id": "7356e15e62d34854b26a459c28a19b0f",
       "version_major": 2,
       "version_minor": 0
      },
      "text/plain": [
       "Face segmentation:   0%|          | 0/10 [00:00<?, ?it/s]"
      ]
     },
     "metadata": {},
     "output_type": "display_data"
    },
    {
     "data": {
      "application/vnd.jupyter.widget-view+json": {
       "model_id": "01425415f3aa4c9a832741f940e568a7",
       "version_major": 2,
       "version_minor": 0
      },
      "text/plain": [
       "Face segmentation:   0%|          | 0/8 [00:00<?, ?it/s]"
      ]
     },
     "metadata": {},
     "output_type": "display_data"
    },
    {
     "data": {
      "application/vnd.jupyter.widget-view+json": {
       "model_id": "a4eee9fc75f548a788e93a90d088a409",
       "version_major": 2,
       "version_minor": 0
      },
      "text/plain": [
       "Face segmentation:   0%|          | 0/10 [00:00<?, ?it/s]"
      ]
     },
     "metadata": {},
     "output_type": "display_data"
    },
    {
     "data": {
      "application/vnd.jupyter.widget-view+json": {
       "model_id": "93259bca055d4d47be5f581c17f22bb0",
       "version_major": 2,
       "version_minor": 0
      },
      "text/plain": [
       "Face segmentation:   0%|          | 0/10 [00:00<?, ?it/s]"
      ]
     },
     "metadata": {},
     "output_type": "display_data"
    },
    {
     "data": {
      "application/vnd.jupyter.widget-view+json": {
       "model_id": "0ac6426df09545a0acfba2e5e07b69ba",
       "version_major": 2,
       "version_minor": 0
      },
      "text/plain": [
       "Face segmentation:   0%|          | 0/3 [00:00<?, ?it/s]"
      ]
     },
     "metadata": {},
     "output_type": "display_data"
    },
    {
     "data": {
      "application/vnd.jupyter.widget-view+json": {
       "model_id": "a35cd696c586419d8ce01d57faaa4940",
       "version_major": 2,
       "version_minor": 0
      },
      "text/plain": [
       "Face segmentation:   0%|          | 0/5 [00:00<?, ?it/s]"
      ]
     },
     "metadata": {},
     "output_type": "display_data"
    },
    {
     "data": {
      "application/vnd.jupyter.widget-view+json": {
       "model_id": "7748b68b570446c687fd61e410aaf36c",
       "version_major": 2,
       "version_minor": 0
      },
      "text/plain": [
       "Face segmentation:   0%|          | 0/9 [00:00<?, ?it/s]"
      ]
     },
     "metadata": {},
     "output_type": "display_data"
    },
    {
     "data": {
      "application/vnd.jupyter.widget-view+json": {
       "model_id": "a5b32a48ece74ca4af1594a61b3d7696",
       "version_major": 2,
       "version_minor": 0
      },
      "text/plain": [
       "Face segmentation:   0%|          | 0/9 [00:00<?, ?it/s]"
      ]
     },
     "metadata": {},
     "output_type": "display_data"
    },
    {
     "data": {
      "application/vnd.jupyter.widget-view+json": {
       "model_id": "1b22e0c2956644c48e5a01562aab1d7b",
       "version_major": 2,
       "version_minor": 0
      },
      "text/plain": [
       "Face segmentation:   0%|          | 0/5 [00:00<?, ?it/s]"
      ]
     },
     "metadata": {},
     "output_type": "display_data"
    },
    {
     "data": {
      "application/vnd.jupyter.widget-view+json": {
       "model_id": "e155b5f58696443d813f422e9082ec48",
       "version_major": 2,
       "version_minor": 0
      },
      "text/plain": [
       "Face segmentation:   0%|          | 0/5 [00:00<?, ?it/s]"
      ]
     },
     "metadata": {},
     "output_type": "display_data"
    },
    {
     "data": {
      "application/vnd.jupyter.widget-view+json": {
       "model_id": "7ec83f5d3962474e8fda8ad0eaf5481f",
       "version_major": 2,
       "version_minor": 0
      },
      "text/plain": [
       "Face segmentation:   0%|          | 0/7 [00:00<?, ?it/s]"
      ]
     },
     "metadata": {},
     "output_type": "display_data"
    },
    {
     "data": {
      "application/vnd.jupyter.widget-view+json": {
       "model_id": "9471429c1cde4b0ba6a7a57976e0bbbd",
       "version_major": 2,
       "version_minor": 0
      },
      "text/plain": [
       "Face segmentation:   0%|          | 0/5 [00:00<?, ?it/s]"
      ]
     },
     "metadata": {},
     "output_type": "display_data"
    },
    {
     "data": {
      "application/vnd.jupyter.widget-view+json": {
       "model_id": "96e6c111365c46f1a515b0038a406613",
       "version_major": 2,
       "version_minor": 0
      },
      "text/plain": [
       "Face segmentation:   0%|          | 0/6 [00:00<?, ?it/s]"
      ]
     },
     "metadata": {},
     "output_type": "display_data"
    },
    {
     "data": {
      "application/vnd.jupyter.widget-view+json": {
       "model_id": "a5600576392447dc909bbc1b75dff447",
       "version_major": 2,
       "version_minor": 0
      },
      "text/plain": [
       "Face segmentation:   0%|          | 0/8 [00:00<?, ?it/s]"
      ]
     },
     "metadata": {},
     "output_type": "display_data"
    },
    {
     "data": {
      "application/vnd.jupyter.widget-view+json": {
       "model_id": "c3b7465827ce433c82ad5662df51db84",
       "version_major": 2,
       "version_minor": 0
      },
      "text/plain": [
       "Face segmentation:   0%|          | 0/5 [00:00<?, ?it/s]"
      ]
     },
     "metadata": {},
     "output_type": "display_data"
    },
    {
     "data": {
      "application/vnd.jupyter.widget-view+json": {
       "model_id": "9457cf2145f243458a7ab327d363e353",
       "version_major": 2,
       "version_minor": 0
      },
      "text/plain": [
       "Face segmentation:   0%|          | 0/7 [00:00<?, ?it/s]"
      ]
     },
     "metadata": {},
     "output_type": "display_data"
    },
    {
     "data": {
      "application/vnd.jupyter.widget-view+json": {
       "model_id": "fbef90f224a749329ffafc9906ed5ceb",
       "version_major": 2,
       "version_minor": 0
      },
      "text/plain": [
       "Face segmentation:   0%|          | 0/5 [00:00<?, ?it/s]"
      ]
     },
     "metadata": {},
     "output_type": "display_data"
    },
    {
     "data": {
      "application/vnd.jupyter.widget-view+json": {
       "model_id": "d08f5d7c95a244b3a9f07c8f577cd9a1",
       "version_major": 2,
       "version_minor": 0
      },
      "text/plain": [
       "Face segmentation:   0%|          | 0/3 [00:00<?, ?it/s]"
      ]
     },
     "metadata": {},
     "output_type": "display_data"
    },
    {
     "data": {
      "application/vnd.jupyter.widget-view+json": {
       "model_id": "40d7409a79544135b7d3ef9fe3e99f39",
       "version_major": 2,
       "version_minor": 0
      },
      "text/plain": [
       "Face segmentation:   0%|          | 0/8 [00:00<?, ?it/s]"
      ]
     },
     "metadata": {},
     "output_type": "display_data"
    },
    {
     "data": {
      "application/vnd.jupyter.widget-view+json": {
       "model_id": "b1e50e0c18134961a64669248af973cf",
       "version_major": 2,
       "version_minor": 0
      },
      "text/plain": [
       "Face segmentation:   0%|          | 0/10 [00:00<?, ?it/s]"
      ]
     },
     "metadata": {},
     "output_type": "display_data"
    },
    {
     "data": {
      "application/vnd.jupyter.widget-view+json": {
       "model_id": "65c47a994caa4941885db68a918368bb",
       "version_major": 2,
       "version_minor": 0
      },
      "text/plain": [
       "Face segmentation:   0%|          | 0/6 [00:00<?, ?it/s]"
      ]
     },
     "metadata": {},
     "output_type": "display_data"
    },
    {
     "data": {
      "application/vnd.jupyter.widget-view+json": {
       "model_id": "9d01952a824e4eb3be9d9cc1b8d13bd5",
       "version_major": 2,
       "version_minor": 0
      },
      "text/plain": [
       "Face segmentation:   0%|          | 0/5 [00:00<?, ?it/s]"
      ]
     },
     "metadata": {},
     "output_type": "display_data"
    },
    {
     "data": {
      "application/vnd.jupyter.widget-view+json": {
       "model_id": "e4ed0483dfc249e194968fc7d3b7c66d",
       "version_major": 2,
       "version_minor": 0
      },
      "text/plain": [
       "Face segmentation:   0%|          | 0/9 [00:00<?, ?it/s]"
      ]
     },
     "metadata": {},
     "output_type": "display_data"
    },
    {
     "data": {
      "application/vnd.jupyter.widget-view+json": {
       "model_id": "0bae63b79b324b71a005ee17013cf5c1",
       "version_major": 2,
       "version_minor": 0
      },
      "text/plain": [
       "Face segmentation:   0%|          | 0/6 [00:00<?, ?it/s]"
      ]
     },
     "metadata": {},
     "output_type": "display_data"
    },
    {
     "data": {
      "application/vnd.jupyter.widget-view+json": {
       "model_id": "018c580d0b7c46428897f1773cd832ef",
       "version_major": 2,
       "version_minor": 0
      },
      "text/plain": [
       "Face segmentation:   0%|          | 0/5 [00:00<?, ?it/s]"
      ]
     },
     "metadata": {},
     "output_type": "display_data"
    },
    {
     "data": {
      "application/vnd.jupyter.widget-view+json": {
       "model_id": "b3c0736be5e84664b3df73c90a734b0d",
       "version_major": 2,
       "version_minor": 0
      },
      "text/plain": [
       "Face segmentation:   0%|          | 0/5 [00:00<?, ?it/s]"
      ]
     },
     "metadata": {},
     "output_type": "display_data"
    },
    {
     "data": {
      "application/vnd.jupyter.widget-view+json": {
       "model_id": "c90e5306090b4bfea5e5777bb6dfa7cb",
       "version_major": 2,
       "version_minor": 0
      },
      "text/plain": [
       "Face segmentation:   0%|          | 0/11 [00:00<?, ?it/s]"
      ]
     },
     "metadata": {},
     "output_type": "display_data"
    },
    {
     "data": {
      "application/vnd.jupyter.widget-view+json": {
       "model_id": "cf663050ee5740aeb9ca0eba7bdb145e",
       "version_major": 2,
       "version_minor": 0
      },
      "text/plain": [
       "Face segmentation:   0%|          | 0/6 [00:00<?, ?it/s]"
      ]
     },
     "metadata": {},
     "output_type": "display_data"
    },
    {
     "data": {
      "application/vnd.jupyter.widget-view+json": {
       "model_id": "4177e31821ef4454b3e89ff21d5f2885",
       "version_major": 2,
       "version_minor": 0
      },
      "text/plain": [
       "Face segmentation:   0%|          | 0/6 [00:00<?, ?it/s]"
      ]
     },
     "metadata": {},
     "output_type": "display_data"
    },
    {
     "data": {
      "application/vnd.jupyter.widget-view+json": {
       "model_id": "8eedcf17efe04ec5bb0863ef7a910d89",
       "version_major": 2,
       "version_minor": 0
      },
      "text/plain": [
       "Face segmentation:   0%|          | 0/7 [00:00<?, ?it/s]"
      ]
     },
     "metadata": {},
     "output_type": "display_data"
    },
    {
     "data": {
      "application/vnd.jupyter.widget-view+json": {
       "model_id": "38f7526c3b5f493abb73447bf4173620",
       "version_major": 2,
       "version_minor": 0
      },
      "text/plain": [
       "Face segmentation:   0%|          | 0/5 [00:00<?, ?it/s]"
      ]
     },
     "metadata": {},
     "output_type": "display_data"
    },
    {
     "data": {
      "application/vnd.jupyter.widget-view+json": {
       "model_id": "3ac62feb7aa64c61b4c415c577dcf14a",
       "version_major": 2,
       "version_minor": 0
      },
      "text/plain": [
       "Face segmentation:   0%|          | 0/4 [00:00<?, ?it/s]"
      ]
     },
     "metadata": {},
     "output_type": "display_data"
    },
    {
     "data": {
      "application/vnd.jupyter.widget-view+json": {
       "model_id": "a1dd5a8726d6421cb4cb1c82df2fd3ff",
       "version_major": 2,
       "version_minor": 0
      },
      "text/plain": [
       "Face segmentation:   0%|          | 0/4 [00:00<?, ?it/s]"
      ]
     },
     "metadata": {},
     "output_type": "display_data"
    },
    {
     "data": {
      "application/vnd.jupyter.widget-view+json": {
       "model_id": "426541f14937482898540044face3ce3",
       "version_major": 2,
       "version_minor": 0
      },
      "text/plain": [
       "Face segmentation:   0%|          | 0/7 [00:00<?, ?it/s]"
      ]
     },
     "metadata": {},
     "output_type": "display_data"
    },
    {
     "data": {
      "application/vnd.jupyter.widget-view+json": {
       "model_id": "4e603c964983447c98e8951ab8495648",
       "version_major": 2,
       "version_minor": 0
      },
      "text/plain": [
       "Face segmentation:   0%|          | 0/6 [00:00<?, ?it/s]"
      ]
     },
     "metadata": {},
     "output_type": "display_data"
    },
    {
     "data": {
      "application/vnd.jupyter.widget-view+json": {
       "model_id": "b18d55977be045f9a3384389b7149804",
       "version_major": 2,
       "version_minor": 0
      },
      "text/plain": [
       "Face segmentation:   0%|          | 0/6 [00:00<?, ?it/s]"
      ]
     },
     "metadata": {},
     "output_type": "display_data"
    },
    {
     "data": {
      "application/vnd.jupyter.widget-view+json": {
       "model_id": "c668fa350ba14872bb808989d621bbc1",
       "version_major": 2,
       "version_minor": 0
      },
      "text/plain": [
       "Face segmentation:   0%|          | 0/4 [00:00<?, ?it/s]"
      ]
     },
     "metadata": {},
     "output_type": "display_data"
    },
    {
     "data": {
      "application/vnd.jupyter.widget-view+json": {
       "model_id": "27d911951d78438bb40238521da3c2be",
       "version_major": 2,
       "version_minor": 0
      },
      "text/plain": [
       "Face segmentation:   0%|          | 0/7 [00:00<?, ?it/s]"
      ]
     },
     "metadata": {},
     "output_type": "display_data"
    },
    {
     "data": {
      "application/vnd.jupyter.widget-view+json": {
       "model_id": "58022b97bd15413fb2fc5c12fdbaea17",
       "version_major": 2,
       "version_minor": 0
      },
      "text/plain": [
       "Face segmentation:   0%|          | 0/4 [00:00<?, ?it/s]"
      ]
     },
     "metadata": {},
     "output_type": "display_data"
    },
    {
     "data": {
      "application/vnd.jupyter.widget-view+json": {
       "model_id": "d665352f29df4244957919ba0030acd4",
       "version_major": 2,
       "version_minor": 0
      },
      "text/plain": [
       "Face segmentation:   0%|          | 0/6 [00:00<?, ?it/s]"
      ]
     },
     "metadata": {},
     "output_type": "display_data"
    },
    {
     "data": {
      "application/vnd.jupyter.widget-view+json": {
       "model_id": "4572b74208fe4b9b978ff055bedeabb4",
       "version_major": 2,
       "version_minor": 0
      },
      "text/plain": [
       "Face segmentation:   0%|          | 0/7 [00:00<?, ?it/s]"
      ]
     },
     "metadata": {},
     "output_type": "display_data"
    },
    {
     "data": {
      "application/vnd.jupyter.widget-view+json": {
       "model_id": "a619f2133acc4cd3ad29a817581a6d7a",
       "version_major": 2,
       "version_minor": 0
      },
      "text/plain": [
       "Face segmentation:   0%|          | 0/5 [00:00<?, ?it/s]"
      ]
     },
     "metadata": {},
     "output_type": "display_data"
    },
    {
     "data": {
      "application/vnd.jupyter.widget-view+json": {
       "model_id": "f76376215aa040cc91e5e5bfe5373399",
       "version_major": 2,
       "version_minor": 0
      },
      "text/plain": [
       "Face segmentation:   0%|          | 0/5 [00:00<?, ?it/s]"
      ]
     },
     "metadata": {},
     "output_type": "display_data"
    },
    {
     "data": {
      "application/vnd.jupyter.widget-view+json": {
       "model_id": "41719ec15dd94b5bba04c054a39d3fd6",
       "version_major": 2,
       "version_minor": 0
      },
      "text/plain": [
       "Face segmentation:   0%|          | 0/6 [00:00<?, ?it/s]"
      ]
     },
     "metadata": {},
     "output_type": "display_data"
    },
    {
     "data": {
      "application/vnd.jupyter.widget-view+json": {
       "model_id": "3c14291fad9b4b9499403a592d0ee837",
       "version_major": 2,
       "version_minor": 0
      },
      "text/plain": [
       "Face segmentation:   0%|          | 0/4 [00:00<?, ?it/s]"
      ]
     },
     "metadata": {},
     "output_type": "display_data"
    },
    {
     "data": {
      "application/vnd.jupyter.widget-view+json": {
       "model_id": "e2164188de1146f6a6d68e84c0a5d906",
       "version_major": 2,
       "version_minor": 0
      },
      "text/plain": [
       "Face segmentation:   0%|          | 0/6 [00:00<?, ?it/s]"
      ]
     },
     "metadata": {},
     "output_type": "display_data"
    },
    {
     "data": {
      "application/vnd.jupyter.widget-view+json": {
       "model_id": "3ba4637fbd9b4df799d94260e39a1363",
       "version_major": 2,
       "version_minor": 0
      },
      "text/plain": [
       "Face segmentation:   0%|          | 0/4 [00:00<?, ?it/s]"
      ]
     },
     "metadata": {},
     "output_type": "display_data"
    },
    {
     "data": {
      "application/vnd.jupyter.widget-view+json": {
       "model_id": "eb55a7801bc34d2aa9967c89ce1256cc",
       "version_major": 2,
       "version_minor": 0
      },
      "text/plain": [
       "Face segmentation:   0%|          | 0/4 [00:00<?, ?it/s]"
      ]
     },
     "metadata": {},
     "output_type": "display_data"
    },
    {
     "data": {
      "application/vnd.jupyter.widget-view+json": {
       "model_id": "e7d511435cb24f15aa9ca48fdb1244c7",
       "version_major": 2,
       "version_minor": 0
      },
      "text/plain": [
       "Face segmentation:   0%|          | 0/4 [00:00<?, ?it/s]"
      ]
     },
     "metadata": {},
     "output_type": "display_data"
    },
    {
     "data": {
      "application/vnd.jupyter.widget-view+json": {
       "model_id": "a8a0b9de35cd41e0852892c6452ceb72",
       "version_major": 2,
       "version_minor": 0
      },
      "text/plain": [
       "Face segmentation:   0%|          | 0/4 [00:00<?, ?it/s]"
      ]
     },
     "metadata": {},
     "output_type": "display_data"
    },
    {
     "data": {
      "application/vnd.jupyter.widget-view+json": {
       "model_id": "3acc47e82ed54007be1d46447f4a64f3",
       "version_major": 2,
       "version_minor": 0
      },
      "text/plain": [
       "Face segmentation:   0%|          | 0/9 [00:00<?, ?it/s]"
      ]
     },
     "metadata": {},
     "output_type": "display_data"
    },
    {
     "data": {
      "application/vnd.jupyter.widget-view+json": {
       "model_id": "57d2aa806daa4c278c25a4492d400390",
       "version_major": 2,
       "version_minor": 0
      },
      "text/plain": [
       "Face segmentation:   0%|          | 0/2 [00:00<?, ?it/s]"
      ]
     },
     "metadata": {},
     "output_type": "display_data"
    },
    {
     "data": {
      "application/vnd.jupyter.widget-view+json": {
       "model_id": "053892dde8e04251863855db4af30e3c",
       "version_major": 2,
       "version_minor": 0
      },
      "text/plain": [
       "Face segmentation:   0%|          | 0/4 [00:00<?, ?it/s]"
      ]
     },
     "metadata": {},
     "output_type": "display_data"
    },
    {
     "data": {
      "application/vnd.jupyter.widget-view+json": {
       "model_id": "b56395083e5f4e1996fc53c4ae58825d",
       "version_major": 2,
       "version_minor": 0
      },
      "text/plain": [
       "Face segmentation:   0%|          | 0/3 [00:00<?, ?it/s]"
      ]
     },
     "metadata": {},
     "output_type": "display_data"
    },
    {
     "data": {
      "application/vnd.jupyter.widget-view+json": {
       "model_id": "ea387e743a6d474d8207d8b6e6094ff2",
       "version_major": 2,
       "version_minor": 0
      },
      "text/plain": [
       "Face segmentation:   0%|          | 0/3 [00:00<?, ?it/s]"
      ]
     },
     "metadata": {},
     "output_type": "display_data"
    },
    {
     "data": {
      "application/vnd.jupyter.widget-view+json": {
       "model_id": "2329de4e36c444ed9915ec1ae75f9368",
       "version_major": 2,
       "version_minor": 0
      },
      "text/plain": [
       "Face segmentation:   0%|          | 0/2 [00:00<?, ?it/s]"
      ]
     },
     "metadata": {},
     "output_type": "display_data"
    },
    {
     "data": {
      "application/vnd.jupyter.widget-view+json": {
       "model_id": "788f666eab7948c08a2eb78c1d15f435",
       "version_major": 2,
       "version_minor": 0
      },
      "text/plain": [
       "Face segmentation:   0%|          | 0/3 [00:00<?, ?it/s]"
      ]
     },
     "metadata": {},
     "output_type": "display_data"
    },
    {
     "data": {
      "application/vnd.jupyter.widget-view+json": {
       "model_id": "0e1e88b15d9949c685c8074e3393c331",
       "version_major": 2,
       "version_minor": 0
      },
      "text/plain": [
       "Face segmentation:   0%|          | 0/3 [00:00<?, ?it/s]"
      ]
     },
     "metadata": {},
     "output_type": "display_data"
    },
    {
     "data": {
      "application/vnd.jupyter.widget-view+json": {
       "model_id": "e7959feda01a48c99e2b03943855cfa3",
       "version_major": 2,
       "version_minor": 0
      },
      "text/plain": [
       "Face segmentation:   0%|          | 0/3 [00:00<?, ?it/s]"
      ]
     },
     "metadata": {},
     "output_type": "display_data"
    },
    {
     "data": {
      "application/vnd.jupyter.widget-view+json": {
       "model_id": "07c9ad28db294b1d835c90214e935201",
       "version_major": 2,
       "version_minor": 0
      },
      "text/plain": [
       "Face segmentation:   0%|          | 0/4 [00:00<?, ?it/s]"
      ]
     },
     "metadata": {},
     "output_type": "display_data"
    },
    {
     "data": {
      "application/vnd.jupyter.widget-view+json": {
       "model_id": "6d7ddbb043c14d38860402cccdf59c4b",
       "version_major": 2,
       "version_minor": 0
      },
      "text/plain": [
       "Face segmentation:   0%|          | 0/2 [00:00<?, ?it/s]"
      ]
     },
     "metadata": {},
     "output_type": "display_data"
    },
    {
     "data": {
      "application/vnd.jupyter.widget-view+json": {
       "model_id": "da355be07e824c9296d25b8de569f867",
       "version_major": 2,
       "version_minor": 0
      },
      "text/plain": [
       "Face segmentation:   0%|          | 0/7 [00:00<?, ?it/s]"
      ]
     },
     "metadata": {},
     "output_type": "display_data"
    },
    {
     "data": {
      "application/vnd.jupyter.widget-view+json": {
       "model_id": "fbfb5b673c294457bc73187ee68929b5",
       "version_major": 2,
       "version_minor": 0
      },
      "text/plain": [
       "Face segmentation:   0%|          | 0/6 [00:00<?, ?it/s]"
      ]
     },
     "metadata": {},
     "output_type": "display_data"
    },
    {
     "data": {
      "application/vnd.jupyter.widget-view+json": {
       "model_id": "e6e6eef5d7e64292b4ce72950403330f",
       "version_major": 2,
       "version_minor": 0
      },
      "text/plain": [
       "Face segmentation:   0%|          | 0/5 [00:00<?, ?it/s]"
      ]
     },
     "metadata": {},
     "output_type": "display_data"
    },
    {
     "data": {
      "application/vnd.jupyter.widget-view+json": {
       "model_id": "f2703900bc2048568d680215b729705f",
       "version_major": 2,
       "version_minor": 0
      },
      "text/plain": [
       "Face segmentation:   0%|          | 0/8 [00:00<?, ?it/s]"
      ]
     },
     "metadata": {},
     "output_type": "display_data"
    },
    {
     "data": {
      "application/vnd.jupyter.widget-view+json": {
       "model_id": "2d364878b9954a37827366ae25a536c5",
       "version_major": 2,
       "version_minor": 0
      },
      "text/plain": [
       "Face segmentation:   0%|          | 0/10 [00:00<?, ?it/s]"
      ]
     },
     "metadata": {},
     "output_type": "display_data"
    },
    {
     "data": {
      "application/vnd.jupyter.widget-view+json": {
       "model_id": "b403c3a8f0b6455ea8a2205f879bf8dc",
       "version_major": 2,
       "version_minor": 0
      },
      "text/plain": [
       "Face segmentation:   0%|          | 0/6 [00:00<?, ?it/s]"
      ]
     },
     "metadata": {},
     "output_type": "display_data"
    },
    {
     "data": {
      "application/vnd.jupyter.widget-view+json": {
       "model_id": "46d730de12ca4c9ab970406160ee0802",
       "version_major": 2,
       "version_minor": 0
      },
      "text/plain": [
       "Face segmentation:   0%|          | 0/7 [00:00<?, ?it/s]"
      ]
     },
     "metadata": {},
     "output_type": "display_data"
    },
    {
     "data": {
      "application/vnd.jupyter.widget-view+json": {
       "model_id": "5639655164554e1db944257911ba6f20",
       "version_major": 2,
       "version_minor": 0
      },
      "text/plain": [
       "Face segmentation:   0%|          | 0/6 [00:00<?, ?it/s]"
      ]
     },
     "metadata": {},
     "output_type": "display_data"
    },
    {
     "data": {
      "application/vnd.jupyter.widget-view+json": {
       "model_id": "631142b2495c493fa677bb3615be29bc",
       "version_major": 2,
       "version_minor": 0
      },
      "text/plain": [
       "Face segmentation:   0%|          | 0/3 [00:00<?, ?it/s]"
      ]
     },
     "metadata": {},
     "output_type": "display_data"
    }
   ],
   "source": [
    "start_time = time.time()\n",
    "seg.edge_segmentation()\n",
    "# print(\"--- %s seconds ---\" % (time.time() - start_time))"
   ]
  },
  {
   "cell_type": "code",
   "execution_count": null,
   "id": "93435a92",
   "metadata": {},
   "outputs": [],
   "source": []
  },
  {
   "cell_type": "code",
   "execution_count": 11,
   "id": "21373b64",
   "metadata": {},
   "outputs": [
    {
     "data": {
      "application/vnd.jupyter.widget-view+json": {
       "model_id": "ffec47252aac40b89eeeafa24e478eaf",
       "version_major": 2,
       "version_minor": 0
      },
      "text/plain": [
       "Cell analysis:   0%|          | 0/141 [00:00<?, ?it/s]"
      ]
     },
     "metadata": {},
     "output_type": "display_data"
    }
   ],
   "source": [
    "cell_analysis_2d(seg)"
   ]
  },
  {
   "cell_type": "code",
   "execution_count": null,
   "id": "d3d8c3b6",
   "metadata": {},
   "outputs": [],
   "source": []
  },
  {
   "cell_type": "code",
   "execution_count": 12,
   "id": "3955871c",
   "metadata": {},
   "outputs": [],
   "source": [
    "vert_df = pd.read_csv(os.path.join(seg.storage_path, \"vert_df.csv\"))\n",
    "edge_df = pd.read_csv(os.path.join(seg.storage_path, \"edge_df.csv\"))"
   ]
  },
  {
   "cell_type": "code",
   "execution_count": 13,
   "id": "cce10e34",
   "metadata": {},
   "outputs": [
    {
     "data": {
      "image/png": "[encoded data removed]",
      "text/plain": [
       "<Figure size 2000x2000 with 1 Axes>"
      ]
     },
     "metadata": {},
     "output_type": "display_data"
    }
   ],
   "source": [
    "import random \n",
    "import matplotlib as mpl\n",
    "#List of random color\n",
    "get_colors = lambda n: [\"#%06x\" % random.randint(0, 0xFFFFFF) for _ in range(n)]\n",
    "color_list = get_colors(500) \n",
    "color_list[0] = \"#000000\"\n",
    "mycolor = mpl.colors.ListedColormap(color_list)\n",
    "\n",
    "fig, ax = plt.subplots()\n",
    "ax.imshow(image, cmap=mycolor)\n",
    "\n",
    "for e, val in edge_df.iterrows():\n",
    "    if np.isnan(val[\"vert_1\"]) or np.isnan(val[\"vert_2\"]):\n",
    "        pass\n",
    "    else:\n",
    "        ax.plot([vert_df.loc[val[\"vert_1\"]][\"y\"], vert_df.loc[val[\"vert_2\"]][\"y\"]],\n",
    "               [vert_df.loc[val[\"vert_1\"]][\"x\"], vert_df.loc[val[\"vert_2\"]][\"x\"]],\n",
    "               c=\"white\")\n",
    "        \n",
    "ax.scatter(vert_df[\"y\"], vert_df[\"x\"], s=5, c=\"red\")\n",
    "\n",
    "fig.set_size_inches((20,20))\n",
    "fig.savefig(\"/mnt/sda1/docker/Lydvina/output.png\", dpi=300)"
   ]
  },
  {
   "cell_type": "code",
   "execution_count": null,
   "id": "0bf1c4cd",
   "metadata": {},
   "outputs": [],
   "source": []
  },
  {
   "cell_type": "code",
   "execution_count": null,
   "id": "f839cc1c",
   "metadata": {
    "scrolled": false
   },
   "outputs": [],
   "source": []
  },
  {
   "cell_type": "code",
   "execution_count": null,
   "id": "57951742",
   "metadata": {},
   "outputs": [],
   "source": []
  },
  {
   "cell_type": "code",
   "execution_count": null,
   "id": "e3647fb0",
   "metadata": {},
   "outputs": [],
   "source": []
  },
  {
   "cell_type": "code",
   "execution_count": null,
   "id": "63d85e05",
   "metadata": {},
   "outputs": [],
   "source": []
  },
  {
   "cell_type": "code",
   "execution_count": null,
   "id": "9b029186",
   "metadata": {},
   "outputs": [],
   "source": []
  },
  {
   "cell_type": "code",
   "execution_count": null,
   "id": "a133b091",
   "metadata": {},
   "outputs": [],
   "source": []
  },
  {
   "cell_type": "code",
   "execution_count": null,
   "id": "cb4d5f2d",
   "metadata": {},
   "outputs": [],
   "source": []
  }
 ],
 "metadata": {
  "kernelspec": {
   "display_name": "Python 3 (ipykernel)",
   "language": "python",
   "name": "python3"
  },
  "language_info": {
   "codemirror_mode": {
    "name": "ipython",
    "version": 3
   },
   "file_extension": ".py",
   "mimetype": "text/x-python",
   "name": "python",
   "nbconvert_exporter": "python",
   "pygments_lexer": "ipython3",
   "version": "3.11.5"
  }
 },
 "nbformat": 4,
 "nbformat_minor": 5
}
