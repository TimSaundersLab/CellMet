{
 "cells": [
  {
   "cell_type": "code",
   "execution_count": 1,
   "id": "e1d9bbca",
   "metadata": {},
   "outputs": [],
   "source": [
    "import os\n",
    "import time\n",
    "import numpy as np\n",
    "import pandas as pd\n",
    "\n",
    "from skimage import io\n",
    "\n",
    "import matplotlib.pyplot as plt\n",
    "\n",
    "from CellSeg.segmentation import Segmentation\n",
    "from CellSeg.analysis import cell_analysis, edge_analysis, face_analysis\n",
    "%load_ext snakeviz"
   ]
  },
  {
   "cell_type": "code",
   "execution_count": null,
   "id": "d4c708a8",
   "metadata": {},
   "outputs": [],
   "source": []
  },
  {
   "cell_type": "code",
   "execution_count": 2,
   "id": "2b706ec8",
   "metadata": {},
   "outputs": [],
   "source": [
    "path = \"/mnt/sda1/Sophie/test_img_mario/\"\n",
    "seg_filename = \"id_cells_image_stack.tif\"\n",
    "pixel_size = dict(x_size = 1.,\n",
    "                  y_size = 1.,\n",
    "                  z_size = 1.,)\n",
    "\n",
    "# pixel_size = dict(x_size = 0.183,\n",
    "#                   y_size = 0.183,\n",
    "#                   z_size = 0.5,)"
   ]
  },
  {
   "cell_type": "code",
   "execution_count": 3,
   "id": "ec1fd4f2",
   "metadata": {},
   "outputs": [],
   "source": [
    "image = io.imread(os.path.join(path, seg_filename))\n"
   ]
  },
  {
   "cell_type": "code",
   "execution_count": null,
   "id": "3f2db45b",
   "metadata": {},
   "outputs": [],
   "source": []
  },
  {
   "cell_type": "code",
   "execution_count": 4,
   "id": "5408cd03",
   "metadata": {},
   "outputs": [],
   "source": [
    "seg = Segmentation(image, pixel_size, path)"
   ]
  },
  {
   "cell_type": "code",
   "execution_count": 5,
   "id": "177c4f1b",
   "metadata": {
    "scrolled": true
   },
   "outputs": [],
   "source": [
    "# %%snakeviz\n",
    "start_time = time.time()\n",
    "seg.perform_prerequisite(save_mesh=False, overwrite=False)\n",
    "# print(\"--- %s seconds ---\" % (time.time() - start_time))"
   ]
  },
  {
   "cell_type": "code",
   "execution_count": 6,
   "id": "5648860a",
   "metadata": {
    "scrolled": true
   },
   "outputs": [],
   "source": [
    "# %%snakeviz\n",
    "# cell_analysis(seg, parallelized=True, degree_convert=True)"
   ]
  },
  {
   "cell_type": "code",
   "execution_count": null,
   "id": "dda62a86",
   "metadata": {},
   "outputs": [],
   "source": []
  },
  {
   "cell_type": "code",
   "execution_count": null,
   "id": "4ab22139",
   "metadata": {},
   "outputs": [],
   "source": []
  },
  {
   "cell_type": "code",
   "execution_count": 7,
   "id": "b75df506",
   "metadata": {},
   "outputs": [
    {
     "name": "stdout",
     "output_type": "stream",
     "text": [
      "Automatic pdb calling has been turned ON\n"
     ]
    }
   ],
   "source": [
    "%pdb"
   ]
  },
  {
   "cell_type": "code",
   "execution_count": 8,
   "id": "e6c9569e",
   "metadata": {
    "scrolled": false
   },
   "outputs": [
    {
     "data": {
      "application/vnd.jupyter.widget-view+json": {
       "model_id": "90b545ac51234bd8b49b6e0d0da11a00",
       "version_major": 2,
       "version_minor": 0
      },
      "text/plain": [
       "Cell:   0%|          | 0/80 [00:00<?, ?it/s]"
      ]
     },
     "metadata": {},
     "output_type": "display_data"
    }
   ],
   "source": [
    "# %%snakeviz\n",
    "start_time = time.time()\n",
    "seg.cell_segmentation()\n",
    "# print(\"--- %s seconds ---\" % (time.time() - start_time))\n",
    "# 168 sec"
   ]
  },
  {
   "cell_type": "code",
   "execution_count": 7,
   "id": "9f3b1292",
   "metadata": {
    "scrolled": true
   },
   "outputs": [
    {
     "data": {
      "application/vnd.jupyter.widget-view+json": {
       "model_id": "6d2b87c4f2804339a5c71eba2c1e355a",
       "version_major": 2,
       "version_minor": 0
      },
      "text/plain": [
       "Cell:   0%|          | 0/80 [00:00<?, ?it/s]"
      ]
     },
     "metadata": {},
     "output_type": "display_data"
    },
    {
     "data": {
      "application/vnd.jupyter.widget-view+json": {
       "model_id": "75afc2f6bca14501af7e532e2b1af18f",
       "version_major": 2,
       "version_minor": 0
      },
      "text/plain": [
       "Edge segmentation:   0%|          | 0/10 [00:00<?, ?it/s]"
      ]
     },
     "metadata": {},
     "output_type": "display_data"
    },
    {
     "data": {
      "application/vnd.jupyter.widget-view+json": {
       "model_id": "95d517e588f04bf99bff7d83f3d29532",
       "version_major": 2,
       "version_minor": 0
      },
      "text/plain": [
       "Edge segmentation:   0%|          | 0/10 [00:00<?, ?it/s]"
      ]
     },
     "metadata": {},
     "output_type": "display_data"
    },
    {
     "data": {
      "application/vnd.jupyter.widget-view+json": {
       "model_id": "6ed00242a60648be8aab878dc038c31d",
       "version_major": 2,
       "version_minor": 0
      },
      "text/plain": [
       "Edge segmentation:   0%|          | 0/21 [00:00<?, ?it/s]"
      ]
     },
     "metadata": {},
     "output_type": "display_data"
    },
    {
     "data": {
      "application/vnd.jupyter.widget-view+json": {
       "model_id": "11fcbb50c1134799b0455d09da42f794",
       "version_major": 2,
       "version_minor": 0
      },
      "text/plain": [
       "Edge segmentation:   0%|          | 0/21 [00:00<?, ?it/s]"
      ]
     },
     "metadata": {},
     "output_type": "display_data"
    },
    {
     "data": {
      "application/vnd.jupyter.widget-view+json": {
       "model_id": "d8e41e2537344569a3952c554f0672b7",
       "version_major": 2,
       "version_minor": 0
      },
      "text/plain": [
       "Edge segmentation:   0%|          | 0/36 [00:00<?, ?it/s]"
      ]
     },
     "metadata": {},
     "output_type": "display_data"
    },
    {
     "data": {
      "application/vnd.jupyter.widget-view+json": {
       "model_id": "aefd34a84a4a44d6bfcf7619a97022d6",
       "version_major": 2,
       "version_minor": 0
      },
      "text/plain": [
       "Edge segmentation:   0%|          | 0/36 [00:00<?, ?it/s]"
      ]
     },
     "metadata": {},
     "output_type": "display_data"
    },
    {
     "data": {
      "application/vnd.jupyter.widget-view+json": {
       "model_id": "11d42d9d7a2f4759acea50d90e3970b8",
       "version_major": 2,
       "version_minor": 0
      },
      "text/plain": [
       "Edge segmentation:   0%|          | 0/10 [00:00<?, ?it/s]"
      ]
     },
     "metadata": {},
     "output_type": "display_data"
    },
    {
     "data": {
      "application/vnd.jupyter.widget-view+json": {
       "model_id": "7f07f5c2a8634752b125f564d0603349",
       "version_major": 2,
       "version_minor": 0
      },
      "text/plain": [
       "Edge segmentation:   0%|          | 0/10 [00:00<?, ?it/s]"
      ]
     },
     "metadata": {},
     "output_type": "display_data"
    },
    {
     "data": {
      "application/vnd.jupyter.widget-view+json": {
       "model_id": "d4f14fcb8d4546aca1471ef93fa44ef6",
       "version_major": 2,
       "version_minor": 0
      },
      "text/plain": [
       "Edge segmentation:   0%|          | 0/28 [00:00<?, ?it/s]"
      ]
     },
     "metadata": {},
     "output_type": "display_data"
    },
    {
     "data": {
      "application/vnd.jupyter.widget-view+json": {
       "model_id": "0a0d37acf8444a46a5bc957b78709d88",
       "version_major": 2,
       "version_minor": 0
      },
      "text/plain": [
       "Edge segmentation:   0%|          | 0/10 [00:00<?, ?it/s]"
      ]
     },
     "metadata": {},
     "output_type": "display_data"
    },
    {
     "data": {
      "application/vnd.jupyter.widget-view+json": {
       "model_id": "4b419235237e43b28c899fccea673cee",
       "version_major": 2,
       "version_minor": 0
      },
      "text/plain": [
       "Edge segmentation:   0%|          | 0/1 [00:00<?, ?it/s]"
      ]
     },
     "metadata": {},
     "output_type": "display_data"
    },
    {
     "data": {
      "application/vnd.jupyter.widget-view+json": {
       "model_id": "b4d3e3be60da484c971023074ab9002b",
       "version_major": 2,
       "version_minor": 0
      },
      "text/plain": [
       "Edge segmentation:   0%|          | 0/28 [00:00<?, ?it/s]"
      ]
     },
     "metadata": {},
     "output_type": "display_data"
    },
    {
     "data": {
      "application/vnd.jupyter.widget-view+json": {
       "model_id": "1b6c5ed9e53e42e79b8cfb1f99bcf140",
       "version_major": 2,
       "version_minor": 0
      },
      "text/plain": [
       "Edge segmentation:   0%|          | 0/15 [00:00<?, ?it/s]"
      ]
     },
     "metadata": {},
     "output_type": "display_data"
    },
    {
     "data": {
      "application/vnd.jupyter.widget-view+json": {
       "model_id": "c26920e0e0324c23b7b6d1192d05770c",
       "version_major": 2,
       "version_minor": 0
      },
      "text/plain": [
       "Edge segmentation:   0%|          | 0/3 [00:00<?, ?it/s]"
      ]
     },
     "metadata": {},
     "output_type": "display_data"
    },
    {
     "data": {
      "application/vnd.jupyter.widget-view+json": {
       "model_id": "227395bef20f49829d0ee69f8cfb8a3a",
       "version_major": 2,
       "version_minor": 0
      },
      "text/plain": [
       "Edge segmentation:   0%|          | 0/10 [00:00<?, ?it/s]"
      ]
     },
     "metadata": {},
     "output_type": "display_data"
    },
    {
     "data": {
      "application/vnd.jupyter.widget-view+json": {
       "model_id": "3520bcb4c43c4a2886184092dcb97a82",
       "version_major": 2,
       "version_minor": 0
      },
      "text/plain": [
       "Edge segmentation:   0%|          | 0/3 [00:00<?, ?it/s]"
      ]
     },
     "metadata": {},
     "output_type": "display_data"
    },
    {
     "data": {
      "application/vnd.jupyter.widget-view+json": {
       "model_id": "19ffd0e6367940bb8aa08b7ad13175e9",
       "version_major": 2,
       "version_minor": 0
      },
      "text/plain": [
       "Edge segmentation:   0%|          | 0/10 [00:00<?, ?it/s]"
      ]
     },
     "metadata": {},
     "output_type": "display_data"
    },
    {
     "data": {
      "application/vnd.jupyter.widget-view+json": {
       "model_id": "a979d5ba13a245308a1c76ecb45683a9",
       "version_major": 2,
       "version_minor": 0
      },
      "text/plain": [
       "Edge segmentation:   0%|          | 0/6 [00:00<?, ?it/s]"
      ]
     },
     "metadata": {},
     "output_type": "display_data"
    },
    {
     "data": {
      "application/vnd.jupyter.widget-view+json": {
       "model_id": "f18a9e9cc416453693d738b7929801ed",
       "version_major": 2,
       "version_minor": 0
      },
      "text/plain": [
       "Edge segmentation:   0%|          | 0/28 [00:00<?, ?it/s]"
      ]
     },
     "metadata": {},
     "output_type": "display_data"
    },
    {
     "data": {
      "application/vnd.jupyter.widget-view+json": {
       "model_id": "d9cc061fb3cd4585a44d734778216267",
       "version_major": 2,
       "version_minor": 0
      },
      "text/plain": [
       "Edge segmentation:   0%|          | 0/28 [00:00<?, ?it/s]"
      ]
     },
     "metadata": {},
     "output_type": "display_data"
    },
    {
     "data": {
      "application/vnd.jupyter.widget-view+json": {
       "model_id": "999cf60c9bf74621bf01f9ce089c6fc8",
       "version_major": 2,
       "version_minor": 0
      },
      "text/plain": [
       "Edge segmentation:   0%|          | 0/6 [00:00<?, ?it/s]"
      ]
     },
     "metadata": {},
     "output_type": "display_data"
    },
    {
     "data": {
      "application/vnd.jupyter.widget-view+json": {
       "model_id": "d73e6966c3924cd983c9eb6172271246",
       "version_major": 2,
       "version_minor": 0
      },
      "text/plain": [
       "Edge segmentation:   0%|          | 0/6 [00:00<?, ?it/s]"
      ]
     },
     "metadata": {},
     "output_type": "display_data"
    },
    {
     "data": {
      "application/vnd.jupyter.widget-view+json": {
       "model_id": "676d609abdb9455cb842a360da9a1529",
       "version_major": 2,
       "version_minor": 0
      },
      "text/plain": [
       "Edge segmentation:   0%|          | 0/28 [00:00<?, ?it/s]"
      ]
     },
     "metadata": {},
     "output_type": "display_data"
    },
    {
     "data": {
      "application/vnd.jupyter.widget-view+json": {
       "model_id": "51fc8fe0ec4145ae9b2047d53070a24c",
       "version_major": 2,
       "version_minor": 0
      },
      "text/plain": [
       "Edge segmentation:   0%|          | 0/15 [00:00<?, ?it/s]"
      ]
     },
     "metadata": {},
     "output_type": "display_data"
    },
    {
     "data": {
      "application/vnd.jupyter.widget-view+json": {
       "model_id": "14f3f94379d349dc8673c31f4b4e1a96",
       "version_major": 2,
       "version_minor": 0
      },
      "text/plain": [
       "Edge segmentation:   0%|          | 0/21 [00:00<?, ?it/s]"
      ]
     },
     "metadata": {},
     "output_type": "display_data"
    },
    {
     "data": {
      "application/vnd.jupyter.widget-view+json": {
       "model_id": "e701f8b7a23443babdc8a3f4b997f836",
       "version_major": 2,
       "version_minor": 0
      },
      "text/plain": [
       "Edge segmentation:   0%|          | 0/21 [00:00<?, ?it/s]"
      ]
     },
     "metadata": {},
     "output_type": "display_data"
    },
    {
     "data": {
      "application/vnd.jupyter.widget-view+json": {
       "model_id": "9dc1baef8df348cda3df7b04f6c7d88e",
       "version_major": 2,
       "version_minor": 0
      },
      "text/plain": [
       "Edge segmentation:   0%|          | 0/45 [00:00<?, ?it/s]"
      ]
     },
     "metadata": {},
     "output_type": "display_data"
    },
    {
     "data": {
      "application/vnd.jupyter.widget-view+json": {
       "model_id": "2b5ac6e08a6e4596a94554f1fcfd6ef4",
       "version_major": 2,
       "version_minor": 0
      },
      "text/plain": [
       "Edge segmentation:   0%|          | 0/10 [00:00<?, ?it/s]"
      ]
     },
     "metadata": {},
     "output_type": "display_data"
    },
    {
     "data": {
      "application/vnd.jupyter.widget-view+json": {
       "model_id": "9eef55a9f1b1477e98deed1461d297a0",
       "version_major": 2,
       "version_minor": 0
      },
      "text/plain": [
       "Edge segmentation:   0%|          | 0/36 [00:00<?, ?it/s]"
      ]
     },
     "metadata": {},
     "output_type": "display_data"
    },
    {
     "data": {
      "application/vnd.jupyter.widget-view+json": {
       "model_id": "9d8af90ff5b44d72875fdd55f8f88960",
       "version_major": 2,
       "version_minor": 0
      },
      "text/plain": [
       "Edge segmentation:   0%|          | 0/21 [00:00<?, ?it/s]"
      ]
     },
     "metadata": {},
     "output_type": "display_data"
    },
    {
     "data": {
      "application/vnd.jupyter.widget-view+json": {
       "model_id": "dbcd1ac8fe484f26b2b277ca8cc8da8a",
       "version_major": 2,
       "version_minor": 0
      },
      "text/plain": [
       "Edge segmentation:   0%|          | 0/3 [00:00<?, ?it/s]"
      ]
     },
     "metadata": {},
     "output_type": "display_data"
    },
    {
     "data": {
      "application/vnd.jupyter.widget-view+json": {
       "model_id": "609fec6944f24d56a06cb1550cfb3d2c",
       "version_major": 2,
       "version_minor": 0
      },
      "text/plain": [
       "Edge segmentation:   0%|          | 0/6 [00:00<?, ?it/s]"
      ]
     },
     "metadata": {},
     "output_type": "display_data"
    },
    {
     "data": {
      "application/vnd.jupyter.widget-view+json": {
       "model_id": "8048bdbe738c4bdfa7128fd8e585bfee",
       "version_major": 2,
       "version_minor": 0
      },
      "text/plain": [
       "Edge segmentation:   0%|          | 0/3 [00:00<?, ?it/s]"
      ]
     },
     "metadata": {},
     "output_type": "display_data"
    },
    {
     "data": {
      "application/vnd.jupyter.widget-view+json": {
       "model_id": "e969475397d44d8eadd1577a7c38f428",
       "version_major": 2,
       "version_minor": 0
      },
      "text/plain": [
       "Edge segmentation:   0%|          | 0/15 [00:00<?, ?it/s]"
      ]
     },
     "metadata": {},
     "output_type": "display_data"
    },
    {
     "data": {
      "application/vnd.jupyter.widget-view+json": {
       "model_id": "23243278ca88433d8614e1bdf6cf11b7",
       "version_major": 2,
       "version_minor": 0
      },
      "text/plain": [
       "Edge segmentation:   0%|          | 0/36 [00:00<?, ?it/s]"
      ]
     },
     "metadata": {},
     "output_type": "display_data"
    },
    {
     "data": {
      "application/vnd.jupyter.widget-view+json": {
       "model_id": "8fc631cf0a184a49afe9f55d5ae21fab",
       "version_major": 2,
       "version_minor": 0
      },
      "text/plain": [
       "Edge segmentation:   0%|          | 0/45 [00:00<?, ?it/s]"
      ]
     },
     "metadata": {},
     "output_type": "display_data"
    },
    {
     "data": {
      "application/vnd.jupyter.widget-view+json": {
       "model_id": "c3a8f6653def45f5822b1e6e7aacb9ab",
       "version_major": 2,
       "version_minor": 0
      },
      "text/plain": [
       "Edge segmentation:   0%|          | 0/15 [00:00<?, ?it/s]"
      ]
     },
     "metadata": {},
     "output_type": "display_data"
    },
    {
     "data": {
      "application/vnd.jupyter.widget-view+json": {
       "model_id": "de0de015e0754a1bac601f4a1a68a30a",
       "version_major": 2,
       "version_minor": 0
      },
      "text/plain": [
       "Edge segmentation:   0%|          | 0/21 [00:00<?, ?it/s]"
      ]
     },
     "metadata": {},
     "output_type": "display_data"
    },
    {
     "data": {
      "application/vnd.jupyter.widget-view+json": {
       "model_id": "a41d06d66e2b4f72b2e7d4f3adf5eac5",
       "version_major": 2,
       "version_minor": 0
      },
      "text/plain": [
       "Edge segmentation:   0%|          | 0/45 [00:00<?, ?it/s]"
      ]
     },
     "metadata": {},
     "output_type": "display_data"
    },
    {
     "data": {
      "application/vnd.jupyter.widget-view+json": {
       "model_id": "9b03c89ef83b42dbbdf9dd15623f4b1a",
       "version_major": 2,
       "version_minor": 0
      },
      "text/plain": [
       "Edge segmentation:   0%|          | 0/15 [00:00<?, ?it/s]"
      ]
     },
     "metadata": {},
     "output_type": "display_data"
    },
    {
     "data": {
      "application/vnd.jupyter.widget-view+json": {
       "model_id": "fa61b44cf6e240358340da75099942c9",
       "version_major": 2,
       "version_minor": 0
      },
      "text/plain": [
       "Edge segmentation:   0%|          | 0/6 [00:00<?, ?it/s]"
      ]
     },
     "metadata": {},
     "output_type": "display_data"
    },
    {
     "data": {
      "application/vnd.jupyter.widget-view+json": {
       "model_id": "bcc25917d6894964ad35deefea4e6604",
       "version_major": 2,
       "version_minor": 0
      },
      "text/plain": [
       "Edge segmentation: 0it [00:00, ?it/s]"
      ]
     },
     "metadata": {},
     "output_type": "display_data"
    },
    {
     "data": {
      "application/vnd.jupyter.widget-view+json": {
       "model_id": "b3acaa6993d44c0f8112835ab83beabc",
       "version_major": 2,
       "version_minor": 0
      },
      "text/plain": [
       "Edge segmentation:   0%|          | 0/21 [00:00<?, ?it/s]"
      ]
     },
     "metadata": {},
     "output_type": "display_data"
    },
    {
     "data": {
      "application/vnd.jupyter.widget-view+json": {
       "model_id": "efddeef70c5249d6b6451388a908b96b",
       "version_major": 2,
       "version_minor": 0
      },
      "text/plain": [
       "Edge segmentation:   0%|          | 0/15 [00:00<?, ?it/s]"
      ]
     },
     "metadata": {},
     "output_type": "display_data"
    },
    {
     "data": {
      "application/vnd.jupyter.widget-view+json": {
       "model_id": "d88f0fefe5be424da854c77fc9c5b7df",
       "version_major": 2,
       "version_minor": 0
      },
      "text/plain": [
       "Edge segmentation:   0%|          | 0/21 [00:00<?, ?it/s]"
      ]
     },
     "metadata": {},
     "output_type": "display_data"
    },
    {
     "data": {
      "application/vnd.jupyter.widget-view+json": {
       "model_id": "616c715ca6a54a32bbceff0c909fdd24",
       "version_major": 2,
       "version_minor": 0
      },
      "text/plain": [
       "Edge segmentation:   0%|          | 0/15 [00:00<?, ?it/s]"
      ]
     },
     "metadata": {},
     "output_type": "display_data"
    },
    {
     "data": {
      "application/vnd.jupyter.widget-view+json": {
       "model_id": "1ef167f173964d1c8c0da26f21c0a580",
       "version_major": 2,
       "version_minor": 0
      },
      "text/plain": [
       "Edge segmentation:   0%|          | 0/10 [00:00<?, ?it/s]"
      ]
     },
     "metadata": {},
     "output_type": "display_data"
    },
    {
     "data": {
      "application/vnd.jupyter.widget-view+json": {
       "model_id": "edd7961502b346c6b74cf352be4f80eb",
       "version_major": 2,
       "version_minor": 0
      },
      "text/plain": [
       "Edge segmentation:   0%|          | 0/28 [00:00<?, ?it/s]"
      ]
     },
     "metadata": {},
     "output_type": "display_data"
    },
    {
     "data": {
      "application/vnd.jupyter.widget-view+json": {
       "model_id": "edb3282aca224665ba0ed525c28b4717",
       "version_major": 2,
       "version_minor": 0
      },
      "text/plain": [
       "Edge segmentation:   0%|          | 0/6 [00:00<?, ?it/s]"
      ]
     },
     "metadata": {},
     "output_type": "display_data"
    },
    {
     "data": {
      "application/vnd.jupyter.widget-view+json": {
       "model_id": "7ebb4e052a5649d38453f3be5b6fcb88",
       "version_major": 2,
       "version_minor": 0
      },
      "text/plain": [
       "Edge segmentation:   0%|          | 0/36 [00:00<?, ?it/s]"
      ]
     },
     "metadata": {},
     "output_type": "display_data"
    },
    {
     "data": {
      "application/vnd.jupyter.widget-view+json": {
       "model_id": "617c3194c5d846c3aa85f7bd4fe862af",
       "version_major": 2,
       "version_minor": 0
      },
      "text/plain": [
       "Edge segmentation:   0%|          | 0/1 [00:00<?, ?it/s]"
      ]
     },
     "metadata": {},
     "output_type": "display_data"
    },
    {
     "data": {
      "application/vnd.jupyter.widget-view+json": {
       "model_id": "516e9187952c44348ec249301daf5e42",
       "version_major": 2,
       "version_minor": 0
      },
      "text/plain": [
       "Edge segmentation:   0%|          | 0/28 [00:00<?, ?it/s]"
      ]
     },
     "metadata": {},
     "output_type": "display_data"
    },
    {
     "data": {
      "application/vnd.jupyter.widget-view+json": {
       "model_id": "d6e9dd7c3ff84a7ca343e64242b31e8a",
       "version_major": 2,
       "version_minor": 0
      },
      "text/plain": [
       "Edge segmentation:   0%|          | 0/21 [00:00<?, ?it/s]"
      ]
     },
     "metadata": {},
     "output_type": "display_data"
    },
    {
     "data": {
      "application/vnd.jupyter.widget-view+json": {
       "model_id": "0339a324cd434181bce7711eb305501d",
       "version_major": 2,
       "version_minor": 0
      },
      "text/plain": [
       "Edge segmentation:   0%|          | 0/6 [00:00<?, ?it/s]"
      ]
     },
     "metadata": {},
     "output_type": "display_data"
    },
    {
     "data": {
      "application/vnd.jupyter.widget-view+json": {
       "model_id": "d051987a475c45218a97344b9c4dc94a",
       "version_major": 2,
       "version_minor": 0
      },
      "text/plain": [
       "Edge segmentation:   0%|          | 0/15 [00:00<?, ?it/s]"
      ]
     },
     "metadata": {},
     "output_type": "display_data"
    },
    {
     "data": {
      "application/vnd.jupyter.widget-view+json": {
       "model_id": "cad64273d7a442cab8052a78bb0c53ff",
       "version_major": 2,
       "version_minor": 0
      },
      "text/plain": [
       "Edge segmentation:   0%|          | 0/6 [00:00<?, ?it/s]"
      ]
     },
     "metadata": {},
     "output_type": "display_data"
    },
    {
     "data": {
      "application/vnd.jupyter.widget-view+json": {
       "model_id": "34c66d01fdad435fa9f3d5d081397f42",
       "version_major": 2,
       "version_minor": 0
      },
      "text/plain": [
       "Edge segmentation:   0%|          | 0/21 [00:00<?, ?it/s]"
      ]
     },
     "metadata": {},
     "output_type": "display_data"
    },
    {
     "data": {
      "application/vnd.jupyter.widget-view+json": {
       "model_id": "def14b8e0b61460791bbb1d04922c456",
       "version_major": 2,
       "version_minor": 0
      },
      "text/plain": [
       "Edge segmentation:   0%|          | 0/36 [00:00<?, ?it/s]"
      ]
     },
     "metadata": {},
     "output_type": "display_data"
    },
    {
     "data": {
      "application/vnd.jupyter.widget-view+json": {
       "model_id": "88ee51a483ef47eaa48ae5a693f1a86b",
       "version_major": 2,
       "version_minor": 0
      },
      "text/plain": [
       "Edge segmentation:   0%|          | 0/15 [00:00<?, ?it/s]"
      ]
     },
     "metadata": {},
     "output_type": "display_data"
    },
    {
     "data": {
      "application/vnd.jupyter.widget-view+json": {
       "model_id": "e67a3502baf941a396379292ec764322",
       "version_major": 2,
       "version_minor": 0
      },
      "text/plain": [
       "Edge segmentation:   0%|          | 0/15 [00:00<?, ?it/s]"
      ]
     },
     "metadata": {},
     "output_type": "display_data"
    },
    {
     "data": {
      "application/vnd.jupyter.widget-view+json": {
       "model_id": "3c4fa040ab424ecd8a1cdad96fd10a61",
       "version_major": 2,
       "version_minor": 0
      },
      "text/plain": [
       "Edge segmentation:   0%|          | 0/1 [00:00<?, ?it/s]"
      ]
     },
     "metadata": {},
     "output_type": "display_data"
    },
    {
     "data": {
      "application/vnd.jupyter.widget-view+json": {
       "model_id": "b41636ceefdc499397d82f281fc25918",
       "version_major": 2,
       "version_minor": 0
      },
      "text/plain": [
       "Edge segmentation:   0%|          | 0/15 [00:00<?, ?it/s]"
      ]
     },
     "metadata": {},
     "output_type": "display_data"
    },
    {
     "data": {
      "application/vnd.jupyter.widget-view+json": {
       "model_id": "3b123b26b72f42f2b2b97706540de67c",
       "version_major": 2,
       "version_minor": 0
      },
      "text/plain": [
       "Edge segmentation:   0%|          | 0/28 [00:00<?, ?it/s]"
      ]
     },
     "metadata": {},
     "output_type": "display_data"
    },
    {
     "data": {
      "application/vnd.jupyter.widget-view+json": {
       "model_id": "9d57650a7c5e4baea6863c3945a784a1",
       "version_major": 2,
       "version_minor": 0
      },
      "text/plain": [
       "Edge segmentation:   0%|          | 0/3 [00:00<?, ?it/s]"
      ]
     },
     "metadata": {},
     "output_type": "display_data"
    },
    {
     "data": {
      "application/vnd.jupyter.widget-view+json": {
       "model_id": "3584752d0b9e4af8a91a810f0f2fcaf7",
       "version_major": 2,
       "version_minor": 0
      },
      "text/plain": [
       "Edge segmentation:   0%|          | 0/21 [00:00<?, ?it/s]"
      ]
     },
     "metadata": {},
     "output_type": "display_data"
    },
    {
     "data": {
      "application/vnd.jupyter.widget-view+json": {
       "model_id": "604d718acb5a4df8a2bc2a70098de054",
       "version_major": 2,
       "version_minor": 0
      },
      "text/plain": [
       "Edge segmentation:   0%|          | 0/15 [00:00<?, ?it/s]"
      ]
     },
     "metadata": {},
     "output_type": "display_data"
    },
    {
     "data": {
      "application/vnd.jupyter.widget-view+json": {
       "model_id": "6159eb6ae8a44db4827dfc0343691ab4",
       "version_major": 2,
       "version_minor": 0
      },
      "text/plain": [
       "Edge segmentation:   0%|          | 0/6 [00:00<?, ?it/s]"
      ]
     },
     "metadata": {},
     "output_type": "display_data"
    },
    {
     "data": {
      "application/vnd.jupyter.widget-view+json": {
       "model_id": "5cc267c48e024167af16c24bc85990b3",
       "version_major": 2,
       "version_minor": 0
      },
      "text/plain": [
       "Edge segmentation:   0%|          | 0/10 [00:00<?, ?it/s]"
      ]
     },
     "metadata": {},
     "output_type": "display_data"
    },
    {
     "data": {
      "application/vnd.jupyter.widget-view+json": {
       "model_id": "f174bc977a1545779bdb21a9f3039ba4",
       "version_major": 2,
       "version_minor": 0
      },
      "text/plain": [
       "Edge segmentation:   0%|          | 0/15 [00:00<?, ?it/s]"
      ]
     },
     "metadata": {},
     "output_type": "display_data"
    },
    {
     "data": {
      "application/vnd.jupyter.widget-view+json": {
       "model_id": "b48908c985814921b0737c9b809924a2",
       "version_major": 2,
       "version_minor": 0
      },
      "text/plain": [
       "Edge segmentation:   0%|          | 0/3 [00:00<?, ?it/s]"
      ]
     },
     "metadata": {},
     "output_type": "display_data"
    },
    {
     "data": {
      "application/vnd.jupyter.widget-view+json": {
       "model_id": "cc9187a84f344e6e8a040ad35bfe7990",
       "version_major": 2,
       "version_minor": 0
      },
      "text/plain": [
       "Edge segmentation:   0%|          | 0/10 [00:00<?, ?it/s]"
      ]
     },
     "metadata": {},
     "output_type": "display_data"
    },
    {
     "data": {
      "application/vnd.jupyter.widget-view+json": {
       "model_id": "e9df68a5f72c4e3db0d5638b17fbe818",
       "version_major": 2,
       "version_minor": 0
      },
      "text/plain": [
       "Edge segmentation:   0%|          | 0/21 [00:00<?, ?it/s]"
      ]
     },
     "metadata": {},
     "output_type": "display_data"
    },
    {
     "data": {
      "application/vnd.jupyter.widget-view+json": {
       "model_id": "006c0b76c6ea4177964800d0d24fad30",
       "version_major": 2,
       "version_minor": 0
      },
      "text/plain": [
       "Edge segmentation:   0%|          | 0/6 [00:00<?, ?it/s]"
      ]
     },
     "metadata": {},
     "output_type": "display_data"
    },
    {
     "data": {
      "application/vnd.jupyter.widget-view+json": {
       "model_id": "ea675e012792423bab433bf030732c58",
       "version_major": 2,
       "version_minor": 0
      },
      "text/plain": [
       "Edge segmentation:   0%|          | 0/6 [00:00<?, ?it/s]"
      ]
     },
     "metadata": {},
     "output_type": "display_data"
    },
    {
     "data": {
      "application/vnd.jupyter.widget-view+json": {
       "model_id": "d1890e4589a44544990c3af615e91757",
       "version_major": 2,
       "version_minor": 0
      },
      "text/plain": [
       "Edge segmentation:   0%|          | 0/3 [00:00<?, ?it/s]"
      ]
     },
     "metadata": {},
     "output_type": "display_data"
    },
    {
     "data": {
      "application/vnd.jupyter.widget-view+json": {
       "model_id": "590cb8fd6ece4f21978828a2c82c3d2a",
       "version_major": 2,
       "version_minor": 0
      },
      "text/plain": [
       "Edge segmentation: 0it [00:00, ?it/s]"
      ]
     },
     "metadata": {},
     "output_type": "display_data"
    },
    {
     "data": {
      "application/vnd.jupyter.widget-view+json": {
       "model_id": "54e7b5234eee4700b37d05866ad2293c",
       "version_major": 2,
       "version_minor": 0
      },
      "text/plain": [
       "Edge segmentation:   0%|          | 0/10 [00:00<?, ?it/s]"
      ]
     },
     "metadata": {},
     "output_type": "display_data"
    },
    {
     "data": {
      "application/vnd.jupyter.widget-view+json": {
       "model_id": "664a13980b4b4b75b72986b575639c11",
       "version_major": 2,
       "version_minor": 0
      },
      "text/plain": [
       "Edge segmentation:   0%|          | 0/6 [00:00<?, ?it/s]"
      ]
     },
     "metadata": {},
     "output_type": "display_data"
    },
    {
     "data": {
      "application/vnd.jupyter.widget-view+json": {
       "model_id": "cf9b51b5f60341608868a2a028381d34",
       "version_major": 2,
       "version_minor": 0
      },
      "text/plain": [
       "Edge segmentation:   0%|          | 0/3 [00:00<?, ?it/s]"
      ]
     },
     "metadata": {},
     "output_type": "display_data"
    },
    {
     "data": {
      "application/vnd.jupyter.widget-view+json": {
       "model_id": "011423a73ddb42078e65fa9bb996eac8",
       "version_major": 2,
       "version_minor": 0
      },
      "text/plain": [
       "Edge segmentation: 0it [00:00, ?it/s]"
      ]
     },
     "metadata": {},
     "output_type": "display_data"
    },
    {
     "name": "stdout",
     "output_type": "stream",
     "text": [
      " \n",
      "*** Profile stats marshalled to file '/tmp/tmpdbe6zf1s'.\n",
      "Embedding SnakeViz in this document...\n",
      "<function display at 0x7ddd4efefba0>\n"
     ]
    },
    {
     "data": {
      "text/html": [
       "\n",
       "<iframe id='snakeviz-73a5940a-3789-11ef-9ff5-7486e223398f' frameborder=0 seamless width='100%' height='1000'></iframe>\n",
       "<script>document.getElementById(\"snakeviz-73a5940a-3789-11ef-9ff5-7486e223398f\").setAttribute(\"src\", \"http://\" + document.location.hostname + \":8080/snakeviz/%2Ftmp%2Ftmpdbe6zf1s\")</script>\n"
      ],
      "text/plain": [
       "<IPython.core.display.HTML object>"
      ]
     },
     "metadata": {},
     "output_type": "display_data"
    }
   ],
   "source": [
    "%%snakeviz\n",
    "start_time = time.time()\n",
    "seg.edge_segmentation()\n",
    "# print(\"--- %s seconds ---\" % (time.time() - start_time))\n",
    "#2.09e+3"
   ]
  },
  {
   "cell_type": "code",
   "execution_count": 8,
   "id": "85ef8827",
   "metadata": {
    "scrolled": true
   },
   "outputs": [
    {
     "data": {
      "application/vnd.jupyter.widget-view+json": {
       "model_id": "5e210591e5ab490a8f97444027f61aa8",
       "version_major": 2,
       "version_minor": 0
      },
      "text/plain": [
       "Cell:   0%|          | 0/80 [00:00<?, ?it/s]"
      ]
     },
     "metadata": {},
     "output_type": "display_data"
    },
    {
     "data": {
      "application/vnd.jupyter.widget-view+json": {
       "model_id": "dba7c735382043d2ae4e83d6b79101c1",
       "version_major": 2,
       "version_minor": 0
      },
      "text/plain": [
       "Face segmentation:   0%|          | 0/5 [00:00<?, ?it/s]"
      ]
     },
     "metadata": {},
     "output_type": "display_data"
    },
    {
     "data": {
      "application/vnd.jupyter.widget-view+json": {
       "model_id": "bcf0c34a894f483cbe49ea9f9c9ea327",
       "version_major": 2,
       "version_minor": 0
      },
      "text/plain": [
       "Face segmentation:   0%|          | 0/9 [00:00<?, ?it/s]"
      ]
     },
     "metadata": {},
     "output_type": "display_data"
    },
    {
     "data": {
      "application/vnd.jupyter.widget-view+json": {
       "model_id": "b60784149b324be3a623754699dff0e8",
       "version_major": 2,
       "version_minor": 0
      },
      "text/plain": [
       "Face segmentation:   0%|          | 0/8 [00:00<?, ?it/s]"
      ]
     },
     "metadata": {},
     "output_type": "display_data"
    },
    {
     "data": {
      "application/vnd.jupyter.widget-view+json": {
       "model_id": "dbaff367515242bc8d2b3f314d1d345f",
       "version_major": 2,
       "version_minor": 0
      },
      "text/plain": [
       "Face segmentation:   0%|          | 0/10 [00:00<?, ?it/s]"
      ]
     },
     "metadata": {},
     "output_type": "display_data"
    },
    {
     "data": {
      "application/vnd.jupyter.widget-view+json": {
       "model_id": "a24e22ba42ba4d5ea4f8796fd62454c2",
       "version_major": 2,
       "version_minor": 0
      },
      "text/plain": [
       "Face segmentation:   0%|          | 0/32 [00:00<?, ?it/s]"
      ]
     },
     "metadata": {},
     "output_type": "display_data"
    },
    {
     "data": {
      "application/vnd.jupyter.widget-view+json": {
       "model_id": "78b607ff041944cea8a620b27ade8905",
       "version_major": 2,
       "version_minor": 0
      },
      "text/plain": [
       "Face segmentation:   0%|          | 0/22 [00:00<?, ?it/s]"
      ]
     },
     "metadata": {},
     "output_type": "display_data"
    },
    {
     "data": {
      "application/vnd.jupyter.widget-view+json": {
       "model_id": "fca2acd77af24ca6b41adbdf4e7387e3",
       "version_major": 2,
       "version_minor": 0
      },
      "text/plain": [
       "Face segmentation:   0%|          | 0/5 [00:00<?, ?it/s]"
      ]
     },
     "metadata": {},
     "output_type": "display_data"
    },
    {
     "data": {
      "application/vnd.jupyter.widget-view+json": {
       "model_id": "473fd2b813da4792b1e023060c703996",
       "version_major": 2,
       "version_minor": 0
      },
      "text/plain": [
       "Face segmentation:   0%|          | 0/5 [00:00<?, ?it/s]"
      ]
     },
     "metadata": {},
     "output_type": "display_data"
    },
    {
     "data": {
      "application/vnd.jupyter.widget-view+json": {
       "model_id": "21e127c7e5264be8802321fe7bf8e3bb",
       "version_major": 2,
       "version_minor": 0
      },
      "text/plain": [
       "Face segmentation:   0%|          | 0/13 [00:00<?, ?it/s]"
      ]
     },
     "metadata": {},
     "output_type": "display_data"
    },
    {
     "data": {
      "application/vnd.jupyter.widget-view+json": {
       "model_id": "9753328887d944f4b99a8e085ea5b14f",
       "version_major": 2,
       "version_minor": 0
      },
      "text/plain": [
       "Face segmentation:   0%|          | 0/5 [00:00<?, ?it/s]"
      ]
     },
     "metadata": {},
     "output_type": "display_data"
    },
    {
     "data": {
      "application/vnd.jupyter.widget-view+json": {
       "model_id": "cecf7886b9e3404a9755c20679ca1d89",
       "version_major": 2,
       "version_minor": 0
      },
      "text/plain": [
       "Face segmentation:   0%|          | 0/2 [00:00<?, ?it/s]"
      ]
     },
     "metadata": {},
     "output_type": "display_data"
    },
    {
     "data": {
      "application/vnd.jupyter.widget-view+json": {
       "model_id": "d38c8df72497424cb0979c0edcccf7a3",
       "version_major": 2,
       "version_minor": 0
      },
      "text/plain": [
       "Face segmentation:   0%|          | 0/19 [00:00<?, ?it/s]"
      ]
     },
     "metadata": {},
     "output_type": "display_data"
    },
    {
     "data": {
      "application/vnd.jupyter.widget-view+json": {
       "model_id": "df3511dc8ca14e7590b57b291f17b562",
       "version_major": 2,
       "version_minor": 0
      },
      "text/plain": [
       "Face segmentation:   0%|          | 0/10 [00:00<?, ?it/s]"
      ]
     },
     "metadata": {},
     "output_type": "display_data"
    },
    {
     "data": {
      "application/vnd.jupyter.widget-view+json": {
       "model_id": "a0535882891742799530f749b4387184",
       "version_major": 2,
       "version_minor": 0
      },
      "text/plain": [
       "Face segmentation:   0%|          | 0/3 [00:00<?, ?it/s]"
      ]
     },
     "metadata": {},
     "output_type": "display_data"
    },
    {
     "data": {
      "application/vnd.jupyter.widget-view+json": {
       "model_id": "ca99709e63dc4dce8d71b5f241324074",
       "version_major": 2,
       "version_minor": 0
      },
      "text/plain": [
       "Face segmentation:   0%|          | 0/5 [00:00<?, ?it/s]"
      ]
     },
     "metadata": {},
     "output_type": "display_data"
    },
    {
     "data": {
      "application/vnd.jupyter.widget-view+json": {
       "model_id": "8ebb14bb88b14e458ad2a0853fe4992c",
       "version_major": 2,
       "version_minor": 0
      },
      "text/plain": [
       "Face segmentation:   0%|          | 0/5 [00:00<?, ?it/s]"
      ]
     },
     "metadata": {},
     "output_type": "display_data"
    },
    {
     "data": {
      "application/vnd.jupyter.widget-view+json": {
       "model_id": "b0d7b11071ab447c97ce2686f4c22604",
       "version_major": 2,
       "version_minor": 0
      },
      "text/plain": [
       "Face segmentation:   0%|          | 0/7 [00:00<?, ?it/s]"
      ]
     },
     "metadata": {},
     "output_type": "display_data"
    },
    {
     "data": {
      "application/vnd.jupyter.widget-view+json": {
       "model_id": "7f8aeac10d0e4745b0a6bce904f4bb95",
       "version_major": 2,
       "version_minor": 0
      },
      "text/plain": [
       "Face segmentation:   0%|          | 0/10 [00:00<?, ?it/s]"
      ]
     },
     "metadata": {},
     "output_type": "display_data"
    },
    {
     "data": {
      "application/vnd.jupyter.widget-view+json": {
       "model_id": "54a1db51d4d94cf5b12a6b7ebaeba961",
       "version_major": 2,
       "version_minor": 0
      },
      "text/plain": [
       "Face segmentation:   0%|          | 0/20 [00:00<?, ?it/s]"
      ]
     },
     "metadata": {},
     "output_type": "display_data"
    },
    {
     "data": {
      "application/vnd.jupyter.widget-view+json": {
       "model_id": "8cf11b0f199547b69061708e79aec1e2",
       "version_major": 2,
       "version_minor": 0
      },
      "text/plain": [
       "Face segmentation:   0%|          | 0/17 [00:00<?, ?it/s]"
      ]
     },
     "metadata": {},
     "output_type": "display_data"
    },
    {
     "data": {
      "application/vnd.jupyter.widget-view+json": {
       "model_id": "64f8857644d14556812cdd60265d5c5e",
       "version_major": 2,
       "version_minor": 0
      },
      "text/plain": [
       "Face segmentation:   0%|          | 0/4 [00:00<?, ?it/s]"
      ]
     },
     "metadata": {},
     "output_type": "display_data"
    },
    {
     "data": {
      "application/vnd.jupyter.widget-view+json": {
       "model_id": "256b7435947a4bf8829e635ace1c41c5",
       "version_major": 2,
       "version_minor": 0
      },
      "text/plain": [
       "Face segmentation:   0%|          | 0/7 [00:00<?, ?it/s]"
      ]
     },
     "metadata": {},
     "output_type": "display_data"
    },
    {
     "data": {
      "application/vnd.jupyter.widget-view+json": {
       "model_id": "ff09b3bcbd77403bb9b36da1d502226c",
       "version_major": 2,
       "version_minor": 0
      },
      "text/plain": [
       "Face segmentation:   0%|          | 0/15 [00:00<?, ?it/s]"
      ]
     },
     "metadata": {},
     "output_type": "display_data"
    },
    {
     "data": {
      "application/vnd.jupyter.widget-view+json": {
       "model_id": "fe718ea47e01492aad4ff03ab5e5274d",
       "version_major": 2,
       "version_minor": 0
      },
      "text/plain": [
       "Face segmentation:   0%|          | 0/18 [00:00<?, ?it/s]"
      ]
     },
     "metadata": {},
     "output_type": "display_data"
    },
    {
     "data": {
      "application/vnd.jupyter.widget-view+json": {
       "model_id": "ccafdf7b090549a0add6478bdc6e144a",
       "version_major": 2,
       "version_minor": 0
      },
      "text/plain": [
       "Face segmentation:   0%|          | 0/20 [00:00<?, ?it/s]"
      ]
     },
     "metadata": {},
     "output_type": "display_data"
    },
    {
     "data": {
      "application/vnd.jupyter.widget-view+json": {
       "model_id": "36b3c551040e4444b452f52751f4193e",
       "version_major": 2,
       "version_minor": 0
      },
      "text/plain": [
       "Face segmentation:   0%|          | 0/24 [00:00<?, ?it/s]"
      ]
     },
     "metadata": {},
     "output_type": "display_data"
    },
    {
     "data": {
      "application/vnd.jupyter.widget-view+json": {
       "model_id": "3a794eb3b7bb436d9aa8cf7a7cc6c010",
       "version_major": 2,
       "version_minor": 0
      },
      "text/plain": [
       "Face segmentation:   0%|          | 0/28 [00:00<?, ?it/s]"
      ]
     },
     "metadata": {},
     "output_type": "display_data"
    },
    {
     "data": {
      "application/vnd.jupyter.widget-view+json": {
       "model_id": "b3c44f0d49a643dc8aae6255d4669616",
       "version_major": 2,
       "version_minor": 0
      },
      "text/plain": [
       "Face segmentation:   0%|          | 0/16 [00:00<?, ?it/s]"
      ]
     },
     "metadata": {},
     "output_type": "display_data"
    },
    {
     "data": {
      "application/vnd.jupyter.widget-view+json": {
       "model_id": "c50d09d02bff4882a752619ecb567c49",
       "version_major": 2,
       "version_minor": 0
      },
      "text/plain": [
       "Face segmentation:   0%|          | 0/24 [00:00<?, ?it/s]"
      ]
     },
     "metadata": {},
     "output_type": "display_data"
    },
    {
     "data": {
      "application/vnd.jupyter.widget-view+json": {
       "model_id": "5b122f19fe444cc78dcf167a2b567d8f",
       "version_major": 2,
       "version_minor": 0
      },
      "text/plain": [
       "Face segmentation:   0%|          | 0/11 [00:00<?, ?it/s]"
      ]
     },
     "metadata": {},
     "output_type": "display_data"
    },
    {
     "data": {
      "application/vnd.jupyter.widget-view+json": {
       "model_id": "419f8d87c74e40b891bb959f3d183b32",
       "version_major": 2,
       "version_minor": 0
      },
      "text/plain": [
       "Face segmentation:   0%|          | 0/3 [00:00<?, ?it/s]"
      ]
     },
     "metadata": {},
     "output_type": "display_data"
    },
    {
     "data": {
      "application/vnd.jupyter.widget-view+json": {
       "model_id": "8f00810aaf834b71aee3f1e3fbb4219e",
       "version_major": 2,
       "version_minor": 0
      },
      "text/plain": [
       "Face segmentation:   0%|          | 0/9 [00:00<?, ?it/s]"
      ]
     },
     "metadata": {},
     "output_type": "display_data"
    },
    {
     "data": {
      "application/vnd.jupyter.widget-view+json": {
       "model_id": "3dd19ebea4f2409cb7eb3d3b2d590f98",
       "version_major": 2,
       "version_minor": 0
      },
      "text/plain": [
       "Face segmentation:   0%|          | 0/2 [00:00<?, ?it/s]"
      ]
     },
     "metadata": {},
     "output_type": "display_data"
    },
    {
     "data": {
      "application/vnd.jupyter.widget-view+json": {
       "model_id": "549a30bff87e4453a81237e303f8b978",
       "version_major": 2,
       "version_minor": 0
      },
      "text/plain": [
       "Face segmentation:   0%|          | 0/11 [00:00<?, ?it/s]"
      ]
     },
     "metadata": {},
     "output_type": "display_data"
    },
    {
     "data": {
      "application/vnd.jupyter.widget-view+json": {
       "model_id": "b96494652a3848b887b23aeaafa81484",
       "version_major": 2,
       "version_minor": 0
      },
      "text/plain": [
       "Face segmentation:   0%|          | 0/16 [00:00<?, ?it/s]"
      ]
     },
     "metadata": {},
     "output_type": "display_data"
    },
    {
     "data": {
      "application/vnd.jupyter.widget-view+json": {
       "model_id": "a46d6ab57f084d158833904b65de30ba",
       "version_major": 2,
       "version_minor": 0
      },
      "text/plain": [
       "Face segmentation:   0%|          | 0/60 [00:00<?, ?it/s]"
      ]
     },
     "metadata": {},
     "output_type": "display_data"
    },
    {
     "data": {
      "application/vnd.jupyter.widget-view+json": {
       "model_id": "9245dba107ee4a5992fcca0d8d4750da",
       "version_major": 2,
       "version_minor": 0
      },
      "text/plain": [
       "Face segmentation:   0%|          | 0/10 [00:00<?, ?it/s]"
      ]
     },
     "metadata": {},
     "output_type": "display_data"
    },
    {
     "data": {
      "application/vnd.jupyter.widget-view+json": {
       "model_id": "103809197e454e9ca30c907bb477884d",
       "version_major": 2,
       "version_minor": 0
      },
      "text/plain": [
       "Face segmentation:   0%|          | 0/23 [00:00<?, ?it/s]"
      ]
     },
     "metadata": {},
     "output_type": "display_data"
    },
    {
     "data": {
      "application/vnd.jupyter.widget-view+json": {
       "model_id": "7cd6b121d31b423d893a6dd63e787560",
       "version_major": 2,
       "version_minor": 0
      },
      "text/plain": [
       "Face segmentation:   0%|          | 0/16 [00:00<?, ?it/s]"
      ]
     },
     "metadata": {},
     "output_type": "display_data"
    },
    {
     "data": {
      "application/vnd.jupyter.widget-view+json": {
       "model_id": "de88a845aa1140d98a9e8c2b5630f994",
       "version_major": 2,
       "version_minor": 0
      },
      "text/plain": [
       "Face segmentation:   0%|          | 0/8 [00:00<?, ?it/s]"
      ]
     },
     "metadata": {},
     "output_type": "display_data"
    },
    {
     "data": {
      "application/vnd.jupyter.widget-view+json": {
       "model_id": "21b914e7fa024a78a78e87ca1020663f",
       "version_major": 2,
       "version_minor": 0
      },
      "text/plain": [
       "Face segmentation:   0%|          | 0/7 [00:00<?, ?it/s]"
      ]
     },
     "metadata": {},
     "output_type": "display_data"
    },
    {
     "data": {
      "application/vnd.jupyter.widget-view+json": {
       "model_id": "93034615848f45bdbc14556676c8b6d7",
       "version_major": 2,
       "version_minor": 0
      },
      "text/plain": [
       "Face segmentation:   0%|          | 0/13 [00:00<?, ?it/s]"
      ]
     },
     "metadata": {},
     "output_type": "display_data"
    },
    {
     "data": {
      "application/vnd.jupyter.widget-view+json": {
       "model_id": "ebdc0fd8afa3419b8912be34646dfff8",
       "version_major": 2,
       "version_minor": 0
      },
      "text/plain": [
       "Face segmentation:   0%|          | 0/22 [00:00<?, ?it/s]"
      ]
     },
     "metadata": {},
     "output_type": "display_data"
    },
    {
     "data": {
      "application/vnd.jupyter.widget-view+json": {
       "model_id": "92e28d24d4ef472c97ef1d34438ac6bd",
       "version_major": 2,
       "version_minor": 0
      },
      "text/plain": [
       "Face segmentation:   0%|          | 0/23 [00:00<?, ?it/s]"
      ]
     },
     "metadata": {},
     "output_type": "display_data"
    },
    {
     "data": {
      "application/vnd.jupyter.widget-view+json": {
       "model_id": "a95ebed57f874e7d8ba1971aee47cd42",
       "version_major": 2,
       "version_minor": 0
      },
      "text/plain": [
       "Face segmentation:   0%|          | 0/18 [00:00<?, ?it/s]"
      ]
     },
     "metadata": {},
     "output_type": "display_data"
    },
    {
     "data": {
      "application/vnd.jupyter.widget-view+json": {
       "model_id": "0da8def477194de0bf46098328fe0017",
       "version_major": 2,
       "version_minor": 0
      },
      "text/plain": [
       "Face segmentation:   0%|          | 0/12 [00:00<?, ?it/s]"
      ]
     },
     "metadata": {},
     "output_type": "display_data"
    },
    {
     "data": {
      "application/vnd.jupyter.widget-view+json": {
       "model_id": "e10aea180609438bb5e48c865518490e",
       "version_major": 2,
       "version_minor": 0
      },
      "text/plain": [
       "Face segmentation:   0%|          | 0/29 [00:00<?, ?it/s]"
      ]
     },
     "metadata": {},
     "output_type": "display_data"
    },
    {
     "data": {
      "application/vnd.jupyter.widget-view+json": {
       "model_id": "23297b6ac5b44a8690aa29831fc35d0c",
       "version_major": 2,
       "version_minor": 0
      },
      "text/plain": [
       "Face segmentation:   0%|          | 0/4 [00:00<?, ?it/s]"
      ]
     },
     "metadata": {},
     "output_type": "display_data"
    },
    {
     "data": {
      "application/vnd.jupyter.widget-view+json": {
       "model_id": "74ea3fffe0ee4826b5ff148187246676",
       "version_major": 2,
       "version_minor": 0
      },
      "text/plain": [
       "Face segmentation:   0%|          | 0/17 [00:00<?, ?it/s]"
      ]
     },
     "metadata": {},
     "output_type": "display_data"
    },
    {
     "data": {
      "application/vnd.jupyter.widget-view+json": {
       "model_id": "a58264c02d954d839b4831afafe01ee7",
       "version_major": 2,
       "version_minor": 0
      },
      "text/plain": [
       "Face segmentation:   0%|          | 0/2 [00:00<?, ?it/s]"
      ]
     },
     "metadata": {},
     "output_type": "display_data"
    },
    {
     "data": {
      "application/vnd.jupyter.widget-view+json": {
       "model_id": "30ec3481d7834c86ad0f3d41af2eb958",
       "version_major": 2,
       "version_minor": 0
      },
      "text/plain": [
       "Face segmentation:   0%|          | 0/23 [00:00<?, ?it/s]"
      ]
     },
     "metadata": {},
     "output_type": "display_data"
    },
    {
     "data": {
      "application/vnd.jupyter.widget-view+json": {
       "model_id": "c45c2e1a695949babdfa2ad8d8b0b17e",
       "version_major": 2,
       "version_minor": 0
      },
      "text/plain": [
       "Face segmentation:   0%|          | 0/8 [00:00<?, ?it/s]"
      ]
     },
     "metadata": {},
     "output_type": "display_data"
    },
    {
     "data": {
      "application/vnd.jupyter.widget-view+json": {
       "model_id": "f6b7df71ba514087993c693a6c3ed321",
       "version_major": 2,
       "version_minor": 0
      },
      "text/plain": [
       "Face segmentation:   0%|          | 0/4 [00:00<?, ?it/s]"
      ]
     },
     "metadata": {},
     "output_type": "display_data"
    },
    {
     "data": {
      "application/vnd.jupyter.widget-view+json": {
       "model_id": "09f19a7cdb4844469b61f2d0160f0396",
       "version_major": 2,
       "version_minor": 0
      },
      "text/plain": [
       "Face segmentation:   0%|          | 0/11 [00:00<?, ?it/s]"
      ]
     },
     "metadata": {},
     "output_type": "display_data"
    },
    {
     "data": {
      "application/vnd.jupyter.widget-view+json": {
       "model_id": "f7cd91a891514e3e9ff6c4e4b7858897",
       "version_major": 2,
       "version_minor": 0
      },
      "text/plain": [
       "Face segmentation:   0%|          | 0/4 [00:00<?, ?it/s]"
      ]
     },
     "metadata": {},
     "output_type": "display_data"
    },
    {
     "data": {
      "application/vnd.jupyter.widget-view+json": {
       "model_id": "f3b17d405578482a83a428a223c8ca77",
       "version_major": 2,
       "version_minor": 0
      },
      "text/plain": [
       "Face segmentation:   0%|          | 0/18 [00:00<?, ?it/s]"
      ]
     },
     "metadata": {},
     "output_type": "display_data"
    },
    {
     "data": {
      "application/vnd.jupyter.widget-view+json": {
       "model_id": "281b2b8c917d492fb2cf1dabaf065ef2",
       "version_major": 2,
       "version_minor": 0
      },
      "text/plain": [
       "Face segmentation:   0%|          | 0/13 [00:00<?, ?it/s]"
      ]
     },
     "metadata": {},
     "output_type": "display_data"
    },
    {
     "data": {
      "application/vnd.jupyter.widget-view+json": {
       "model_id": "32206484700d4322996acf325955043d",
       "version_major": 2,
       "version_minor": 0
      },
      "text/plain": [
       "Face segmentation:   0%|          | 0/26 [00:00<?, ?it/s]"
      ]
     },
     "metadata": {},
     "output_type": "display_data"
    },
    {
     "data": {
      "application/vnd.jupyter.widget-view+json": {
       "model_id": "0c40a9f92914413eb1c40fa670249aa0",
       "version_major": 2,
       "version_minor": 0
      },
      "text/plain": [
       "Face segmentation:   0%|          | 0/25 [00:00<?, ?it/s]"
      ]
     },
     "metadata": {},
     "output_type": "display_data"
    },
    {
     "data": {
      "application/vnd.jupyter.widget-view+json": {
       "model_id": "fbb2f7562ebe418e9453b0a0bc7e68d6",
       "version_major": 2,
       "version_minor": 0
      },
      "text/plain": [
       "Face segmentation:   0%|          | 0/2 [00:00<?, ?it/s]"
      ]
     },
     "metadata": {},
     "output_type": "display_data"
    },
    {
     "data": {
      "application/vnd.jupyter.widget-view+json": {
       "model_id": "05f5c518c2564603bd084faeeaa9dce3",
       "version_major": 2,
       "version_minor": 0
      },
      "text/plain": [
       "Face segmentation:   0%|          | 0/11 [00:00<?, ?it/s]"
      ]
     },
     "metadata": {},
     "output_type": "display_data"
    },
    {
     "data": {
      "application/vnd.jupyter.widget-view+json": {
       "model_id": "b024f55e5eb34ada9c95b94524def8d4",
       "version_major": 2,
       "version_minor": 0
      },
      "text/plain": [
       "Face segmentation:   0%|          | 0/73 [00:00<?, ?it/s]"
      ]
     },
     "metadata": {},
     "output_type": "display_data"
    },
    {
     "data": {
      "application/vnd.jupyter.widget-view+json": {
       "model_id": "403be0fa0d0c46a781fcd9012da95054",
       "version_major": 2,
       "version_minor": 0
      },
      "text/plain": [
       "Face segmentation:   0%|          | 0/3 [00:00<?, ?it/s]"
      ]
     },
     "metadata": {},
     "output_type": "display_data"
    },
    {
     "data": {
      "application/vnd.jupyter.widget-view+json": {
       "model_id": "8405ae7ab769462190bff6fe6a9e4f7c",
       "version_major": 2,
       "version_minor": 0
      },
      "text/plain": [
       "Face segmentation:   0%|          | 0/17 [00:00<?, ?it/s]"
      ]
     },
     "metadata": {},
     "output_type": "display_data"
    },
    {
     "data": {
      "application/vnd.jupyter.widget-view+json": {
       "model_id": "a709bb5205b44249b35d45b55908d7a8",
       "version_major": 2,
       "version_minor": 0
      },
      "text/plain": [
       "Face segmentation:   0%|          | 0/16 [00:00<?, ?it/s]"
      ]
     },
     "metadata": {},
     "output_type": "display_data"
    },
    {
     "data": {
      "application/vnd.jupyter.widget-view+json": {
       "model_id": "1899313526e34ae19543622b5cf3970a",
       "version_major": 2,
       "version_minor": 0
      },
      "text/plain": [
       "Face segmentation:   0%|          | 0/4 [00:00<?, ?it/s]"
      ]
     },
     "metadata": {},
     "output_type": "display_data"
    },
    {
     "data": {
      "application/vnd.jupyter.widget-view+json": {
       "model_id": "fe3c0cf97ab44a4ca592c5eb0ec59f7c",
       "version_major": 2,
       "version_minor": 0
      },
      "text/plain": [
       "Face segmentation:   0%|          | 0/12 [00:00<?, ?it/s]"
      ]
     },
     "metadata": {},
     "output_type": "display_data"
    },
    {
     "data": {
      "application/vnd.jupyter.widget-view+json": {
       "model_id": "29aefc62973842adbf222041ea578adc",
       "version_major": 2,
       "version_minor": 0
      },
      "text/plain": [
       "Face segmentation:   0%|          | 0/12 [00:00<?, ?it/s]"
      ]
     },
     "metadata": {},
     "output_type": "display_data"
    },
    {
     "data": {
      "application/vnd.jupyter.widget-view+json": {
       "model_id": "fc051037ce42405bb7e92ee2fb8849c5",
       "version_major": 2,
       "version_minor": 0
      },
      "text/plain": [
       "Face segmentation:   0%|          | 0/2 [00:00<?, ?it/s]"
      ]
     },
     "metadata": {},
     "output_type": "display_data"
    },
    {
     "data": {
      "application/vnd.jupyter.widget-view+json": {
       "model_id": "a65dea41d86b4240a9197a9fa9680e38",
       "version_major": 2,
       "version_minor": 0
      },
      "text/plain": [
       "Face segmentation:   0%|          | 0/7 [00:00<?, ?it/s]"
      ]
     },
     "metadata": {},
     "output_type": "display_data"
    },
    {
     "data": {
      "application/vnd.jupyter.widget-view+json": {
       "model_id": "2d0136310c774b6b98594e4c52d130de",
       "version_major": 2,
       "version_minor": 0
      },
      "text/plain": [
       "Face segmentation:   0%|          | 0/11 [00:00<?, ?it/s]"
      ]
     },
     "metadata": {},
     "output_type": "display_data"
    },
    {
     "data": {
      "application/vnd.jupyter.widget-view+json": {
       "model_id": "081b097c6d584e6cb308e9917beebe31",
       "version_major": 2,
       "version_minor": 0
      },
      "text/plain": [
       "Face segmentation:   0%|          | 0/6 [00:00<?, ?it/s]"
      ]
     },
     "metadata": {},
     "output_type": "display_data"
    },
    {
     "data": {
      "application/vnd.jupyter.widget-view+json": {
       "model_id": "b9a686aaa9824c65ba4ea1c9319a775a",
       "version_major": 2,
       "version_minor": 0
      },
      "text/plain": [
       "Face segmentation:   0%|          | 0/7 [00:00<?, ?it/s]"
      ]
     },
     "metadata": {},
     "output_type": "display_data"
    },
    {
     "data": {
      "application/vnd.jupyter.widget-view+json": {
       "model_id": "7ce5bd2be14a433989ba193082e435ba",
       "version_major": 2,
       "version_minor": 0
      },
      "text/plain": [
       "Face segmentation:   0%|          | 0/5 [00:00<?, ?it/s]"
      ]
     },
     "metadata": {},
     "output_type": "display_data"
    },
    {
     "data": {
      "application/vnd.jupyter.widget-view+json": {
       "model_id": "2be6f20a99d74fdfb3630a25ce97a655",
       "version_major": 2,
       "version_minor": 0
      },
      "text/plain": [
       "Face segmentation:   0%|          | 0/7 [00:00<?, ?it/s]"
      ]
     },
     "metadata": {},
     "output_type": "display_data"
    },
    {
     "data": {
      "application/vnd.jupyter.widget-view+json": {
       "model_id": "08fb75c956f14916818434c05820a68f",
       "version_major": 2,
       "version_minor": 0
      },
      "text/plain": [
       "Face segmentation:   0%|          | 0/4 [00:00<?, ?it/s]"
      ]
     },
     "metadata": {},
     "output_type": "display_data"
    },
    {
     "data": {
      "application/vnd.jupyter.widget-view+json": {
       "model_id": "6066edf1ad734ae2a7712aa16316953f",
       "version_major": 2,
       "version_minor": 0
      },
      "text/plain": [
       "Face segmentation:   0%|          | 0/5 [00:00<?, ?it/s]"
      ]
     },
     "metadata": {},
     "output_type": "display_data"
    },
    {
     "name": "stdout",
     "output_type": "stream",
     "text": [
      " \n",
      "*** Profile stats marshalled to file '/tmp/tmp9irwxwv5'.\n",
      "Embedding SnakeViz in this document...\n",
      "<function display at 0x7ddd4efefba0>\n"
     ]
    },
    {
     "data": {
      "text/html": [
       "\n",
       "<iframe id='snakeviz-0eef942e-378a-11ef-9ff5-7486e223398f' frameborder=0 seamless width='100%' height='1000'></iframe>\n",
       "<script>document.getElementById(\"snakeviz-0eef942e-378a-11ef-9ff5-7486e223398f\").setAttribute(\"src\", \"http://\" + document.location.hostname + \":8080/snakeviz/%2Ftmp%2Ftmp9irwxwv5\")</script>\n"
      ],
      "text/plain": [
       "<IPython.core.display.HTML object>"
      ]
     },
     "metadata": {},
     "output_type": "display_data"
    }
   ],
   "source": [
    "%%snakeviz\n",
    "start_time = time.time()\n",
    "seg.face_segmentation()\n",
    "# print(\"--- %s seconds ---\" % (time.time() - start_time))"
   ]
  },
  {
   "cell_type": "code",
   "execution_count": null,
   "id": "93435a92",
   "metadata": {},
   "outputs": [],
   "source": []
  },
  {
   "cell_type": "code",
   "execution_count": null,
   "id": "d3d8c3b6",
   "metadata": {},
   "outputs": [],
   "source": []
  },
  {
   "cell_type": "code",
   "execution_count": null,
   "id": "0bf1c4cd",
   "metadata": {},
   "outputs": [],
   "source": []
  },
  {
   "cell_type": "code",
   "execution_count": 14,
   "id": "f839cc1c",
   "metadata": {
    "scrolled": false
   },
   "outputs": [
    {
     "name": "stdout",
     "output_type": "stream",
     "text": [
      " \n",
      "*** Profile stats marshalled to file '/tmp/tmpbplsmwaf'.\n",
      "Embedding SnakeViz in this document...\n",
      "<function display at 0x7f4d1404c2c0>\n"
     ]
    },
    {
     "data": {
      "text/html": [
       "\n",
       "<iframe id='snakeviz-b69d90d4-950c-11ee-80e7-7486e223398f' frameborder=0 seamless width='100%' height='1000'></iframe>\n",
       "<script>document.getElementById(\"snakeviz-b69d90d4-950c-11ee-80e7-7486e223398f\").setAttribute(\"src\", \"http://\" + document.location.hostname + \":8080/snakeviz/%2Ftmp%2Ftmpbplsmwaf\")</script>\n"
      ],
      "text/plain": [
       "<IPython.core.display.HTML object>"
      ]
     },
     "metadata": {},
     "output_type": "display_data"
    }
   ],
   "source": [
    "%%snakeviz\n",
    "cell_analysis(seg)\n",
    "# 1sec"
   ]
  },
  {
   "cell_type": "code",
   "execution_count": 11,
   "id": "57951742",
   "metadata": {},
   "outputs": [
    {
     "name": "stdout",
     "output_type": "stream",
     "text": [
      " \n",
      "*** Profile stats marshalled to file '/tmp/tmpt4z0xyu9'.\n",
      "Embedding SnakeViz in this document...\n"
     ]
    },
    {
     "data": {
      "text/html": [
       "\n",
       "<iframe id='snakeviz-9e013e66-5242-11ee-b456-7181333d19e3' frameborder=0 seamless width='100%' height='1000'></iframe>\n",
       "<script>document.getElementById(\"snakeviz-9e013e66-5242-11ee-b456-7181333d19e3\").setAttribute(\"src\", \"http://\" + document.location.hostname + \":8080/snakeviz/%2Ftmp%2Ftmpt4z0xyu9\")</script>\n"
      ],
      "text/plain": [
       "<IPython.core.display.HTML object>"
      ]
     },
     "metadata": {},
     "output_type": "display_data"
    }
   ],
   "source": [
    "%%snakeviz\n",
    "edge_analysis(seg)"
   ]
  },
  {
   "cell_type": "code",
   "execution_count": null,
   "id": "e3647fb0",
   "metadata": {},
   "outputs": [],
   "source": []
  },
  {
   "cell_type": "code",
   "execution_count": 5,
   "id": "63d85e05",
   "metadata": {},
   "outputs": [
    {
     "name": "stdout",
     "output_type": "stream",
     "text": [
      " \n",
      "*** Profile stats marshalled to file '/tmp/tmpvtkllpbp'.\n",
      "Embedding SnakeViz in this document...\n"
     ]
    },
    {
     "data": {
      "text/html": [
       "\n",
       "<iframe id='snakeviz-d1b3469a-5243-11ee-9a74-83fd96f9179f' frameborder=0 seamless width='100%' height='1000'></iframe>\n",
       "<script>document.getElementById(\"snakeviz-d1b3469a-5243-11ee-9a74-83fd96f9179f\").setAttribute(\"src\", \"http://\" + document.location.hostname + \":8080/snakeviz/%2Ftmp%2Ftmpvtkllpbp\")</script>\n"
      ],
      "text/plain": [
       "<IPython.core.display.HTML object>"
      ]
     },
     "metadata": {},
     "output_type": "display_data"
    }
   ],
   "source": [
    "%%snakeviz\n",
    "face_analysis(seg)"
   ]
  },
  {
   "cell_type": "code",
   "execution_count": null,
   "id": "9b029186",
   "metadata": {},
   "outputs": [],
   "source": []
  },
  {
   "cell_type": "code",
   "execution_count": null,
   "id": "a133b091",
   "metadata": {},
   "outputs": [],
   "source": []
  },
  {
   "cell_type": "code",
   "execution_count": null,
   "id": "07671536",
   "metadata": {},
   "outputs": [],
   "source": []
  },
  {
   "cell_type": "code",
   "execution_count": null,
   "id": "416857f3",
   "metadata": {},
   "outputs": [],
   "source": []
  },
  {
   "cell_type": "code",
   "execution_count": null,
   "id": "9360997d",
   "metadata": {},
   "outputs": [],
   "source": []
  },
  {
   "cell_type": "code",
   "execution_count": null,
   "id": "0fd39f61",
   "metadata": {},
   "outputs": [],
   "source": []
  },
  {
   "cell_type": "code",
   "execution_count": null,
   "id": "c228a675",
   "metadata": {},
   "outputs": [],
   "source": []
  },
  {
   "cell_type": "code",
   "execution_count": null,
   "id": "31541cab",
   "metadata": {},
   "outputs": [],
   "source": []
  },
  {
   "cell_type": "code",
   "execution_count": null,
   "id": "cb4d5f2d",
   "metadata": {},
   "outputs": [],
   "source": []
  }
 ],
 "metadata": {
  "kernelspec": {
   "display_name": "Python 3 (ipykernel)",
   "language": "python",
   "name": "python3"
  },
  "language_info": {
   "codemirror_mode": {
    "name": "ipython",
    "version": 3
   },
   "file_extension": ".py",
   "mimetype": "text/x-python",
   "name": "python",
   "nbconvert_exporter": "python",
   "pygments_lexer": "ipython3",
   "version": "3.11.5"
  }
 },
 "nbformat": 4,
 "nbformat_minor": 5
}
