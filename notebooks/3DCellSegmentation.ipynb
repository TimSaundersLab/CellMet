{
 "cells": [
  {
   "cell_type": "code",
   "execution_count": 1,
   "id": "e1d9bbca",
   "metadata": {},
   "outputs": [],
   "source": [
    "import os\n",
    "import time\n",
    "import numpy as np\n",
    "import pandas as pd\n",
    "\n",
    "from skimage import io\n",
    "\n",
    "import matplotlib.pyplot as plt\n",
    "\n",
    "from CellSeg.segmentation import Segmentation\n",
    "%load_ext snakeviz"
   ]
  },
  {
   "cell_type": "code",
   "execution_count": 2,
   "id": "efcfe2a7",
   "metadata": {},
   "outputs": [
    {
     "name": "stdout",
     "output_type": "stream",
     "text": [
      "Automatic pdb calling has been turned ON\n"
     ]
    }
   ],
   "source": [
    "%pdb"
   ]
  },
  {
   "cell_type": "code",
   "execution_count": 3,
   "id": "2b706ec8",
   "metadata": {},
   "outputs": [],
   "source": [
    "path = \"../data/ctrl/\"\n",
    "seg_filename = \"ResultofC1-Composite_cp_masks-edited.tif\"\n",
    "\n",
    "pixel_size = dict(x_size = 0.183,\n",
    "                  y_size = 0.183,\n",
    "                  z_size = 0.5,)"
   ]
  },
  {
   "cell_type": "code",
   "execution_count": 4,
   "id": "ec1fd4f2",
   "metadata": {},
   "outputs": [],
   "source": [
    "\n",
    "image = io.imread(os.path.join(path, seg_filename))\n",
    "seg = Segmentation(image, pixel_size, path)"
   ]
  },
  {
   "cell_type": "code",
   "execution_count": 5,
   "id": "177c4f1b",
   "metadata": {},
   "outputs": [
    {
     "name": "stdout",
     "output_type": "stream",
     "text": [
      "This folder npz is not empty, \n",
      "If you want to save file here, turn overright to True\n",
      " \n",
      "*** Profile stats marshalled to file '/tmp/tmph96jlnk0'.\n",
      "Embedding SnakeViz in this document...\n"
     ]
    },
    {
     "data": {
      "text/html": [
       "\n",
       "<iframe id='snakeviz-66be4ebc-5157-11ee-ad78-3dcdcd48f63f' frameborder=0 seamless width='100%' height='1000'></iframe>\n",
       "<script>document.getElementById(\"snakeviz-66be4ebc-5157-11ee-ad78-3dcdcd48f63f\").setAttribute(\"src\", \"http://\" + document.location.hostname + \":8080/snakeviz/%2Ftmp%2Ftmph96jlnk0\")</script>\n"
      ],
      "text/plain": [
       "<IPython.core.display.HTML object>"
      ]
     },
     "metadata": {},
     "output_type": "display_data"
    }
   ],
   "source": [
    "%%snakeviz\n",
    "start_time = time.time()\n",
    "seg.perform_prerequisite()\n",
    "# print(\"--- %s seconds ---\" % (time.time() - start_time))"
   ]
  },
  {
   "cell_type": "code",
   "execution_count": 6,
   "id": "e6c9569e",
   "metadata": {},
   "outputs": [
    {
     "name": "stdout",
     "output_type": "stream",
     "text": [
      " \n",
      "*** Profile stats marshalled to file '/tmp/tmpxek4384l'.\n",
      "Embedding SnakeViz in this document...\n"
     ]
    },
    {
     "data": {
      "text/html": [
       "\n",
       "<iframe id='snakeviz-74b4f230-5145-11ee-8b67-0f437c62ebdf' frameborder=0 seamless width='100%' height='1000'></iframe>\n",
       "<script>document.getElementById(\"snakeviz-74b4f230-5145-11ee-8b67-0f437c62ebdf\").setAttribute(\"src\", \"http://\" + document.location.hostname + \":8080/snakeviz/%2Ftmp%2Ftmpxek4384l\")</script>\n"
      ],
      "text/plain": [
       "<IPython.core.display.HTML object>"
      ]
     },
     "metadata": {},
     "output_type": "display_data"
    }
   ],
   "source": [
    "%%snakeviz\n",
    "start_time = time.time()\n",
    "seg.cell_segmentation()\n",
    "# print(\"--- %s seconds ---\" % (time.time() - start_time))\n"
   ]
  },
  {
   "cell_type": "code",
   "execution_count": 7,
   "id": "9f3b1292",
   "metadata": {
    "scrolled": false
   },
   "outputs": [
    {
     "name": "stdout",
     "output_type": "stream",
     "text": [
      " \n",
      "*** Profile stats marshalled to file '/tmp/tmpaazyt44v'.\n",
      "Embedding SnakeViz in this document...\n"
     ]
    },
    {
     "data": {
      "text/html": [
       "\n",
       "<iframe id='snakeviz-924b1bfc-514b-11ee-8b67-0f437c62ebdf' frameborder=0 seamless width='100%' height='1000'></iframe>\n",
       "<script>document.getElementById(\"snakeviz-924b1bfc-514b-11ee-8b67-0f437c62ebdf\").setAttribute(\"src\", \"http://\" + document.location.hostname + \":8080/snakeviz/%2Ftmp%2Ftmpaazyt44v\")</script>\n"
      ],
      "text/plain": [
       "<IPython.core.display.HTML object>"
      ]
     },
     "metadata": {},
     "output_type": "display_data"
    }
   ],
   "source": [
    "%%snakeviz\n",
    "start_time = time.time()\n",
    "seg.edge_segmentation()\n",
    "# print(\"--- %s seconds ---\" % (time.time() - start_time))\n",
    "#2.62e+3s"
   ]
  },
  {
   "cell_type": "code",
   "execution_count": 5,
   "id": "85ef8827",
   "metadata": {
    "scrolled": false
   },
   "outputs": [
    {
     "name": "stdout",
     "output_type": "stream",
     "text": [
      " \n",
      "*** Profile stats marshalled to file '/tmp/tmpycw5uyvl'.\n",
      "Embedding SnakeViz in this document...\n"
     ]
    },
    {
     "data": {
      "text/html": [
       "\n",
       "<iframe id='snakeviz-7d8f4156-5183-11ee-9ee0-815430f6ff32' frameborder=0 seamless width='100%' height='1000'></iframe>\n",
       "<script>document.getElementById(\"snakeviz-7d8f4156-5183-11ee-9ee0-815430f6ff32\").setAttribute(\"src\", \"http://\" + document.location.hostname + \":8080/snakeviz/%2Ftmp%2Ftmpycw5uyvl\")</script>\n"
      ],
      "text/plain": [
       "<IPython.core.display.HTML object>"
      ]
     },
     "metadata": {},
     "output_type": "display_data"
    }
   ],
   "source": [
    "%%snakeviz\n",
    "start_time = time.time()\n",
    "seg.face_segmentation()\n",
    "# print(\"--- %s seconds ---\" % (time.time() - start_time))\n",
    "#631 sec\n",
    "# 20 cells -> 207 sec avec np.where\n",
    "# 51 sec without np.where\n",
    "# 101 with sparse matrix"
   ]
  },
  {
   "cell_type": "code",
   "execution_count": null,
   "id": "ee096f89",
   "metadata": {},
   "outputs": [],
   "source": []
  },
  {
   "cell_type": "code",
   "execution_count": 6,
   "id": "c23f8b88",
   "metadata": {},
   "outputs": [],
   "source": [
    "import sparse\n",
    "sp_mat = sparse.load_npz(os.path.join(path, \"npz/\" + str(int(102)) + \".npz\"))\n",
    "img_cell = sp_mat.todense()"
   ]
  },
  {
   "cell_type": "code",
   "execution_count": null,
   "id": "670ca3d9",
   "metadata": {},
   "outputs": [],
   "source": []
  },
  {
   "cell_type": "code",
   "execution_count": 8,
   "id": "f01c8de5",
   "metadata": {},
   "outputs": [
    {
     "data": {
      "text/plain": [
       "array([141.18219088, 451.06476814, 201.99999204])"
      ]
     },
     "execution_count": 8,
     "metadata": {},
     "output_type": "execute_result"
    }
   ],
   "source": [
    "sp_mat.coords.mean(axis=1)"
   ]
  },
  {
   "cell_type": "code",
   "execution_count": 30,
   "id": "16d1f8e4",
   "metadata": {},
   "outputs": [
    {
     "data": {
      "text/plain": [
       "array([ 30,  30,  30, ..., 259, 259, 259])"
      ]
     },
     "execution_count": 30,
     "metadata": {},
     "output_type": "execute_result"
    }
   ],
   "source": [
    "x"
   ]
  },
  {
   "cell_type": "code",
   "execution_count": 5,
   "id": "fae67f95",
   "metadata": {},
   "outputs": [],
   "source": [
    "from CellSeg.segmentation import find_ordered_neighbours, find_paths\n",
    "edge_df = pd.read_csv(os.path.join(path, \"edge_df.csv\"))\n"
   ]
  },
  {
   "cell_type": "code",
   "execution_count": 23,
   "id": "ff0c0ca9",
   "metadata": {},
   "outputs": [
    {
     "data": {
      "text/html": [
       "<div>\n",
       "<style scoped>\n",
       "    .dataframe tbody tr th:only-of-type {\n",
       "        vertical-align: middle;\n",
       "    }\n",
       "\n",
       "    .dataframe tbody tr th {\n",
       "        vertical-align: top;\n",
       "    }\n",
       "\n",
       "    .dataframe thead th {\n",
       "        text-align: right;\n",
       "    }\n",
       "</style>\n",
       "<table border=\"1\" class=\"dataframe\">\n",
       "  <thead>\n",
       "    <tr style=\"text-align: right;\">\n",
       "      <th></th>\n",
       "      <th>Unnamed: 0</th>\n",
       "      <th>id_im_1</th>\n",
       "      <th>id_im_2</th>\n",
       "      <th>id_im_3</th>\n",
       "      <th>x_mean</th>\n",
       "      <th>y_mean</th>\n",
       "      <th>z_mean</th>\n",
       "    </tr>\n",
       "  </thead>\n",
       "  <tbody>\n",
       "    <tr>\n",
       "      <th>10</th>\n",
       "      <td>10</td>\n",
       "      <td>115.0</td>\n",
       "      <td>102.0</td>\n",
       "      <td>158.0</td>\n",
       "      <td>174.042508</td>\n",
       "      <td>420.814028</td>\n",
       "      <td>151.891605</td>\n",
       "    </tr>\n",
       "    <tr>\n",
       "      <th>11</th>\n",
       "      <td>11</td>\n",
       "      <td>115.0</td>\n",
       "      <td>158.0</td>\n",
       "      <td>232.0</td>\n",
       "      <td>163.960912</td>\n",
       "      <td>403.350706</td>\n",
       "      <td>160.757872</td>\n",
       "    </tr>\n",
       "    <tr>\n",
       "      <th>12</th>\n",
       "      <td>12</td>\n",
       "      <td>115.0</td>\n",
       "      <td>391.0</td>\n",
       "      <td>232.0</td>\n",
       "      <td>170.923077</td>\n",
       "      <td>307.769231</td>\n",
       "      <td>271.923077</td>\n",
       "    </tr>\n",
       "    <tr>\n",
       "      <th>13</th>\n",
       "      <td>13</td>\n",
       "      <td>115.0</td>\n",
       "      <td>232.0</td>\n",
       "      <td>673.0</td>\n",
       "      <td>96.182622</td>\n",
       "      <td>372.628866</td>\n",
       "      <td>207.114875</td>\n",
       "    </tr>\n",
       "    <tr>\n",
       "      <th>14</th>\n",
       "      <td>14</td>\n",
       "      <td>115.0</td>\n",
       "      <td>719.0</td>\n",
       "      <td>102.0</td>\n",
       "      <td>144.212727</td>\n",
       "      <td>424.910909</td>\n",
       "      <td>197.385455</td>\n",
       "    </tr>\n",
       "  </tbody>\n",
       "</table>\n",
       "</div>"
      ],
      "text/plain": [
       "    Unnamed: 0  id_im_1  id_im_2  id_im_3      x_mean      y_mean      z_mean\n",
       "10          10    115.0    102.0    158.0  174.042508  420.814028  151.891605\n",
       "11          11    115.0    158.0    232.0  163.960912  403.350706  160.757872\n",
       "12          12    115.0    391.0    232.0  170.923077  307.769231  271.923077\n",
       "13          13    115.0    232.0    673.0   96.182622  372.628866  207.114875\n",
       "14          14    115.0    719.0    102.0  144.212727  424.910909  197.385455"
      ]
     },
     "execution_count": 23,
     "metadata": {},
     "output_type": "execute_result"
    }
   ],
   "source": [
    "sub_edges = edge_df[edge_df['id_im_1'] == 115]\n",
    "sub_edges\n",
    "# # cyclic path\n",
    "# graph, ordered_neighbours, opp_cell = find_ordered_neighbours(sub_edges)"
   ]
  },
  {
   "cell_type": "code",
   "execution_count": 63,
   "id": "dc7085c7",
   "metadata": {},
   "outputs": [
    {
     "data": {
      "text/plain": [
       "(<networkx.classes.digraph.DiGraph at 0x7f05e9040e20>,\n",
       " [[None, 391.0, 232.0, 673.0, None],\n",
       "  [None, 719.0, 102.0, 158.0, 232.0, 673.0, None]],\n",
       " {0: (391.0, None, 391.0, 391.0, 232.0),\n",
       "  1: (232.0, 391.0, 232.0, 232.0, 673.0),\n",
       "  2: (673.0, 232.0, 673.0, 673.0, None),\n",
       "  3: (719.0, None, 719.0, 719.0, 102.0),\n",
       "  4: (102.0, 719.0, 102.0, 102.0, 158.0),\n",
       "  5: (158.0, 102.0, 158.0, 158.0, 232.0),\n",
       "  6: (232.0, 158.0, 232.0, 232.0, 673.0),\n",
       "  7: (673.0, 232.0, 673.0, 673.0, None)})"
      ]
     },
     "execution_count": 63,
     "metadata": {},
     "output_type": "execute_result"
    }
   ],
   "source": [
    "graph, ordered_neighbours1, opp_cell1 = find_paths(sub_edges)\n",
    "graph, ordered_neighbours1, opp_cell1"
   ]
  },
  {
   "cell_type": "code",
   "execution_count": 18,
   "id": "0c3db335",
   "metadata": {},
   "outputs": [
    {
     "data": {
      "text/plain": [
       "(<networkx.classes.digraph.DiGraph at 0x7f05e9a0b250>,\n",
       " [array([[673., 115.],\n",
       "         [115., 158.],\n",
       "         [158., 382.],\n",
       "         [382., 368.],\n",
       "         [368., 673.]]),\n",
       "  array([[673., 115.],\n",
       "         [115., 158.],\n",
       "         [158., 391.],\n",
       "         [391., 382.],\n",
       "         [382., 368.],\n",
       "         [368., 673.]]),\n",
       "  array([[673., 115.],\n",
       "         [115., 391.],\n",
       "         [391., 382.],\n",
       "         [382., 368.],\n",
       "         [368., 673.]])],\n",
       " {0: (115.0, 673.0, 115.0, 115.0, 158.0),\n",
       "  1: (158.0, 115.0, 158.0, 158.0, 382.0),\n",
       "  2: (382.0, 158.0, 382.0, 382.0, 368.0),\n",
       "  3: (368.0, 382.0, 368.0, 368.0, 673.0),\n",
       "  4: (673.0, 368.0, 673.0, 673.0, 115.0),\n",
       "  5: (158.0, 115.0, 158.0, 158.0, 391.0),\n",
       "  6: (391.0, 158.0, 391.0, 391.0, 382.0),\n",
       "  7: (382.0, 391.0, 382.0, 382.0, 368.0),\n",
       "  8: (115.0, 673.0, 115.0, 115.0, 391.0),\n",
       "  9: (391.0, 115.0, 391.0, 391.0, 382.0)})"
      ]
     },
     "execution_count": 18,
     "metadata": {},
     "output_type": "execute_result"
    }
   ],
   "source": [
    "graph, ordered_neighbours2, opp_cell2 = find_ordered_neighbours(sub_edges)\n",
    "graph, ordered_neighbours2, opp_cell2"
   ]
  },
  {
   "cell_type": "code",
   "execution_count": 13,
   "id": "c765ade1",
   "metadata": {},
   "outputs": [
    {
     "name": "stdout",
     "output_type": "stream",
     "text": [
      "0\n",
      "1\n",
      "2\n",
      "3\n",
      "4\n",
      "5\n",
      "6\n",
      "7\n"
     ]
    }
   ],
   "source": [
    "for c_op_index in opp_cell.keys():\n",
    "    print(c_op_index)"
   ]
  },
  {
   "cell_type": "code",
   "execution_count": 55,
   "id": "f67b72a5",
   "metadata": {},
   "outputs": [],
   "source": [
    "k_max = np.max(list(opp_cell1.keys()))+1\n",
    "for k, v in opp_cell2.items():\n",
    "    opp_cell1[k+k_max] = v"
   ]
  },
  {
   "cell_type": "code",
   "execution_count": 59,
   "id": "07a65a82",
   "metadata": {},
   "outputs": [
    {
     "data": {
      "text/plain": [
       "([[None, 391.0, 232.0, 673.0, None],\n",
       "  [None, 719.0, 102.0, 158.0, 232.0, 673.0, None]],\n",
       " {0: (391.0, None, 391.0, 391.0, 232.0),\n",
       "  1: (232.0, 391.0, 232.0, 232.0, 673.0),\n",
       "  2: (673.0, 232.0, 673.0, 673.0, None),\n",
       "  3: (719.0, None, 719.0, 719.0, 102.0),\n",
       "  4: (102.0, 719.0, 102.0, 102.0, 158.0),\n",
       "  5: (158.0, 102.0, 158.0, 158.0, 232.0),\n",
       "  6: (232.0, 158.0, 232.0, 232.0, 673.0),\n",
       "  7: (673.0, 232.0, 673.0, 673.0, None)})"
      ]
     },
     "execution_count": 59,
     "metadata": {},
     "output_type": "execute_result"
    }
   ],
   "source": [
    "def find_all_neighbours(sub_edges):\n",
    "    graph, ordered_neighbours1, opp_cell1 = find_ordered_neighbours(sub_edges)\n",
    "    graph, ordered_neighbours2, opp_cell2 = find_paths(sub_edges)\n",
    "\n",
    "    k_max = len(opp_cell1.keys())\n",
    "    for k, v in opp_cell2.items():\n",
    "        opp_cell1[k + k_max] = v\n",
    "\n",
    "    ordered_neighbours = ordered_neighbours1+ordered_neighbours2\n",
    "    return ordered_neighbours, opp_cell1\n",
    "find_all_neighbours(sub_edges)"
   ]
  },
  {
   "cell_type": "code",
   "execution_count": null,
   "id": "a8ba3fcc",
   "metadata": {},
   "outputs": [],
   "source": []
  },
  {
   "cell_type": "code",
   "execution_count": null,
   "id": "70042979",
   "metadata": {},
   "outputs": [],
   "source": []
  },
  {
   "cell_type": "code",
   "execution_count": null,
   "id": "7c34d471",
   "metadata": {},
   "outputs": [],
   "source": []
  },
  {
   "cell_type": "code",
   "execution_count": null,
   "id": "635b9ecc",
   "metadata": {},
   "outputs": [],
   "source": []
  }
 ],
 "metadata": {
  "kernelspec": {
   "display_name": "Python 3 (ipykernel)",
   "language": "python",
   "name": "python3"
  },
  "language_info": {
   "codemirror_mode": {
    "name": "ipython",
    "version": 3
   },
   "file_extension": ".py",
   "mimetype": "text/x-python",
   "name": "python",
   "nbconvert_exporter": "python",
   "pygments_lexer": "ipython3",
   "version": "3.9.12"
  }
 },
 "nbformat": 4,
 "nbformat_minor": 5
}
