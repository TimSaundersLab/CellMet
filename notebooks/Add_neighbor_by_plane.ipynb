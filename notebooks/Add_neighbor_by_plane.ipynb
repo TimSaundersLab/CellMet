{
 "cells": [
  {
   "cell_type": "code",
   "execution_count": null,
   "id": "b25ee21b",
   "metadata": {},
   "outputs": [],
   "source": [
    "import os\n",
    "import time\n",
    "import numpy as np\n",
    "import pandas as pd\n",
    "\n",
    "from skimage import io\n",
    "\n",
    "import matplotlib.pyplot as plt\n",
    "\n",
    "from CellSeg.segmentation import Segmentation\n",
    "from CellSeg.analysis import cell_analysis, edge_analysis, face_analysis\n",
    "%load_ext snakeviz"
   ]
  },
  {
   "cell_type": "code",
   "execution_count": null,
   "id": "7504f567",
   "metadata": {},
   "outputs": [],
   "source": []
  },
  {
   "cell_type": "code",
   "execution_count": null,
   "id": "9de5b8d4",
   "metadata": {},
   "outputs": [],
   "source": [
    "path = \"/mnt/sda1/Muscle_paper_2024/Data/24_28_72hpf/48hpf_2/\"\n",
    "seg_filename = \"230707-MMS-wt-rac1a-mKate-48hpf_02_abels_myotome_1.tif\"\n",
    "pixel_size = dict(x_size = 0.1071804,\n",
    "                  y_size = 0.1071804,\n",
    "                  z_size = 0.5,)\n",
    "\n",
    "# pixel_size = dict(x_size = 0.183,\n",
    "#                   y_size = 0.183,\n",
    "#                   z_size = 0.5,)"
   ]
  },
  {
   "cell_type": "code",
   "execution_count": null,
   "id": "ffdab699",
   "metadata": {},
   "outputs": [],
   "source": [
    "image = io.imread(os.path.join(path, seg_filename))\n"
   ]
  },
  {
   "cell_type": "code",
   "execution_count": null,
   "id": "aa60ce12",
   "metadata": {},
   "outputs": [],
   "source": [
    "seg = Segmentation(image, pixel_size, path, nb_core=2)"
   ]
  },
  {
   "cell_type": "code",
   "execution_count": null,
   "id": "09316e74",
   "metadata": {},
   "outputs": [],
   "source": [
    "cell_plane_df= pd.read_csv(os.path.join(seg.storage_path, \"cell_plane_df.csv\"), index_col=\"Unnamed: 0\")"
   ]
  },
  {
   "cell_type": "code",
   "execution_count": null,
   "id": "d9a5de6b",
   "metadata": {},
   "outputs": [],
   "source": [
    "cell_plane_df"
   ]
  },
  {
   "cell_type": "code",
   "execution_count": null,
   "id": "b8f1edfc",
   "metadata": {},
   "outputs": [],
   "source": [
    "# import sparse\n",
    "# from tqdm.auto import tqdm\n",
    "# from CellSeg import image as csimage\n",
    "\n",
    "# cell_plane_df = pd.read_csv(os.path.join(seg.storage_path, \"cell_plane_df.csv\"), index_col=\"Unnamed: 0\")\n",
    "# cell_plane_df[\"nb_neighbor\"] = -1\n",
    "\n",
    "# # for ti in tqdm(range(len(seg.unique_id_cells)), desc=\"Cell\", leave=True):\n",
    "# for ti in [150]:\n",
    "# # for c_id in seg.unique_id_cells:\n",
    "#     c_id = int(seg.unique_id_cells[ti])\n",
    "    \n",
    "#     sp_mat = sparse.load_npz(os.path.join(seg.storage_path, \"npz/\" + str(c_id) + \".npz\"))\n",
    "#     img_cell_dil = sp_mat.todense()\n",
    "#     img_cell = csimage.get_label(img_cell_dil, 1).astype(\"uint8\")\n",
    "#     img_cell_dil[img_cell_dil == 2] = 1\n",
    "#     img_multi = np.multiply(img_cell_dil, seg.label_image)\n",
    "    \n",
    "#     nb_neighbors_plane = []\n",
    "#     for z in range(img_multi.shape[0]):\n",
    "#         id_unique = pd.unique(img_multi[z].flatten())\n",
    "#         id_unique = np.delete(id_unique, np.where(id_unique == 0))\n",
    "#         if len(id_unique)==0:\n",
    "#             nb_neighbors_plane.append(np.nan)\n",
    "#         else:\n",
    "#             nb_neighbors_plane.append(len(id_unique))\n",
    "        \n",
    "#     for i, val in cell_plane_df[cell_plane_df[\"id_im\"]==c_id].iterrows():\n",
    "#         cell_plane_df.loc[i, \"nb_neighbor\"] = nb_neighbors_plane[int(val[\"z_center\"])]"
   ]
  },
  {
   "cell_type": "code",
   "execution_count": null,
   "id": "56896369",
   "metadata": {},
   "outputs": [],
   "source": [
    "import sparse\n",
    "import joblib\n",
    "from tqdm.auto import tqdm\n",
    "from CellSeg import image as csimage\n",
    "from CellSeg import utils as csutils\n",
    "\n",
    "def unique_id_plane(cell_plane_df, c_id, seg):\n",
    "    \n",
    "    sp_mat = sparse.load_npz(os.path.join(seg.storage_path, \"npz/\" + str(c_id) + \".npz\"))\n",
    "    img_cell_dil = sp_mat.todense()\n",
    "    img_cell = csimage.get_label(img_cell_dil, 1).astype(\"uint8\")\n",
    "    img_cell_dil[img_cell_dil == 2] = 1\n",
    "    img_multi = np.multiply(img_cell_dil, seg.label_image)\n",
    "    \n",
    "    nb_neighbors_plane = []\n",
    "    for z in range(img_multi.shape[0]):\n",
    "        id_unique = pd.unique(img_multi[z].flatten())\n",
    "        id_unique = np.delete(id_unique, np.where(id_unique == 0))\n",
    "        nb_neighbors_plane.append(len(id_unique))\n",
    "        \n",
    "    for i, val in cell_plane_df[cell_plane_df[\"id_im\"]==c_id].iterrows():\n",
    "        cell_plane_df.loc[i, \"nb_neighbor\"] = nb_neighbors_plane[int(val[\"z_center\"])]\n",
    "        \n",
    "\n",
    "\n",
    "cell_plane_df = pd.read_csv(os.path.join(seg.storage_path, \"cell_plane_df.csv\"), index_col=\"Unnamed: 0\")\n",
    "cell_plane_df[\"nb_neighbor\"] = -1\n",
    "\n",
    "delayed_call = [joblib.delayed(unique_id_plane)(cell_plane_df, int(c_id), seg) for c_id in\n",
    "                        seg.unique_id_cells]\n",
    "with csutils.tqdm_joblib(desc=\"more analysis\", total=len(seg.unique_id_cells)) as progress_bar:\n",
    "    res = joblib.Parallel(n_jobs=seg.nb_core, prefer=\"threads\")(delayed_call)\n"
   ]
  },
  {
   "cell_type": "code",
   "execution_count": null,
   "id": "d09d519a",
   "metadata": {},
   "outputs": [],
   "source": [
    "cell_plane_df"
   ]
  },
  {
   "cell_type": "code",
   "execution_count": null,
   "id": "387fdf52",
   "metadata": {},
   "outputs": [],
   "source": [
    "cell_plane_df.to_csv(os.path.join(seg.storage_path, \"cell_plane_df.csv\"))"
   ]
  },
  {
   "cell_type": "code",
   "execution_count": null,
   "id": "b587f03f",
   "metadata": {},
   "outputs": [],
   "source": []
  },
  {
   "cell_type": "code",
   "execution_count": null,
   "id": "7cca9c8e",
   "metadata": {},
   "outputs": [],
   "source": []
  },
  {
   "cell_type": "code",
   "execution_count": null,
   "id": "63d3e594",
   "metadata": {},
   "outputs": [],
   "source": []
  },
  {
   "cell_type": "code",
   "execution_count": null,
   "id": "65194838",
   "metadata": {},
   "outputs": [],
   "source": []
  },
  {
   "cell_type": "code",
   "execution_count": null,
   "id": "cf344d67",
   "metadata": {},
   "outputs": [],
   "source": []
  }
 ],
 "metadata": {
  "kernelspec": {
   "display_name": "Python 3 (ipykernel)",
   "language": "python",
   "name": "python3"
  },
  "language_info": {
   "codemirror_mode": {
    "name": "ipython",
    "version": 3
   },
   "file_extension": ".py",
   "mimetype": "text/x-python",
   "name": "python",
   "nbconvert_exporter": "python",
   "pygments_lexer": "ipython3",
   "version": "3.11.5"
  }
 },
 "nbformat": 4,
 "nbformat_minor": 5
}
