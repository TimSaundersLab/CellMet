{
 "cells": [
  {
   "cell_type": "code",
   "execution_count": 1,
   "id": "e1d9bbca",
   "metadata": {},
   "outputs": [],
   "source": [
    "import os\n",
    "import time\n",
    "import numpy as np\n",
    "import pandas as pd\n",
    "\n",
    "from skimage import io\n",
    "\n",
    "import matplotlib.pyplot as plt\n",
    "\n",
    "from CellSeg.segmentation import Segmentation\n",
    "from CellSeg.analysis import cell_analysis, edge_analysis, face_analysis\n",
    "%load_ext snakeviz"
   ]
  },
  {
   "cell_type": "code",
   "execution_count": null,
   "id": "d4c708a8",
   "metadata": {},
   "outputs": [],
   "source": []
  },
  {
   "cell_type": "code",
   "execution_count": 2,
   "id": "2b706ec8",
   "metadata": {},
   "outputs": [],
   "source": [
    "path = \"/home/u2175049/Documents/Code/CellSeg/notebooks/\"\n",
    "seg_filename = \"artificial_tissue_0.21_0.5__500*500_30cells.tif\"\n",
    "pixel_size = dict(x_size = 0.21,\n",
    "                  y_size = 0.21,\n",
    "                  z_size = 0.5,)\n",
    "\n",
    "# pixel_size = dict(x_size = 0.183,\n",
    "#                   y_size = 0.183,\n",
    "#                   z_size = 0.5,)"
   ]
  },
  {
   "cell_type": "code",
   "execution_count": 3,
   "id": "ec1fd4f2",
   "metadata": {},
   "outputs": [],
   "source": [
    "image = io.imread(os.path.join(path, seg_filename))\n"
   ]
  },
  {
   "cell_type": "code",
   "execution_count": null,
   "id": "3f2db45b",
   "metadata": {},
   "outputs": [],
   "source": []
  },
  {
   "cell_type": "code",
   "execution_count": 4,
   "id": "5408cd03",
   "metadata": {},
   "outputs": [],
   "source": [
    "seg = Segmentation(image, pixel_size, path)"
   ]
  },
  {
   "cell_type": "code",
   "execution_count": 5,
   "id": "177c4f1b",
   "metadata": {
    "scrolled": true
   },
   "outputs": [
    {
     "data": {
      "application/vnd.jupyter.widget-view+json": {
       "model_id": "4134d6fd96fe423a82db21687345cad5",
       "version_major": 2,
       "version_minor": 0
      },
      "text/plain": [
       "Save NPZ:   0%|          | 0/30 [00:00<?, ?it/s]"
      ]
     },
     "metadata": {},
     "output_type": "display_data"
    },
    {
     "name": "stdout",
     "output_type": "stream",
     "text": [
      " \n",
      "*** Profile stats marshalled to file '/tmp/tmpue9s07sx'.\n",
      "Embedding SnakeViz in this document...\n",
      "<function display at 0x7782109c3ba0>\n"
     ]
    },
    {
     "data": {
      "text/html": [
       "\n",
       "<iframe id='snakeviz-7e0f72d0-3798-11ef-8ef2-7486e223398f' frameborder=0 seamless width='100%' height='1000'></iframe>\n",
       "<script>document.getElementById(\"snakeviz-7e0f72d0-3798-11ef-8ef2-7486e223398f\").setAttribute(\"src\", \"http://\" + document.location.hostname + \":8080/snakeviz/%2Ftmp%2Ftmpue9s07sx\")</script>\n"
      ],
      "text/plain": [
       "<IPython.core.display.HTML object>"
      ]
     },
     "metadata": {},
     "output_type": "display_data"
    }
   ],
   "source": [
    "%%snakeviz\n",
    "start_time = time.time()\n",
    "seg.perform_prerequisite(save_mesh=False, overwrite=True)\n",
    "# print(\"--- %s seconds ---\" % (time.time() - start_time))"
   ]
  },
  {
   "cell_type": "code",
   "execution_count": 6,
   "id": "5648860a",
   "metadata": {
    "scrolled": true
   },
   "outputs": [],
   "source": [
    "# %%snakeviz\n",
    "# cell_analysis(seg, parallelized=True, degree_convert=True)"
   ]
  },
  {
   "cell_type": "code",
   "execution_count": null,
   "id": "dda62a86",
   "metadata": {},
   "outputs": [],
   "source": []
  },
  {
   "cell_type": "code",
   "execution_count": null,
   "id": "4ab22139",
   "metadata": {},
   "outputs": [],
   "source": []
  },
  {
   "cell_type": "code",
   "execution_count": null,
   "id": "b75df506",
   "metadata": {},
   "outputs": [],
   "source": []
  },
  {
   "cell_type": "code",
   "execution_count": 7,
   "id": "e6c9569e",
   "metadata": {
    "scrolled": true
   },
   "outputs": [
    {
     "data": {
      "application/vnd.jupyter.widget-view+json": {
       "model_id": "dcfa76e6a6b3491395dab008b70b2576",
       "version_major": 2,
       "version_minor": 0
      },
      "text/plain": [
       "Cell:   0%|          | 0/30 [00:00<?, ?it/s]"
      ]
     },
     "metadata": {},
     "output_type": "display_data"
    },
    {
     "name": "stdout",
     "output_type": "stream",
     "text": [
      " \n",
      "*** Profile stats marshalled to file '/tmp/tmp5ghwy_yc'.\n",
      "Embedding SnakeViz in this document...\n",
      "<function display at 0x7782109c3ba0>\n"
     ]
    },
    {
     "data": {
      "text/html": [
       "\n",
       "<iframe id='snakeviz-87156db2-3798-11ef-8ef2-7486e223398f' frameborder=0 seamless width='100%' height='1000'></iframe>\n",
       "<script>document.getElementById(\"snakeviz-87156db2-3798-11ef-8ef2-7486e223398f\").setAttribute(\"src\", \"http://\" + document.location.hostname + \":8080/snakeviz/%2Ftmp%2Ftmp5ghwy_yc\")</script>\n"
      ],
      "text/plain": [
       "<IPython.core.display.HTML object>"
      ]
     },
     "metadata": {},
     "output_type": "display_data"
    }
   ],
   "source": [
    "%%snakeviz\n",
    "start_time = time.time()\n",
    "seg.cell_segmentation()\n",
    "# print(\"--- %s seconds ---\" % (time.time() - start_time))\n",
    "# 168 sec"
   ]
  },
  {
   "cell_type": "code",
   "execution_count": 8,
   "id": "9f3b1292",
   "metadata": {
    "scrolled": true
   },
   "outputs": [
    {
     "data": {
      "application/vnd.jupyter.widget-view+json": {
       "model_id": "e57097987be94289934cb1986ae25077",
       "version_major": 2,
       "version_minor": 0
      },
      "text/plain": [
       "Cell:   0%|          | 0/30 [00:00<?, ?it/s]"
      ]
     },
     "metadata": {},
     "output_type": "display_data"
    },
    {
     "data": {
      "application/vnd.jupyter.widget-view+json": {
       "model_id": "2885ffe7dcf94005848078079e8afd65",
       "version_major": 2,
       "version_minor": 0
      },
      "text/plain": [
       "Edge segmentation:   0%|          | 0/3 [00:00<?, ?it/s]"
      ]
     },
     "metadata": {},
     "output_type": "display_data"
    },
    {
     "data": {
      "application/vnd.jupyter.widget-view+json": {
       "model_id": "2dee0aabd2d84d0bba866f1121f88ab0",
       "version_major": 2,
       "version_minor": 0
      },
      "text/plain": [
       "Edge segmentation:   0%|          | 0/6 [00:00<?, ?it/s]"
      ]
     },
     "metadata": {},
     "output_type": "display_data"
    },
    {
     "data": {
      "application/vnd.jupyter.widget-view+json": {
       "model_id": "4847281423884d32a9a5378a76c971d5",
       "version_major": 2,
       "version_minor": 0
      },
      "text/plain": [
       "Edge segmentation:   0%|          | 0/10 [00:00<?, ?it/s]"
      ]
     },
     "metadata": {},
     "output_type": "display_data"
    },
    {
     "data": {
      "application/vnd.jupyter.widget-view+json": {
       "model_id": "b89f62b9130a4823aaa56e3a7877233a",
       "version_major": 2,
       "version_minor": 0
      },
      "text/plain": [
       "Edge segmentation:   0%|          | 0/10 [00:00<?, ?it/s]"
      ]
     },
     "metadata": {},
     "output_type": "display_data"
    },
    {
     "data": {
      "application/vnd.jupyter.widget-view+json": {
       "model_id": "e418224193614ccab50fe54881214cd3",
       "version_major": 2,
       "version_minor": 0
      },
      "text/plain": [
       "Edge segmentation:   0%|          | 0/10 [00:00<?, ?it/s]"
      ]
     },
     "metadata": {},
     "output_type": "display_data"
    },
    {
     "data": {
      "application/vnd.jupyter.widget-view+json": {
       "model_id": "2b529c90529a4e16aae068b7d93196cf",
       "version_major": 2,
       "version_minor": 0
      },
      "text/plain": [
       "Edge segmentation:   0%|          | 0/6 [00:00<?, ?it/s]"
      ]
     },
     "metadata": {},
     "output_type": "display_data"
    },
    {
     "data": {
      "application/vnd.jupyter.widget-view+json": {
       "model_id": "d797211a7b0b41b9ae8d1e6ba1aee782",
       "version_major": 2,
       "version_minor": 0
      },
      "text/plain": [
       "Edge segmentation:   0%|          | 0/6 [00:00<?, ?it/s]"
      ]
     },
     "metadata": {},
     "output_type": "display_data"
    },
    {
     "data": {
      "application/vnd.jupyter.widget-view+json": {
       "model_id": "a2d284761f9d4f34be5cd79359b3e9d0",
       "version_major": 2,
       "version_minor": 0
      },
      "text/plain": [
       "Edge segmentation:   0%|          | 0/15 [00:00<?, ?it/s]"
      ]
     },
     "metadata": {},
     "output_type": "display_data"
    },
    {
     "data": {
      "application/vnd.jupyter.widget-view+json": {
       "model_id": "c7f463189c744252a9751c3da56586f5",
       "version_major": 2,
       "version_minor": 0
      },
      "text/plain": [
       "Edge segmentation:   0%|          | 0/6 [00:00<?, ?it/s]"
      ]
     },
     "metadata": {},
     "output_type": "display_data"
    },
    {
     "data": {
      "application/vnd.jupyter.widget-view+json": {
       "model_id": "a824d6a3c61f4d66b25c08c6f33fec9f",
       "version_major": 2,
       "version_minor": 0
      },
      "text/plain": [
       "Edge segmentation:   0%|          | 0/10 [00:00<?, ?it/s]"
      ]
     },
     "metadata": {},
     "output_type": "display_data"
    },
    {
     "data": {
      "application/vnd.jupyter.widget-view+json": {
       "model_id": "c19e344d579541cdb8ae4b3d821fb162",
       "version_major": 2,
       "version_minor": 0
      },
      "text/plain": [
       "Edge segmentation:   0%|          | 0/10 [00:00<?, ?it/s]"
      ]
     },
     "metadata": {},
     "output_type": "display_data"
    },
    {
     "data": {
      "application/vnd.jupyter.widget-view+json": {
       "model_id": "d5f1f12007a947f0986743d5b0a65ce3",
       "version_major": 2,
       "version_minor": 0
      },
      "text/plain": [
       "Edge segmentation:   0%|          | 0/28 [00:00<?, ?it/s]"
      ]
     },
     "metadata": {},
     "output_type": "display_data"
    },
    {
     "data": {
      "application/vnd.jupyter.widget-view+json": {
       "model_id": "4138ff2536bc49f490a3a6f754dd6ff3",
       "version_major": 2,
       "version_minor": 0
      },
      "text/plain": [
       "Edge segmentation:   0%|          | 0/10 [00:00<?, ?it/s]"
      ]
     },
     "metadata": {},
     "output_type": "display_data"
    },
    {
     "data": {
      "application/vnd.jupyter.widget-view+json": {
       "model_id": "35affa4e1b0e46338e843c814f41233f",
       "version_major": 2,
       "version_minor": 0
      },
      "text/plain": [
       "Edge segmentation:   0%|          | 0/3 [00:00<?, ?it/s]"
      ]
     },
     "metadata": {},
     "output_type": "display_data"
    },
    {
     "data": {
      "application/vnd.jupyter.widget-view+json": {
       "model_id": "6d67b9a22a0a44a1b6fe4b61043ebc97",
       "version_major": 2,
       "version_minor": 0
      },
      "text/plain": [
       "Edge segmentation:   0%|          | 0/15 [00:00<?, ?it/s]"
      ]
     },
     "metadata": {},
     "output_type": "display_data"
    },
    {
     "data": {
      "application/vnd.jupyter.widget-view+json": {
       "model_id": "2eedcae77f4c436299cf5982d4465599",
       "version_major": 2,
       "version_minor": 0
      },
      "text/plain": [
       "Edge segmentation: 0it [00:00, ?it/s]"
      ]
     },
     "metadata": {},
     "output_type": "display_data"
    },
    {
     "data": {
      "application/vnd.jupyter.widget-view+json": {
       "model_id": "aeabfaae246d4d54b1ecb9fa8e1d3cf6",
       "version_major": 2,
       "version_minor": 0
      },
      "text/plain": [
       "Edge segmentation:   0%|          | 0/10 [00:00<?, ?it/s]"
      ]
     },
     "metadata": {},
     "output_type": "display_data"
    },
    {
     "data": {
      "application/vnd.jupyter.widget-view+json": {
       "model_id": "085f4e6d5e3442a5a98f0a869ea4e89b",
       "version_major": 2,
       "version_minor": 0
      },
      "text/plain": [
       "Edge segmentation:   0%|          | 0/6 [00:00<?, ?it/s]"
      ]
     },
     "metadata": {},
     "output_type": "display_data"
    },
    {
     "data": {
      "application/vnd.jupyter.widget-view+json": {
       "model_id": "65376f8acf574a85a6ecaf57f7a13ba3",
       "version_major": 2,
       "version_minor": 0
      },
      "text/plain": [
       "Edge segmentation:   0%|          | 0/1 [00:00<?, ?it/s]"
      ]
     },
     "metadata": {},
     "output_type": "display_data"
    },
    {
     "data": {
      "application/vnd.jupyter.widget-view+json": {
       "model_id": "95de1ace2e364f75a072f68ee2304459",
       "version_major": 2,
       "version_minor": 0
      },
      "text/plain": [
       "Edge segmentation:   0%|          | 0/15 [00:00<?, ?it/s]"
      ]
     },
     "metadata": {},
     "output_type": "display_data"
    },
    {
     "data": {
      "application/vnd.jupyter.widget-view+json": {
       "model_id": "04460861b5cf4668abf8716d941c3f79",
       "version_major": 2,
       "version_minor": 0
      },
      "text/plain": [
       "Edge segmentation:   0%|          | 0/15 [00:00<?, ?it/s]"
      ]
     },
     "metadata": {},
     "output_type": "display_data"
    },
    {
     "data": {
      "application/vnd.jupyter.widget-view+json": {
       "model_id": "fc1c71502875409fb4b7e005836610ab",
       "version_major": 2,
       "version_minor": 0
      },
      "text/plain": [
       "Edge segmentation:   0%|          | 0/10 [00:00<?, ?it/s]"
      ]
     },
     "metadata": {},
     "output_type": "display_data"
    },
    {
     "data": {
      "application/vnd.jupyter.widget-view+json": {
       "model_id": "96489dfa632245f2925edf4793974079",
       "version_major": 2,
       "version_minor": 0
      },
      "text/plain": [
       "Edge segmentation:   0%|          | 0/28 [00:00<?, ?it/s]"
      ]
     },
     "metadata": {},
     "output_type": "display_data"
    },
    {
     "data": {
      "application/vnd.jupyter.widget-view+json": {
       "model_id": "b35a17498e284d89923c7523a771e954",
       "version_major": 2,
       "version_minor": 0
      },
      "text/plain": [
       "Edge segmentation:   0%|          | 0/10 [00:00<?, ?it/s]"
      ]
     },
     "metadata": {},
     "output_type": "display_data"
    },
    {
     "data": {
      "application/vnd.jupyter.widget-view+json": {
       "model_id": "113991f53d3f44ecb179ac069b1be096",
       "version_major": 2,
       "version_minor": 0
      },
      "text/plain": [
       "Edge segmentation:   0%|          | 0/3 [00:00<?, ?it/s]"
      ]
     },
     "metadata": {},
     "output_type": "display_data"
    },
    {
     "data": {
      "application/vnd.jupyter.widget-view+json": {
       "model_id": "0f1434a0244a43dfaba6bcd29c652ea1",
       "version_major": 2,
       "version_minor": 0
      },
      "text/plain": [
       "Edge segmentation:   0%|          | 0/3 [00:00<?, ?it/s]"
      ]
     },
     "metadata": {},
     "output_type": "display_data"
    },
    {
     "data": {
      "application/vnd.jupyter.widget-view+json": {
       "model_id": "90f8b0f0ab3d420d91f91952120cf12f",
       "version_major": 2,
       "version_minor": 0
      },
      "text/plain": [
       "Edge segmentation:   0%|          | 0/6 [00:00<?, ?it/s]"
      ]
     },
     "metadata": {},
     "output_type": "display_data"
    },
    {
     "data": {
      "application/vnd.jupyter.widget-view+json": {
       "model_id": "9665027b53b84ab39fe3bc35034f2f07",
       "version_major": 2,
       "version_minor": 0
      },
      "text/plain": [
       "Edge segmentation:   0%|          | 0/10 [00:00<?, ?it/s]"
      ]
     },
     "metadata": {},
     "output_type": "display_data"
    },
    {
     "data": {
      "application/vnd.jupyter.widget-view+json": {
       "model_id": "563e040346e94110aca59b8e3291ec22",
       "version_major": 2,
       "version_minor": 0
      },
      "text/plain": [
       "Edge segmentation:   0%|          | 0/6 [00:00<?, ?it/s]"
      ]
     },
     "metadata": {},
     "output_type": "display_data"
    },
    {
     "data": {
      "application/vnd.jupyter.widget-view+json": {
       "model_id": "ba61c8c973a44ee98f61aa9b11642cf8",
       "version_major": 2,
       "version_minor": 0
      },
      "text/plain": [
       "Edge segmentation:   0%|          | 0/3 [00:00<?, ?it/s]"
      ]
     },
     "metadata": {},
     "output_type": "display_data"
    },
    {
     "name": "stdout",
     "output_type": "stream",
     "text": [
      " \n",
      "*** Profile stats marshalled to file '/tmp/tmpv9_v9n7q'.\n",
      "Embedding SnakeViz in this document...\n",
      "<function display at 0x7782109c3ba0>\n"
     ]
    },
    {
     "data": {
      "text/html": [
       "\n",
       "<iframe id='snakeviz-a213b506-3798-11ef-8ef2-7486e223398f' frameborder=0 seamless width='100%' height='1000'></iframe>\n",
       "<script>document.getElementById(\"snakeviz-a213b506-3798-11ef-8ef2-7486e223398f\").setAttribute(\"src\", \"http://\" + document.location.hostname + \":8080/snakeviz/%2Ftmp%2Ftmpv9_v9n7q\")</script>\n"
      ],
      "text/plain": [
       "<IPython.core.display.HTML object>"
      ]
     },
     "metadata": {},
     "output_type": "display_data"
    }
   ],
   "source": [
    "%%snakeviz\n",
    "start_time = time.time()\n",
    "seg.edge_segmentation()\n",
    "# print(\"--- %s seconds ---\" % (time.time() - start_time))\n",
    "#2.09e+3"
   ]
  },
  {
   "cell_type": "code",
   "execution_count": 9,
   "id": "85ef8827",
   "metadata": {
    "scrolled": true
   },
   "outputs": [
    {
     "data": {
      "application/vnd.jupyter.widget-view+json": {
       "model_id": "d71b20133ee44e1388a89ebabd284533",
       "version_major": 2,
       "version_minor": 0
      },
      "text/plain": [
       "Cell:   0%|          | 0/30 [00:00<?, ?it/s]"
      ]
     },
     "metadata": {},
     "output_type": "display_data"
    },
    {
     "data": {
      "application/vnd.jupyter.widget-view+json": {
       "model_id": "74b81d77ec914ebbb6648406c501f3f2",
       "version_major": 2,
       "version_minor": 0
      },
      "text/plain": [
       "Face segmentation:   0%|          | 0/3 [00:00<?, ?it/s]"
      ]
     },
     "metadata": {},
     "output_type": "display_data"
    },
    {
     "data": {
      "application/vnd.jupyter.widget-view+json": {
       "model_id": "c6892de1c5784a0fbd2019c4d6455807",
       "version_major": 2,
       "version_minor": 0
      },
      "text/plain": [
       "Face segmentation:   0%|          | 0/3 [00:00<?, ?it/s]"
      ]
     },
     "metadata": {},
     "output_type": "display_data"
    },
    {
     "data": {
      "application/vnd.jupyter.widget-view+json": {
       "model_id": "2b83ae925c474e84a7fdc518e7731a9d",
       "version_major": 2,
       "version_minor": 0
      },
      "text/plain": [
       "Face segmentation:   0%|          | 0/5 [00:00<?, ?it/s]"
      ]
     },
     "metadata": {},
     "output_type": "display_data"
    },
    {
     "data": {
      "application/vnd.jupyter.widget-view+json": {
       "model_id": "38cd8ed274a040568b0c491202a1d3d3",
       "version_major": 2,
       "version_minor": 0
      },
      "text/plain": [
       "Face segmentation:   0%|          | 0/9 [00:00<?, ?it/s]"
      ]
     },
     "metadata": {},
     "output_type": "display_data"
    },
    {
     "data": {
      "application/vnd.jupyter.widget-view+json": {
       "model_id": "29d5182d3e084be5b7bdb49c0ad30060",
       "version_major": 2,
       "version_minor": 0
      },
      "text/plain": [
       "Face segmentation:   0%|          | 0/5 [00:00<?, ?it/s]"
      ]
     },
     "metadata": {},
     "output_type": "display_data"
    },
    {
     "data": {
      "application/vnd.jupyter.widget-view+json": {
       "model_id": "28db539fb751488b850bbadb5a08d2b2",
       "version_major": 2,
       "version_minor": 0
      },
      "text/plain": [
       "Face segmentation:   0%|          | 0/4 [00:00<?, ?it/s]"
      ]
     },
     "metadata": {},
     "output_type": "display_data"
    },
    {
     "data": {
      "application/vnd.jupyter.widget-view+json": {
       "model_id": "aeb0c7975a5c4312b48a0476bfbf6191",
       "version_major": 2,
       "version_minor": 0
      },
      "text/plain": [
       "Face segmentation:   0%|          | 0/4 [00:00<?, ?it/s]"
      ]
     },
     "metadata": {},
     "output_type": "display_data"
    },
    {
     "data": {
      "application/vnd.jupyter.widget-view+json": {
       "model_id": "215e9ec256584e7faf82082eb2ec08b8",
       "version_major": 2,
       "version_minor": 0
      },
      "text/plain": [
       "Face segmentation:   0%|          | 0/6 [00:00<?, ?it/s]"
      ]
     },
     "metadata": {},
     "output_type": "display_data"
    },
    {
     "data": {
      "application/vnd.jupyter.widget-view+json": {
       "model_id": "648185cd02e4426f8a9d9d46afd75097",
       "version_major": 2,
       "version_minor": 0
      },
      "text/plain": [
       "Face segmentation:   0%|          | 0/4 [00:00<?, ?it/s]"
      ]
     },
     "metadata": {},
     "output_type": "display_data"
    },
    {
     "data": {
      "application/vnd.jupyter.widget-view+json": {
       "model_id": "288230949de24ca2ba722b8dec5240ca",
       "version_major": 2,
       "version_minor": 0
      },
      "text/plain": [
       "Face segmentation:   0%|          | 0/7 [00:00<?, ?it/s]"
      ]
     },
     "metadata": {},
     "output_type": "display_data"
    },
    {
     "data": {
      "application/vnd.jupyter.widget-view+json": {
       "model_id": "afc48697abdf4f3886f303c1fa1d026d",
       "version_major": 2,
       "version_minor": 0
      },
      "text/plain": [
       "Face segmentation:   0%|          | 0/5 [00:00<?, ?it/s]"
      ]
     },
     "metadata": {},
     "output_type": "display_data"
    },
    {
     "data": {
      "application/vnd.jupyter.widget-view+json": {
       "model_id": "e7bd3ff4d8414b3b80faf7d71b262719",
       "version_major": 2,
       "version_minor": 0
      },
      "text/plain": [
       "Face segmentation:   0%|          | 0/8 [00:00<?, ?it/s]"
      ]
     },
     "metadata": {},
     "output_type": "display_data"
    },
    {
     "data": {
      "application/vnd.jupyter.widget-view+json": {
       "model_id": "6c6d00438b6044a786e4bb4808bcd9dc",
       "version_major": 2,
       "version_minor": 0
      },
      "text/plain": [
       "Face segmentation:   0%|          | 0/5 [00:00<?, ?it/s]"
      ]
     },
     "metadata": {},
     "output_type": "display_data"
    },
    {
     "data": {
      "application/vnd.jupyter.widget-view+json": {
       "model_id": "5c2a1ae6096a4e7998d36837df1af489",
       "version_major": 2,
       "version_minor": 0
      },
      "text/plain": [
       "Face segmentation:   0%|          | 0/3 [00:00<?, ?it/s]"
      ]
     },
     "metadata": {},
     "output_type": "display_data"
    },
    {
     "data": {
      "application/vnd.jupyter.widget-view+json": {
       "model_id": "530120b41cdc45bfba5f26d1d76e5d26",
       "version_major": 2,
       "version_minor": 0
      },
      "text/plain": [
       "Face segmentation:   0%|          | 0/6 [00:00<?, ?it/s]"
      ]
     },
     "metadata": {},
     "output_type": "display_data"
    },
    {
     "data": {
      "application/vnd.jupyter.widget-view+json": {
       "model_id": "ee374d640438421297fc2d6b77b2b230",
       "version_major": 2,
       "version_minor": 0
      },
      "text/plain": [
       "Face segmentation:   0%|          | 0/5 [00:00<?, ?it/s]"
      ]
     },
     "metadata": {},
     "output_type": "display_data"
    },
    {
     "data": {
      "application/vnd.jupyter.widget-view+json": {
       "model_id": "639f5a843ff442f6ace38a0c946cb3c5",
       "version_major": 2,
       "version_minor": 0
      },
      "text/plain": [
       "Face segmentation:   0%|          | 0/4 [00:00<?, ?it/s]"
      ]
     },
     "metadata": {},
     "output_type": "display_data"
    },
    {
     "data": {
      "application/vnd.jupyter.widget-view+json": {
       "model_id": "352c7b7627f2498db391d35802524390",
       "version_major": 2,
       "version_minor": 0
      },
      "text/plain": [
       "Face segmentation:   0%|          | 0/2 [00:00<?, ?it/s]"
      ]
     },
     "metadata": {},
     "output_type": "display_data"
    },
    {
     "data": {
      "application/vnd.jupyter.widget-view+json": {
       "model_id": "e6b2c19e3dfb456c984ff9c50a82ad8f",
       "version_major": 2,
       "version_minor": 0
      },
      "text/plain": [
       "Face segmentation:   0%|          | 0/6 [00:00<?, ?it/s]"
      ]
     },
     "metadata": {},
     "output_type": "display_data"
    },
    {
     "data": {
      "application/vnd.jupyter.widget-view+json": {
       "model_id": "3628a995a62a48bfa1785e7722879e88",
       "version_major": 2,
       "version_minor": 0
      },
      "text/plain": [
       "Face segmentation:   0%|          | 0/6 [00:00<?, ?it/s]"
      ]
     },
     "metadata": {},
     "output_type": "display_data"
    },
    {
     "data": {
      "application/vnd.jupyter.widget-view+json": {
       "model_id": "2f5198e2ac7e44539adaa91b902de7c2",
       "version_major": 2,
       "version_minor": 0
      },
      "text/plain": [
       "Face segmentation:   0%|          | 0/5 [00:00<?, ?it/s]"
      ]
     },
     "metadata": {},
     "output_type": "display_data"
    },
    {
     "data": {
      "application/vnd.jupyter.widget-view+json": {
       "model_id": "ff8b8bdb9a4345bf99d8d06a7c485575",
       "version_major": 2,
       "version_minor": 0
      },
      "text/plain": [
       "Face segmentation:   0%|          | 0/8 [00:00<?, ?it/s]"
      ]
     },
     "metadata": {},
     "output_type": "display_data"
    },
    {
     "data": {
      "application/vnd.jupyter.widget-view+json": {
       "model_id": "75b2c5b13a194bc7bc76c4705ea64632",
       "version_major": 2,
       "version_minor": 0
      },
      "text/plain": [
       "Face segmentation:   0%|          | 0/5 [00:00<?, ?it/s]"
      ]
     },
     "metadata": {},
     "output_type": "display_data"
    },
    {
     "data": {
      "application/vnd.jupyter.widget-view+json": {
       "model_id": "053e746d987644f7b4a4465f53feb78a",
       "version_major": 2,
       "version_minor": 0
      },
      "text/plain": [
       "Face segmentation:   0%|          | 0/3 [00:00<?, ?it/s]"
      ]
     },
     "metadata": {},
     "output_type": "display_data"
    },
    {
     "data": {
      "application/vnd.jupyter.widget-view+json": {
       "model_id": "b7e3aceaf82242e09d61309fd11f39cf",
       "version_major": 2,
       "version_minor": 0
      },
      "text/plain": [
       "Face segmentation:   0%|          | 0/3 [00:00<?, ?it/s]"
      ]
     },
     "metadata": {},
     "output_type": "display_data"
    },
    {
     "data": {
      "application/vnd.jupyter.widget-view+json": {
       "model_id": "cb4fa356db134862af43d5167d696b0f",
       "version_major": 2,
       "version_minor": 0
      },
      "text/plain": [
       "Face segmentation:   0%|          | 0/4 [00:00<?, ?it/s]"
      ]
     },
     "metadata": {},
     "output_type": "display_data"
    },
    {
     "data": {
      "application/vnd.jupyter.widget-view+json": {
       "model_id": "36b92360e49e4c9196d8051e6ebc01de",
       "version_major": 2,
       "version_minor": 0
      },
      "text/plain": [
       "Face segmentation:   0%|          | 0/5 [00:00<?, ?it/s]"
      ]
     },
     "metadata": {},
     "output_type": "display_data"
    },
    {
     "data": {
      "application/vnd.jupyter.widget-view+json": {
       "model_id": "4504751caafe42d9bd69e9238595a055",
       "version_major": 2,
       "version_minor": 0
      },
      "text/plain": [
       "Face segmentation:   0%|          | 0/4 [00:00<?, ?it/s]"
      ]
     },
     "metadata": {},
     "output_type": "display_data"
    },
    {
     "data": {
      "application/vnd.jupyter.widget-view+json": {
       "model_id": "8839fb105c1e4cdd9645d5c29e45972a",
       "version_major": 2,
       "version_minor": 0
      },
      "text/plain": [
       "Face segmentation:   0%|          | 0/3 [00:00<?, ?it/s]"
      ]
     },
     "metadata": {},
     "output_type": "display_data"
    },
    {
     "name": "stdout",
     "output_type": "stream",
     "text": [
      " \n",
      "*** Profile stats marshalled to file '/tmp/tmpnv0yjyw8'.\n",
      "Embedding SnakeViz in this document...\n",
      "<function display at 0x7782109c3ba0>\n"
     ]
    },
    {
     "data": {
      "text/html": [
       "\n",
       "<iframe id='snakeviz-ac72b4c0-3798-11ef-8ef2-7486e223398f' frameborder=0 seamless width='100%' height='1000'></iframe>\n",
       "<script>document.getElementById(\"snakeviz-ac72b4c0-3798-11ef-8ef2-7486e223398f\").setAttribute(\"src\", \"http://\" + document.location.hostname + \":8080/snakeviz/%2Ftmp%2Ftmpnv0yjyw8\")</script>\n"
      ],
      "text/plain": [
       "<IPython.core.display.HTML object>"
      ]
     },
     "metadata": {},
     "output_type": "display_data"
    }
   ],
   "source": [
    "%%snakeviz\n",
    "start_time = time.time()\n",
    "seg.face_segmentation()\n",
    "# print(\"--- %s seconds ---\" % (time.time() - start_time))"
   ]
  },
  {
   "cell_type": "code",
   "execution_count": null,
   "id": "93435a92",
   "metadata": {},
   "outputs": [],
   "source": []
  },
  {
   "cell_type": "code",
   "execution_count": null,
   "id": "d3d8c3b6",
   "metadata": {},
   "outputs": [],
   "source": []
  },
  {
   "cell_type": "code",
   "execution_count": null,
   "id": "0bf1c4cd",
   "metadata": {},
   "outputs": [],
   "source": []
  },
  {
   "cell_type": "code",
   "execution_count": 10,
   "id": "f839cc1c",
   "metadata": {
    "scrolled": true
   },
   "outputs": [
    {
     "data": {
      "application/vnd.jupyter.widget-view+json": {
       "model_id": "67d68c2460ad433e920e1486cbd2ba02",
       "version_major": 2,
       "version_minor": 0
      },
      "text/plain": [
       "Cell analysis:   0%|          | 0/30 [00:00<?, ?it/s]"
      ]
     },
     "metadata": {},
     "output_type": "display_data"
    },
    {
     "ename": "KeyboardInterrupt",
     "evalue": "",
     "output_type": "error",
     "traceback": [
      "\u001b[0;31m---------------------------------------------------------------------------\u001b[0m",
      "\u001b[0;31mKeyboardInterrupt\u001b[0m                         Traceback (most recent call last)",
      "Cell \u001b[0;32mIn[10], line 1\u001b[0m\n\u001b[0;32m----> 1\u001b[0m get_ipython()\u001b[38;5;241m.\u001b[39mrun_cell_magic(\u001b[38;5;124m'\u001b[39m\u001b[38;5;124msnakeviz\u001b[39m\u001b[38;5;124m'\u001b[39m, \u001b[38;5;124m'\u001b[39m\u001b[38;5;124m'\u001b[39m, \u001b[38;5;124m'\u001b[39m\u001b[38;5;124mcell_analysis(seg)\u001b[39m\u001b[38;5;130;01m\\n\u001b[39;00m\u001b[38;5;124m# 1sec\u001b[39m\u001b[38;5;130;01m\\n\u001b[39;00m\u001b[38;5;124m'\u001b[39m)\n",
      "File \u001b[0;32m~/anaconda3/lib/python3.11/site-packages/IPython/core/interactiveshell.py:2517\u001b[0m, in \u001b[0;36mInteractiveShell.run_cell_magic\u001b[0;34m(self, magic_name, line, cell)\u001b[0m\n\u001b[1;32m   2515\u001b[0m \u001b[38;5;28;01mwith\u001b[39;00m \u001b[38;5;28mself\u001b[39m\u001b[38;5;241m.\u001b[39mbuiltin_trap:\n\u001b[1;32m   2516\u001b[0m     args \u001b[38;5;241m=\u001b[39m (magic_arg_s, cell)\n\u001b[0;32m-> 2517\u001b[0m     result \u001b[38;5;241m=\u001b[39m fn(\u001b[38;5;241m*\u001b[39margs, \u001b[38;5;241m*\u001b[39m\u001b[38;5;241m*\u001b[39mkwargs)\n\u001b[1;32m   2519\u001b[0m \u001b[38;5;66;03m# The code below prevents the output from being displayed\u001b[39;00m\n\u001b[1;32m   2520\u001b[0m \u001b[38;5;66;03m# when using magics with decorator @output_can_be_silenced\u001b[39;00m\n\u001b[1;32m   2521\u001b[0m \u001b[38;5;66;03m# when the last Python token in the expression is a ';'.\u001b[39;00m\n\u001b[1;32m   2522\u001b[0m \u001b[38;5;28;01mif\u001b[39;00m \u001b[38;5;28mgetattr\u001b[39m(fn, magic\u001b[38;5;241m.\u001b[39mMAGIC_OUTPUT_CAN_BE_SILENCED, \u001b[38;5;28;01mFalse\u001b[39;00m):\n",
      "File \u001b[0;32m~/anaconda3/lib/python3.11/site-packages/snakeviz/ipymagic.py:82\u001b[0m, in \u001b[0;36mSnakevizMagic.snakeviz\u001b[0;34m(self, line, cell)\u001b[0m\n\u001b[1;32m     79\u001b[0m ip \u001b[38;5;241m=\u001b[39m get_ipython()\n\u001b[1;32m     81\u001b[0m \u001b[38;5;28;01mif\u001b[39;00m cell:\n\u001b[0;32m---> 82\u001b[0m     ip\u001b[38;5;241m.\u001b[39mrun_cell_magic(\u001b[38;5;124m\"\u001b[39m\u001b[38;5;124mprun\u001b[39m\u001b[38;5;124m\"\u001b[39m, line, cell)\n\u001b[1;32m     83\u001b[0m \u001b[38;5;28;01melse\u001b[39;00m:\n\u001b[1;32m     84\u001b[0m     ip\u001b[38;5;241m.\u001b[39mrun_line_magic(\u001b[38;5;124m\"\u001b[39m\u001b[38;5;124mprun\u001b[39m\u001b[38;5;124m\"\u001b[39m, line)\n",
      "File \u001b[0;32m~/anaconda3/lib/python3.11/site-packages/IPython/core/interactiveshell.py:2517\u001b[0m, in \u001b[0;36mInteractiveShell.run_cell_magic\u001b[0;34m(self, magic_name, line, cell)\u001b[0m\n\u001b[1;32m   2515\u001b[0m \u001b[38;5;28;01mwith\u001b[39;00m \u001b[38;5;28mself\u001b[39m\u001b[38;5;241m.\u001b[39mbuiltin_trap:\n\u001b[1;32m   2516\u001b[0m     args \u001b[38;5;241m=\u001b[39m (magic_arg_s, cell)\n\u001b[0;32m-> 2517\u001b[0m     result \u001b[38;5;241m=\u001b[39m fn(\u001b[38;5;241m*\u001b[39margs, \u001b[38;5;241m*\u001b[39m\u001b[38;5;241m*\u001b[39mkwargs)\n\u001b[1;32m   2519\u001b[0m \u001b[38;5;66;03m# The code below prevents the output from being displayed\u001b[39;00m\n\u001b[1;32m   2520\u001b[0m \u001b[38;5;66;03m# when using magics with decorator @output_can_be_silenced\u001b[39;00m\n\u001b[1;32m   2521\u001b[0m \u001b[38;5;66;03m# when the last Python token in the expression is a ';'.\u001b[39;00m\n\u001b[1;32m   2522\u001b[0m \u001b[38;5;28;01mif\u001b[39;00m \u001b[38;5;28mgetattr\u001b[39m(fn, magic\u001b[38;5;241m.\u001b[39mMAGIC_OUTPUT_CAN_BE_SILENCED, \u001b[38;5;28;01mFalse\u001b[39;00m):\n",
      "File \u001b[0;32m~/anaconda3/lib/python3.11/site-packages/IPython/core/magics/execution.py:313\u001b[0m, in \u001b[0;36mExecutionMagics.prun\u001b[0;34m(self, parameter_s, cell)\u001b[0m\n\u001b[1;32m    311\u001b[0m     arg_str \u001b[38;5;241m+\u001b[39m\u001b[38;5;241m=\u001b[39m \u001b[38;5;124m'\u001b[39m\u001b[38;5;130;01m\\n\u001b[39;00m\u001b[38;5;124m'\u001b[39m \u001b[38;5;241m+\u001b[39m cell\n\u001b[1;32m    312\u001b[0m arg_str \u001b[38;5;241m=\u001b[39m \u001b[38;5;28mself\u001b[39m\u001b[38;5;241m.\u001b[39mshell\u001b[38;5;241m.\u001b[39mtransform_cell(arg_str)\n\u001b[0;32m--> 313\u001b[0m \u001b[38;5;28;01mreturn\u001b[39;00m \u001b[38;5;28mself\u001b[39m\u001b[38;5;241m.\u001b[39m_run_with_profiler(arg_str, opts, \u001b[38;5;28mself\u001b[39m\u001b[38;5;241m.\u001b[39mshell\u001b[38;5;241m.\u001b[39muser_ns)\n",
      "File \u001b[0;32m~/anaconda3/lib/python3.11/site-packages/IPython/core/magics/execution.py:335\u001b[0m, in \u001b[0;36mExecutionMagics._run_with_profiler\u001b[0;34m(self, code, opts, namespace)\u001b[0m\n\u001b[1;32m    333\u001b[0m prof \u001b[38;5;241m=\u001b[39m profile\u001b[38;5;241m.\u001b[39mProfile()\n\u001b[1;32m    334\u001b[0m \u001b[38;5;28;01mtry\u001b[39;00m:\n\u001b[0;32m--> 335\u001b[0m     prof \u001b[38;5;241m=\u001b[39m prof\u001b[38;5;241m.\u001b[39mrunctx(code, namespace, namespace)\n\u001b[1;32m    336\u001b[0m     sys_exit \u001b[38;5;241m=\u001b[39m \u001b[38;5;124m'\u001b[39m\u001b[38;5;124m'\u001b[39m\n\u001b[1;32m    337\u001b[0m \u001b[38;5;28;01mexcept\u001b[39;00m \u001b[38;5;167;01mSystemExit\u001b[39;00m:\n",
      "File \u001b[0;32m~/anaconda3/lib/python3.11/cProfile.py:101\u001b[0m, in \u001b[0;36mProfile.runctx\u001b[0;34m(self, cmd, globals, locals)\u001b[0m\n\u001b[1;32m     99\u001b[0m \u001b[38;5;28mself\u001b[39m\u001b[38;5;241m.\u001b[39menable()\n\u001b[1;32m    100\u001b[0m \u001b[38;5;28;01mtry\u001b[39;00m:\n\u001b[0;32m--> 101\u001b[0m     exec(cmd, \u001b[38;5;28mglobals\u001b[39m, \u001b[38;5;28mlocals\u001b[39m)\n\u001b[1;32m    102\u001b[0m \u001b[38;5;28;01mfinally\u001b[39;00m:\n\u001b[1;32m    103\u001b[0m     \u001b[38;5;28mself\u001b[39m\u001b[38;5;241m.\u001b[39mdisable()\n",
      "File \u001b[0;32m<string>:1\u001b[0m\n",
      "File \u001b[0;32m~/anaconda3/lib/python3.11/site-packages/CellSeg/analysis.py:78\u001b[0m, in \u001b[0;36mcell_analysis\u001b[0;34m(seg, parallelized, degree_convert)\u001b[0m\n\u001b[1;32m     76\u001b[0m \u001b[38;5;66;03m# res = joblib.Parallel(n_jobs=seg.nb_core)(delayed_call)\u001b[39;00m\n\u001b[1;32m     77\u001b[0m \u001b[38;5;28;01mwith\u001b[39;00m csutils\u001b[38;5;241m.\u001b[39mtqdm_joblib(desc\u001b[38;5;241m=\u001b[39m\u001b[38;5;124m\"\u001b[39m\u001b[38;5;124mCell analysis\u001b[39m\u001b[38;5;124m\"\u001b[39m, total\u001b[38;5;241m=\u001b[39m\u001b[38;5;28mlen\u001b[39m(seg\u001b[38;5;241m.\u001b[39munique_id_cells)) \u001b[38;5;28;01mas\u001b[39;00m progress_bar:\n\u001b[0;32m---> 78\u001b[0m     res \u001b[38;5;241m=\u001b[39m joblib\u001b[38;5;241m.\u001b[39mParallel(n_jobs\u001b[38;5;241m=\u001b[39mseg\u001b[38;5;241m.\u001b[39mnb_core, prefer\u001b[38;5;241m=\u001b[39m\u001b[38;5;124m\"\u001b[39m\u001b[38;5;124mthreads\u001b[39m\u001b[38;5;124m\"\u001b[39m)(delayed_call)\n\u001b[1;32m     80\u001b[0m \u001b[38;5;28;01mfor\u001b[39;00m cell_out, cell_plane_out \u001b[38;5;129;01min\u001b[39;00m res:\n\u001b[1;32m     81\u001b[0m     \u001b[38;5;28;01mfor\u001b[39;00m k \u001b[38;5;129;01min\u001b[39;00m cell_out\u001b[38;5;241m.\u001b[39mkeys():\n",
      "File \u001b[0;32m~/anaconda3/lib/python3.11/site-packages/joblib/parallel.py:1098\u001b[0m, in \u001b[0;36mParallel.__call__\u001b[0;34m(self, iterable)\u001b[0m\n\u001b[1;32m   1095\u001b[0m     \u001b[38;5;28mself\u001b[39m\u001b[38;5;241m.\u001b[39m_iterating \u001b[38;5;241m=\u001b[39m \u001b[38;5;28;01mFalse\u001b[39;00m\n\u001b[1;32m   1097\u001b[0m \u001b[38;5;28;01mwith\u001b[39;00m \u001b[38;5;28mself\u001b[39m\u001b[38;5;241m.\u001b[39m_backend\u001b[38;5;241m.\u001b[39mretrieval_context():\n\u001b[0;32m-> 1098\u001b[0m     \u001b[38;5;28mself\u001b[39m\u001b[38;5;241m.\u001b[39mretrieve()\n\u001b[1;32m   1099\u001b[0m \u001b[38;5;66;03m# Make sure that we get a last message telling us we are done\u001b[39;00m\n\u001b[1;32m   1100\u001b[0m elapsed_time \u001b[38;5;241m=\u001b[39m time\u001b[38;5;241m.\u001b[39mtime() \u001b[38;5;241m-\u001b[39m \u001b[38;5;28mself\u001b[39m\u001b[38;5;241m.\u001b[39m_start_time\n",
      "File \u001b[0;32m~/anaconda3/lib/python3.11/site-packages/joblib/parallel.py:975\u001b[0m, in \u001b[0;36mParallel.retrieve\u001b[0;34m(self)\u001b[0m\n\u001b[1;32m    973\u001b[0m \u001b[38;5;28;01mtry\u001b[39;00m:\n\u001b[1;32m    974\u001b[0m     \u001b[38;5;28;01mif\u001b[39;00m \u001b[38;5;28mgetattr\u001b[39m(\u001b[38;5;28mself\u001b[39m\u001b[38;5;241m.\u001b[39m_backend, \u001b[38;5;124m'\u001b[39m\u001b[38;5;124msupports_timeout\u001b[39m\u001b[38;5;124m'\u001b[39m, \u001b[38;5;28;01mFalse\u001b[39;00m):\n\u001b[0;32m--> 975\u001b[0m         \u001b[38;5;28mself\u001b[39m\u001b[38;5;241m.\u001b[39m_output\u001b[38;5;241m.\u001b[39mextend(job\u001b[38;5;241m.\u001b[39mget(timeout\u001b[38;5;241m=\u001b[39m\u001b[38;5;28mself\u001b[39m\u001b[38;5;241m.\u001b[39mtimeout))\n\u001b[1;32m    976\u001b[0m     \u001b[38;5;28;01melse\u001b[39;00m:\n\u001b[1;32m    977\u001b[0m         \u001b[38;5;28mself\u001b[39m\u001b[38;5;241m.\u001b[39m_output\u001b[38;5;241m.\u001b[39mextend(job\u001b[38;5;241m.\u001b[39mget())\n",
      "File \u001b[0;32m~/anaconda3/lib/python3.11/multiprocessing/pool.py:768\u001b[0m, in \u001b[0;36mApplyResult.get\u001b[0;34m(self, timeout)\u001b[0m\n\u001b[1;32m    767\u001b[0m \u001b[38;5;28;01mdef\u001b[39;00m \u001b[38;5;21mget\u001b[39m(\u001b[38;5;28mself\u001b[39m, timeout\u001b[38;5;241m=\u001b[39m\u001b[38;5;28;01mNone\u001b[39;00m):\n\u001b[0;32m--> 768\u001b[0m     \u001b[38;5;28mself\u001b[39m\u001b[38;5;241m.\u001b[39mwait(timeout)\n\u001b[1;32m    769\u001b[0m     \u001b[38;5;28;01mif\u001b[39;00m \u001b[38;5;129;01mnot\u001b[39;00m \u001b[38;5;28mself\u001b[39m\u001b[38;5;241m.\u001b[39mready():\n\u001b[1;32m    770\u001b[0m         \u001b[38;5;28;01mraise\u001b[39;00m \u001b[38;5;167;01mTimeoutError\u001b[39;00m\n",
      "File \u001b[0;32m~/anaconda3/lib/python3.11/multiprocessing/pool.py:765\u001b[0m, in \u001b[0;36mApplyResult.wait\u001b[0;34m(self, timeout)\u001b[0m\n\u001b[1;32m    764\u001b[0m \u001b[38;5;28;01mdef\u001b[39;00m \u001b[38;5;21mwait\u001b[39m(\u001b[38;5;28mself\u001b[39m, timeout\u001b[38;5;241m=\u001b[39m\u001b[38;5;28;01mNone\u001b[39;00m):\n\u001b[0;32m--> 765\u001b[0m     \u001b[38;5;28mself\u001b[39m\u001b[38;5;241m.\u001b[39m_event\u001b[38;5;241m.\u001b[39mwait(timeout)\n",
      "File \u001b[0;32m~/anaconda3/lib/python3.11/threading.py:622\u001b[0m, in \u001b[0;36mEvent.wait\u001b[0;34m(self, timeout)\u001b[0m\n\u001b[1;32m    620\u001b[0m signaled \u001b[38;5;241m=\u001b[39m \u001b[38;5;28mself\u001b[39m\u001b[38;5;241m.\u001b[39m_flag\n\u001b[1;32m    621\u001b[0m \u001b[38;5;28;01mif\u001b[39;00m \u001b[38;5;129;01mnot\u001b[39;00m signaled:\n\u001b[0;32m--> 622\u001b[0m     signaled \u001b[38;5;241m=\u001b[39m \u001b[38;5;28mself\u001b[39m\u001b[38;5;241m.\u001b[39m_cond\u001b[38;5;241m.\u001b[39mwait(timeout)\n\u001b[1;32m    623\u001b[0m \u001b[38;5;28;01mreturn\u001b[39;00m signaled\n",
      "File \u001b[0;32m~/anaconda3/lib/python3.11/threading.py:320\u001b[0m, in \u001b[0;36mCondition.wait\u001b[0;34m(self, timeout)\u001b[0m\n\u001b[1;32m    318\u001b[0m \u001b[38;5;28;01mtry\u001b[39;00m:    \u001b[38;5;66;03m# restore state no matter what (e.g., KeyboardInterrupt)\u001b[39;00m\n\u001b[1;32m    319\u001b[0m     \u001b[38;5;28;01mif\u001b[39;00m timeout \u001b[38;5;129;01mis\u001b[39;00m \u001b[38;5;28;01mNone\u001b[39;00m:\n\u001b[0;32m--> 320\u001b[0m         waiter\u001b[38;5;241m.\u001b[39macquire()\n\u001b[1;32m    321\u001b[0m         gotit \u001b[38;5;241m=\u001b[39m \u001b[38;5;28;01mTrue\u001b[39;00m\n\u001b[1;32m    322\u001b[0m     \u001b[38;5;28;01melse\u001b[39;00m:\n",
      "\u001b[0;31mKeyboardInterrupt\u001b[0m: "
     ]
    }
   ],
   "source": [
    "%%snakeviz\n",
    "cell_analysis(seg)\n",
    "# 1sec"
   ]
  },
  {
   "cell_type": "code",
   "execution_count": null,
   "id": "57951742",
   "metadata": {},
   "outputs": [],
   "source": [
    "%%snakeviz\n",
    "edge_analysis(seg)"
   ]
  },
  {
   "cell_type": "code",
   "execution_count": null,
   "id": "e3647fb0",
   "metadata": {},
   "outputs": [],
   "source": []
  },
  {
   "cell_type": "code",
   "execution_count": null,
   "id": "63d85e05",
   "metadata": {},
   "outputs": [],
   "source": [
    "%%snakeviz\n",
    "face_analysis(seg)"
   ]
  },
  {
   "cell_type": "code",
   "execution_count": null,
   "id": "9b029186",
   "metadata": {},
   "outputs": [],
   "source": []
  },
  {
   "cell_type": "code",
   "execution_count": null,
   "id": "a133b091",
   "metadata": {},
   "outputs": [],
   "source": []
  },
  {
   "cell_type": "code",
   "execution_count": 33,
   "id": "07671536",
   "metadata": {},
   "outputs": [
    {
     "data": {
      "text/html": [
       "<div>\n",
       "<style scoped>\n",
       "    .dataframe tbody tr th:only-of-type {\n",
       "        vertical-align: middle;\n",
       "    }\n",
       "\n",
       "    .dataframe tbody tr th {\n",
       "        vertical-align: top;\n",
       "    }\n",
       "\n",
       "    .dataframe thead th {\n",
       "        text-align: right;\n",
       "    }\n",
       "</style>\n",
       "<table border=\"1\" class=\"dataframe\">\n",
       "  <thead>\n",
       "    <tr style=\"text-align: right;\">\n",
       "      <th></th>\n",
       "      <th>exp</th>\n",
       "      <th>nbcells</th>\n",
       "      <th>pixel_size</th>\n",
       "      <th>image_size</th>\n",
       "      <th>prerequisite</th>\n",
       "      <th>cell_seg</th>\n",
       "      <th>edge_seg</th>\n",
       "      <th>face_seg</th>\n",
       "      <th>cell_analysis</th>\n",
       "      <th>edge_analysis</th>\n",
       "      <th>face_analysis</th>\n",
       "    </tr>\n",
       "  </thead>\n",
       "  <tbody>\n",
       "    <tr>\n",
       "      <th>0</th>\n",
       "      <td>1</td>\n",
       "      <td>30.0</td>\n",
       "      <td>0.09x0.09x0.22</td>\n",
       "      <td>200x200x150</td>\n",
       "      <td>0.527</td>\n",
       "      <td>2.14</td>\n",
       "      <td>24.5</td>\n",
       "      <td>6.89</td>\n",
       "      <td>12.9</td>\n",
       "      <td>4.29</td>\n",
       "      <td>0.112</td>\n",
       "    </tr>\n",
       "    <tr>\n",
       "      <th>1</th>\n",
       "      <td>1</td>\n",
       "      <td>NaN</td>\n",
       "      <td>NaN</td>\n",
       "      <td>500x500x150</td>\n",
       "      <td>3.160</td>\n",
       "      <td>12.00</td>\n",
       "      <td>44.9</td>\n",
       "      <td>15.00</td>\n",
       "      <td>338.0</td>\n",
       "      <td>4.77</td>\n",
       "      <td>0.131</td>\n",
       "    </tr>\n",
       "    <tr>\n",
       "      <th>2</th>\n",
       "      <td>1</td>\n",
       "      <td>NaN</td>\n",
       "      <td>NaN</td>\n",
       "      <td>1000x1000x150</td>\n",
       "      <td>12.500</td>\n",
       "      <td>47.30</td>\n",
       "      <td>108.0</td>\n",
       "      <td>32.60</td>\n",
       "      <td>NaN</td>\n",
       "      <td>NaN</td>\n",
       "      <td>NaN</td>\n",
       "    </tr>\n",
       "    <tr>\n",
       "      <th>3</th>\n",
       "      <td>1</td>\n",
       "      <td>NaN</td>\n",
       "      <td>0.21x0.21x0.5</td>\n",
       "      <td>200x200x150</td>\n",
       "      <td>0.540</td>\n",
       "      <td>2.51</td>\n",
       "      <td>24.3</td>\n",
       "      <td>6.91</td>\n",
       "      <td>12.8</td>\n",
       "      <td>4.48</td>\n",
       "      <td>0.114</td>\n",
       "    </tr>\n",
       "    <tr>\n",
       "      <th>4</th>\n",
       "      <td>1</td>\n",
       "      <td>NaN</td>\n",
       "      <td>NaN</td>\n",
       "      <td>500x500x150</td>\n",
       "      <td>3.050</td>\n",
       "      <td>11.60</td>\n",
       "      <td>42.5</td>\n",
       "      <td>14.20</td>\n",
       "      <td>350.0</td>\n",
       "      <td>4.23</td>\n",
       "      <td>0.118</td>\n",
       "    </tr>\n",
       "    <tr>\n",
       "      <th>5</th>\n",
       "      <td>1</td>\n",
       "      <td>NaN</td>\n",
       "      <td>NaN</td>\n",
       "      <td>1000x1000x150</td>\n",
       "      <td>12.600</td>\n",
       "      <td>47.20</td>\n",
       "      <td>109.0</td>\n",
       "      <td>32.70</td>\n",
       "      <td>NaN</td>\n",
       "      <td>NaN</td>\n",
       "      <td>NaN</td>\n",
       "    </tr>\n",
       "    <tr>\n",
       "      <th>6</th>\n",
       "      <td>2</td>\n",
       "      <td>30.0</td>\n",
       "      <td>0.21x0.21x0.5</td>\n",
       "      <td>500x500x150</td>\n",
       "      <td>3.050</td>\n",
       "      <td>11.60</td>\n",
       "      <td>42.5</td>\n",
       "      <td>14.20</td>\n",
       "      <td>350.0</td>\n",
       "      <td>4.48</td>\n",
       "      <td>0.114</td>\n",
       "    </tr>\n",
       "    <tr>\n",
       "      <th>7</th>\n",
       "      <td>2</td>\n",
       "      <td>70.0</td>\n",
       "      <td>NaN</td>\n",
       "      <td>NaN</td>\n",
       "      <td>6.360</td>\n",
       "      <td>23.30</td>\n",
       "      <td>122.0</td>\n",
       "      <td>38.70</td>\n",
       "      <td>275.0</td>\n",
       "      <td>11.70</td>\n",
       "      <td>0.293</td>\n",
       "    </tr>\n",
       "    <tr>\n",
       "      <th>8</th>\n",
       "      <td>2</td>\n",
       "      <td>150.0</td>\n",
       "      <td>NaN</td>\n",
       "      <td>NaN</td>\n",
       "      <td>13.800</td>\n",
       "      <td>46.10</td>\n",
       "      <td>351.0</td>\n",
       "      <td>117.00</td>\n",
       "      <td>207.0</td>\n",
       "      <td>30.60</td>\n",
       "      <td>0.733</td>\n",
       "    </tr>\n",
       "  </tbody>\n",
       "</table>\n",
       "</div>"
      ],
      "text/plain": [
       "   exp  nbcells      pixel_size     image_size  prerequisite  cell_seg  \\\n",
       "0    1     30.0  0.09x0.09x0.22    200x200x150         0.527      2.14   \n",
       "1    1      NaN             NaN    500x500x150         3.160     12.00   \n",
       "2    1      NaN             NaN  1000x1000x150        12.500     47.30   \n",
       "3    1      NaN   0.21x0.21x0.5    200x200x150         0.540      2.51   \n",
       "4    1      NaN             NaN    500x500x150         3.050     11.60   \n",
       "5    1      NaN             NaN  1000x1000x150        12.600     47.20   \n",
       "6    2     30.0   0.21x0.21x0.5    500x500x150         3.050     11.60   \n",
       "7    2     70.0             NaN            NaN         6.360     23.30   \n",
       "8    2    150.0             NaN            NaN        13.800     46.10   \n",
       "\n",
       "   edge_seg  face_seg  cell_analysis  edge_analysis  face_analysis  \n",
       "0      24.5      6.89           12.9           4.29          0.112  \n",
       "1      44.9     15.00          338.0           4.77          0.131  \n",
       "2     108.0     32.60            NaN            NaN            NaN  \n",
       "3      24.3      6.91           12.8           4.48          0.114  \n",
       "4      42.5     14.20          350.0           4.23          0.118  \n",
       "5     109.0     32.70            NaN            NaN            NaN  \n",
       "6      42.5     14.20          350.0           4.48          0.114  \n",
       "7     122.0     38.70          275.0          11.70          0.293  \n",
       "8     351.0    117.00          207.0          30.60          0.733  "
      ]
     },
     "execution_count": 33,
     "metadata": {},
     "output_type": "execute_result"
    }
   ],
   "source": [
    "import pandas as pd\n",
    "result = pd.read_csv(\"Synthetic_time_execution.csv\", sep=\";\")\n",
    "result"
   ]
  },
  {
   "cell_type": "code",
   "execution_count": 34,
   "id": "416857f3",
   "metadata": {},
   "outputs": [
    {
     "name": "stderr",
     "output_type": "stream",
     "text": [
      "The PostScript backend does not support transparency; partially transparent artists will be rendered opaque.\n"
     ]
    },
    {
     "data": {
      "image/png": "[encoded data removed]",
      "text/plain": [
       "<Figure size 640x480 with 1 Axes>"
      ]
     },
     "metadata": {},
     "output_type": "display_data"
    }
   ],
   "source": [
    "fig, ax = plt.subplots()\n",
    "ax.scatter(result[result[\"exp\"]==1][\"image_size\"],\n",
    "            result[result[\"exp\"]==1][\"prerequisite\"],\n",
    "          label=\"prerequisite\")\n",
    "ax.scatter(result[result[\"exp\"]==1][\"image_size\"],\n",
    "            result[result[\"exp\"]==1][\"cell_seg\"],\n",
    "          label=\"cell_seg\")\n",
    "ax.scatter(result[result[\"exp\"]==1][\"image_size\"],\n",
    "            result[result[\"exp\"]==1][\"edge_seg\"],\n",
    "          label=\"edge_seg\")\n",
    "ax.scatter(result[result[\"exp\"]==1][\"image_size\"],\n",
    "            result[result[\"exp\"]==1][\"face_seg\"],\n",
    "          label=\"face_seg\")\n",
    "\n",
    "ax.set_ylabel(\"execution time(sec)\")\n",
    "\n",
    "ax.legend()\n",
    "\n",
    "fig.savefig(\"execution_time_image_size_part_1.eps\", dpi=300)"
   ]
  },
  {
   "cell_type": "code",
   "execution_count": 36,
   "id": "9360997d",
   "metadata": {},
   "outputs": [
    {
     "name": "stderr",
     "output_type": "stream",
     "text": [
      "The PostScript backend does not support transparency; partially transparent artists will be rendered opaque.\n"
     ]
    },
    {
     "data": {
      "image/png": "[encoded data removed]",
      "text/plain": [
       "<Figure size 640x480 with 1 Axes>"
      ]
     },
     "metadata": {},
     "output_type": "display_data"
    }
   ],
   "source": [
    "fig, ax = plt.subplots()\n",
    "ax.scatter(result[result[\"exp\"]==1][\"image_size\"],\n",
    "            result[result[\"exp\"]==1][\"cell_analysis\"],\n",
    "          label=\"cell_analysis\")\n",
    "ax.scatter(result[result[\"exp\"]==1][\"image_size\"],\n",
    "            result[result[\"exp\"]==1][\"edge_analysis\"],\n",
    "          label=\"edge_analysis\")\n",
    "ax.scatter(result[result[\"exp\"]==1][\"image_size\"],\n",
    "            result[result[\"exp\"]==1][\"face_analysis\"],\n",
    "          label=\"face_analysis\")\n",
    "\n",
    "\n",
    "ax.set_ylabel(\"execution time(sec)\")\n",
    "\n",
    "ax.legend()\n",
    "\n",
    "fig.savefig(\"execution_time_image_size_part_2.eps\", dpi=300)"
   ]
  },
  {
   "cell_type": "code",
   "execution_count": null,
   "id": "0fd39f61",
   "metadata": {},
   "outputs": [],
   "source": []
  },
  {
   "cell_type": "code",
   "execution_count": 37,
   "id": "c228a675",
   "metadata": {},
   "outputs": [
    {
     "name": "stderr",
     "output_type": "stream",
     "text": [
      "The PostScript backend does not support transparency; partially transparent artists will be rendered opaque.\n"
     ]
    },
    {
     "data": {
      "image/png": "[encoded data removed]",
      "text/plain": [
       "<Figure size 640x480 with 1 Axes>"
      ]
     },
     "metadata": {},
     "output_type": "display_data"
    }
   ],
   "source": [
    "fig, ax = plt.subplots()\n",
    "ax.scatter(result[result[\"exp\"]==2][\"nbcells\"],\n",
    "            result[result[\"exp\"]==2][\"prerequisite\"],\n",
    "          label=\"prerequisite\")\n",
    "ax.scatter(result[result[\"exp\"]==2][\"nbcells\"],\n",
    "            result[result[\"exp\"]==2][\"cell_seg\"],\n",
    "          label=\"cell_seg\")\n",
    "ax.scatter(result[result[\"exp\"]==2][\"nbcells\"],\n",
    "            result[result[\"exp\"]==2][\"edge_seg\"],\n",
    "          label=\"edge_seg\")\n",
    "ax.scatter(result[result[\"exp\"]==2][\"nbcells\"],\n",
    "            result[result[\"exp\"]==2][\"face_seg\"],\n",
    "          label=\"face_seg\")\n",
    "\n",
    "ax.set_ylabel(\"execution time(sec)\")\n",
    "\n",
    "ax.legend()\n",
    "\n",
    "fig.savefig(\"execution_time_nb_cells_part_1.eps\", dpi=300)"
   ]
  },
  {
   "cell_type": "code",
   "execution_count": 38,
   "id": "31541cab",
   "metadata": {},
   "outputs": [
    {
     "name": "stderr",
     "output_type": "stream",
     "text": [
      "The PostScript backend does not support transparency; partially transparent artists will be rendered opaque.\n"
     ]
    },
    {
     "data": {
      "image/png": "[encoded data removed]",
      "text/plain": [
       "<Figure size 640x480 with 1 Axes>"
      ]
     },
     "metadata": {},
     "output_type": "display_data"
    }
   ],
   "source": [
    "fig, ax = plt.subplots()\n",
    "ax.scatter(result[result[\"exp\"]==2][\"nbcells\"],\n",
    "            result[result[\"exp\"]==2][\"cell_analysis\"],\n",
    "          label=\"cell_analysis\")\n",
    "ax.scatter(result[result[\"exp\"]==2][\"nbcells\"],\n",
    "            result[result[\"exp\"]==2][\"edge_analysis\"],\n",
    "          label=\"edge_analysis\")\n",
    "ax.scatter(result[result[\"exp\"]==2][\"nbcells\"],\n",
    "            result[result[\"exp\"]==2][\"face_analysis\"],\n",
    "          label=\"face_analysis\")\n",
    "\n",
    "\n",
    "ax.set_ylabel(\"execution time(sec)\")\n",
    "\n",
    "ax.legend()\n",
    "\n",
    "fig.savefig(\"execution_time_nb_cells_part_2.eps\", dpi=300)"
   ]
  },
  {
   "cell_type": "code",
   "execution_count": null,
   "id": "cb4d5f2d",
   "metadata": {},
   "outputs": [],
   "source": []
  }
 ],
 "metadata": {
  "kernelspec": {
   "display_name": "Python 3 (ipykernel)",
   "language": "python",
   "name": "python3"
  },
  "language_info": {
   "codemirror_mode": {
    "name": "ipython",
    "version": 3
   },
   "file_extension": ".py",
   "mimetype": "text/x-python",
   "name": "python",
   "nbconvert_exporter": "python",
   "pygments_lexer": "ipython3",
   "version": "3.11.5"
  }
 },
 "nbformat": 4,
 "nbformat_minor": 5
}
